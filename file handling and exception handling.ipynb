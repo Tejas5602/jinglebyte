{
 "cells": [
  {
   "cell_type": "code",
   "execution_count": null,
   "id": "d8a956d1-e246-47ad-b45a-bad9352d3b1f",
   "metadata": {},
   "outputs": [],
   "source": [
    "suppose i have text file\n",
    "operations\n",
    "read\n",
    "write\n",
    "append\n",
    "open\n",
    "close\n",
    "delete\n",
    "update/edit\n",
    "copy\n",
    "move\n",
    "rename\n",
    "...."
   ]
  },
  {
   "cell_type": "markdown",
   "id": "ee6065a4-3600-4ba9-bbbb-29d1c42dc41f",
   "metadata": {},
   "source": [
    "# modes"
   ]
  },
  {
   "cell_type": "code",
   "execution_count": null,
   "id": "7dffa190-91c9-4fe7-9b65-a54cddc52521",
   "metadata": {},
   "outputs": [],
   "source": [
    "1.read >> \"r\"\n",
    "2.write >> \"w\"\n",
    "3.append >> \"a\"\n",
    "4.x mode >> \"x\"\n"
   ]
  },
  {
   "cell_type": "markdown",
   "id": "e0b8ac42-a7e0-4f26-970f-aaf211feec9c",
   "metadata": {},
   "source": [
    "# open function"
   ]
  },
  {
   "cell_type": "code",
   "execution_count": null,
   "id": "e848430e-7d31-43a3-bd83-68593d3f2dc8",
   "metadata": {},
   "outputs": [],
   "source": [
    "syntax:\n",
    "    open(file_name,mode)\n",
    "\n",
    "mode is optional\n",
    "\n",
    "bydefault read mode\n",
    "\n",
    "always return file object only"
   ]
  },
  {
   "cell_type": "markdown",
   "id": "516ce37b-cd26-4d7c-b5f9-97fc5045c722",
   "metadata": {},
   "source": [
    "# close"
   ]
  },
  {
   "cell_type": "code",
   "execution_count": null,
   "id": "e0b9c3ba-13b2-43c6-b8c1-4f2050cc5d62",
   "metadata": {},
   "outputs": [],
   "source": [
    "file.close()\n",
    "\n",
    "terminate the al operations on file"
   ]
  },
  {
   "cell_type": "code",
   "execution_count": null,
   "id": "7f24977e-09c8-4057-9b93-18037e49f105",
   "metadata": {},
   "outputs": [],
   "source": [
    "1.Write >> \"w\"\n",
    "2.read >> \"r\" \n",
    "3.append >> \"a\"\n",
    "4. "
   ]
  },
  {
   "cell_type": "code",
   "execution_count": null,
   "id": "d2af2be6-b507-44b1-97ca-65ef3b153ee2",
   "metadata": {},
   "outputs": [],
   "source": [
    "it create create file\n",
    "it overwrite the file,if already exist"
   ]
  },
  {
   "cell_type": "code",
   "execution_count": 2,
   "id": "9e5c1d8d-1a0b-46cf-96a0-0e3e7e3e41db",
   "metadata": {},
   "outputs": [],
   "source": [
    "# opening the file\n",
    "file_obj=open(\"test.txt\",\"w\")\n",
    "file_obj\n",
    "\n",
    "# writing inside file\n",
    "file_obj.write(\"Hello python\")\n",
    "\n",
    "# close the file\n",
    "file_obj.close()"
   ]
  },
  {
   "cell_type": "code",
   "execution_count": 4,
   "id": "9c8cbfff-f635-41d9-b754-49ad8d2f2d46",
   "metadata": {},
   "outputs": [],
   "source": [
    "# opening the file\n",
    "file_obj=open(\"test.txt\",\"w\")\n",
    "file_obj\n",
    "\n",
    "# writing inside file\n",
    "file_obj.write(\"Good Morning\")\n",
    "\n",
    "# close the file\n",
    "file_obj.close()"
   ]
  },
  {
   "cell_type": "markdown",
   "id": "65807f7f-1fa3-4bf6-8893-83f82a594a4b",
   "metadata": {},
   "source": [
    "# 2.append"
   ]
  },
  {
   "cell_type": "code",
   "execution_count": null,
   "id": "31285548-b538-4af9-a91f-0630013a4dde",
   "metadata": {},
   "outputs": [],
   "source": [
    "it will create file if not exist\n",
    "add the text if file exist"
   ]
  },
  {
   "cell_type": "code",
   "execution_count": 13,
   "id": "7945939a-4f9a-4118-90bb-a01b2a8c1e8a",
   "metadata": {},
   "outputs": [],
   "source": [
    "# opening the file\n",
    "file_obj=open(\"test.txt\",\"a\")\n",
    "file_obj\n",
    "\n",
    "# writing inside file\n",
    "file_obj.write(\"Hello python\")\n",
    "\n",
    "# close the file\n",
    "file_obj.close()"
   ]
  },
  {
   "cell_type": "markdown",
   "id": "335564e0-d0d3-4f88-9246-f1028522fa8b",
   "metadata": {},
   "source": [
    "# 3.read "
   ]
  },
  {
   "cell_type": "code",
   "execution_count": 18,
   "id": "de85b16b-a1a6-4cb1-a931-8a887da2fc63",
   "metadata": {},
   "outputs": [
    {
     "name": "stdout",
     "output_type": "stream",
     "text": [
      "Good MorningHello python\n"
     ]
    }
   ],
   "source": [
    "# opening the file\n",
    "file_obj=open(\"test.txt\",\"r\")\n",
    "file_obj\n",
    "\n",
    "g=file_obj.read()\n",
    "\n",
    "# close the file\n",
    "file_obj.close()\n",
    "print(g)"
   ]
  },
  {
   "cell_type": "code",
   "execution_count": 22,
   "id": "bc490717-559b-4481-b5d1-c3df139e3baf",
   "metadata": {},
   "outputs": [],
   "source": [
    "# opening the file\n",
    "file_obj=open(\"test.txt\",\"w\")\n",
    "file_obj\n",
    "\n",
    "# writing inside file\n",
    "file_obj.write(\"\"\"Machine learning (ML) is a field of study in artificial intelligence concerned with the development and study of statistical algorithms that can learn from data and generalize to unseen data, and thus perform tasks without explicit instructions.[1] Advances in the field of deep learning have allowed neural networks to surpass many previous approaches in performance.[2]\n",
    "\n",
    "ML finds application in many fields, including natural language processing, computer vision, speech recognition, email filtering, agriculture, and medicine.[3][4] The application of ML to business problems is known as predictive analytics.\n",
    "\n",
    "Statistics and mathematical optimization (mathematical programming) methods comprise the foundations of machine learning. Data mining is a related field of study, focusing on exploratory data analysis (EDA) via unsupervised learning.[6][7]\n",
    "\n",
    "From a theoretical viewpoint, probably approximately correct (PAC) learning provides a framework for describing machine learning.\"\"\")\n",
    "\n",
    "# close the file\n",
    "file_obj.close()"
   ]
  },
  {
   "cell_type": "markdown",
   "id": "0e164c53-b8ae-47e3-8391-82927b20f4c9",
   "metadata": {},
   "source": [
    "# readline()"
   ]
  },
  {
   "cell_type": "code",
   "execution_count": 28,
   "id": "22750668-2b2c-4a9a-8a63-d34c8d1cde58",
   "metadata": {},
   "outputs": [
    {
     "name": "stdout",
     "output_type": "stream",
     "text": [
      "ML finds application in many fields, including natural language processing, computer vision, speech recognition, email filtering, agriculture, and medicine.[3][4] The application of ML to business problems is known as predictive analytics.\n",
      "\n"
     ]
    }
   ],
   "source": [
    "# opening the file\n",
    "file_obj=open(\"test.txt\",\"r\")\n",
    "file_obj\n",
    "\n",
    "g=file_obj.readline()\n",
    "g=file_obj.readline()\n",
    "g=file_obj.readline()\n",
    "# close the file\n",
    "file_obj.close()\n",
    "print(g)"
   ]
  },
  {
   "cell_type": "code",
   "execution_count": null,
   "id": "be759dff-4b0c-48c3-81d2-8b8d79b072c8",
   "metadata": {},
   "outputs": [],
   "source": [
    "readlines()"
   ]
  },
  {
   "cell_type": "code",
   "execution_count": null,
   "id": "d62709e6-e720-4b42-9909-7c74eb490cbc",
   "metadata": {},
   "outputs": [],
   "source": [
    "used to get list of all the lines"
   ]
  },
  {
   "cell_type": "code",
   "execution_count": 30,
   "id": "4f981c59-a50e-499e-920e-76124a768d32",
   "metadata": {},
   "outputs": [
    {
     "name": "stdout",
     "output_type": "stream",
     "text": [
      "['Machine learning (ML) is a field of study in artificial intelligence concerned with the development and study of statistical algorithms that can learn from data and generalize to unseen data, and thus perform tasks without explicit instructions.[1] Advances in the field of deep learning have allowed neural networks to surpass many previous approaches in performance.[2]\\n', '\\n', 'ML finds application in many fields, including natural language processing, computer vision, speech recognition, email filtering, agriculture, and medicine.[3][4] The application of ML to business problems is known as predictive analytics.\\n', '\\n', 'Statistics and mathematical optimization (mathematical programming) methods comprise the foundations of machine learning. Data mining is a related field of study, focusing on exploratory data analysis (EDA) via unsupervised learning.[6][7]\\n', '\\n', 'From a theoretical viewpoint, probably approximately correct (PAC) learning provides a framework for describing machine learning.']\n"
     ]
    }
   ],
   "source": [
    "# opening the file\n",
    "file_obj=open(\"test.txt\",\"r\")\n",
    "file_obj\n",
    "\n",
    "g=file_obj.readlines()\n",
    "\n",
    "# close the file\n",
    "file_obj.close()\n",
    "print(g)"
   ]
  },
  {
   "cell_type": "code",
   "execution_count": null,
   "id": "1d07c648-df47-4850-993c-9d5eb1e04591",
   "metadata": {},
   "outputs": [],
   "source": [
    "x >> mode"
   ]
  },
  {
   "cell_type": "code",
   "execution_count": null,
   "id": "c195bd8c-61e6-4e7d-8093-dd021fd455b9",
   "metadata": {},
   "outputs": [],
   "source": [
    "it is also used to write a file\n",
    "if file exist it will give you error"
   ]
  },
  {
   "cell_type": "code",
   "execution_count": null,
   "id": "cb0f5c58-4d00-4c2c-a3aa-25cb82dda9a2",
   "metadata": {},
   "outputs": [],
   "source": [
    "# opening the file\n",
    "file_obj=open(\"test.txt\",\"x\")\n",
    "file_obj.write(\"hi\")\n",
    "\n",
    "# close the file\n",
    "file_obj.close()\n",
    "print(g)"
   ]
  },
  {
   "cell_type": "code",
   "execution_count": null,
   "id": "809e64c8-672f-4e5d-9d76-7540d4893f69",
   "metadata": {},
   "outputs": [],
   "source": [
    "# opening the file\n",
    "file_obj=open(\"test1.txt\",\"x\")\n",
    "file_obj.write(\"hi\")\n",
    "\n",
    "# close the file\n",
    "file_obj.close()"
   ]
  },
  {
   "cell_type": "code",
   "execution_count": null,
   "id": "c146b2a1-c2bf-4d63-b584-94e3564b0097",
   "metadata": {},
   "outputs": [],
   "source": [
    "with statement"
   ]
  },
  {
   "cell_type": "code",
   "execution_count": null,
   "id": "d9185e6d-f0b0-4619-8222-d0648702f53b",
   "metadata": {},
   "outputs": [],
   "source": [
    "no need to close the file\n",
    "file will automatically get closed"
   ]
  },
  {
   "cell_type": "code",
   "execution_count": 36,
   "id": "0bd86049-fa26-46c9-90fc-76c4888fa6b9",
   "metadata": {},
   "outputs": [],
   "source": [
    "with open(\"lmn.txt\",\"w\") as file:\n",
    "    file.write(\"We are testing with\")"
   ]
  },
  {
   "cell_type": "code",
   "execution_count": 44,
   "id": "fb845f89-6cdd-4a86-b57a-225f9c955477",
   "metadata": {},
   "outputs": [],
   "source": [
    "bank_data=\"\"\"               1000 Walnut\n",
    "                Kansas City MO 64106-3686\n",
    "                                            \n",
    "Jane Customer\n",
    "                 1234 Anywhere Dr.\n",
    "                                           \n",
    "Small Town, MO 12345-6789\n",
    "                            Primary Account Number: 000009752\"\"\"\n",
    "with open(\"customer_data.txt\",\"w\") as file:\n",
    "    file.write(bank_data)"
   ]
  },
  {
   "cell_type": "code",
   "execution_count": 46,
   "id": "2d0fa9f9-d297-4845-bf81-e066fe10c865",
   "metadata": {},
   "outputs": [
    {
     "name": "stdout",
     "output_type": "stream",
     "text": [
      "['               1000 Walnut\\n', '                Kansas City MO 64106-3686\\n', '                                            \\n', 'Jane Customer\\n', '                 1234 Anywhere Dr.\\n', '                                           \\n', 'Small Town, MO 12345-6789\\n', '                            Primary Account Number: 000009752']\n"
     ]
    }
   ],
   "source": [
    "with open(\"customer_data.txt\",\"r\") as file:\n",
    "    text_list=file.readlines()\n",
    "    print(text_list)"
   ]
  },
  {
   "cell_type": "code",
   "execution_count": 60,
   "id": "70b729da-ea92-4990-80fb-fe59faf9a08a",
   "metadata": {},
   "outputs": [
    {
     "name": "stdout",
     "output_type": "stream",
     "text": [
      "1000 Walnut\n",
      "Kansas City MO 64106-3686\n",
      "Jane Customer\n",
      "1234 Anywhere Dr.\n",
      "Small Town, MO 12345-6789\n",
      "Primary Account Number: 000009752\n"
     ]
    }
   ],
   "source": [
    "new_list=[]\n",
    "for line in text_list:\n",
    "    # print(line)\n",
    "    if line.isspace():\n",
    "        continue\n",
    "    new_line=line.strip()\n",
    "    new_list.append(new_line)\n",
    "text=\"\\n\".join(new_list)\n",
    "print(text)"
   ]
  },
  {
   "cell_type": "code",
   "execution_count": 62,
   "id": "facd3ebb-90f3-473c-86b7-740d2bfd240f",
   "metadata": {},
   "outputs": [],
   "source": [
    "with open(\"customer_data.txt\",\"w\") as file:\n",
    "    file.write(text)"
   ]
  },
  {
   "cell_type": "code",
   "execution_count": 54,
   "id": "74c81c3b-9459-4e6b-9f38-9fb712febe9d",
   "metadata": {},
   "outputs": [
    {
     "data": {
      "text/plain": [
       "['1000 Walnut',\n",
       " 'Kansas City MO 64106-3686',\n",
       " 'Jane Customer',\n",
       " '1234 Anywhere Dr.',\n",
       " 'Small Town, MO 12345-6789',\n",
       " 'Primary Account Number: 000009752']"
      ]
     },
     "execution_count": 54,
     "metadata": {},
     "output_type": "execute_result"
    }
   ],
   "source": [
    "new_list"
   ]
  },
  {
   "cell_type": "markdown",
   "id": "c9f6342b-b504-4480-a2bf-5a103846ee9a",
   "metadata": {},
   "source": [
    "# json file"
   ]
  },
  {
   "cell_type": "code",
   "execution_count": null,
   "id": "12296095-98d3-4fff-9f05-c04fe4b68468",
   "metadata": {},
   "outputs": [],
   "source": [
    "fromt end developer always required data in JSON format"
   ]
  },
  {
   "cell_type": "code",
   "execution_count": null,
   "id": "fb998884-9bc8-4fa4-97a0-dd880deebd22",
   "metadata": {},
   "outputs": [],
   "source": []
  },
  {
   "cell_type": "code",
   "execution_count": 65,
   "id": "fb4fd3bf-859d-4a79-9a81-be6a02ad98ed",
   "metadata": {},
   "outputs": [],
   "source": [
    "dict1={\"name\":\"Sachin\",\"Age\":32}"
   ]
  },
  {
   "cell_type": "code",
   "execution_count": null,
   "id": "6fe71008-6020-4160-aa50-e30984d037b7",
   "metadata": {},
   "outputs": [],
   "source": [
    "write json file"
   ]
  },
  {
   "cell_type": "code",
   "execution_count": 75,
   "id": "706ac662-a946-4aa2-beb6-d65eeee05c25",
   "metadata": {},
   "outputs": [],
   "source": [
    "import json\n",
    "\n",
    "with open(\"person_details.json\",\"w\") as file:\n",
    "    json.dump(dict1,file)\n"
   ]
  },
  {
   "cell_type": "code",
   "execution_count": 77,
   "id": "4aa74d34-05f7-4a50-97f9-6114e4a337a2",
   "metadata": {},
   "outputs": [
    {
     "data": {
      "text/plain": [
       "{'name': 'Sachin', 'Age': 32}"
      ]
     },
     "execution_count": 77,
     "metadata": {},
     "output_type": "execute_result"
    }
   ],
   "source": [
    "import json\n",
    "\n",
    "with open(\"person_details.json\",\"r\") as file:\n",
    "    data=json.load(file)\n",
    "data"
   ]
  },
  {
   "cell_type": "code",
   "execution_count": 83,
   "id": "2cf5100c-a060-421c-afee-da18e46f6529",
   "metadata": {},
   "outputs": [
    {
     "data": {
      "text/plain": [
       "{'name': 'Sachin', 'Age': 32, 'Role': 'Developer'}"
      ]
     },
     "execution_count": 83,
     "metadata": {},
     "output_type": "execute_result"
    }
   ],
   "source": [
    "dict2={\"Role\":\"Developer\"}\n",
    "data.update(dict2)\n",
    "data"
   ]
  },
  {
   "cell_type": "code",
   "execution_count": 85,
   "id": "4af15b02-ec55-4915-b156-1386c8c26fd7",
   "metadata": {},
   "outputs": [],
   "source": [
    "import json\n",
    "\n",
    "with open(\"person_details.json\",\"w\") as file:\n",
    "    json.dump(data,file)"
   ]
  },
  {
   "cell_type": "code",
   "execution_count": null,
   "id": "7d11a894-e618-4797-9322-1c2ccc52dec5",
   "metadata": {},
   "outputs": [],
   "source": [
    "Exception Handling"
   ]
  },
  {
   "cell_type": "markdown",
   "id": "c752d40a-8fa8-48d5-82e0-1fd2522891fd",
   "metadata": {},
   "source": [
    "# syntax error"
   ]
  },
  {
   "cell_type": "code",
   "execution_count": null,
   "id": "23e4489a-bfb5-4f21-8b2f-18cfadab9f3f",
   "metadata": {},
   "outputs": [],
   "source": [
    "if code violate the synatx rule\n",
    "it is detected during parsing(compiling) stage\n"
   ]
  },
  {
   "cell_type": "code",
   "execution_count": 102,
   "id": "05a4ba38-47f2-475c-b011-5cd730e7d9a5",
   "metadata": {},
   "outputs": [
    {
     "ename": "SyntaxError",
     "evalue": "incomplete input (4227803888.py, line 1)",
     "output_type": "error",
     "traceback": [
      "\u001b[1;36m  Cell \u001b[1;32mIn[102], line 1\u001b[1;36m\u001b[0m\n\u001b[1;33m    print(\"hello\"\u001b[0m\n\u001b[1;37m                 ^\u001b[0m\n\u001b[1;31mSyntaxError\u001b[0m\u001b[1;31m:\u001b[0m incomplete input\n"
     ]
    }
   ],
   "source": [
    "print(\"hello\""
   ]
  },
  {
   "cell_type": "code",
   "execution_count": 104,
   "id": "b4b24bc1-ea15-4712-a4c3-61d45de2c5fe",
   "metadata": {},
   "outputs": [
    {
     "ename": "SyntaxError",
     "evalue": "invalid syntax (764443995.py, line 1)",
     "output_type": "error",
     "traceback": [
      "\u001b[1;36m  Cell \u001b[1;32mIn[104], line 1\u001b[1;36m\u001b[0m\n\u001b[1;33m    for i range(10):\u001b[0m\n\u001b[1;37m          ^\u001b[0m\n\u001b[1;31mSyntaxError\u001b[0m\u001b[1;31m:\u001b[0m invalid syntax\n"
     ]
    }
   ],
   "source": [
    "for i range(10):\n",
    "    print(i)"
   ]
  },
  {
   "cell_type": "code",
   "execution_count": 106,
   "id": "24a89bd0-fb93-4451-9588-6ada65327dc1",
   "metadata": {},
   "outputs": [
    {
     "ename": "IndentationError",
     "evalue": "expected an indented block after 'for' statement on line 1 (3885826321.py, line 2)",
     "output_type": "error",
     "traceback": [
      "\u001b[1;36m  Cell \u001b[1;32mIn[106], line 2\u001b[1;36m\u001b[0m\n\u001b[1;33m    print(i)\u001b[0m\n\u001b[1;37m    ^\u001b[0m\n\u001b[1;31mIndentationError\u001b[0m\u001b[1;31m:\u001b[0m expected an indented block after 'for' statement on line 1\n"
     ]
    }
   ],
   "source": [
    "for i  in range(10):\n",
    "print(i)"
   ]
  },
  {
   "cell_type": "markdown",
   "id": "a9eb3acd-f10d-49e0-92b6-5658f2ca8136",
   "metadata": {},
   "source": [
    "# exception"
   ]
  },
  {
   "cell_type": "code",
   "execution_count": null,
   "id": "59ac1642-3f6b-4234-a54c-f8bfad266ba5",
   "metadata": {},
   "outputs": [],
   "source": []
  },
  {
   "cell_type": "code",
   "execution_count": null,
   "id": "9a49262f-9af8-40a8-ae2f-b6936b64c064",
   "metadata": {},
   "outputs": [],
   "source": [
    "during excution of code(run time error)"
   ]
  },
  {
   "cell_type": "code",
   "execution_count": 90,
   "id": "d8cdd060-1530-41e4-a982-ff3ec8865265",
   "metadata": {},
   "outputs": [
    {
     "ename": "ZeroDivisionError",
     "evalue": "division by zero",
     "output_type": "error",
     "traceback": [
      "\u001b[1;31m---------------------------------------------------------------------------\u001b[0m",
      "\u001b[1;31mZeroDivisionError\u001b[0m                         Traceback (most recent call last)",
      "Cell \u001b[1;32mIn[90], line 1\u001b[0m\n\u001b[1;32m----> 1\u001b[0m result\u001b[38;5;241m=\u001b[39m\u001b[38;5;241m10\u001b[39m\u001b[38;5;241m/\u001b[39m\u001b[38;5;241m0\u001b[39m\n",
      "\u001b[1;31mZeroDivisionError\u001b[0m: division by zero"
     ]
    }
   ],
   "source": [
    "result=10/0"
   ]
  },
  {
   "cell_type": "code",
   "execution_count": 92,
   "id": "ccf49764-3336-46e2-badd-1f1a79cc51f9",
   "metadata": {},
   "outputs": [
    {
     "ename": "TypeError",
     "evalue": "unsupported operand type(s) for +: 'int' and 'str'",
     "output_type": "error",
     "traceback": [
      "\u001b[1;31m---------------------------------------------------------------------------\u001b[0m",
      "\u001b[1;31mTypeError\u001b[0m                                 Traceback (most recent call last)",
      "Cell \u001b[1;32mIn[92], line 1\u001b[0m\n\u001b[1;32m----> 1\u001b[0m reult\u001b[38;5;241m=\u001b[39m\u001b[38;5;241m10\u001b[39m\u001b[38;5;241m+\u001b[39m\u001b[38;5;124m\"\u001b[39m\u001b[38;5;124m5\u001b[39m\u001b[38;5;124m\"\u001b[39m\n",
      "\u001b[1;31mTypeError\u001b[0m: unsupported operand type(s) for +: 'int' and 'str'"
     ]
    }
   ],
   "source": [
    "reult=10+\"5\""
   ]
  },
  {
   "cell_type": "code",
   "execution_count": 94,
   "id": "1b1bfc8c-31b9-4a47-abd9-6a550efab46f",
   "metadata": {},
   "outputs": [
    {
     "ename": "NameError",
     "evalue": "name 'undefined_variable' is not defined",
     "output_type": "error",
     "traceback": [
      "\u001b[1;31m---------------------------------------------------------------------------\u001b[0m",
      "\u001b[1;31mNameError\u001b[0m                                 Traceback (most recent call last)",
      "Cell \u001b[1;32mIn[94], line 1\u001b[0m\n\u001b[1;32m----> 1\u001b[0m result\u001b[38;5;241m=\u001b[39mundefined_variable\n",
      "\u001b[1;31mNameError\u001b[0m: name 'undefined_variable' is not defined"
     ]
    }
   ],
   "source": [
    "result=undefined_variable"
   ]
  },
  {
   "cell_type": "code",
   "execution_count": 96,
   "id": "030bf7e4-8849-4301-85be-1084e2219060",
   "metadata": {},
   "outputs": [
    {
     "ename": "IndexError",
     "evalue": "list index out of range",
     "output_type": "error",
     "traceback": [
      "\u001b[1;31m---------------------------------------------------------------------------\u001b[0m",
      "\u001b[1;31mIndexError\u001b[0m                                Traceback (most recent call last)",
      "Cell \u001b[1;32mIn[96], line 2\u001b[0m\n\u001b[0;32m      1\u001b[0m my_list\u001b[38;5;241m=\u001b[39m[\u001b[38;5;241m1\u001b[39m,\u001b[38;5;241m2\u001b[39m,\u001b[38;5;241m3\u001b[39m]\n\u001b[1;32m----> 2\u001b[0m my_list[\u001b[38;5;241m4\u001b[39m]\n",
      "\u001b[1;31mIndexError\u001b[0m: list index out of range"
     ]
    }
   ],
   "source": [
    "my_list=[1,2,3]\n",
    "my_list[4]"
   ]
  },
  {
   "cell_type": "code",
   "execution_count": 98,
   "id": "3e4218f3-9e37-47eb-9a79-dbe3d65d3e84",
   "metadata": {},
   "outputs": [
    {
     "ename": "KeyError",
     "evalue": "'C'",
     "output_type": "error",
     "traceback": [
      "\u001b[1;31m---------------------------------------------------------------------------\u001b[0m",
      "\u001b[1;31mKeyError\u001b[0m                                  Traceback (most recent call last)",
      "Cell \u001b[1;32mIn[98], line 2\u001b[0m\n\u001b[0;32m      1\u001b[0m dict1\u001b[38;5;241m=\u001b[39m{\u001b[38;5;124m\"\u001b[39m\u001b[38;5;124mA\u001b[39m\u001b[38;5;124m\"\u001b[39m:\u001b[38;5;241m34\u001b[39m,\u001b[38;5;124m\"\u001b[39m\u001b[38;5;124mB\u001b[39m\u001b[38;5;124m\"\u001b[39m:\u001b[38;5;241m45\u001b[39m}\n\u001b[1;32m----> 2\u001b[0m dict1[\u001b[38;5;124m\"\u001b[39m\u001b[38;5;124mC\u001b[39m\u001b[38;5;124m\"\u001b[39m]\n",
      "\u001b[1;31mKeyError\u001b[0m: 'C'"
     ]
    }
   ],
   "source": [
    "dict1={\"A\":34,\"B\":45}\n",
    "dict1[\"C\"]"
   ]
  },
  {
   "cell_type": "code",
   "execution_count": 100,
   "id": "78743a6e-18d2-4150-9b0c-e95dce1d63ac",
   "metadata": {},
   "outputs": [
    {
     "ename": "AttributeError",
     "evalue": "'int' object has no attribute 'append'",
     "output_type": "error",
     "traceback": [
      "\u001b[1;31m---------------------------------------------------------------------------\u001b[0m",
      "\u001b[1;31mAttributeError\u001b[0m                            Traceback (most recent call last)",
      "Cell \u001b[1;32mIn[100], line 2\u001b[0m\n\u001b[0;32m      1\u001b[0m x\u001b[38;5;241m=\u001b[39m\u001b[38;5;241m10\u001b[39m\n\u001b[1;32m----> 2\u001b[0m x\u001b[38;5;241m.\u001b[39mappend(\u001b[38;5;241m10\u001b[39m)\n",
      "\u001b[1;31mAttributeError\u001b[0m: 'int' object has no attribute 'append'"
     ]
    }
   ],
   "source": [
    "x=10\n",
    "x.append(10)"
   ]
  },
  {
   "cell_type": "code",
   "execution_count": null,
   "id": "8eefd75e-3410-4b24-865d-14ad7dca3da3",
   "metadata": {},
   "outputs": [],
   "source": [
    "in summary synatx error indicates issue with the structure of the code\n",
    "while exception indicates unexpected conditon or error during program excution"
   ]
  },
  {
   "cell_type": "markdown",
   "id": "a4b3e2d3-c3e4-46f2-be11-15dd4b20367a",
   "metadata": {},
   "source": [
    "# try-except"
   ]
  },
  {
   "cell_type": "code",
   "execution_count": null,
   "id": "fb9b5a74-43e4-4700-bb6d-7e163b88fed1",
   "metadata": {},
   "outputs": [],
   "source": [
    "try --> let you test the block of code\n",
    "except --> it will handle the error"
   ]
  },
  {
   "cell_type": "code",
   "execution_count": 109,
   "id": "f84be6ab-2697-489a-9bb5-f87d28ac7429",
   "metadata": {},
   "outputs": [
    {
     "name": "stdout",
     "output_type": "stream",
     "text": [
      "hello try block\n"
     ]
    }
   ],
   "source": [
    "try:\n",
    "    print(\"hello try block\")\n",
    "except:\n",
    "    print(\"hello except block\")"
   ]
  },
  {
   "cell_type": "code",
   "execution_count": 115,
   "id": "abf98510-b1be-4c55-8e1d-ae2209e5b5a2",
   "metadata": {},
   "outputs": [
    {
     "name": "stdout",
     "output_type": "stream",
     "text": [
      "hello try block\n",
      "hello except block\n",
      "*********************************\n"
     ]
    }
   ],
   "source": [
    "try:\n",
    "    print(\"hello try block\")\n",
    "    # if error/ecveption occur it will go directly to except block\n",
    "    a=(2,3,4,5)\n",
    "    a.append(10)\n",
    "    print(\"hi\")\n",
    "except:\n",
    "    print(\"hello except block\")\n",
    "\n",
    "print(\"*********************************\")"
   ]
  },
  {
   "cell_type": "markdown",
   "id": "592b7951-6077-480b-8523-5076040df156",
   "metadata": {},
   "source": [
    "# traceback"
   ]
  },
  {
   "cell_type": "code",
   "execution_count": null,
   "id": "1a3161d2-cb9e-4dc8-8565-839372ec9c73",
   "metadata": {},
   "outputs": [],
   "source": [
    "when we dont know the error,tracback will give you exact error"
   ]
  },
  {
   "cell_type": "code",
   "execution_count": 123,
   "id": "fb87a6ee-2655-4982-8db3-09f7c45b5be2",
   "metadata": {},
   "outputs": [
    {
     "name": "stdout",
     "output_type": "stream",
     "text": [
      "hello try block\n",
      "None\n",
      "excute when error occur\n",
      "*********************\n"
     ]
    },
    {
     "name": "stderr",
     "output_type": "stream",
     "text": [
      "Traceback (most recent call last):\n",
      "  File \"C:\\Users\\hp\\AppData\\Local\\Temp\\ipykernel_11464\\2529324375.py\", line 6, in <module>\n",
      "    a.append(10)\n",
      "    ^^^^^^^^\n",
      "AttributeError: 'tuple' object has no attribute 'append'\n"
     ]
    }
   ],
   "source": [
    "import traceback\n",
    "try:\n",
    "    print(\"hello try block\")\n",
    "    # if error/ecveption occur it will go directly to except block\n",
    "    a=(2,3,4,5)\n",
    "    a.append(10)\n",
    "    print(\"hi\")\n",
    "except:\n",
    "    print(traceback.print_exc())\n",
    "    print(\"excute when error occur\")\n",
    "print(\"*********************\")"
   ]
  },
  {
   "cell_type": "code",
   "execution_count": 125,
   "id": "a4779166-0bb5-46ad-b8de-3287ec8cf8e2",
   "metadata": {},
   "outputs": [
    {
     "name": "stdout",
     "output_type": "stream",
     "text": [
      "hello try block\n",
      "hi\n",
      "*********************\n"
     ]
    }
   ],
   "source": [
    "import traceback\n",
    "try:\n",
    "    print(\"hello try block\")\n",
    "    # if error/ecveption occur it will go directly to except block\n",
    "    a=[2,3,4,5]\n",
    "    a.append(10)\n",
    "    print(\"hi\")\n",
    "except:\n",
    "    print(traceback.print_exc())\n",
    "    print(\"excute when error occur\")\n",
    "print(\"*********************\")"
   ]
  },
  {
   "cell_type": "code",
   "execution_count": 127,
   "id": "fffd5a5f-5972-4174-a42a-81a86ddc3a10",
   "metadata": {},
   "outputs": [
    {
     "name": "stdout",
     "output_type": "stream",
     "text": [
      "hello try block\n",
      "[Errno 2] No such file or directory: 'filename1.txt'\n",
      "excute when error occur\n",
      "*********************\n"
     ]
    }
   ],
   "source": [
    "try:\n",
    "    print(\"hello try block\")\n",
    "    f=open(\"filename1.txt\",\"r\")\n",
    "    text=f.read()\n",
    "    print(text)\n",
    "    f.close()\n",
    "except FileNotFoundError as e:\n",
    "    print(e)\n",
    "    print(\"excute when error occur\")\n",
    "print(\"*********************\")\n",
    "    "
   ]
  },
  {
   "cell_type": "code",
   "execution_count": 129,
   "id": "ba166a86-04db-460c-920e-83af37ee9768",
   "metadata": {},
   "outputs": [
    {
     "name": "stdout",
     "output_type": "stream",
     "text": [
      "hello try block\n"
     ]
    },
    {
     "ename": "FileExistsError",
     "evalue": "[Errno 17] File exists: 'lmn.txt'",
     "output_type": "error",
     "traceback": [
      "\u001b[1;31m---------------------------------------------------------------------------\u001b[0m",
      "\u001b[1;31mFileExistsError\u001b[0m                           Traceback (most recent call last)",
      "Cell \u001b[1;32mIn[129], line 3\u001b[0m\n\u001b[0;32m      1\u001b[0m \u001b[38;5;28;01mtry\u001b[39;00m:\n\u001b[0;32m      2\u001b[0m     \u001b[38;5;28mprint\u001b[39m(\u001b[38;5;124m\"\u001b[39m\u001b[38;5;124mhello try block\u001b[39m\u001b[38;5;124m\"\u001b[39m)\n\u001b[1;32m----> 3\u001b[0m     f\u001b[38;5;241m=\u001b[39m\u001b[38;5;28mopen\u001b[39m(\u001b[38;5;124m\"\u001b[39m\u001b[38;5;124mlmn.txt\u001b[39m\u001b[38;5;124m\"\u001b[39m,\u001b[38;5;124m\"\u001b[39m\u001b[38;5;124mx\u001b[39m\u001b[38;5;124m\"\u001b[39m)\n\u001b[0;32m      4\u001b[0m     text\u001b[38;5;241m=\u001b[39mf\u001b[38;5;241m.\u001b[39mread()\n\u001b[0;32m      5\u001b[0m     \u001b[38;5;28mprint\u001b[39m(text)\n",
      "File \u001b[1;32m~\\anaconda3\\Lib\\site-packages\\IPython\\core\\interactiveshell.py:324\u001b[0m, in \u001b[0;36m_modified_open\u001b[1;34m(file, *args, **kwargs)\u001b[0m\n\u001b[0;32m    317\u001b[0m \u001b[38;5;28;01mif\u001b[39;00m file \u001b[38;5;129;01min\u001b[39;00m {\u001b[38;5;241m0\u001b[39m, \u001b[38;5;241m1\u001b[39m, \u001b[38;5;241m2\u001b[39m}:\n\u001b[0;32m    318\u001b[0m     \u001b[38;5;28;01mraise\u001b[39;00m \u001b[38;5;167;01mValueError\u001b[39;00m(\n\u001b[0;32m    319\u001b[0m         \u001b[38;5;124mf\u001b[39m\u001b[38;5;124m\"\u001b[39m\u001b[38;5;124mIPython won\u001b[39m\u001b[38;5;124m'\u001b[39m\u001b[38;5;124mt let you open fd=\u001b[39m\u001b[38;5;132;01m{\u001b[39;00mfile\u001b[38;5;132;01m}\u001b[39;00m\u001b[38;5;124m by default \u001b[39m\u001b[38;5;124m\"\u001b[39m\n\u001b[0;32m    320\u001b[0m         \u001b[38;5;124m\"\u001b[39m\u001b[38;5;124mas it is likely to crash IPython. If you know what you are doing, \u001b[39m\u001b[38;5;124m\"\u001b[39m\n\u001b[0;32m    321\u001b[0m         \u001b[38;5;124m\"\u001b[39m\u001b[38;5;124myou can use builtins\u001b[39m\u001b[38;5;124m'\u001b[39m\u001b[38;5;124m open.\u001b[39m\u001b[38;5;124m\"\u001b[39m\n\u001b[0;32m    322\u001b[0m     )\n\u001b[1;32m--> 324\u001b[0m \u001b[38;5;28;01mreturn\u001b[39;00m io_open(file, \u001b[38;5;241m*\u001b[39margs, \u001b[38;5;241m*\u001b[39m\u001b[38;5;241m*\u001b[39mkwargs)\n",
      "\u001b[1;31mFileExistsError\u001b[0m: [Errno 17] File exists: 'lmn.txt'"
     ]
    }
   ],
   "source": [
    "try:\n",
    "    print(\"hello try block\")\n",
    "    f=open(\"lmn.txt\",\"x\")\n",
    "    text=f.read()\n",
    "    print(text)\n",
    "    f.close()\n",
    "except FileNotFoundError as e:\n",
    "    print(e)\n",
    "    print(\"excute when error occur\")\n",
    "print(\"*********************\")"
   ]
  },
  {
   "cell_type": "code",
   "execution_count": 134,
   "id": "45564b02-bcb9-4538-8bbb-4885b6b912df",
   "metadata": {},
   "outputs": [
    {
     "name": "stdout",
     "output_type": "stream",
     "text": [
      "hello try block\n",
      "[Errno 17] File exists: 'lmn.txt'\n",
      "excute when error 2 occur\n",
      "*********************\n"
     ]
    }
   ],
   "source": [
    "try:\n",
    "    print(\"hello try block\")\n",
    "    f=open(\"lmn.txt\",\"x\")\n",
    "    text=f.read()\n",
    "    print(text)\n",
    "    f.close()\n",
    "except FileNotFoundError as e:\n",
    "    print(e)\n",
    "    print(\"excute when error occur\")\n",
    "\n",
    "except FileExistsError as e:\n",
    "    print(e)\n",
    "    print(\"excute when error 2 occur\")\n",
    "print(\"*********************\")"
   ]
  },
  {
   "cell_type": "code",
   "execution_count": 136,
   "id": "66ba86e6-34d5-4bbd-b687-e8c196c325ed",
   "metadata": {},
   "outputs": [
    {
     "name": "stdout",
     "output_type": "stream",
     "text": [
      "hello try block\n",
      "excute when error 3 occur\n",
      "*********************\n"
     ]
    }
   ],
   "source": [
    "try:\n",
    "    print(\"hello try block\")\n",
    "    print(pqr)\n",
    "except FileNotFoundError as e:\n",
    "    print(e)\n",
    "    print(\"excute when error occur\")\n",
    "\n",
    "except FileExistsError as e:\n",
    "    print(e)\n",
    "    print(\"excute when error 2 occur\")\n",
    "except:\n",
    "    print(\"excute when error 3 occur\")\n",
    "    \n",
    "print(\"*********************\")"
   ]
  },
  {
   "cell_type": "code",
   "execution_count": 138,
   "id": "cf542645-b15e-46f8-ab68-9c35c8fa4b03",
   "metadata": {},
   "outputs": [
    {
     "name": "stdout",
     "output_type": "stream",
     "text": [
      "hello try block\n",
      "None\n",
      "excute when error 3 occur\n",
      "*********************\n"
     ]
    },
    {
     "name": "stderr",
     "output_type": "stream",
     "text": [
      "Traceback (most recent call last):\n",
      "  File \"C:\\Users\\hp\\AppData\\Local\\Temp\\ipykernel_11464\\3413525781.py\", line 4, in <module>\n",
      "    print(pqr)\n",
      "          ^^^\n",
      "NameError: name 'pqr' is not defined\n"
     ]
    }
   ],
   "source": [
    "import traceback\n",
    "try:\n",
    "    print(\"hello try block\")\n",
    "    print(pqr)\n",
    "except FileNotFoundError as e:\n",
    "    print(e)\n",
    "    print(\"excute when error occur\")\n",
    "\n",
    "except FileExistsError as e:\n",
    "    print(e)\n",
    "    print(\"excute when error 2 occur\")\n",
    "except:\n",
    "    print(traceback.print_exc())\n",
    "    print(\"excute when error 3 occur\")\n",
    "    \n",
    "print(\"*********************\")"
   ]
  },
  {
   "cell_type": "code",
   "execution_count": 140,
   "id": "f3f1c011-7984-4784-93f6-53f9ccc5566a",
   "metadata": {},
   "outputs": [
    {
     "name": "stdout",
     "output_type": "stream",
     "text": [
      "hello try block\n",
      "name 'pqr' is not defined\n",
      "excute when error 3 occur\n",
      "*********************\n"
     ]
    }
   ],
   "source": [
    "try:\n",
    "    print(\"hello try block\")\n",
    "    print(pqr)\n",
    "except FileNotFoundError as e:\n",
    "    print(e)\n",
    "    print(\"excute when error occur\")\n",
    "\n",
    "except FileExistsError as e:\n",
    "    print(e)\n",
    "    print(\"excute when error 2 occur\")\n",
    "except Exception as e:  # option to tracebak/wont get details of error\n",
    "    print(e)\n",
    "    print(\"excute when error 3 occur\")\n",
    "    \n",
    "print(\"*********************\")"
   ]
  },
  {
   "cell_type": "markdown",
   "id": "68aa84a2-583e-48f4-a6d3-e101b89c2ea8",
   "metadata": {},
   "source": [
    "# finally"
   ]
  },
  {
   "cell_type": "code",
   "execution_count": null,
   "id": "78259e93-5cf2-4472-b17e-f96467edbbaf",
   "metadata": {},
   "outputs": [],
   "source": [
    "finally will excute every single time"
   ]
  },
  {
   "cell_type": "code",
   "execution_count": 143,
   "id": "6266279e-ba86-4255-943e-118971357b1e",
   "metadata": {},
   "outputs": [
    {
     "name": "stdout",
     "output_type": "stream",
     "text": [
      "In try block\n",
      "In finally block\n"
     ]
    }
   ],
   "source": [
    "try:\n",
    "    print(\"In try block\")\n",
    "except:\n",
    "    print(\"In except bloxk\")\n",
    "finally:\n",
    "    print(\"In finally block\")"
   ]
  },
  {
   "cell_type": "code",
   "execution_count": 145,
   "id": "c150c465-caee-4075-ad74-ecb8054237b8",
   "metadata": {},
   "outputs": [
    {
     "name": "stdout",
     "output_type": "stream",
     "text": [
      "In try block\n",
      "In except bloxk\n",
      "In finally block\n"
     ]
    }
   ],
   "source": [
    "try:\n",
    "    print(\"In try block\")\n",
    "    print(pqr)\n",
    "except:\n",
    "    print(\"In except bloxk\")\n",
    "finally:\n",
    "    print(\"In finally block\")"
   ]
  },
  {
   "cell_type": "markdown",
   "id": "59cac703-1b03-4ee4-8d0c-e3927d88a3f5",
   "metadata": {},
   "source": [
    "# raise"
   ]
  },
  {
   "cell_type": "code",
   "execution_count": null,
   "id": "d70ce6a2-930c-4dbc-9d9f-03d45dc4f6a9",
   "metadata": {},
   "outputs": [],
   "source": [
    "used to pass own message to the error\n",
    "raise an custom exception"
   ]
  },
  {
   "cell_type": "code",
   "execution_count": 148,
   "id": "b8a98bca-7720-4530-8a40-7cc8fea5444f",
   "metadata": {},
   "outputs": [
    {
     "ename": "TypeError",
     "evalue": "unsupported operand type(s) for +: 'int' and 'str'",
     "output_type": "error",
     "traceback": [
      "\u001b[1;31m---------------------------------------------------------------------------\u001b[0m",
      "\u001b[1;31mTypeError\u001b[0m                                 Traceback (most recent call last)",
      "Cell \u001b[1;32mIn[148], line 3\u001b[0m\n\u001b[0;32m      1\u001b[0m x\u001b[38;5;241m=\u001b[39m\u001b[38;5;241m10\u001b[39m\n\u001b[0;32m      2\u001b[0m y\u001b[38;5;241m=\u001b[39m\u001b[38;5;124m\"\u001b[39m\u001b[38;5;124m20\u001b[39m\u001b[38;5;124m\"\u001b[39m\n\u001b[1;32m----> 3\u001b[0m add\u001b[38;5;241m=\u001b[39mx\u001b[38;5;241m+\u001b[39my\n\u001b[0;32m      4\u001b[0m add\n",
      "\u001b[1;31mTypeError\u001b[0m: unsupported operand type(s) for +: 'int' and 'str'"
     ]
    }
   ],
   "source": [
    "x=10\n",
    "y=\"20\"\n",
    "add=x+y\n",
    "add"
   ]
  },
  {
   "cell_type": "code",
   "execution_count": 152,
   "id": "47f59d0d-7da2-49b3-861d-d26dabc2c5d9",
   "metadata": {},
   "outputs": [
    {
     "ename": "TypeError",
     "evalue": "Error Raised",
     "output_type": "error",
     "traceback": [
      "\u001b[1;31m---------------------------------------------------------------------------\u001b[0m",
      "\u001b[1;31mTypeError\u001b[0m                                 Traceback (most recent call last)",
      "Cell \u001b[1;32mIn[152], line 6\u001b[0m\n\u001b[0;32m      4\u001b[0m     add\u001b[38;5;241m=\u001b[39mx\u001b[38;5;241m+\u001b[39my\n\u001b[0;32m      5\u001b[0m \u001b[38;5;28;01melse\u001b[39;00m:\n\u001b[1;32m----> 6\u001b[0m     \u001b[38;5;28;01mraise\u001b[39;00m \u001b[38;5;167;01mTypeError\u001b[39;00m(\u001b[38;5;124m\"\u001b[39m\u001b[38;5;124mError Raised\u001b[39m\u001b[38;5;124m\"\u001b[39m)\n",
      "\u001b[1;31mTypeError\u001b[0m: Error Raised"
     ]
    }
   ],
   "source": [
    "x=10\n",
    "y=\"20\"\n",
    "if type(x)==int and type(y)==int:\n",
    "    add=x+y\n",
    "else:\n",
    "    raise TypeError(\"Error Raised\")"
   ]
  },
  {
   "cell_type": "code",
   "execution_count": 154,
   "id": "03b253a3-b109-4c0a-b14c-5ac5469c6a2a",
   "metadata": {},
   "outputs": [
    {
     "ename": "TypeError",
     "evalue": "either 10 or 20 is not an integer",
     "output_type": "error",
     "traceback": [
      "\u001b[1;31m---------------------------------------------------------------------------\u001b[0m",
      "\u001b[1;31mTypeError\u001b[0m                                 Traceback (most recent call last)",
      "Cell \u001b[1;32mIn[154], line 6\u001b[0m\n\u001b[0;32m      4\u001b[0m     add\u001b[38;5;241m=\u001b[39mx\u001b[38;5;241m+\u001b[39my\n\u001b[0;32m      5\u001b[0m \u001b[38;5;28;01melse\u001b[39;00m:\n\u001b[1;32m----> 6\u001b[0m     \u001b[38;5;28;01mraise\u001b[39;00m \u001b[38;5;167;01mTypeError\u001b[39;00m(\u001b[38;5;124mf\u001b[39m\u001b[38;5;124m\"\u001b[39m\u001b[38;5;124meither \u001b[39m\u001b[38;5;132;01m{\u001b[39;00mx\u001b[38;5;132;01m}\u001b[39;00m\u001b[38;5;124m or \u001b[39m\u001b[38;5;132;01m{\u001b[39;00my\u001b[38;5;132;01m}\u001b[39;00m\u001b[38;5;124m is not an integer\u001b[39m\u001b[38;5;124m\"\u001b[39m)\n",
      "\u001b[1;31mTypeError\u001b[0m: either 10 or 20 is not an integer"
     ]
    }
   ],
   "source": [
    "x=10\n",
    "y=\"20\"\n",
    "if type(x)==int and type(y)==int:\n",
    "    add=x+y\n",
    "else:\n",
    "    raise TypeError(f\"either {x} or {y} is not an integer\")"
   ]
  },
  {
   "cell_type": "code",
   "execution_count": null,
   "id": "b39bd15b-f0df-4acf-903c-476bd09950e9",
   "metadata": {},
   "outputs": [],
   "source": []
  }
 ],
 "metadata": {
  "kernelspec": {
   "display_name": "Python 3 (ipykernel)",
   "language": "python",
   "name": "python3"
  },
  "language_info": {
   "codemirror_mode": {
    "name": "ipython",
    "version": 3
   },
   "file_extension": ".py",
   "mimetype": "text/x-python",
   "name": "python",
   "nbconvert_exporter": "python",
   "pygments_lexer": "ipython3",
   "version": "3.12.7"
  }
 },
 "nbformat": 4,
 "nbformat_minor": 5
}
