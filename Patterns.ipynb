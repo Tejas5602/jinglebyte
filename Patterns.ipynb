{
 "cells": [
  {
   "cell_type": "code",
   "execution_count": 68,
   "id": "6f4a0b39-7ad4-4105-befa-eb07e3276528",
   "metadata": {},
   "outputs": [
    {
     "name": "stdout",
     "output_type": "stream",
     "text": [
      "*\n",
      "**\n",
      "***\n",
      "****\n",
      "*****\n"
     ]
    }
   ],
   "source": [
    "# Q1\n",
    "n= 5\n",
    "for i in range(1, n+1):\n",
    "    print(\"*\" * i)"
   ]
  },
  {
   "cell_type": "code",
   "execution_count": 55,
   "id": "6dd973ac-dcc8-4cd3-91df-737a2c1d9d05",
   "metadata": {
    "scrolled": true
   },
   "outputs": [
    {
     "name": "stdout",
     "output_type": "stream",
     "text": [
      "    *\n",
      "   **\n",
      "  ***\n",
      " ****\n",
      "*****\n"
     ]
    }
   ],
   "source": [
    "# Q2\n",
    "n=5\n",
    "for i in range(1, n+1):\n",
    "    print(\" \"*(n-i) + \"*\" * i)"
   ]
  },
  {
   "cell_type": "code",
   "execution_count": 49,
   "id": "c1971c51-c4b7-4cac-bc73-1731cea7dd51",
   "metadata": {},
   "outputs": [
    {
     "name": "stdout",
     "output_type": "stream",
     "text": [
      "    *\n",
      "   ***\n",
      "  *****\n",
      " *******\n",
      "*********\n"
     ]
    }
   ],
   "source": [
    "# q3\n",
    "n=5\n",
    "for i in range(1, n+1):\n",
    "    print(\" \"*(n-i),end=\"\")\n",
    "    print(\"*\" *(2*i-1))"
   ]
  },
  {
   "cell_type": "code",
   "execution_count": 4,
   "id": "a6811f15-9991-4f3e-bb60-cc30c4d0be5e",
   "metadata": {},
   "outputs": [
    {
     "name": "stdout",
     "output_type": "stream",
     "text": [
      " *********\n",
      "  *******\n",
      "   *****\n",
      "    ***\n",
      "     *\n"
     ]
    }
   ],
   "source": [
    "# Q4\n",
    "n=6\n",
    "for i in range(n-1,0,-1):\n",
    "    print(\" \"*(n-i)+\"*\" *(2*i-1))"
   ]
  },
  {
   "cell_type": "code",
   "execution_count": null,
   "id": "5b98e780-f71a-4422-868e-e93d95b2d8d5",
   "metadata": {},
   "outputs": [],
   "source": []
  },
  {
   "cell_type": "code",
   "execution_count": 7,
   "id": "465154c9-0848-47ec-9a74-2154214f9e51",
   "metadata": {},
   "outputs": [
    {
     "name": "stdout",
     "output_type": "stream",
     "text": [
      "1 \n",
      "1 2 \n",
      "1 2 3 \n",
      "1 2 3 4 \n",
      "1 2 3 4 5 \n"
     ]
    }
   ],
   "source": [
    "# Q5\n",
    "for i in range (1,6):\n",
    "    for j in range (1,i+1):\n",
    "        print(j,end=\" \")\n",
    "    print()"
   ]
  },
  {
   "cell_type": "code",
   "execution_count": null,
   "id": "d1482fdb-54fc-4380-873d-259b1183de75",
   "metadata": {},
   "outputs": [],
   "source": []
  },
  {
   "cell_type": "code",
   "execution_count": 95,
   "id": "6d83e455-daa8-420a-aee1-09716bf3fe61",
   "metadata": {},
   "outputs": [
    {
     "name": "stdout",
     "output_type": "stream",
     "text": [
      "1 \n",
      "2 3 \n",
      "4 5 6 \n",
      "7 8 9 10 \n",
      "11 12 13 14 15 \n"
     ]
    }
   ],
   "source": [
    "# Q6\n",
    "n=1\n",
    "for i in range (1,6):\n",
    "    for j in range (i):\n",
    "        print(n,end=\" \")\n",
    "        n+=1\n",
    "    print()"
   ]
  },
  {
   "cell_type": "code",
   "execution_count": null,
   "id": "0e23d8f1-49e6-46c3-9f8e-614e569e7956",
   "metadata": {},
   "outputs": [],
   "source": [
    " # Pascal's Triangle"
   ]
  },
  {
   "cell_type": "code",
   "execution_count": 60,
   "id": "f7f3b652-a202-4d14-b4b1-070a6f4c5c9e",
   "metadata": {},
   "outputs": [
    {
     "name": "stdout",
     "output_type": "stream",
     "text": [
      "                    *\n",
      "                ***\n",
      "            *****\n",
      "        *******\n",
      "    *********\n"
     ]
    }
   ],
   "source": [
    "# \n",
    "n=6\n",
    "for i in range(1,6):\n",
    "    for j in range (1,n-1):\n",
    "        print(\" \"*(n-i),end=\"\")\n",
    "    print(\"*\" *(2*i-1))"
   ]
  },
  {
   "cell_type": "code",
   "execution_count": 101,
   "id": "d248738c-d5e9-41d0-a755-b118a00e4888",
   "metadata": {},
   "outputs": [
    {
     "name": "stdout",
     "output_type": "stream",
     "text": [
      "1 \n",
      "2 3 \n",
      "4 5 6 \n",
      "7 8 9 10 \n",
      "11 12 13 14 15 \n"
     ]
    }
   ],
   "source": [
    "# Q8\n",
    "n=1\n",
    "for i in range (1,6):\n",
    "    for j in range (i):\n",
    "        print(n,end=\" \")\n",
    "        n+=1\n",
    "    print()"
   ]
  },
  {
   "cell_type": "code",
   "execution_count": 56,
   "id": "ddab2c06-a696-442d-a281-5b6bd3ebb4ae",
   "metadata": {},
   "outputs": [
    {
     "name": "stdout",
     "output_type": "stream",
     "text": [
      "\n",
      "A \n",
      "B B \n",
      "C C C \n",
      "D D D D \n",
      "E E E E E \n"
     ]
    }
   ],
   "source": [
    "# Q9\n",
    "n= 6\n",
    "num=64\n",
    "for i in range (n):\n",
    "    for j in range (i):\n",
    "        print(chr(num),end=\" \")\n",
    "    num=num+1\n",
    "    print()"
   ]
  },
  {
   "cell_type": "code",
   "execution_count": 38,
   "id": "19517980-59d6-4358-8fcc-fe5c801e6182",
   "metadata": {},
   "outputs": [
    {
     "name": "stdout",
     "output_type": "stream",
     "text": [
      "A \n",
      "B C \n",
      "D E F \n",
      "G H I J \n",
      "K L M N O \n"
     ]
    }
   ],
   "source": [
    "# Q10\n",
    "n=6\n",
    "num=65\n",
    "for i in range (1,n):\n",
    "    for j in range (i):\n",
    "        print (chr(num),end=\" \")\n",
    "        num=num+1\n",
    "    print()"
   ]
  },
  {
   "cell_type": "code",
   "execution_count": 58,
   "id": "0541cb06-80fb-4d2f-b504-3bab29661e1e",
   "metadata": {},
   "outputs": [
    {
     "name": "stdout",
     "output_type": "stream",
     "text": [
      "\n",
      "k \n",
      "k k \n",
      "k k k \n",
      "k k k k \n",
      "k k k k k \n"
     ]
    }
   ],
   "source": [
    "# Q11\n",
    "n= 6\n",
    "num=64\n",
    "for i in range (n):\n",
    "    for j in range (i):\n",
    "        print(\"k\",end=\" \")\n",
    "    num=num+1\n",
    "    print()"
   ]
  },
  {
   "cell_type": "code",
   "execution_count": 214,
   "id": "a6dd0145-9168-4863-a4b6-2947177e54e8",
   "metadata": {},
   "outputs": [
    {
     "name": "stdout",
     "output_type": "stream",
     "text": [
      "A \n",
      "A B \n",
      "A B C \n",
      "A B C D \n",
      "A B C D E \n"
     ]
    }
   ],
   "source": [
    "# Q12\n",
    "n=5\n",
    "num=65\n",
    "for i in range (n):\n",
    "    for j in range (i+1):\n",
    "        print(chr(num+j),end=\" \")\n",
    "        #num=num+1\n",
    "    print()\n"
   ]
  },
  {
   "cell_type": "code",
   "execution_count": 62,
   "id": "27c6a4d8-95c2-43aa-b580-49c4a1b91779",
   "metadata": {},
   "outputs": [
    {
     "name": "stdout",
     "output_type": "stream",
     "text": [
      "P\n",
      "Py\n",
      "Pyt\n",
      "Pyth\n",
      "Pytho\n",
      "Python\n"
     ]
    }
   ],
   "source": [
    "# Q13\n",
    "n=\"Python\"\n",
    "for i in range (1,len(n)+1):\n",
    "    print(n[:i])"
   ]
  },
  {
   "cell_type": "code",
   "execution_count": 45,
   "id": "10cdd89c-9575-4fa8-a15b-90e07f5a24ae",
   "metadata": {},
   "outputs": [
    {
     "name": "stdout",
     "output_type": "stream",
     "text": [
      "1 1 1 1 1 \n",
      "2 2 2 2 \n",
      "3 3 3 \n",
      "4 4 \n",
      "5 \n",
      "\n"
     ]
    }
   ],
   "source": [
    "# Q14\n",
    "n=6\n",
    "for i in range(1,n+1): #6 time iteration  # i=5\n",
    "    for j in range(n-i):  #range(6)  # i=0,1,2,3,4,range(4)=i=0,1,2,3\n",
    "        print(i,end=\" \")\n",
    "    print()"
   ]
  },
  {
   "cell_type": "code",
   "execution_count": 10,
   "id": "d805f124-9547-442c-91dc-19cf10ab8654",
   "metadata": {},
   "outputs": [
    {
     "name": "stdout",
     "output_type": "stream",
     "text": [
      "6 6 6 6 6 6 \n",
      "5 5 5 5 5 \n",
      "4 4 4 4 \n",
      "3 3 3 \n",
      "2 2 \n",
      "1 \n"
     ]
    }
   ],
   "source": [
    "# Q15\n",
    "n=6\n",
    "for i in range(n,0,-1): #7 time iteration  # i=5\n",
    "    for j in range(i):  #range(6)  # i=0,1,2,3,4,range(4)=i=0,1,2,3\n",
    "        print(i,end=\" \")\n",
    "    print()"
   ]
  },
  {
   "cell_type": "code",
   "execution_count": 62,
   "id": "cce3e4da-a0c4-477b-9698-45ae72feddaf",
   "metadata": {},
   "outputs": [
    {
     "name": "stdout",
     "output_type": "stream",
     "text": [
      "0 1 2 3 4 5 \n",
      "0 1 2 3 4 \n",
      "0 1 2 3 \n",
      "0 1 2 \n",
      "0 1 \n",
      "0 \n"
     ]
    }
   ],
   "source": [
    "# Q16\n",
    "n=6\n",
    "for i in range(n,0,-1): #5 time iteration  # i=5\n",
    "    for j in range(i):  #range(5)  # i=0,1,2,3,4,range(4)=i=0,1,2,3\n",
    "        print(j,end=\" \")\n",
    "        \n",
    "    print()"
   ]
  },
  {
   "cell_type": "code",
   "execution_count": 49,
   "id": "671ce557-9f90-4da0-bfea-c2713077e4ca",
   "metadata": {},
   "outputs": [
    {
     "name": "stdout",
     "output_type": "stream",
     "text": [
      "1 \n",
      "2 3 \n",
      "4 5 6 \n",
      "7 8 9 10 \n"
     ]
    }
   ],
   "source": [
    "# Q17\n",
    "n=1\n",
    "for i in range(1,5): \n",
    "    for j in range(i): \n",
    "        print(n,end=\" \")\n",
    "        n+=1\n",
    "    print()"
   ]
  },
  {
   "cell_type": "code",
   "execution_count": 63,
   "id": "721e3e85-1357-43bf-8400-c7264da2c4e7",
   "metadata": {},
   "outputs": [
    {
     "name": "stdout",
     "output_type": "stream",
     "text": [
      "6 5 4 3 2 1 \n",
      "5 4 3 2 1 \n",
      "4 3 2 1 \n",
      "3 2 1 \n",
      "2 1 \n",
      "1 \n"
     ]
    }
   ],
   "source": [
    "# Q18\n",
    "n=6\n",
    "for i in range(n,0,-1):# 5 4 3 2 1\n",
    "    for j in range (i,0,-1):\n",
    "        print(j,end=\" \")\n",
    "    print()"
   ]
  },
  {
   "cell_type": "code",
   "execution_count": 169,
   "id": "8776e609-5d0d-48a0-ab7c-ce5927775b6f",
   "metadata": {},
   "outputs": [
    {
     "name": "stdout",
     "output_type": "stream",
     "text": [
      "1\n",
      "33\n",
      "555\n",
      "7777\n",
      "99999\n"
     ]
    }
   ],
   "source": [
    "# Q 19\n",
    "for i in range(1,6):  # Loop for 5 lines\n",
    "    print(str(i*2-1)*i)"
   ]
  },
  {
   "cell_type": "code",
   "execution_count": 145,
   "id": "664c8b11-a3ed-4aff-ad8b-2dd9010d77da",
   "metadata": {},
   "outputs": [
    {
     "name": "stdout",
     "output_type": "stream",
     "text": [
      "1 \n",
      "2 1 \n",
      "3 2 1 \n",
      "4 3 2 1 \n",
      "5 4 3 2 1 \n",
      "6 5 4 3 2 1 \n",
      "7 6 5 4 3 2 1 \n",
      "8 7 6 5 4 3 2 1 \n",
      "9 8 7 6 5 4 3 2 1 \n"
     ]
    }
   ],
   "source": [
    "# Q\n",
    "for i in range(1,10,1):# 5 4 3 2 1\n",
    "    for j in range (i):\n",
    "        print(i,end=\" \")\n",
    "        i=i-1\n",
    "    print()"
   ]
  },
  {
   "cell_type": "code",
   "execution_count": 207,
   "id": "957dff19-7e46-4baf-af64-2eb4309f35da",
   "metadata": {},
   "outputs": [
    {
     "name": "stdout",
     "output_type": "stream",
     "text": [
      "1 \n",
      "1 2 \n",
      "1 2 3 \n",
      "1 2 3 4 \n",
      "1 2 3 4 5 \n"
     ]
    }
   ],
   "source": [
    "# Q20\n",
    "for i in range(1,6,1):\n",
    "    for j in range(1,i+1):\n",
    "        print(j, end=\" \")\n",
    "        i=i-1\n",
    "    print()"
   ]
  },
  {
   "cell_type": "code",
   "execution_count": 215,
   "id": "17dc8704-ef2a-4d74-9215-f24a4e6c453c",
   "metadata": {},
   "outputs": [
    {
     "name": "stdout",
     "output_type": "stream",
     "text": [
      "1 \n",
      "2 4 \n",
      "3 6 9 \n",
      "4 8 12 16 \n",
      "5 10 15 20 25 \n",
      "6 12 18 24 30 36 \n",
      "7 14 21 28 35 42 49 \n"
     ]
    }
   ],
   "source": [
    "# Q22\n",
    "for i in range(1,8):\n",
    "    for j in range(1, i + 1):\n",
    "        print(i * j, end=\" \")\n",
    "    print() "
   ]
  },
  {
   "cell_type": "code",
   "execution_count": null,
   "id": "8ff1c9d2-c7cd-4d14-ba4b-945460182479",
   "metadata": {},
   "outputs": [],
   "source": []
  }
 ],
 "metadata": {
  "kernelspec": {
   "display_name": "Python 3 (ipykernel)",
   "language": "python",
   "name": "python3"
  },
  "language_info": {
   "codemirror_mode": {
    "name": "ipython",
    "version": 3
   },
   "file_extension": ".py",
   "mimetype": "text/x-python",
   "name": "python",
   "nbconvert_exporter": "python",
   "pygments_lexer": "ipython3",
   "version": "3.12.7"
  }
 },
 "nbformat": 4,
 "nbformat_minor": 5
}
