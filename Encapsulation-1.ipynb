{
 "cells": [
  {
   "cell_type": "markdown",
   "id": "7bad2389",
   "metadata": {},
   "source": [
    "# Encapsulation"
   ]
  },
  {
   "cell_type": "code",
   "execution_count": null,
   "id": "cf409dc4",
   "metadata": {},
   "outputs": [],
   "source": [
    "Capsul  --> EnCapsul --> To provide the protection --> Used to restrict\n",
    "\n",
    "Used to restrict the access of methods and variables from outside the class\n",
    "\n",
    "Provides protection for data modification.\n",
    "\n",
    "data:\n",
    "    Variables \n",
    "    Methods"
   ]
  },
  {
   "cell_type": "code",
   "execution_count": 5,
   "id": "286696f1",
   "metadata": {},
   "outputs": [
    {
     "name": "stdout",
     "output_type": "stream",
     "text": [
      "Mumbai\n",
      "Location is: Mumbai\n",
      "None\n"
     ]
    }
   ],
   "source": [
    "class ClassName:\n",
    "    city = \"Mumbai\"   # Class variable\n",
    "    \n",
    "    def location(self):\n",
    "        print(\"Location is:\",self.city)\n",
    "        \n",
    "        \n",
    "Obj = ClassName()\n",
    "print(Obj.city)\n",
    "\n",
    "print(Obj.location())"
   ]
  },
  {
   "cell_type": "code",
   "execution_count": 12,
   "id": "b18af2a3",
   "metadata": {},
   "outputs": [
    {
     "name": "stdout",
     "output_type": "stream",
     "text": [
      "Location is Pune\n",
      "x --> None\n"
     ]
    }
   ],
   "source": [
    "def location():\n",
    "    print(\"Location is Pune\")\n",
    "    return \n",
    "    \n",
    "x = location()\n",
    "print(\"x -->\",x)"
   ]
  },
  {
   "cell_type": "code",
   "execution_count": 3,
   "id": "3702abac",
   "metadata": {},
   "outputs": [
    {
     "name": "stdout",
     "output_type": "stream",
     "text": [
      "Mumbai\n",
      "Location is: Pune\n"
     ]
    }
   ],
   "source": [
    "class ClassName:\n",
    "    city = \"Mumbai\"   # Class variable\n",
    "    \n",
    "    def location(self):\n",
    "        print(\"Location is:\",self.city)\n",
    "        \n",
    "        \n",
    "Obj = ClassName()\n",
    "\n",
    "print(Obj.city)\n",
    "\n",
    "Obj.city = \"Pune\"  # We can modify the data from outside\n",
    "\n",
    "Obj.location()"
   ]
  },
  {
   "cell_type": "code",
   "execution_count": 5,
   "id": "0b9b1e0e",
   "metadata": {},
   "outputs": [
    {
     "name": "stdout",
     "output_type": "stream",
     "text": [
      "Employee Name is: Sachin\n",
      "Company Name is: TCS\n"
     ]
    }
   ],
   "source": [
    "class EmployeeDetails:\n",
    "    company_name = \"TCS\"\n",
    "    \n",
    "    def __init__(self, name):\n",
    "        self.name = name\n",
    "        \n",
    "    def emp_details(self):\n",
    "        print(\"Employee Name is:\", self.name)\n",
    "        print(\"Company Name is:\", self.company_name)\n",
    "        \n",
    "EmpObj = EmployeeDetails(\"Sachin\")\n",
    "EmpObj.emp_details()"
   ]
  },
  {
   "cell_type": "code",
   "execution_count": 7,
   "id": "9e904c03",
   "metadata": {},
   "outputs": [
    {
     "name": "stdout",
     "output_type": "stream",
     "text": [
      "Employee Name is: Sachin\n",
      "Company Name is: Accenture\n"
     ]
    }
   ],
   "source": [
    "class EmployeeDetails: \n",
    "    \n",
    "    company_name = \"TCS\"   # Public Class Variable\n",
    "    \n",
    "    def __init__(self, name):\n",
    "        self.name = name\n",
    "        \n",
    "    def emp_details(self):\n",
    "        print(\"Employee Name is:\", self.name)\n",
    "        print(\"Company Name is:\", self.company_name)\n",
    "        \n",
    "EmpObj = EmployeeDetails(\"Sachin\")\n",
    "EmpObj.company_name = \"Accenture\"\n",
    "EmpObj.emp_details()"
   ]
  },
  {
   "cell_type": "code",
   "execution_count": 20,
   "id": "8f090b52",
   "metadata": {},
   "outputs": [
    {
     "name": "stdout",
     "output_type": "stream",
     "text": [
      "Employee Name is: Sachin\n",
      "Company Name is: TCS\n"
     ]
    }
   ],
   "source": [
    "class EmployeeDetails:\n",
    "    __company_name = \"TCS\"  # Private Class Variable\n",
    "    \n",
    "    def __init__(self, name):\n",
    "        self.name = name\n",
    "        \n",
    "    def emp_details(self):\n",
    "        print(\"Employee Name is:\", self.name)\n",
    "        print(\"Company Name is:\", self.__company_name)\n",
    "        \n",
    "EmpObj = EmployeeDetails(\"Sachin\")\n",
    "EmpObj.__company_name = \"Accenture\"\n",
    "EmpObj.emp_details()"
   ]
  },
  {
   "cell_type": "code",
   "execution_count": 21,
   "id": "ef517894",
   "metadata": {},
   "outputs": [
    {
     "name": "stdout",
     "output_type": "stream",
     "text": [
      "Employee Name is: Sachin\n",
      "Company Name is: TCS\n"
     ]
    }
   ],
   "source": [
    "class EmployeeDetails:\n",
    "    __company_name = \"TCS\"  # Private Class Variable\n",
    "    \n",
    "    def __init__(self, name):\n",
    "        self.name = name   # Instance Variable\n",
    "        \n",
    "    def emp_details(self):\n",
    "        print(\"Employee Name is:\", self.name)\n",
    "        print(\"Company Name is:\", self.__company_name)\n",
    "        \n",
    "EmpObj = EmployeeDetails(\"Sachin\")\n",
    "EmpObj.__company_name = \"Capegemini\"\n",
    "EmpObj.emp_details()"
   ]
  },
  {
   "cell_type": "code",
   "execution_count": 23,
   "id": "89b15a99",
   "metadata": {},
   "outputs": [
    {
     "name": "stdout",
     "output_type": "stream",
     "text": [
      "Employee Name is: Suresh\n",
      "Company Name is: TCS\n"
     ]
    }
   ],
   "source": [
    "class EmployeeDetails:\n",
    "    __company_name = \"TCS\"  # Private Class Variable\n",
    "    \n",
    "    def __init__(self, name):\n",
    "        self.name = name   # Instance Variable\n",
    "        \n",
    "    def emp_details(self):\n",
    "        print(\"Employee Name is:\", self.name)\n",
    "        print(\"Company Name is:\", self.__company_name)\n",
    "        \n",
    "EmpObj = EmployeeDetails(\"Sachin\")\n",
    "EmpObj.name = \"Suresh\"\n",
    "# EmpObj.__company_name = \"Capegemini\"\n",
    "EmpObj.emp_details()"
   ]
  },
  {
   "cell_type": "code",
   "execution_count": 24,
   "id": "fbc63255",
   "metadata": {},
   "outputs": [
    {
     "name": "stdout",
     "output_type": "stream",
     "text": [
      "Employee Name is: Sachin\n",
      "Company Name is: TCS\n"
     ]
    }
   ],
   "source": [
    "class EmployeeDetails:\n",
    "    __company_name = \"TCS\"  # Private Class Variable\n",
    "    \n",
    "    def __init__(self, name):\n",
    "        self.__name = name   # Instance Variable\n",
    "        \n",
    "    def emp_details(self):\n",
    "        print(\"Employee Name is:\", self.__name)\n",
    "        print(\"Company Name is:\", self.__company_name)\n",
    "        \n",
    "EmpObj = EmployeeDetails(\"Sachin\")\n",
    "EmpObj.name = \"Suresh\"\n",
    "# EmpObj.__company_name = \"Capegemini\"\n",
    "EmpObj.emp_details()"
   ]
  },
  {
   "cell_type": "code",
   "execution_count": 32,
   "id": "59ff58a0",
   "metadata": {},
   "outputs": [
    {
     "name": "stdout",
     "output_type": "stream",
     "text": [
      "Employee Name is: Sachin\n",
      "Company Name is: TCS\n"
     ]
    }
   ],
   "source": [
    "class EmployeeDetails:\n",
    "    __company_name = \"TCS\"  # Private Class Variable\n",
    "    \n",
    "    def __init__(self, name):\n",
    "        self.__name = name   # Instance Variable\n",
    "        \n",
    "    def emp_details(self):\n",
    "        print(\"Employee Name is:\", self.__name)\n",
    "        print(\"Company Name is:\", self.__company_name)\n",
    "        \n",
    "EmpObj = EmployeeDetails(\"Sachin\")\n",
    "EmpObj.__name = \"Suresh\"\n",
    "# EmpObj.__company_name = \"Capegemini\"\n",
    "EmpObj.emp_details()"
   ]
  },
  {
   "cell_type": "code",
   "execution_count": 29,
   "id": "e4fc3729",
   "metadata": {},
   "outputs": [
    {
     "name": "stdout",
     "output_type": "stream",
     "text": [
      "Employee ID is: TCS001\n"
     ]
    }
   ],
   "source": [
    "class EmployeeDetails:\n",
    "    __company_name = \"TCS\"  # Private Class Variable\n",
    "    \n",
    "    def __init__(self, name, emp_id):\n",
    "        self.__name = name   # Instance Variable\n",
    "        self.emp_id = emp_id\n",
    "        \n",
    "    def employee_id(self):\n",
    "        print(\"Employee ID is:\", self.emp_id)\n",
    "        \n",
    "    def emp_details(self):\n",
    "        print(\"Employee Name is:\", self.__name)\n",
    "        print(\"Company Name is:\", self.__company_name)\n",
    "        \n",
    "EmpObj = EmployeeDetails(\"Sachin\", \"TCS001\")\n",
    "# EmpObj.emp_details()\n",
    "EmpObj.employee_id()"
   ]
  },
  {
   "cell_type": "code",
   "execution_count": 11,
   "id": "6d356d5a",
   "metadata": {},
   "outputs": [
    {
     "name": "stdout",
     "output_type": "stream",
     "text": [
      "Employee Name is: Sachin\n",
      "Company Name is: TCS\n",
      "Employee ID is: TCS001\n",
      "********************************\n"
     ]
    },
    {
     "ename": "AttributeError",
     "evalue": "'EmployeeDetails' object has no attribute '__employee_id'",
     "output_type": "error",
     "traceback": [
      "\u001b[1;31m---------------------------------------------------------------------------\u001b[0m",
      "\u001b[1;31mAttributeError\u001b[0m                            Traceback (most recent call last)",
      "Cell \u001b[1;32mIn[11], line 19\u001b[0m\n\u001b[0;32m     17\u001b[0m EmpObj \u001b[38;5;241m=\u001b[39m EmployeeDetails(\u001b[38;5;124m\"\u001b[39m\u001b[38;5;124mSachin\u001b[39m\u001b[38;5;124m\"\u001b[39m, \u001b[38;5;124m\"\u001b[39m\u001b[38;5;124mTCS001\u001b[39m\u001b[38;5;124m\"\u001b[39m)\n\u001b[0;32m     18\u001b[0m EmpObj\u001b[38;5;241m.\u001b[39memp_details()\n\u001b[1;32m---> 19\u001b[0m EmpObj\u001b[38;5;241m.\u001b[39m__employee_id()\n",
      "\u001b[1;31mAttributeError\u001b[0m: 'EmployeeDetails' object has no attribute '__employee_id'"
     ]
    }
   ],
   "source": [
    "class EmployeeDetails:\n",
    "    __company_name = \"TCS\"  # Private Class Variable\n",
    "    \n",
    "    def __init__(self, name, emp_id):\n",
    "        self.__name = name   # Instance Variable\n",
    "        self.emp_id = emp_id\n",
    "        \n",
    "    def __employee_id(self):\n",
    "        print(\"Employee ID is:\", self.emp_id)\n",
    "        \n",
    "    def emp_details(self):\n",
    "        print(\"Employee Name is:\", self.__name)\n",
    "        print(\"Company Name is:\", self.__company_name)\n",
    "        self.__employee_id()   # We can acess here inside the class\n",
    "        print(\"********************************\")\n",
    "        \n",
    "EmpObj = EmployeeDetails(\"Sachin\", \"TCS001\")\n",
    "EmpObj.emp_details()\n",
    "EmpObj.__employee_id()   # We can not access private method from outside the class"
   ]
  },
  {
   "cell_type": "markdown",
   "id": "964ee021",
   "metadata": {},
   "source": [
    "# Name Mangling"
   ]
  },
  {
   "cell_type": "code",
   "execution_count": null,
   "id": "c6b812f4",
   "metadata": {},
   "outputs": [],
   "source": [
    "Used to access/Modify private method and variable from outside the class\n",
    "\n",
    "Syntax:\n",
    "    Obj._ClassName__Identifire\n",
    "    \n",
    "Identifire >> Method/variable"
   ]
  },
  {
   "cell_type": "code",
   "execution_count": 35,
   "id": "4fafcb5e",
   "metadata": {},
   "outputs": [
    {
     "name": "stdout",
     "output_type": "stream",
     "text": [
      "Employee Name is: Sachin\n",
      "Company Name is: TCS\n",
      "Employee ID is: TCS001\n",
      "********************************\n"
     ]
    },
    {
     "ename": "AttributeError",
     "evalue": "'EmployeeDetails' object has no attribute '__employee_id'",
     "output_type": "error",
     "traceback": [
      "\u001b[1;31m---------------------------------------------------------------------------\u001b[0m",
      "\u001b[1;31mAttributeError\u001b[0m                            Traceback (most recent call last)",
      "Cell \u001b[1;32mIn [35], line 19\u001b[0m\n\u001b[0;32m     17\u001b[0m EmpObj \u001b[38;5;241m=\u001b[39m EmployeeDetails(\u001b[38;5;124m\"\u001b[39m\u001b[38;5;124mSachin\u001b[39m\u001b[38;5;124m\"\u001b[39m, \u001b[38;5;124m\"\u001b[39m\u001b[38;5;124mTCS001\u001b[39m\u001b[38;5;124m\"\u001b[39m)\n\u001b[0;32m     18\u001b[0m EmpObj\u001b[38;5;241m.\u001b[39memp_details()\n\u001b[1;32m---> 19\u001b[0m \u001b[43mEmpObj\u001b[49m\u001b[38;5;241;43m.\u001b[39;49m\u001b[43m__employee_id\u001b[49m()   \u001b[38;5;66;03m# We can not access private method from outside the class\u001b[39;00m\n",
      "\u001b[1;31mAttributeError\u001b[0m: 'EmployeeDetails' object has no attribute '__employee_id'"
     ]
    }
   ],
   "source": [
    "class EmployeeDetails:\n",
    "    __company_name = \"TCS\"  # Private Class Variable\n",
    "    \n",
    "    def __init__(self, name, emp_id):\n",
    "        self.__name = name   # Instance Variable\n",
    "        self.emp_id = emp_id\n",
    "        \n",
    "    def __employee_id(self):  # Private Method\n",
    "        print(\"Employee ID is:\", self.emp_id)\n",
    "        \n",
    "    def emp_details(self):\n",
    "        print(\"Employee Name is:\", self.__name)\n",
    "        print(\"Company Name is:\", self.__company_name)\n",
    "        self.__employee_id()   # We can acess here inside the class\n",
    "        print(\"********************************\")\n",
    "        \n",
    "EmpObj = EmployeeDetails(\"Sachin\", \"TCS001\")\n",
    "EmpObj.emp_details()\n",
    "EmpObj.__employee_id()   # We can not access private method from outside the class"
   ]
  },
  {
   "cell_type": "code",
   "execution_count": 13,
   "id": "9859acbb",
   "metadata": {},
   "outputs": [
    {
     "name": "stdout",
     "output_type": "stream",
     "text": [
      "Employee Name is: Sachin\n",
      "Company Name is: TCS\n",
      "Employee ID is: TCS001\n",
      "********************************\n",
      "Employee ID is: TCS001\n"
     ]
    }
   ],
   "source": [
    "class EmployeeDetails:\n",
    "    __company_name = \"TCS\"  # Private Class Variable\n",
    "    \n",
    "    def __init__(self, name, emp_id):\n",
    "        self.__name = name   # Instance Variable\n",
    "        self.emp_id = emp_id\n",
    "        \n",
    "    def __employee_id(self):  # Private Method\n",
    "        print(\"Employee ID is:\", self.emp_id)\n",
    "        \n",
    "    def emp_details(self):\n",
    "        print(\"Employee Name is:\", self.__name)\n",
    "        print(\"Company Name is:\", self.__company_name)\n",
    "        self.__employee_id()   # We can acess here inside the class\n",
    "        print(\"********************************\")\n",
    "        \n",
    "EmpObj = EmployeeDetails(\"Sachin\", \"TCS001\")\n",
    "EmpObj.emp_details()\n",
    "EmpObj._EmployeeDetails__employee_id()   # Name Mangling"
   ]
  },
  {
   "cell_type": "code",
   "execution_count": 41,
   "id": "b3653a41",
   "metadata": {},
   "outputs": [
    {
     "name": "stdout",
     "output_type": "stream",
     "text": [
      "Employee Name is: Sachin\n",
      "Company Name is: TCS\n",
      "Employee ID is: TCS001\n",
      "********************************\n"
     ]
    }
   ],
   "source": [
    "class EmployeeDetails:\n",
    "    __company_name = \"TCS\"  # Private Class Variable\n",
    "    \n",
    "    def __init__(self, name, emp_id):\n",
    "        self.__name = name   # Instance Variable\n",
    "        self.emp_id = emp_id\n",
    "        \n",
    "    def __employee_id(self):  # Private Method\n",
    "        print(\"Employee ID is:\", self.emp_id)\n",
    "        \n",
    "    def emp_details(self):\n",
    "        print(\"Employee Name is:\", self.__name)\n",
    "        print(\"Company Name is:\", self.__company_name)\n",
    "        self.__employee_id()   # We can acess here inside the class\n",
    "        print(\"********************************\")\n",
    "        \n",
    "EmpObj = EmployeeDetails(\"Sachin\", \"TCS001\")\n",
    "\n",
    "EmpObj.__company_name = \"Capegemini\"\n",
    "\n",
    "EmpObj.emp_details()\n"
   ]
  },
  {
   "cell_type": "code",
   "execution_count": 42,
   "id": "76714778",
   "metadata": {},
   "outputs": [
    {
     "name": "stdout",
     "output_type": "stream",
     "text": [
      "Employee Name is: Sachin\n",
      "Company Name is: Capegemini\n",
      "Employee ID is: TCS001\n",
      "********************************\n"
     ]
    }
   ],
   "source": [
    "class EmployeeDetails:\n",
    "    __company_name = \"TCS\"  # Private Class Variable\n",
    "    \n",
    "    def __init__(self, name, emp_id):\n",
    "        self.__name = name   # Instance Variable\n",
    "        self.emp_id = emp_id\n",
    "        \n",
    "    def __employee_id(self):  # Private Method\n",
    "        print(\"Employee ID is:\", self.emp_id)\n",
    "        \n",
    "    def emp_details(self):\n",
    "        print(\"Employee Name is:\", self.__name)\n",
    "        print(\"Company Name is:\", self.__company_name)\n",
    "        self.__employee_id()   # We can acess here inside the class\n",
    "        print(\"********************************\")\n",
    "        \n",
    "EmpObj = EmployeeDetails(\"Sachin\", \"TCS001\")\n",
    "\n",
    "EmpObj._EmployeeDetails__company_name = \"Capegemini\"\n",
    "\n",
    "# EmpObj.emp_details()\n"
   ]
  },
  {
   "cell_type": "code",
   "execution_count": null,
   "id": "b08a4608",
   "metadata": {},
   "outputs": [],
   "source": []
  }
 ],
 "metadata": {
  "kernelspec": {
   "display_name": "Python 3 (ipykernel)",
   "language": "python",
   "name": "python3"
  },
  "language_info": {
   "codemirror_mode": {
    "name": "ipython",
    "version": 3
   },
   "file_extension": ".py",
   "mimetype": "text/x-python",
   "name": "python",
   "nbconvert_exporter": "python",
   "pygments_lexer": "ipython3",
   "version": "3.12.7"
  }
 },
 "nbformat": 4,
 "nbformat_minor": 5
}
