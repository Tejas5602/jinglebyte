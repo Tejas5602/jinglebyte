{
 "cells": [
  {
   "cell_type": "code",
   "execution_count": null,
   "id": "d4fa44f7-2225-484c-b6ba-d70eb5eb1446",
   "metadata": {},
   "outputs": [],
   "source": [
    "global_var=\"Python and data science\"\n",
    "class className():\n",
    "    class_variable1=100\n",
    "    class_variable2=200\n",
    "    \n",
    "    def__init__(self):\n",
    "    \n",
    "    print(\"@@@@@ @@@@@ @@@@\")\n",
    "    print(\"We are init method\")\n",
    "    self.x=1000\n",
    "    self.y=5000\n",
    "\n",
    "    def my_method(self,value)\n",
    "    print()\n",
    "    print(\"***** ** *My_method * *  ****\")\n",
    "    print(\"value\",value)\n",
    "    \n",
    "    self.nation=\"india\"\n",
    "    \n",
    "    print(\"class variable1\",self class_variable)\n",
    "    print(\"global_variable--->\",global_var)\n",
    "    print(\"x--->\",self.x)\n",
    "    \n",
    "    def my_method(self):\n",
    "        print()\n",
    "        print(\"----------my_method-----\")\n",
    "        self.my_method(\"data\")\n",
    "        print(\"Nation:\",self_nation)\n",
    "\n",
    "obj\n",
    "        \n",
    "    "
   ]
  },
  {
   "cell_type": "code",
   "execution_count": null,
   "id": "90e4913b-a56d-4da2-bc8f-8e5fe25bc188",
   "metadata": {},
   "outputs": [],
   "source": []
  },
  {
   "cell_type": "code",
   "execution_count": null,
   "id": "dc689a7f-175e-4266-a546-519aa2327348",
   "metadata": {},
   "outputs": [],
   "source": []
  },
  {
   "cell_type": "code",
   "execution_count": null,
   "id": "afe43641-8bbd-4862-82a6-924a21d0a3fe",
   "metadata": {},
   "outputs": [],
   "source": []
  },
  {
   "cell_type": "code",
   "execution_count": null,
   "id": "0d65148f-8d3b-4ff8-afad-633c3eafd4f7",
   "metadata": {},
   "outputs": [],
   "source": []
  },
  {
   "cell_type": "code",
   "execution_count": null,
   "id": "b8c9e9d5-1527-4c2b-9983-211dc97af3c4",
   "metadata": {},
   "outputs": [],
   "source": []
  }
 ],
 "metadata": {
  "kernelspec": {
   "display_name": "Python 3 (ipykernel)",
   "language": "python",
   "name": "python3"
  },
  "language_info": {
   "codemirror_mode": {
    "name": "ipython",
    "version": 3
   },
   "file_extension": ".py",
   "mimetype": "text/x-python",
   "name": "python",
   "nbconvert_exporter": "python",
   "pygments_lexer": "ipython3",
   "version": "3.12.7"
  }
 },
 "nbformat": 4,
 "nbformat_minor": 5
}
