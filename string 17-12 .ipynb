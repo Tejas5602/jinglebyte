{
 "cells": [
  {
   "cell_type": "markdown",
   "id": "bb0c3500-c7fd-452a-b95e-add6b6ee1df1",
   "metadata": {},
   "source": [
    "# string slicing"
   ]
  },
  {
   "cell_type": "code",
   "execution_count": 4,
   "id": "9dea16d0-b7de-4c7e-afcf-3a6f39f5ce41",
   "metadata": {},
   "outputs": [
    {
     "data": {
      "text/plain": [
       "'troduction to'"
      ]
     },
     "execution_count": 4,
     "metadata": {},
     "output_type": "execute_result"
    }
   ],
   "source": [
    "a= \"introduction to data science\"\n",
    "a[2:15]  #2 to 13"
   ]
  },
  {
   "cell_type": "code",
   "execution_count": 6,
   "id": "6278e929-2c13-4def-8907-808b0bf12167",
   "metadata": {},
   "outputs": [
    {
     "data": {
      "text/plain": [
       "'ta science'"
      ]
     },
     "execution_count": 6,
     "metadata": {},
     "output_type": "execute_result"
    }
   ],
   "source": [
    "a= \"introduction to data science\"\n",
    "a[len(a)-10:]"
   ]
  },
  {
   "cell_type": "code",
   "execution_count": 10,
   "id": "a0fbd8b6-932f-4c4c-84b5-80b24785bf13",
   "metadata": {},
   "outputs": [
    {
     "data": {
      "text/plain": [
       "'to data science'"
      ]
     },
     "execution_count": 10,
     "metadata": {},
     "output_type": "execute_result"
    }
   ],
   "source": [
    "a= \"introduction to data science\"\n",
    "a[-15:]"
   ]
  },
  {
   "cell_type": "code",
   "execution_count": 12,
   "id": "9a81d71a-042f-4f9d-9df4-d2b3a13c6028",
   "metadata": {},
   "outputs": [
    {
     "name": "stdout",
     "output_type": "stream",
     "text": [
      "neeta\n",
      "NEETA\n"
     ]
    }
   ],
   "source": [
    "a= \"neeta\"\n",
    "b=a.upper()\n",
    "print(a)\n",
    "print(b)"
   ]
  },
  {
   "cell_type": "code",
   "execution_count": null,
   "id": "2977cd9c-a61f-45df-93de-cd1ac083bbb2",
   "metadata": {},
   "outputs": [],
   "source": [
    "str1= 'tejas bharat khairmode'\n",
    "i=0\n",
    "while i<=len(str1)-1:\n",
    "    print(str1)"
   ]
  },
  {
   "cell_type": "code",
   "execution_count": null,
   "id": "9cccd8f7-76b9-48cf-8665-3fa65493cd79",
   "metadata": {},
   "outputs": [],
   "source": []
  },
  {
   "cell_type": "markdown",
   "id": "a79948ff-6710-463e-a9fd-2506f922eaa7",
   "metadata": {},
   "source": [
    "# string function"
   ]
  },
  {
   "cell_type": "code",
   "execution_count": null,
   "id": "b2c4b593-c450-48f5-98da-711e5b9006fd",
   "metadata": {},
   "outputs": [],
   "source": [
    "1.capitalize  #its convert in first char  capital case "
   ]
  },
  {
   "cell_type": "code",
   "execution_count": 16,
   "id": "e04571ac-0833-4bfc-b3a3-7bb6b7e8b216",
   "metadata": {},
   "outputs": [
    {
     "name": "stdout",
     "output_type": "stream",
     "text": [
      "Python\n"
     ]
    }
   ],
   "source": [
    "a= \"python\"\n",
    "b=a.capitalize()\n",
    "print(b)"
   ]
  },
  {
   "cell_type": "code",
   "execution_count": null,
   "id": "830bc5dc-d569-4bf6-a88d-66715ed01d4b",
   "metadata": {},
   "outputs": [],
   "source": [
    "2.title case #  string into title case every word in upper case."
   ]
  },
  {
   "cell_type": "code",
   "execution_count": 18,
   "id": "4b6153e3-2ef5-417d-83ea-6bfaae48d1bf",
   "metadata": {},
   "outputs": [
    {
     "name": "stdout",
     "output_type": "stream",
     "text": [
      "Mitchell Starc Was Left Frustrated By The Constant Rain Breaks And Was Seen Arguing With The Umpire As The Players Were Forced To Leave\n"
     ]
    }
   ],
   "source": [
    "str1=\"Mitchell Starc was left frustrated by the constant rain breaks and was seen arguing with the umpire as the players were forced to leave\"\n",
    "print(str1.title())"
   ]
  },
  {
   "cell_type": "code",
   "execution_count": 20,
   "id": "72a0c0c9-822b-48ae-a197-4b34e842868e",
   "metadata": {},
   "outputs": [
    {
     "data": {
      "text/plain": [
       "'Virat Kolhi'"
      ]
     },
     "execution_count": 20,
     "metadata": {},
     "output_type": "execute_result"
    }
   ],
   "source": [
    "a=\"virat kolhi\"\n",
    "a.title()"
   ]
  },
  {
   "cell_type": "code",
   "execution_count": null,
   "id": "e7430c82-dae1-4a3e-8e3b-e211dedc31ae",
   "metadata": {},
   "outputs": [],
   "source": [
    "3.Upper # "
   ]
  },
  {
   "cell_type": "code",
   "execution_count": 22,
   "id": "38e5d713-52f6-49ab-b6bb-097a5e734d1c",
   "metadata": {},
   "outputs": [
    {
     "data": {
      "text/plain": [
       "'HI THIS GOOD COURSE'"
      ]
     },
     "execution_count": 22,
     "metadata": {},
     "output_type": "execute_result"
    }
   ],
   "source": [
    "str1=\"hi this good course\"\n",
    "str1.upper()"
   ]
  },
  {
   "cell_type": "code",
   "execution_count": null,
   "id": "435102d5-499e-4825-8fa4-e7900a19020e",
   "metadata": {},
   "outputs": [],
   "source": [
    "4. Lower case #"
   ]
  },
  {
   "cell_type": "code",
   "execution_count": 28,
   "id": "dfb5b0b3-cf86-4cc9-8bb4-a3f6aae8819b",
   "metadata": {},
   "outputs": [
    {
     "name": "stdout",
     "output_type": "stream",
     "text": [
      "both are matching\n"
     ]
    }
   ],
   "source": [
    "pan_card_name= \"virat kohli\"\n",
    "aadhar_card=\"VIRAT KOHLI\"\n",
    "if pan_card_name.upper()==aadhar_card.upper():\n",
    "    print(\"both are matching\")\n",
    "else:\n",
    "    print(\"not matching\")"
   ]
  },
  {
   "cell_type": "code",
   "execution_count": 33,
   "id": "fc9a312f-093a-469f-b28a-aecb2e7c3602",
   "metadata": {},
   "outputs": [
    {
     "name": "stdout",
     "output_type": "stream",
     "text": [
      "both are matching\n"
     ]
    }
   ],
   "source": [
    "pan_card_name= \"virat kohli\"\n",
    "aadhar_card=\"VIRAT KOHLI\"\n",
    "if pan_card_name.lower()==aadhar_card.lower():\n",
    "    print(\"both are matching\")\n",
    "else:\n",
    "    print(\"not matching\")"
   ]
  },
  {
   "cell_type": "code",
   "execution_count": null,
   "id": "caec0103-aa72-495c-8d42-fefc252b745f",
   "metadata": {},
   "outputs": [],
   "source": [
    "5.lstrip() # it remove leading white spaces"
   ]
  },
  {
   "cell_type": "code",
   "execution_count": 35,
   "id": "554066a6-1d63-460d-9500-f58388d1e018",
   "metadata": {},
   "outputs": [
    {
     "data": {
      "text/plain": [
       "'united kingdom'"
      ]
     },
     "execution_count": 35,
     "metadata": {},
     "output_type": "execute_result"
    }
   ],
   "source": [
    "country_name=\"united kingdom\"\n",
    "country_name.rstrip()"
   ]
  },
  {
   "cell_type": "code",
   "execution_count": 39,
   "id": "8d17ba79-db61-42f7-8d0f-80efe0334a53",
   "metadata": {},
   "outputs": [
    {
     "data": {
      "text/plain": [
       "'united kingdom               '"
      ]
     },
     "execution_count": 39,
     "metadata": {},
     "output_type": "execute_result"
    }
   ],
   "source": [
    "country_name=\"united kingdom               \"\n",
    "country_name.lstrip()"
   ]
  },
  {
   "cell_type": "code",
   "execution_count": 41,
   "id": "bfa72670-1ac1-4e0c-b4c0-fa0e20cbbaf0",
   "metadata": {},
   "outputs": [
    {
     "data": {
      "text/plain": [
       "'              united kingdom'"
      ]
     },
     "execution_count": 41,
     "metadata": {},
     "output_type": "execute_result"
    }
   ],
   "source": [
    "country_name=\"              united kingdom\"\n",
    "country_name.rstrip()"
   ]
  },
  {
   "cell_type": "code",
   "execution_count": null,
   "id": "44c88aaf-4cac-410b-8b4b-46222dbca930",
   "metadata": {},
   "outputs": [],
   "source": [
    "6.strip#"
   ]
  },
  {
   "cell_type": "code",
   "execution_count": 45,
   "id": "e4c9179d-0705-4d77-b97f-a258107a4705",
   "metadata": {},
   "outputs": [
    {
     "data": {
      "text/plain": [
       "'united kingdom'"
      ]
     },
     "execution_count": 45,
     "metadata": {},
     "output_type": "execute_result"
    }
   ],
   "source": [
    "country_name=\"    united kingdom\"\n",
    "country_name.strip()"
   ]
  },
  {
   "cell_type": "code",
   "execution_count": null,
   "id": "889a5e67-8249-472d-9fc2-c9c760595410",
   "metadata": {},
   "outputs": [],
   "source": [
    "7.Swapcase # lower>>upper \n",
    "             upper>> lower"
   ]
  },
  {
   "cell_type": "code",
   "execution_count": 47,
   "id": "fa1d512c-9f80-411b-ad2f-7265b6d32878",
   "metadata": {},
   "outputs": [
    {
     "data": {
      "text/plain": [
       "'PYTHONand dATa SCIENCe'"
      ]
     },
     "execution_count": 47,
     "metadata": {},
     "output_type": "execute_result"
    }
   ],
   "source": [
    "s=\"pythonAND DatA sciencE\"\n",
    "s.swapcase()"
   ]
  },
  {
   "cell_type": "code",
   "execution_count": null,
   "id": "42950e76-67ab-4565-bcd6-8f45f1255601",
   "metadata": {},
   "outputs": [],
   "source": [
    "9.replace()\n",
    "syntax: string.replace(old_str,new_str,[count])   #count is optional"
   ]
  },
  {
   "cell_type": "code",
   "execution_count": 49,
   "id": "c7aaf107-6428-4045-84e1-8a3f1e3bfc34",
   "metadata": {},
   "outputs": [
    {
     "data": {
      "text/plain": [
       "'python data science'"
      ]
     },
     "execution_count": 49,
     "metadata": {},
     "output_type": "execute_result"
    }
   ],
   "source": [
    "str1= \"python class\"\n",
    "str2=str1.replace(\"class\",\"data science\")\n",
    "str2"
   ]
  },
  {
   "cell_type": "code",
   "execution_count": 51,
   "id": "3a989d20-85ad-409e-86e9-e4502723595c",
   "metadata": {},
   "outputs": [
    {
     "data": {
      "text/plain": [
       "' python  class'"
      ]
     },
     "execution_count": 51,
     "metadata": {},
     "output_type": "execute_result"
    }
   ],
   "source": [
    "str1= \"         python          class\"\n",
    "str2=str1.replace(\"    \",\"\")\n",
    "str2"
   ]
  },
  {
   "cell_type": "code",
   "execution_count": null,
   "id": "a3f4aaa6-c75e-423f-bf02-f7b92963b0f3",
   "metadata": {},
   "outputs": [],
   "source": [
    "10.count()\n",
    "# count of occurances\n",
    "synatx: string.count(substring,start_index,end_index)\n"
   ]
  },
  {
   "cell_type": "code",
   "execution_count": 53,
   "id": "d32c1817-fa06-47ee-9c75-ec17c59a7688",
   "metadata": {},
   "outputs": [
    {
     "data": {
      "text/plain": [
       "2"
      ]
     },
     "execution_count": 53,
     "metadata": {},
     "output_type": "execute_result"
    }
   ],
   "source": [
    "string= \"Hello Python\"\n",
    "string.count(\"l\")"
   ]
  },
  {
   "cell_type": "code",
   "execution_count": 55,
   "id": "6ea536fe-7d6e-441b-b104-0de11a3b8a5d",
   "metadata": {},
   "outputs": [
    {
     "data": {
      "text/plain": [
       "2"
      ]
     },
     "execution_count": 55,
     "metadata": {},
     "output_type": "execute_result"
    }
   ],
   "source": [
    "\n",
    "string= \"Hello Python\"\n",
    "string.count(\"o\")"
   ]
  },
  {
   "cell_type": "code",
   "execution_count": 59,
   "id": "693ae448-d9c1-4734-a465-3f8bf0650887",
   "metadata": {},
   "outputs": [
    {
     "data": {
      "text/plain": [
       "1"
      ]
     },
     "execution_count": 59,
     "metadata": {},
     "output_type": "execute_result"
    }
   ],
   "source": [
    "string=\"Hello Learning\"\n",
    "string.count(\"L\")"
   ]
  },
  {
   "cell_type": "code",
   "execution_count": null,
   "id": "028608c2-ca5e-4e2b-bdb7-0e1085a5962e",
   "metadata": {},
   "outputs": [],
   "source": [
    "11.Index()\n",
    "#return first index of char /string "
   ]
  },
  {
   "cell_type": "code",
   "execution_count": 63,
   "id": "2279edf1-21ad-4d54-8903-85c91a6321ba",
   "metadata": {},
   "outputs": [
    {
     "data": {
      "text/plain": [
       "6"
      ]
     },
     "execution_count": 63,
     "metadata": {},
     "output_type": "execute_result"
    }
   ],
   "source": [
    "string=\"hello word\"\n",
    "string.index(\"w\")"
   ]
  },
  {
   "cell_type": "code",
   "execution_count": 65,
   "id": "fe7b67c5-d80a-4f31-b817-3a402bca1c61",
   "metadata": {},
   "outputs": [
    {
     "data": {
      "text/plain": [
       "6"
      ]
     },
     "execution_count": 65,
     "metadata": {},
     "output_type": "execute_result"
    }
   ],
   "source": [
    "string=\"hello word\"\n",
    "string.index(\"word\")"
   ]
  },
  {
   "cell_type": "code",
   "execution_count": 71,
   "id": "9639836f-594b-47ee-ae38-964ec0de10bd",
   "metadata": {},
   "outputs": [
    {
     "data": {
      "text/plain": [
       "13"
      ]
     },
     "execution_count": 71,
     "metadata": {},
     "output_type": "execute_result"
    }
   ],
   "source": [
    "string=\"hello python python python\"\n",
    "string.index(\"python\",13,19)"
   ]
  },
  {
   "cell_type": "code",
   "execution_count": 73,
   "id": "2a02bd17-7475-43cb-a1ab-cc2b53dcec52",
   "metadata": {},
   "outputs": [
    {
     "data": {
      "text/plain": [
       "'python'"
      ]
     },
     "execution_count": 73,
     "metadata": {},
     "output_type": "execute_result"
    }
   ],
   "source": [
    "string[13:19]"
   ]
  },
  {
   "cell_type": "code",
   "execution_count": null,
   "id": "686e0ccf-383e-45dc-973b-04a2c8f72c72",
   "metadata": {},
   "outputs": [],
   "source": [
    "12.Find()\n",
    "#same as index\n",
    "#substring not found it return -1\n"
   ]
  },
  {
   "cell_type": "code",
   "execution_count": 79,
   "id": "a40205e9-7095-482c-94cd-36702ffecfe5",
   "metadata": {},
   "outputs": [
    {
     "data": {
      "text/plain": [
       "6"
      ]
     },
     "execution_count": 79,
     "metadata": {},
     "output_type": "execute_result"
    }
   ],
   "source": [
    "string=\"Hello python\"\n",
    "string.find(\"python\")"
   ]
  },
  {
   "cell_type": "code",
   "execution_count": 81,
   "id": "e2f6a92f-4436-478a-a0ec-fc1d6968c5b1",
   "metadata": {},
   "outputs": [
    {
     "data": {
      "text/plain": [
       "-1"
      ]
     },
     "execution_count": 81,
     "metadata": {},
     "output_type": "execute_result"
    }
   ],
   "source": [
    "string =\"machine learning\"\n",
    "# j = string .index (\"python\")\n",
    "j= string.find(\"python\")\n",
    "j"
   ]
  },
  {
   "cell_type": "code",
   "execution_count": null,
   "id": "fa6be2e2-d25d-4482-a760-60a489da536c",
   "metadata": {},
   "outputs": [],
   "source": [
    "# 13.split()\n",
    "convert to string into list"
   ]
  },
  {
   "cell_type": "code",
   "execution_count": 83,
   "id": "e2b03652-134a-4573-838e-6c7b151da853",
   "metadata": {},
   "outputs": [
    {
     "name": "stdout",
     "output_type": "stream",
     "text": [
      "['Learn', 'about', 'the', 'history', 'and', 'role', 'of', 'the', 'governor', 'of', 'the', 'Reserve', 'Bank', 'of', 'India,', 'the', 'central', 'bank', 'of', 'India.', 'See', 'the', 'names,', 'terms,', 'and', 'achievements', 'of', 'the', '25', 'governors', 'since', '1935,', 'including', 'the', 'current', 'one', 'Shaktikanta', 'Das.']\n"
     ]
    }
   ],
   "source": [
    "a=\"Learn about the history and role of the governor of the Reserve Bank of India, the central bank of India. See the names, terms, and achievements of the 25 governors since 1935, including the current one Shaktikanta Das.\"\n",
    "b=a.split()\n",
    "print(b)"
   ]
  },
  {
   "cell_type": "code",
   "execution_count": 87,
   "id": "62b5fa7f-19c2-4cee-aa1a-0ede2b12d5e0",
   "metadata": {},
   "outputs": [
    {
     "name": "stdout",
     "output_type": "stream",
     "text": [
      "['Learn about ', ' history and role of ', ' governor of ', ' Reserve Bank of India, ', ' central bank of India. See ', ' names, terms, and achievements of ', ' 25 governors since 1935, including ', ' current one Shaktikanta Das.']\n"
     ]
    }
   ],
   "source": [
    "a=\"Learn about the history and role of the governor of the Reserve Bank of India, the central bank of India. See the names, terms, and achievements of the 25 governors since 1935, including the current one Shaktikanta Das.\"\n",
    "b=a.split(\"the\")\n",
    "print(b)"
   ]
  },
  {
   "cell_type": "code",
   "execution_count": null,
   "id": "a774fd79-6dc8-4e0d-9375-e0871f870815",
   "metadata": {},
   "outputs": [],
   "source": [
    "# 14 join.()\n",
    "convert into list to atring"
   ]
  },
  {
   "cell_type": "code",
   "execution_count": 1,
   "id": "017457aa-da35-4783-86bf-28db4813271f",
   "metadata": {},
   "outputs": [
    {
     "name": "stdout",
     "output_type": "stream",
     "text": [
      "['Learn about ', ' history and role of ', ' governor of ', ' Reserve Bank of India, ', ' central bank of India. See ', ' names, terms, and achievements of ', ' 25 governors since 1935, including ', ' current one Shaktikanta Das.']\n"
     ]
    }
   ],
   "source": [
    "a=\"Learn about the history and role of the governor of the Reserve Bank of India, the central bank of India. See the names, terms, and achievements of the 25 governors since 1935, including the current one Shaktikanta Das.\"\n",
    "b=a.split(\"the\")\n",
    "print(b)"
   ]
  },
  {
   "cell_type": "code",
   "execution_count": 3,
   "id": "f275edd5-d5ae-4585-9e8b-cf2b0ce8eacf",
   "metadata": {},
   "outputs": [
    {
     "data": {
      "text/plain": [
       "'Learn about   history and role of   governor of   Reserve Bank of India,   central bank of India. See   names, terms, and achievements of   25 governors since 1935, including   current one Shaktikanta Das.'"
      ]
     },
     "execution_count": 3,
     "metadata": {},
     "output_type": "execute_result"
    }
   ],
   "source": [
    "result=\" \".join(b)\n",
    "result"
   ]
  },
  {
   "cell_type": "markdown",
   "id": "70f203f0-5de0-462b-90bf-6f8af7c9cfd4",
   "metadata": {},
   "source": [
    "# 15.endswith()\n",
    "end with particular char."
   ]
  },
  {
   "cell_type": "code",
   "execution_count": 7,
   "id": "500e4439-bef1-4df9-8ca6-b02665711677",
   "metadata": {},
   "outputs": [
    {
     "data": {
      "text/plain": [
       "True"
      ]
     },
     "execution_count": 7,
     "metadata": {},
     "output_type": "execute_result"
    }
   ],
   "source": [
    " result=\"High Time Somebody From NCA Talks About Rohit Sharma Vents His Frustration On Mohammed Shami Injury Saga\"\n",
    "result.endswith(\"Saga\")"
   ]
  },
  {
   "cell_type": "code",
   "execution_count": 11,
   "id": "b77c1b8e-08a6-46a4-b010-e1e246eab96c",
   "metadata": {},
   "outputs": [
    {
     "data": {
      "text/plain": [
       "False"
      ]
     },
     "execution_count": 11,
     "metadata": {},
     "output_type": "execute_result"
    }
   ],
   "source": [
    " result=\"High Time Somebody From NCA Talks About Rohit Sharma Vents His Frustration On Mohammed Shami Injury Saga\"\n",
    "result.endswith(\"gasds\")"
   ]
  },
  {
   "cell_type": "code",
   "execution_count": null,
   "id": "2d7ae36c-e333-4ad3-864b-49a2baa4f6c4",
   "metadata": {},
   "outputs": [],
   "source": [
    "# 17.startswith()\n",
    "starts with perticluar char"
   ]
  },
  {
   "cell_type": "code",
   "execution_count": 13,
   "id": "471a9446-3556-46e1-9ca6-f74375b0a482",
   "metadata": {},
   "outputs": [
    {
     "data": {
      "text/plain": [
       "False"
      ]
     },
     "execution_count": 13,
     "metadata": {},
     "output_type": "execute_result"
    }
   ],
   "source": [
    " result=\"High Time Somebody From NCA Talks About Rohit Sharma Vents His Frustration On Mohammed Shami Injury Saga\"\n",
    "result.startswith(\"gasds\")"
   ]
  },
  {
   "cell_type": "code",
   "execution_count": 17,
   "id": "665edaf5-e8d2-4bd4-99d7-4d6b60e1cc47",
   "metadata": {},
   "outputs": [
    {
     "data": {
      "text/plain": [
       "True"
      ]
     },
     "execution_count": 17,
     "metadata": {},
     "output_type": "execute_result"
    }
   ],
   "source": [
    " result=\"High Time Somebody From NCA Talks About Rohit Sharma Vents His Frustration On Mohammed Shami Injury Saga\"\n",
    "result.startswith(\"High\")"
   ]
  },
  {
   "cell_type": "code",
   "execution_count": null,
   "id": "25fdf08e-74ec-44e9-8388-56a940eb56b0",
   "metadata": {},
   "outputs": [],
   "source": [
    "#18. isalnum ()\n",
    " alphanumeric----> alphabates and numeric\n",
    "[a-z],[A-Z],[0-9]\n",
    "not allow special character and space."
   ]
  },
  {
   "cell_type": "code",
   "execution_count": 19,
   "id": "167ee7b0-d289-40fa-b975-cdfa06081dd5",
   "metadata": {},
   "outputs": [
    {
     "data": {
      "text/plain": [
       "True"
      ]
     },
     "execution_count": 19,
     "metadata": {},
     "output_type": "execute_result"
    }
   ],
   "source": [
    "string=\"tejaskhairmode986\"\n",
    "string.isalnum()"
   ]
  },
  {
   "cell_type": "code",
   "execution_count": 21,
   "id": "b975e957-640b-4a6f-b68d-7b18f630838f",
   "metadata": {},
   "outputs": [
    {
     "data": {
      "text/plain": [
       "False"
      ]
     },
     "execution_count": 21,
     "metadata": {},
     "output_type": "execute_result"
    }
   ],
   "source": [
    "string=\"tejas khairmode986\"\n",
    "string.isalnum()"
   ]
  },
  {
   "cell_type": "code",
   "execution_count": null,
   "id": "00285deb-5b7a-4238-a119-7ec3d8509564",
   "metadata": {},
   "outputs": [],
   "source": [
    "# 19.isalpha()\n",
    "true all char contain only alphabet\n",
    "not allow special and space.\n"
   ]
  },
  {
   "cell_type": "code",
   "execution_count": 23,
   "id": "87b05823-8782-427b-a51e-b513e6584cb3",
   "metadata": {},
   "outputs": [
    {
     "data": {
      "text/plain": [
       "False"
      ]
     },
     "execution_count": 23,
     "metadata": {},
     "output_type": "execute_result"
    }
   ],
   "source": [
    "string=\"tejas khairmode986\"\n",
    "string.isalpha()"
   ]
  },
  {
   "cell_type": "code",
   "execution_count": 27,
   "id": "2624a3da-eea7-47df-bedf-e432845bf928",
   "metadata": {},
   "outputs": [
    {
     "data": {
      "text/plain": [
       "True"
      ]
     },
     "execution_count": 27,
     "metadata": {},
     "output_type": "execute_result"
    }
   ],
   "source": [
    "string=\"tejaskhairmode\"\n",
    "string.isalpha()"
   ]
  },
  {
   "cell_type": "code",
   "execution_count": null,
   "id": "33145bf3-5c60-40b7-a863-7c3b6b878d41",
   "metadata": {},
   "outputs": [],
   "source": [
    "20.isdecimal\n",
    "string contain only dugits and number\n",
    "not allow special and space.\n",
    "exception is unicodes for 0 to 9."
   ]
  },
  {
   "cell_type": "code",
   "execution_count": 31,
   "id": "017df4de-573c-493d-8511-ae1b8a2df0b8",
   "metadata": {},
   "outputs": [
    {
     "data": {
      "text/plain": [
       "True"
      ]
     },
     "execution_count": 31,
     "metadata": {},
     "output_type": "execute_result"
    }
   ],
   "source": [
    "a=\"\\u0030\"    # unicode for 0\n",
    "a.isdecimal()"
   ]
  },
  {
   "cell_type": "code",
   "execution_count": 33,
   "id": "fd96e488-079d-43cd-9671-61dce453edb9",
   "metadata": {},
   "outputs": [
    {
     "data": {
      "text/plain": [
       "True"
      ]
     },
     "execution_count": 33,
     "metadata": {},
     "output_type": "execute_result"
    }
   ],
   "source": [
    "a=\"69876464\"\n",
    "a.isdecimal()"
   ]
  },
  {
   "cell_type": "code",
   "execution_count": null,
   "id": "4d73911d-588c-489d-8753-55b1b400e5dd",
   "metadata": {},
   "outputs": [],
   "source": [
    "20. isdigit()\n"
   ]
  },
  {
   "cell_type": "code",
   "execution_count": null,
   "id": "1ff34d48-866e-4f8c-b6b2-13c68ae9295c",
   "metadata": {},
   "outputs": [],
   "source": [
    "21.isnumeric()"
   ]
  },
  {
   "cell_type": "code",
   "execution_count": 35,
   "id": "a385c8ea-4fad-4cba-ae80-c9aefe0e411d",
   "metadata": {},
   "outputs": [
    {
     "data": {
      "text/plain": [
       "True"
      ]
     },
     "execution_count": 35,
     "metadata": {},
     "output_type": "execute_result"
    }
   ],
   "source": [
    "string=\"\\u00BD\"   # VULGER FUNCTION OF 2\n",
    "string.isnumeric()"
   ]
  },
  {
   "cell_type": "code",
   "execution_count": null,
   "id": "b17e74bb-3bb5-46bb-8410-37984cae15d6",
   "metadata": {},
   "outputs": [],
   "source": [
    "22.ISUPPER()"
   ]
  },
  {
   "cell_type": "code",
   "execution_count": null,
   "id": "51a5649f-ccde-4555-b2a8-1b84f3617c29",
   "metadata": {},
   "outputs": [],
   "source": [
    "23.ISLOWER()"
   ]
  },
  {
   "cell_type": "code",
   "execution_count": null,
   "id": "2e83df54-b162-4f43-9bc8-cab76b080c3a",
   "metadata": {},
   "outputs": [],
   "source": [
    "24.ISTITLE()"
   ]
  },
  {
   "cell_type": "code",
   "execution_count": null,
   "id": "88ec5482-9896-45b9-829f-cd19b3b0ea98",
   "metadata": {},
   "outputs": [],
   "source": [
    "26.ISSPACE()"
   ]
  },
  {
   "cell_type": "code",
   "execution_count": null,
   "id": "6c135e7d-b5de-4e6a-8a90-a382ad4d31d7",
   "metadata": {},
   "outputs": [],
   "source": []
  },
  {
   "cell_type": "code",
   "execution_count": null,
   "id": "8084aad1-8e97-4962-8141-b9ea95382eb5",
   "metadata": {},
   "outputs": [],
   "source": []
  },
  {
   "cell_type": "code",
   "execution_count": null,
   "id": "f1a33c32-263c-4a20-a37c-f8143db5cc6d",
   "metadata": {},
   "outputs": [],
   "source": []
  }
 ],
 "metadata": {
  "kernelspec": {
   "display_name": "Python 3 (ipykernel)",
   "language": "python",
   "name": "python3"
  },
  "language_info": {
   "codemirror_mode": {
    "name": "ipython",
    "version": 3
   },
   "file_extension": ".py",
   "mimetype": "text/x-python",
   "name": "python",
   "nbconvert_exporter": "python",
   "pygments_lexer": "ipython3",
   "version": "3.12.7"
  }
 },
 "nbformat": 4,
 "nbformat_minor": 5
}
