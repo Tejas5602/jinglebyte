{
 "cells": [
  {
   "cell_type": "markdown",
   "id": "6f48c75c",
   "metadata": {},
   "source": [
    "# Regular Expression"
   ]
  },
  {
   "cell_type": "code",
   "execution_count": null,
   "id": "632a1f5c",
   "metadata": {},
   "outputs": [],
   "source": [
    "import re\n",
    "\n",
    "re >> regex >> Regular Expression\n",
    "\n",
    "Used for Text Processing (Text Cleaning)\n",
    "text contains particular pattern, you can exctract that particular text."
   ]
  },
  {
   "cell_type": "code",
   "execution_count": null,
   "id": "b9df0369",
   "metadata": {},
   "outputs": [],
   "source": [
    "PAN Card -->   ABDRT5478D  --> 5 Alphabets, 4 Numbers, Last Alphabet\n",
    "    PAN CARD NUMBER\n",
    "    Name of PANcard holder\n",
    "    Father Name\n",
    "    DOB\n",
    "\n",
    "Aadhar Card --> 4578 6548 4125\n",
    "    Aadhar Number\n",
    "    DOB\n",
    "    Address\n",
    "    Gender\n",
    "    Name\n",
    "    \n",
    "\n",
    "Natural Language Processing --> Having text data"
   ]
  },
  {
   "cell_type": "markdown",
   "id": "37c7251b",
   "metadata": {},
   "source": [
    "# Regular Expression Functions"
   ]
  },
  {
   "cell_type": "code",
   "execution_count": null,
   "id": "e59af209",
   "metadata": {},
   "outputs": [],
   "source": [
    "import re\n",
    "\n",
    "1. findall()\n",
    "2. sub()\n",
    "3. match\n",
    "4. search()\n",
    "5. compile()\n",
    "6. split()"
   ]
  },
  {
   "cell_type": "markdown",
   "id": "4250206b",
   "metadata": {},
   "source": [
    "## 1. findall()"
   ]
  },
  {
   "cell_type": "code",
   "execution_count": null,
   "id": "36113cfd",
   "metadata": {},
   "outputs": [],
   "source": [
    "Returns list of containing matches in the string.\n",
    "\n",
    "Syntax:\n",
    "    list1 = re.findall(pattern, text)"
   ]
  },
  {
   "cell_type": "code",
   "execution_count": 1,
   "id": "69abd4d5-e6d4-49e5-908e-bc2a6b63c6a9",
   "metadata": {},
   "outputs": [],
   "source": [
    "import re\n",
    "\n",
    "[0-9]{10}"
   ]
  },
  {
   "cell_type": "code",
   "execution_count": 7,
   "id": "1de1bdea",
   "metadata": {},
   "outputs": [
    {
     "name": "stdout",
     "output_type": "stream",
     "text": [
      "['9784512564', '9874561247']\n"
     ]
    }
   ],
   "source": [
    "import re\n",
    "\n",
    "text = \"\"\" Mobile Number is: \n",
    "            9784512564\n",
    "            9874561247\n",
    "            Email ID: rohitsharma45@gmail.com\n",
    "            Todays Date: 02-03-2023 \"\"\"\n",
    "\n",
    "\n",
    "# Pattern --> 10 digit\n",
    "# [0-9] --> Pattern\n",
    "# {10} --> No. of occurance\n",
    "\n",
    "mobile_num = re.findall(\"[0-9]{10}\", text)\n",
    "print(mobile_num)"
   ]
  },
  {
   "cell_type": "code",
   "execution_count": 2,
   "id": "94c8c741-c964-4c9d-9cb1-d6bf2b106fd2",
   "metadata": {},
   "outputs": [
    {
     "name": "stdout",
     "output_type": "stream",
     "text": [
      "['9', '7', '8', '4', '5', '1', '2', '5', '6', '4', '9', '8', '7', '4', '5', '6', '1', '2', '4', '7', '4', '5', '0', '2', '0', '3', '2', '0', '2', '3']\n"
     ]
    }
   ],
   "source": [
    "import re\n",
    "\n",
    "text = \"\"\" Mobile Number is: \n",
    "            9784512564\n",
    "            9874561247\n",
    "            Email ID: rohitsharma45@gmail.com\n",
    "            Todays Date: 02-03-2023 \"\"\"\n",
    "\n",
    "\n",
    "# Pattern --> 10 digit\n",
    "# [0-9] --> Pattern\n",
    "# {} --> No. of occurance = 1\n",
    "\n",
    "mobile_num = re.findall(\"[0-9]\", text)\n",
    "print(mobile_num)"
   ]
  },
  {
   "cell_type": "code",
   "execution_count": 1,
   "id": "14653ac5",
   "metadata": {},
   "outputs": [
    {
     "name": "stdout",
     "output_type": "stream",
     "text": [
      "['9784512564', '9874561247']\n"
     ]
    }
   ],
   "source": [
    "import re\n",
    "\n",
    "text = \"\"\" Mobile Number is: \n",
    "            9784512564\n",
    "            9874561247\n",
    "            Email ID: rohitsharma45@gmail.com\n",
    "            Todays Date: 02-03-2023 \"\"\"\n",
    "\n",
    "\n",
    "# Pattern --> 10 digit\n",
    "# [0-9] --> Pattern\n",
    "# {} --> No. of occurance = 1\n",
    "\n",
    "mobile_num = re.findall(\"[0-9]{10}\", text)\n",
    "print(mobile_num)"
   ]
  },
  {
   "cell_type": "raw",
   "id": "5ff430df-e933-44f7-a905-82598f4188cf",
   "metadata": {},
   "source": [
    "import re\n",
    "\n",
    "text= \"\"\" Mobile Number is: \n",
    "            9784512564\n",
    "            45664364456456466\n",
    "            9874561247\n",
    "            Email ID: rohitsharma454545@gmail.com\n",
    "            Todays Date: 02-03-2023 \"\"\"\n",
    "\n",
    "\n",
    "mobile_num=re.findall(\"[0-9]{10}\",text)\n",
    "print(mobile_num)"
   ]
  },
  {
   "cell_type": "code",
   "execution_count": 5,
   "id": "61a60dd0",
   "metadata": {},
   "outputs": [
    {
     "name": "stdout",
     "output_type": "stream",
     "text": [
      "['97845', '12564', '98745', '61247']\n"
     ]
    }
   ],
   "source": [
    "import re\n",
    "\n",
    "text = \"\"\" Mobile Number is: \n",
    "            9784512564\n",
    "            9874561247\n",
    "            Email ID: rohitsharma45@gmail.com\n",
    "            Todays Date: 02-03-2023 \"\"\"\n",
    "\n",
    "\n",
    "# Pattern --> 10 digit\n",
    "# [0-9] --> Pattern\n",
    "# {} --> No. of occurance = 1\n",
    "\n",
    "mobile_num = re.findall(\"[0-9]{5}\", text)\n",
    "print(mobile_num)"
   ]
  },
  {
   "cell_type": "code",
   "execution_count": 6,
   "id": "4c011003",
   "metadata": {},
   "outputs": [
    {
     "name": "stdout",
     "output_type": "stream",
     "text": [
      "['9784', '5125', '9874', '5612', '2023']\n"
     ]
    }
   ],
   "source": [
    "import re\n",
    "\n",
    "text = \"\"\" Mobile Number is: \n",
    "            9784512564\n",
    "            9874561247\n",
    "            Email ID: rohitsharma45@gmail.com\n",
    "            Todays Date: 02-03-2023 \"\"\"\n",
    "\n",
    "\n",
    "# Pattern --> 10 digit\n",
    "# [0-9] --> Pattern\n",
    "# {} --> No. of occurance = 1\n",
    "\n",
    "mobile_num = re.findall(\"[0-9]{4}\", text)\n",
    "print(mobile_num)"
   ]
  },
  {
   "cell_type": "code",
   "execution_count": 7,
   "id": "319712fc",
   "metadata": {},
   "outputs": [
    {
     "name": "stdout",
     "output_type": "stream",
     "text": [
      "['97', '84', '51', '25', '64', '98', '74', '56', '12', '47', '45', '02', '03', '20', '23']\n"
     ]
    }
   ],
   "source": [
    "import re\n",
    "\n",
    "text = \"\"\" Mobile Number is: \n",
    "            9784512564\n",
    "            9874561247\n",
    "            Email ID: rohitsharma45@gmail.com\n",
    "            Todays Date: 02-03-2023 \"\"\"\n",
    "\n",
    "\n",
    "# Pattern --> 10 digit\n",
    "# [0-9] --> Pattern\n",
    "# {} --> No. of occurance = 1\n",
    "\n",
    "mobile_num = re.findall(\"[0-9]{2}\", text)\n",
    "print(mobile_num)"
   ]
  },
  {
   "cell_type": "code",
   "execution_count": 11,
   "id": "48adcab6-ef51-45ca-8b85-3ae9c1bbe9cd",
   "metadata": {},
   "outputs": [
    {
     "name": "stdout",
     "output_type": "stream",
     "text": [
      "['9784512564', '3456643644', '9874561247']\n"
     ]
    }
   ],
   "source": [
    "import re\n",
    "\n",
    "text = \"\"\" Mobile Number is: \n",
    "            9784512564345664364456456466\n",
    "            9874561247\n",
    "            Email ID: rohitsharma454545@gmail.com\n",
    "            Todays Date: 02-03-2023 \"\"\"\n",
    "\n",
    "\n",
    "# Pattern --> 10 digit\n",
    "# [0-9] --> Pattern\n",
    "# {} --> No. of occurance = 1\n",
    "\n",
    "mobile_num = re.findall(\"[0-9]{10}\", text)\n",
    "print(mobile_num)"
   ]
  },
  {
   "cell_type": "code",
   "execution_count": 9,
   "id": "b33616c0",
   "metadata": {},
   "outputs": [
    {
     "name": "stdout",
     "output_type": "stream",
     "text": [
      "['9', '7', '8', '4', '5', '1', '2', '5', '6', '4', '9', '8', '7', '4', '5', '6', '1', '2', '4', '7', '4', '5', '0', '2', '0', '3', '2', '0', '2', '3']\n"
     ]
    }
   ],
   "source": [
    "import re\n",
    "\n",
    "text = \"\"\" Mobile Number is: \n",
    "            9784512564\n",
    "            9874561247\n",
    "            Email ID: rohitsharma45@gmail.com\n",
    "            Todays Date: 02-03-2023 \"\"\"\n",
    "\n",
    "\n",
    "# Pattern --> 10 digit\n",
    "# [0-9] --> Pattern\n",
    "# {} --> No. of occurance = 1\n",
    "\n",
    "mobile_num = re.findall(\"[0-9]\", text)   # Bydefault occurance is 1\n",
    "print(mobile_num)"
   ]
  },
  {
   "cell_type": "code",
   "execution_count": 13,
   "id": "b4968524",
   "metadata": {},
   "outputs": [
    {
     "name": "stdout",
     "output_type": "stream",
     "text": [
      "['02-03-2023']\n"
     ]
    }
   ],
   "source": [
    "# Exctract Date\n",
    "import re\n",
    "\n",
    "text = \"\"\" Mobile Number is: \n",
    "            9784512564\n",
    "            9874561247\n",
    "            Email ID: rohitsharma45@gmail.com\n",
    "            Todays Date: 02-03-2023 \"\"\"  #[0-9]{2}[-][0-9]{2}[-][0-9]{4}\n",
    "\n",
    "\n",
    "# Pattern --> 10 digit\n",
    "# [0-9] --> Pattern\n",
    "# {} --> No. of occurance = 1\n",
    "\n",
    "date = re.findall(\"[0-9]{2}[-][0-9]{2}[-][0-9]{4}\", text)   # Bydefault occurance is 1\n",
    "print(date)"
   ]
  },
  {
   "cell_type": "code",
   "execution_count": 19,
   "id": "224a6ac5",
   "metadata": {},
   "outputs": [
    {
     "name": "stdout",
     "output_type": "stream",
     "text": [
      "['02-03-2023', '23-03-2023', '19-12-1984', '24-12-2021']\n"
     ]
    }
   ],
   "source": [
    "# Exctract Date\n",
    "import re\n",
    "\n",
    "text = \"\"\" Mobile Number is: \n",
    "            9784512564\n",
    "            9874561247\n",
    "            Email ID: rohitsharma45@gmail.com\n",
    "            Todays Date: 02-03-2023\n",
    "            23-03-2023\n",
    "            19-12-1984\n",
    "            24-12-2021\n",
    "            24/12/2024\"\"\"\n",
    "\n",
    "\n",
    "# Pattern --> 10 digit\n",
    "# [0-9] --> Pattern\n",
    "# {} --> No. of occurance = 1\n",
    "\n",
    "date = re.findall(\"[0-9]{2}[-][0-9]{2}[-][0-9]{4}\", text)  \n",
    "print(date)"
   ]
  },
  {
   "cell_type": "code",
   "execution_count": 21,
   "id": "93c85524",
   "metadata": {},
   "outputs": [
    {
     "name": "stdout",
     "output_type": "stream",
     "text": [
      "['02-03-2023', '23-03-2023', '19-12-1984', '24-12-2021', '24/05/1965']\n"
     ]
    }
   ],
   "source": [
    "# Exctract Date\n",
    "import re\n",
    "\n",
    "text = \"\"\" Mobile Number is: \n",
    "            9784512564\n",
    "            9874561247\n",
    "            Email ID: rohitsharma45@gmail.com\n",
    "            Todays Date: 02-03-2023\n",
    "            23-03-2023\n",
    "            19-12-1984\n",
    "            24-12-2021\n",
    "            24/05/1965\"\"\"\n",
    "\n",
    "\n",
    "# Pattern --> 10 digit\n",
    "# [0-9] --> Pattern\n",
    "# {} --> No. of occurance = 1\n",
    "\n",
    "date = re.findall(\"[0-9]{2}[-/][0-9]{2}[-/][0-9]{4}\", text)\n",
    "print(date)"
   ]
  },
  {
   "cell_type": "code",
   "execution_count": 27,
   "id": "432f72f8",
   "metadata": {},
   "outputs": [
    {
     "name": "stdout",
     "output_type": "stream",
     "text": [
      "['02-03-2023', '23-03-2023', '19-12-1984', '24-12-2021', '24/05/1965', '14_11_1975', '84-96-2014']\n"
     ]
    }
   ],
   "source": [
    "# Exctract Date\n",
    "import re\n",
    "\n",
    "text = \"\"\" Mobile Number is: \n",
    "            9784512564\n",
    "            9874561247\n",
    "            Email ID: rohitsharma45@gmail.com\n",
    "            Todays Date: 02-03-2023\n",
    "            23-03-2023\n",
    "            19-12-1984\n",
    "            24-12-2021\n",
    "            24/05/1965\n",
    "            14_11_1975 \n",
    "            84-96-2014\"\"\"\n",
    "\n",
    "\n",
    "# Pattern --> 10 digit\n",
    "# [0-9] --> Pattern\n",
    "# {} --> No. of occurance = 1\n",
    "\n",
    "date = re.findall(\"[0-9]{2}[-/_][0-9]{2}[-/_][0-9]{4}\", text)\n",
    "print(date)"
   ]
  },
  {
   "cell_type": "code",
   "execution_count": 25,
   "id": "0059dc9a",
   "metadata": {},
   "outputs": [
    {
     "name": "stdout",
     "output_type": "stream",
     "text": [
      "['02-03-2023', '23-03-2023', '24-12-2021']\n"
     ]
    }
   ],
   "source": [
    "# Exctract Date\n",
    "import re\n",
    "\n",
    "text = \"\"\" Mobile Number is: \n",
    "            9784512564\n",
    "            9874561247\n",
    "            Email ID: rohitsharma45@gmail.com\n",
    "            Todays Date: 02-03-2023\n",
    "            23-03-2023\n",
    "            19-12-1984\n",
    "            24-12-2021\n",
    "            84-96-2012 \"\"\"  # Invalid\n",
    "\n",
    "# 09  --> 0 [0-9]\n",
    "# 10, 11, 12 --> 1 [0-2]  # \n",
    "# 21, 29 --> 2 [0-9]\n",
    "# 30, 31 --> 3 [0-1]\n",
    "# 39\n",
    "\n",
    "date = re.findall(\"[0-3][0-9][-][0-1][0-9][-][2][0][0-9]{2}\", text)\n",
    "print(date)"
   ]
  },
  {
   "cell_type": "code",
   "execution_count": 18,
   "id": "1697ce63",
   "metadata": {},
   "outputs": [
    {
     "name": "stdout",
     "output_type": "stream",
     "text": [
      "['2012-15-04']\n"
     ]
    }
   ],
   "source": [
    "# Exctract Date\n",
    "import re\n",
    "\n",
    "text = \"\"\" Mobile Number is: \n",
    "            9784512564\n",
    "            9874561247\n",
    "            Email ID: rohitsharma45@gmail.com\n",
    "            Todays Date: 02-03-2023\n",
    "            23-03-2023\n",
    "            19-12-1984\n",
    "            24-12-2021\n",
    "            84-96-2012 \n",
    "            2012-15-04 \"\"\"  \n",
    "\n",
    "# 09  --> 0 [0-9]\n",
    "# 10, 11, 12 --> 1 [0-2]  # \n",
    "# 21, 29 --> 2 [0-9]\n",
    "# 30, 31 --> 3 [0-1]\n",
    "# 39\n",
    "\n",
    "date = re.findall(\"[0-9]{4}[-][0-9]{2}[-][0-9]{2}\", text)\n",
    "print(date)"
   ]
  },
  {
   "cell_type": "code",
   "execution_count": 23,
   "id": "9a3b3d50",
   "metadata": {},
   "outputs": [
    {
     "name": "stdout",
     "output_type": "stream",
     "text": [
      "['rohitsharma@gmail.com']\n"
     ]
    }
   ],
   "source": [
    "# Exctract Email\n",
    "import re\n",
    "\n",
    "text = \"\"\" Mobile Number is: \n",
    "            9784512564\n",
    "            9874561247\n",
    "            Email ID: rohitsharma@gmail.com\n",
    "            Todays Date: 02-03-2023\n",
    "            23-03-2023\n",
    "            19-12-1984\n",
    "            24-12-2021\n",
    "            84-96-2012 \n",
    "            2012-15-04 \"\"\"  \n",
    "\n",
    "\n",
    "email = re.findall(\"[a-z]{5,20}[@][a-z]{5}[.][a-z]{3}\", text)\n",
    "print(email)"
   ]
  },
  {
   "cell_type": "code",
   "execution_count": 29,
   "id": "d89f47c6",
   "metadata": {},
   "outputs": [
    {
     "name": "stdout",
     "output_type": "stream",
     "text": [
      "['rohitsharma@gmail.com', 'rohit_sharma@gmail.com', 'rohit-sharma@gmail.com', 'rohitsharma123@gmail.com', 'rohit.sharma123@gmail.com', '123rohit.sharma@gmail.com', 'rohitsharma@hotmail.com', 'rohit.sharma@rediffmail.com', 'rohitsharma@yahoo.com', 'rohitsharma123@yahoo.co.in', 'rohitsharma123@coep.co.in', 'rohitsharma123@vctcpune.com'] 12\n"
     ]
    }
   ],
   "source": [
    "# Exctract Email\n",
    "import re\n",
    "\n",
    "text = \"\"\" \n",
    "            Email ID: \n",
    "            rohitsharma@gmail.com\n",
    "            rohit_sharma@gmail.com\n",
    "            rohit-sharma@gmail.com\n",
    "            rohitsharma123@gmail.com\n",
    "            rohit.sharma123@gmail.com\n",
    "            123rohit.sharma@gmail.com\n",
    "            rohitsharma@hotmail.com\n",
    "            rohit.sharma@rediffmail.com\n",
    "            rohitsharma@yahoo.com\n",
    "            rohitsharma123@yahoo.co.in\n",
    "            rohitsharma123@coep.co.in\n",
    "            rohitsharma123@vctcpune.com\n",
    "            \"\"\"  \n",
    "\n",
    "email = re.findall(\"[0-9a-z_.-]{5,20}[@][a-z.]{5,20}\", text)\n",
    "print(email,len(email))"
   ]
  },
  {
   "cell_type": "code",
   "execution_count": 32,
   "id": "ea7f7560",
   "metadata": {},
   "outputs": [
    {
     "name": "stdout",
     "output_type": "stream",
     "text": [
      "['AGDYA5478I', 'TAJHA4613U', 'SAGIA5478A'] 3\n"
     ]
    }
   ],
   "source": [
    "# Exctract PAN Card\n",
    "import re\n",
    "\n",
    "text = \"\"\" Mobile Number is: \n",
    "            9784512564\n",
    "            9874561247\n",
    "            Email ID: rohitsharma@gmail.com\n",
    "            Todays Date: 02-03-2023\n",
    "            23-03-2023\n",
    "            19-12-1984\n",
    "            24-12-2021\n",
    "            84-96-2012 \n",
    "            2012-15-04 \n",
    "            \n",
    "            AGDYA5478I   # Valid\n",
    "            TAJHA4613U   # Valid\n",
    "            GYIGFU4579   # Invalid\n",
    "            HSDJ45788H   # Invalid\n",
    "            SAGIA5478A   # Valid\n",
    "            \n",
    "            \"\"\"  \n",
    "\n",
    "\n",
    "pan_card = re.findall(\"[A-Z]{5}[0-9]{4}[A-Z]\", text)\n",
    "print(pan_card, len(pan_card))"
   ]
  },
  {
   "cell_type": "code",
   "execution_count": 33,
   "id": "129606e5",
   "metadata": {},
   "outputs": [
    {
     "name": "stdout",
     "output_type": "stream",
     "text": [
      "['SBIN0001234', 'HDFC0004654', 'IICI0002457'] 3\n"
     ]
    }
   ],
   "source": [
    "# Exctract IFSC Number --> \n",
    "# SBIN0001234  --> Total 11 chars --> 1st 4 are Alphabets, remaining 7 are digits\n",
    "\n",
    "\n",
    "import re\n",
    "\n",
    "text = \"\"\" Mobile Number is: \n",
    "            9784512564\n",
    "            9874561247\n",
    "            Email ID: rohitsharma@gmail.com\n",
    "            Todays Date: 02-03-2023\n",
    "            23-03-2023\n",
    "            19-12-1984\n",
    "            24-12-2021\n",
    "            84-96-2012 \n",
    "            2012-15-04 \n",
    "            \n",
    "            AGDYA5478I   # Valid\n",
    "            TAJHA4613U   # Valid\n",
    "            GYIGFU4579   # Invalid\n",
    "            HSDJ45788H   # Invalid\n",
    "            SAGIA5478A   # Valid\n",
    "            \n",
    "            IFSC Code:\n",
    "            SBIN0001234\n",
    "            HDFC0004654587546565\n",
    "            FGDIUSGUISDYIICI0002457\n",
    "            \n",
    "            \"\"\"  \n",
    "\n",
    "\n",
    "pan_card = re.findall(\"[A-Z]{4}[0-9]{7}\", text)\n",
    "print(pan_card, len(pan_card))"
   ]
  },
  {
   "cell_type": "code",
   "execution_count": 34,
   "id": "b9c06fce",
   "metadata": {},
   "outputs": [
    {
     "name": "stdout",
     "output_type": "stream",
     "text": [
      "['1456 8754 8746', '7874 6857 2865', '4515 5485 5422'] 3\n"
     ]
    }
   ],
   "source": [
    "# Exctract Aadhar Number\n",
    "\n",
    "\n",
    "import re\n",
    "\n",
    "text = \"\"\" Mobile Number is: \n",
    "            9784512564\n",
    "            9874561247\n",
    "            Email ID: rohitsharma@gmail.com\n",
    "            Todays Date: 02-03-2023\n",
    "            23-03-2023\n",
    "            19-12-1984\n",
    "            24-12-2021\n",
    "            84-96-2012 \n",
    "            2012-15-04 \n",
    "            \n",
    "            AGDYA5478I   # Valid\n",
    "            TAJHA4613U   # Valid\n",
    "            GYIGFU4579   # Invalid\n",
    "            HSDJ45788H   # Invalid\n",
    "            SAGIA5478A   # Valid\n",
    "            \n",
    "            Aadhar Card:\n",
    "            1456 8754 8746  # Valid\n",
    "            7874 6857 2865  # Valid\n",
    "            454 44885 8555  # InValid\n",
    "            4547 54855554    # InValid\n",
    "            4545 54557 5454   # InValid\n",
    "            4875455 554552 55546554   # InValid\n",
    "            4515 5485 5422    # Valid\n",
    "     \n",
    "            \n",
    "            \"\"\"  \n",
    "\n",
    "\n",
    "pan_card = re.findall(\"[0-9]{4}[ ][0-9]{4}[ ][0-9]{4}\", text)\n",
    "print(pan_card, len(pan_card))"
   ]
  },
  {
   "cell_type": "code",
   "execution_count": 39,
   "id": "10532a42",
   "metadata": {},
   "outputs": [
    {
     "name": "stdout",
     "output_type": "stream",
     "text": [
      "['+91-9784512564', '+91-9874561247'] 2\n"
     ]
    }
   ],
   "source": [
    "# Exctract Mobile number with country code\n",
    "\n",
    "import re\n",
    "\n",
    "text = \"\"\" Mobile Number is: \n",
    "            +91-9784512564\n",
    "            +91-9874561247\n",
    "            Email ID: rohitsharma@gmail.com\n",
    "            Todays Date: 02-03-2023\n",
    "            \"\"\"  \n",
    "\n",
    "\n",
    "mobile_number = re.findall(\"[+91-]{4}[0-9]{10}\", text)\n",
    "print(mobile_number, len(mobile_number))"
   ]
  },
  {
   "cell_type": "markdown",
   "id": "27ffd126",
   "metadata": {},
   "source": [
    "# Special Sequences ==> MetaCharacters"
   ]
  },
  {
   "cell_type": "markdown",
   "id": "48d4bc94",
   "metadata": {},
   "source": [
    "## 1. \\d"
   ]
  },
  {
   "cell_type": "code",
   "execution_count": null,
   "id": "4aea8b5a",
   "metadata": {},
   "outputs": [],
   "source": [
    "\\d >> [0-9]"
   ]
  },
  {
   "cell_type": "code",
   "execution_count": 40,
   "id": "dbd45398",
   "metadata": {},
   "outputs": [
    {
     "name": "stdout",
     "output_type": "stream",
     "text": [
      "['+91-9784512564', '+91-9874561247'] 2\n"
     ]
    }
   ],
   "source": [
    "# Exctract Mobile number with country code\n",
    "\n",
    "import re\n",
    "\n",
    "text = \"\"\" Mobile Number is: \n",
    "            +91-9784512564\n",
    "            +91-9874561247\n",
    "            Email ID: rohitsharma@gmail.com\n",
    "            Todays Date: 02-03-2023\n",
    "            \"\"\"  \n",
    "\n",
    "\n",
    "mobile_number = re.findall(\"[+91-]{4}\\d{10}\", text)\n",
    "print(mobile_number, len(mobile_number))"
   ]
  },
  {
   "cell_type": "code",
   "execution_count": 42,
   "id": "1d55b1ba",
   "metadata": {},
   "outputs": [
    {
     "name": "stdout",
     "output_type": "stream",
     "text": [
      "['1456 8754 8746', '7874 6857 2865', '4515 5485 5422'] 3\n"
     ]
    }
   ],
   "source": [
    "# Exctract Aadhar Number\n",
    "\n",
    "\n",
    "import re\n",
    "\n",
    "text = \"\"\" Mobile Number is: \n",
    "            9784512564\n",
    "            9874561247\n",
    "            Email ID: rohitsharma@gmail.com\n",
    "            Todays Date: 02-03-2022\n",
    "            \n",
    "            Aadhar Card:\n",
    "            1456 8754 8746  # Valid\n",
    "            7874 6857 2865  # Valid\n",
    "            454 44885 8555  # InValid\n",
    "            4547 54855554    # InValid\n",
    "            4545 54557 5454   # InValid\n",
    "            4875455 554552 55546554   # InValid\n",
    "            4515 5485 5422    # Valid\n",
    "     \n",
    "            \n",
    "            \"\"\"  \n",
    "\n",
    "\n",
    "aadhar_card = re.findall(\"[0-9]{4}[ ][0-9]{4}[ ][0-9]{4}\", text)\n",
    "print(aadhar_card, len(aadhar_card))"
   ]
  },
  {
   "cell_type": "code",
   "execution_count": 43,
   "id": "60ac986c",
   "metadata": {},
   "outputs": [
    {
     "name": "stdout",
     "output_type": "stream",
     "text": [
      "['1456 8754 8746', '7874 6857 2865', '4515 5485 5422'] 3\n"
     ]
    }
   ],
   "source": [
    "# Exctract Aadhar Number\n",
    "\n",
    "\n",
    "import re\n",
    "\n",
    "text = \"\"\" Mobile Number is: \n",
    "            9784512564\n",
    "            9874561247\n",
    "            Email ID: rohitsharma@gmail.com\n",
    "            Todays Date: 02-03-2022\n",
    "            \n",
    "            Aadhar Card:\n",
    "            1456 8754 8746  # Valid\n",
    "            7874 6857 2865  # Valid\n",
    "            454 44885 8555  # InValid\n",
    "            4547 54855554    # InValid\n",
    "            4545 54557 5454   # InValid\n",
    "            4875455 554552 55546554   # InValid\n",
    "            4515 5485 5422    # Valid\n",
    "     \n",
    "            \n",
    "            \"\"\"  \n",
    "\n",
    "\n",
    "aadhar_card = re.findall(\"\\d{4}[ ]\\d{4}[ ]\\d{4}\", text)\n",
    "print(aadhar_card, len(aadhar_card))"
   ]
  },
  {
   "cell_type": "markdown",
   "id": "7909265d",
   "metadata": {},
   "source": [
    "## 2. \\D"
   ]
  },
  {
   "cell_type": "code",
   "execution_count": null,
   "id": "35eeb15b",
   "metadata": {},
   "outputs": [],
   "source": [
    "\\D >> except[0-9]\n",
    "\\D >> [^0-9]\n",
    "\n",
    "\n",
    "It may contains alphabets (upper and smaller), special characters, space etc"
   ]
  },
  {
   "cell_type": "code",
   "execution_count": 44,
   "id": "10ebd2db",
   "metadata": {},
   "outputs": [
    {
     "name": "stdout",
     "output_type": "stream",
     "text": [
      "[' ', 'M', 'o', 'b', 'i', 'l', 'e', ' ', 'N', 'u', 'm', 'b', 'e', 'r', ' ', 'i', 's', ':', ' ', '\\n', ' ', ' ', ' ', ' ', ' ', ' ', ' ', ' ', ' ', ' ', ' ', ' ', '+', '-', '\\n', ' ', ' ', ' ', ' ', ' ', ' ', ' ', ' ', ' ', ' ', ' ', ' ', '+', '-', '\\n', ' ', ' ', ' ', ' ', ' ', ' ', ' ', ' ', ' ', ' ', ' ', ' ', 'E', 'm', 'a', 'i', 'l', ' ', 'I', 'D', ':', ' ', 'r', 'o', 'h', 'i', 't', 's', 'h', 'a', 'r', 'm', 'a', '@', 'g', 'm', 'a', 'i', 'l', '.', 'c', 'o', 'm', '\\n', ' ', ' ', ' ', ' ', ' ', ' ', ' ', ' ', ' ', ' ', ' ', ' ', 'T', 'o', 'd', 'a', 'y', 's', ' ', 'D', 'a', 't', 'e', ':', ' ', '-', '-', '\\n', ' ', ' ', ' ', ' ', ' ', ' ', ' ', ' ', ' ', ' ', ' ', ' '] 134\n"
     ]
    }
   ],
   "source": [
    "# Exctract Mobile number with country code\n",
    "\n",
    "import re\n",
    "\n",
    "text = \"\"\" Mobile Number is: \n",
    "            +91-9784512564\n",
    "            +91-9874561247\n",
    "            Email ID: rohitsharma@gmail.com\n",
    "            Todays Date: 02-03-2023\n",
    "            \"\"\"  \n",
    "\n",
    "\n",
    "output = re.findall(\"\\D\", text)   # bydefault occurance is 1\n",
    "print(output, len(output))"
   ]
  },
  {
   "cell_type": "code",
   "execution_count": 45,
   "id": "234981ce",
   "metadata": {},
   "outputs": [
    {
     "name": "stdout",
     "output_type": "stream",
     "text": [
      "[' Mobil', 'e Numb', 'er is:', ' \\n    ', '      ', '\\n     ', '      ', '\\n     ', '      ', ' Email', ' ID: r', 'ohitsh', 'arma@g', 'mail.c', 'om\\n   ', '      ', '   Tod', 'ays Da', '\\n     ', '      '] 20\n"
     ]
    }
   ],
   "source": [
    "# Exctract Mobile number with country code\n",
    "\n",
    "import re\n",
    "\n",
    "text = \"\"\" Mobile Number is: \n",
    "            +91-9784512564\n",
    "            +91-9874561247\n",
    "            Email ID: rohitsharma@gmail.com\n",
    "            Todays Date: 02-03-2023\n",
    "            \"\"\"  \n",
    "\n",
    "\n",
    "output = re.findall(\"\\D{6}\", text)   # bydefault occurance is 1\n",
    "print(output, len(output))"
   ]
  },
  {
   "cell_type": "code",
   "execution_count": 48,
   "id": "b88ee863",
   "metadata": {},
   "outputs": [
    {
     "name": "stdout",
     "output_type": "stream",
     "text": [
      "['M', 'a', 'c', 'h', 'i', 'n', 'e', ' ', 'l', 'e', 'a', 'r', 'n', 'i', 'n', 'g', ' ', 'i', 's', ' ', 'a', ' ', 'b', 'r', 'a', 'n', 'c', 'h', ' ', 'o', 'f', ' ', 'a', 'r', 't', 'i', 'f', 'i', 'c', 'i', 'a', 'l', ' ', ' ', 'i', 'n', 't', 'e', 'l', 'l', 'i', 'g', 'e', 'n', 'c', 'e', ' ', '(', 'A', 'I', ')', ' ', '\\n', 'a', 'n', 'd', ' ', 'c', 'o', 'm', 'p', 'u', 't', 'e', 'r', ' ', 's', 'c', 'i', 'e', 'n', 'c', 'e', ' ', 'w', 'h', 'i', 'c', 'h', ' ', 'f', 'o', 'c', 'u', 's', 'e', 's', ' ', ' ', 'o', 'n', ' ', 't', 'h', 'e', ' ', 'u', 's', 'e', ' ', 'o', 'f', ' ', 'd', 'a', 't', 'a', ' ', 'a', 'n', 'd', ' ', 'a', 'l', 'g', 'o', 'r', 'i', 't', 'h', 'm', 's', ' ', 't', 'o', ' ', 'i', 'm', 'i', 't', 'a', 't', 'e', ' ', 't', 'h', 'e', ' ', 'w', 'a', 'y', ' ', 't', 'h', 'a', 't'] 156\n"
     ]
    },
    {
     "data": {
      "text/plain": [
       "'Machine learning is a branch of artificial  intelligence (AI) \\nand computer science which focuses  on the use of data and algorithms to imitate the way that'"
      ]
     },
     "execution_count": 48,
     "metadata": {},
     "output_type": "execute_result"
    }
   ],
   "source": [
    "definition = \"\"\"Machine154 learning is a branch of artificial 487 intelligence (AI) \n",
    "and computer science which focuses 1254 on the use of data and algorithms to imitate the way that\"\"\"\n",
    "\n",
    "output = re.findall(\"\\D\", definition)   # by default occurance is 1\n",
    "print(output, len(output))\n",
    "\n",
    "\n",
    "\"\".join(output)"
   ]
  },
  {
   "cell_type": "code",
   "execution_count": 50,
   "id": "35d018e0",
   "metadata": {},
   "outputs": [
    {
     "name": "stdout",
     "output_type": "stream",
     "text": [
      "['M', 'a', 'c', 'h', 'i', 'n', 'e', ' ', 'l', 'e', 'a', 'r', 'n', 'i', 'n', 'g', ' ', 'i', 's', ' ', 'a', ' ', 'b', 'r', 'a', 'n', 'c', 'h', ' ', 'o', 'f', ' ', 'a', 'r', 't', 'i', 'f', 'i', 'c', 'i', 'a', 'l', ' ', ' ', 'i', 'n', 't', 'e', 'l', 'l', 'i', 'g', 'e', 'n', 'c', 'e', ' ', '(', 'A', 'I', ')', ' ', '\\n', 'a', 'n', 'd', ' ', 'c', 'o', 'm', 'p', 'u', 't', 'e', 'r', ' ', 's', 'c', 'i', 'e', 'n', 'c', 'e', ' ', 'w', 'h', 'i', 'c', 'h', ' ', 'f', 'o', 'c', 'u', 's', 'e', 's', ' ', ' ', 'o', 'n', ' ', 't', 'h', 'e', ' ', 'u', 's', 'e', ' ', 'o', 'f', ' ', 'd', 'a', 't', 'a', ' ', 'a', 'n', 'd', ' ', 'a', 'l', 'g', 'o', 'r', 'i', 't', 'h', 'm', 's', ' ', 't', 'o', ' ', 'i', 'm', 'i', 't', 'a', 't', 'e', ' ', 't', 'h', 'e', ' ', 'w', 'a', 'y', ' ', 't', 'h', 'a', 't'] 156\n",
      "Machine learning is a branch of artificial  intelligence (AI) \n",
      "and computer science which focuses  on the use of data and algorithms to imitate the way that\n"
     ]
    }
   ],
   "source": [
    "definition = \"\"\"Machine154 learning is a branch of artificial 487 intelligence (AI) \n",
    "and computer science which focuses 1254 on the use of data and algorithms to imitate the way that\"\"\"\n",
    "\n",
    "output = re.findall(\"[^0-9]\", definition)   # Same output by using [^0-9]\n",
    "print(output, len(output))\n",
    "\n",
    "\n",
    "print(\"\".join(output))"
   ]
  },
  {
   "cell_type": "code",
   "execution_count": 55,
   "id": "83276b89",
   "metadata": {},
   "outputs": [
    {
     "name": "stdout",
     "output_type": "stream",
     "text": [
      "['rohitsharma@gmail.com', 'rohit_sharma@gmail.com', 'rohit-sharma@gmail.com', 'rohitsharma123@gmail.com', 'rohit.sharma123@gmail.com', '123rohit.sharma@gmail.com', 'rohitsharma@hotmail.com', 'rohit.sharma@rediffmail.com', 'rohitsharma@yahoo.com', 'rohitsharma123@yahoo.co.in', 'rohitsharma123@coep.co.in', 'rohitsharma123@vctcpune.com', 'rohitsharma@gmail.com'] 13\n"
     ]
    }
   ],
   "source": [
    "with open(\"cv011_12166.txt\", 'r') as f:\n",
    "    text = f.read()\n",
    "    \n",
    "print(text)\n",
    "\n",
    "email = re.findall(\"[0-9a-z_.-]{5,20}[@][a-z.]{5,20}\", text)\n",
    "print(email,len(email))"
   ]
  },
  {
   "cell_type": "markdown",
   "id": "7ea92428",
   "metadata": {},
   "source": [
    "## 3. \\w"
   ]
  },
  {
   "cell_type": "code",
   "execution_count": null,
   "id": "d25cc17d",
   "metadata": {},
   "outputs": [],
   "source": [
    "\\w >> [0-9a-zA-Z]   # digits, lowercase and uppercase"
   ]
  },
  {
   "cell_type": "code",
   "execution_count": 57,
   "id": "ca64c034",
   "metadata": {},
   "outputs": [
    {
     "name": "stdout",
     "output_type": "stream",
     "text": [
      "['M', 'a', 'c', 'h', 'i', 'n', 'e', 'l', 'e', 'a', 'r', 'n', 'i', 'n', 'g', 'i', 's', 'a', 'b', 'r', 'a', 'n', 'c', 'h', 'o', 'f', 'a', 'r', 't', 'i', 'f', 'i', 'c', 'i', 'a', 'l', 'i', 'n', 't', 'e', 'l', 'l', 'i', 'g', 'e', 'n', 'c', 'e', 'A', 'I', 'a', 'n', 'd', 'c', 'o', 'm', 'p', 'u', 't', 'e', 'r', 's', 'c', 'i', 'e', 'n', 'c', 'e', 'w', 'h', 'i', 'c', 'h', 'f', 'o', 'c', 'u', 's', 'e', 's', '1', '2', '5', '4', 'o', 'n', 't', 'h', 'e', 'u', 's', 'e', 'o', 'f', 'd', 'a', 't', 'a', 'a', 'n', 'd', 'a', 'l', 'g', 'o', 'r', 'i', 't', 'h', 'm', 's', 't', 'o', 'i', 'm', 'i', 't', 'a', 't', 'e', 't', 'h', 'e', 'w', 'a', 'y', 't', 'h', 'a', 't']\n"
     ]
    }
   ],
   "source": [
    "data = \"\"\"Machine #@$%^ learning is a branch of artificial intelligence (AI) \n",
    "and computer science which focuses 1254  ^&%$%&& on the use of data and ^$#^ &%$  algorithms to imitate the way that\"\"\"\n",
    "\n",
    "result = re.findall(\"\\w\", data)\n",
    "print(result)"
   ]
  },
  {
   "cell_type": "code",
   "execution_count": 60,
   "id": "e8b61aa4",
   "metadata": {},
   "outputs": [
    {
     "name": "stdout",
     "output_type": "stream",
     "text": [
      "['Machin', 'learni', 'branch', 'artifi', 'intell', 'igence', 'comput', 'scienc', 'focuse', 'algori', 'imitat']\n"
     ]
    }
   ],
   "source": [
    "data = \"\"\"Machine #@$%^ learning is a branch of artificial intelligence (AI) \n",
    "and computer science which focuses 1254  ^&%$%&& on the use of data and ^$#^ &%$  algorithms to imitate the way that\"\"\"\n",
    "\n",
    "result = re.findall(\"\\w{6}\", data)\n",
    "print(result)"
   ]
  },
  {
   "cell_type": "code",
   "execution_count": 61,
   "id": "9ef8d1f8",
   "metadata": {},
   "outputs": [
    {
     "name": "stdout",
     "output_type": "stream",
     "text": [
      "['AGDYA5478I', 'TAJHA4613U', 'GYIGFU4579', 'HSDJ45788H', 'SAGIA5478A'] 5\n"
     ]
    }
   ],
   "source": [
    "# PANCARD --> \n",
    "# SBIN0001234  --> Total 10 chars --> 1st 5 are Alphabets, 4 are digits, last is Alphabet\n",
    "\n",
    "\n",
    "import re\n",
    "\n",
    "text = \"\"\"\n",
    "            \n",
    "            AGDYA5478I   # Valid\n",
    "            TAJHA4613U   # Valid\n",
    "            YIGFU4579T   # valid\n",
    "            HSDJ45788H   # Invalid\n",
    "            SAGIA5478A   # Valid\n",
    "\n",
    "            \n",
    "            \"\"\"  \n",
    "\n",
    "\n",
    "pan_card = re.findall(\"\\w{10}\", text)\n",
    "print(pan_card, len(pan_card))"
   ]
  },
  {
   "cell_type": "code",
   "execution_count": 63,
   "id": "2c8d2a77",
   "metadata": {},
   "outputs": [
    {
     "name": "stdout",
     "output_type": "stream",
     "text": [
      "['ve', 'noticed', 'something', 'lately', 'that', 've', 'never', 'thought', 'of', 'before', 'pseudo', 'substance', 'hollywood', 'faking', 'deep', 'meanings', 'in', 'their', 'films', 'have', 'you', 'ever', 'seen', 'movie', 'that', 'you', 'really', 'enjoyed', 'then', 'when', 'you', 'look', 'back', 'you', 'realize', 'there', 'was', 'something', 'missing', 'more', 'and', 'more', 'filmmakers', 'seem', 'to', 'be', 'putting', 'out', 'well', 'rehearsed', 'melodramatic', 'films', 'that', 'evoke', 'strong', 'connotations', 'of', 'being', 'great', 'film', 'but', 'if', 'you', 'step', 'aside', 'and', 'reflect', 'on', 'your', 'movie', 'going', 'experience', 'you', 'may', 'just', 'discover', 'nothing', 'more', 'than', 'elegantly', 'presented', 'fluff', 'Email', 'ID', 'rohitsharma', 'gmail', 'com', 'rohit_sharma', 'gmail', 'com', 'rohit', 'sharma', 'gmail', 'com', 'rohitsharma123', 'gmail', 'com', 'rohit', 'sharma123', 'gmail', 'com', '123rohit', 'sharma', 'gmail', 'com', 'rohitsharma', 'hotmail', 'com', 'rohit', 'sharma', 'rediffmail', 'com', 'rohitsharma', 'yahoo', 'com', 'rohitsharma123', 'yahoo', 'co', 'in', 'rohitsharma123', 'coep', 'co', 'in', 'rohitsharma123', 'vctcpune', 'com', 'Mobile', 'Number', 'is', '9784512564', '9874561247', 'Email', 'ID', 'rohitsharma', 'gmail', 'com', 'Todays', 'Date', '02', '03', '2023', '23', '03', '2023', '19', '12', '1984', '24', '12', '2021', '84', '96', '2012', '2012', '15', '04', 'AGDYA5478I', 'Valid', 'TAJHA4613U', 'Valid', 'GYIGFU4579', 'Invalid', 'HSDJ45788H', 'Invalid', 'SAGIA5478A', 'Valid', 'IFSC', 'Code', 'SBIN0001234', 'HDFC0004654587546565', 'FGDIUSGUISDYIICI0002', '457', 'not', 'trying', 'to', 'say', 'city', 'of', 'angels', 'is', 'that', 'bad', 'it', 'had', 'lot', 'going', 'for', 'it', 'but', 'somewhere', 'along', 'the', 'way', 'it', 'faltered', 'somehow', 'underneath', 'the', 'seemingly', 'poetic', 'beauty', 'of', 'it', 'all', 'there', 'was', 'gigantic', 'hole', 'somebody', 'covered', 'with', 'iridescent', 'performances', 'and', 'glossy', 'cinematography', 'the', 'predictable', 'ending', 'that', 'shattered', 'our', 'hopes', 'even', 'though', 'we', 'saw', 'it', 'coming', 'only', 'added', 'to', 'the', 'disappointment', 'but', 'for', 'over', 'an', 'hour', 'city', 'of', 'angels', 'is', 'well', 'worth', 'the', 'time', 'nicolas', 'cage', 'is', 'seth', 'guardian', 'angel', 'who', 'like', 'hundreds', 'likely', 'thousands', 'or', 'even', 'millions', 'of', 'other', 'angels', 'spends', 'eternity', 'watching', 'over', 'the', 'citizens', 'of', 'mortality', 'humans', 'never', 'aware', 'of', 'how', 'much', 'celestial', 'intervention', 'occurs', 'in', 'their', 'life', 'meg', 'ryan', 'in', 'her', 'most', 'subdued', 'performance', 'yet', 'plays', 'maggie', 'doctor', 'who', 'begins', 'to', 'ponder', 'exactly', 'who', 'it', 'is', 'we', 're', 'fighting', 'against', 'when', 'we', 'fight', 'to', 'keep', 'someone', 'alive', 'after', 'losing', 'patient', 'on', 'the', 'surgery', 'table', 'these', 'questions', 'envelope', 'maggie', 'and', 'seth', 'the', 'angel', 'who', 'was', 'there', 'to', 'oversee', 'the', 'patient', 'transition', 'into', 'the', 'afterlife', 'is', 'immediately', 'captivated', 'by', 'the', 'doctor', 'he', 'begins', 'following', 'and', 'observing', 'maggie', 'falling', 'more', 'and', 'more', 'in', 'love', 'with', 'her', 'everyday', 'angels', 'who', 'we', 'quickly', 'learn', 'are', 'not', 'and', 'never', 'were', 'humans', 'can', 'not', 'experience', 'human', 'sensations', 'such', 'as', 'taste', 'and', 'touch', 'but', 'they', 'do', 'have', 'the', 'ability', 'to', 'make', 'themselves', 'seen', 'to', 'anyone', 'they', 'desire', 'seth', 'adoration', 'is', 'too', 'much', 'to', 'resist', 'and', 'eventually', 'he', 'does', 'appear', 'to', 'maggie', 'quite', 'regularly', 'although', 'such', 'thing', 'seems', 'taboo', 'among', 'the', 'angelic', 'community', 'the', 'angels', 'are', 'interestingly', 'presented', 'all', 'of', 'them', 'dressed', 'in', 'black', 'and', 'more', 'reminiscent', 'of', 'hitmen', 'than', 'traditional', 'glowing', 'white', 'entities', 'but', 'it', 'nice', 'touch', 'that', 'never', 'seems', 'like', 'mere', 'attempt', 'at', 'uniqueness', 'cage', 'is', 'wonderfully', 'versatile', 'actor', 'think', 'face', 'off', 'raising', 'arizona', 'and', 'it', 'could', 'happen', 'to', 'you', 'what', 'combo', 'who', 'slips', 'into', 'the', 'role', 'of', 'heavenly', 'agent', 'quite', 'nicely', 'but', 'threatens', 'sappiness', 'more', 'than', 'once', 'it', 'nice', 'to', 'see', 'ryan', 'pick', 'up', 'roles', 'like', 'this', 'and', 'the', 'one', 'in', 'courage', 'under', 'fire', 'the', 'two', 'aren', 'very', 'comparable', 'to', 'each', 'other', 'but', 'they', 'both', 'deviate', 'from', 'her', 'usual', 'intelligently', 'ditzy', 'romantic', 'comedy', 'roles', 'and', 'it', 'an', 'impressive', 'side', 'of', 'ryan', 'movie', 'goers', 'rarely', 'have', 'the', 'chance', 'to', 'enjoy', 'but', 'even', 'though', 'the', 'two', 'leads', 'do', 'an', 'impressive', 'job', 'it', 'is', 'dennis', 'franz', 'who', 'grabs', 'us', 'with', 'his', 'interpretation', 'of', 'hospital', 'patient', 'who', 'knows', 'more', 'than', 'meets', 'the', 'eye', 'it', 'shame', 'that', 'with', 'so', 'much', 'going', 'for', 'it', 'city', 'of', 'angels', 'falters', 'so', 'much', 'in', 'its', 'final', 'stages', 'leaving', 'us', 'with', 'the', 'realization', 'that', 'an', 'emotionally', 'incredible', 'movie', 'was', 'out', 'there', 'they', 'just', 'didn', 'know', 'quite', 'how', 'to', 'get', 'to', 'it', 'they', 'struggle', 'for', 'an', 'impacting', 'conclusion', 'and', 'wind', 'up', 'with', 'painful', 'thud', 'rather', 'than', 'an', 'exhilarating', 'high', 'filmmakers', 'should', 'know', 'your', 'final', 'impression', 'will', 'be', 'the', 'one', 'you', 'linger', 'on', 'remember', 'and', 'convey', 'to', 'others', 'thru', 'word', 'of', 'mouth', 'so', 'after', 'telling', 'us', 'for', '60', 'minutes', 'that', 'this', 'film', 'is', 'glorious', 'masterpiece', 'they', 'sure', 'leave', 'us', 'with', 'disheartening', 'taste', 'of', 'mediocrity', 'in', 'our', 'mouths', 'based', 'on', 'the', 'german', 'film', 'wings', 'of', 'desire', 'that', 'being', 'the', 'english', 'title', 'of', 'course', 'city', 'of', 'angels', 'is', 'ninety', 'percent', 'success', 'enough', 'to', 'make', 'most', 'people', 'forgive', 'its', 'shortcomings', 'even', 'the', 'devastatingly', 'disappointing', 'ending', 'most', 'movie', 'goers', 'the', 'non', 'cynics', 'anyway', 'will', 'be', 'too', 'wrapped', 'up', 'in', 'the', 'surreal', 'atmosphere', 'to', 'give', 'criticism', 'to', 'that', 'which', 'needs', 'to', 'be', 'criticized', 'nonetheless', 'city', 'of', 'angels', 'is', 'beautifully', 'captivating', 'which', 'is', 'probably', 'enough', 'to', 'satisfy', 'those', 'poetic', 'viewers', 'who', 'will', 'appreciate', 'delve', 'into', 'rich', 'emotional', 'territories'] 761\n"
     ]
    }
   ],
   "source": [
    "with open(\"cv011_12166.txt\", 'r') as f:\n",
    "    text = f.read()\n",
    "    \n",
    "# print(text)\n",
    "\n",
    "email = re.findall(\"\\w{2,20}\", text)\n",
    "print(email,len(email))"
   ]
  },
  {
   "cell_type": "markdown",
   "id": "4ac03e83",
   "metadata": {},
   "source": [
    "## \\W"
   ]
  },
  {
   "cell_type": "code",
   "execution_count": null,
   "id": "0d54a0be",
   "metadata": {},
   "outputs": [],
   "source": [
    "\\W >> except [0-9a-zA-Z]\n",
    "\\W >> [^0-9a-zA-Z]\n",
    "\n",
    "# getting only space and special characters"
   ]
  },
  {
   "cell_type": "code",
   "execution_count": 64,
   "id": "f575e08b",
   "metadata": {},
   "outputs": [
    {
     "name": "stdout",
     "output_type": "stream",
     "text": [
      "[\"'\", ' ', ' ', ' ', ' ', ' ', \"'\", ' ', ' ', ' ', ' ', ' ', '.', ' ', '\\n', '-', ' ', ' ', '-', ' ', ' ', ' ', ' ', ' ', ' ', ' ', ' ', '.', ' ', '\\n', ' ', ' ', ' ', ' ', ' ', ' ', ' ', ' ', ' ', ' ', ',', ' ', ' ', ' ', ' ', ' ', ' ', ',', ' ', ' ', ' ', ' ', ' ', ' ', ' ', '?', ' ', '\\n', ' ', ' ', ' ', ',', ' ', ' ', ' ', ' ', ' ', ' ', ' ', ' ', ' ', ',', ' ', ' ', ' ', ' ', ' ', ' ', ' ', ' ', ' ', ' ', ' ', ' ', ',', ' ', ' ', ' ', ' ', ' ', ' ', ' ', ' ', ' ', ' ', ' ', ' ', ' ', ',', ' ', ' ', ' ', ' ', ' ', ' ', ' ', ' ', ' ', ' ', ' ', '.', ' ', '\\n', ' ', ':', ' ', '\\n', ' ', ' ', ' ', ' ', ' ', ' ', ' ', ' ', ' ', ' ', ' ', ' ', '@', '.', '\\n', ' ', ' ', ' ', ' ', ' ', ' ', ' ', ' ', ' ', ' ', ' ', ' ', '@', '.', '\\n', ' ', ' ', ' ', ' ', ' ', ' ', ' ', ' ', ' ', ' ', ' ', ' ', '-', '@', '.', '\\n', ' ', ' ', ' ', ' ', ' ', ' ', ' ', ' ', ' ', ' ', ' ', ' ', '@', '.', '\\n', ' ', ' ', ' ', ' ', ' ', ' ', ' ', ' ', ' ', ' ', ' ', ' ', '.', '@', '.', '\\n', ' ', ' ', ' ', ' ', ' ', ' ', ' ', ' ', ' ', ' ', ' ', ' ', '.', '@', '.', '\\n', ' ', ' ', ' ', ' ', ' ', ' ', ' ', ' ', ' ', ' ', ' ', ' ', '@', '.', '\\n', ' ', ' ', ' ', ' ', ' ', ' ', ' ', ' ', ' ', ' ', ' ', ' ', '.', '@', '.', '\\n', ' ', ' ', ' ', ' ', ' ', ' ', ' ', ' ', ' ', ' ', ' ', ' ', '@', '.', '\\n', ' ', ' ', ' ', ' ', ' ', ' ', ' ', ' ', ' ', ' ', ' ', ' ', '@', '.', '.', '\\n', ' ', ' ', ' ', ' ', ' ', ' ', ' ', ' ', ' ', ' ', ' ', ' ', '@', '.', '.', '\\n', ' ', ' ', ' ', ' ', ' ', ' ', ' ', ' ', ' ', ' ', ' ', ' ', '@', '.', '\\n', '\\n', ' ', ' ', ':', ' ', '\\n', ' ', ' ', ' ', ' ', ' ', ' ', ' ', ' ', ' ', ' ', ' ', ' ', '\\n', ' ', ' ', ' ', ' ', ' ', ' ', ' ', ' ', ' ', ' ', ' ', ' ', '\\n', ' ', ' ', ' ', ' ', ' ', ' ', ' ', ' ', ' ', ' ', ' ', ' ', ' ', ':', ' ', '@', '.', '\\n', ' ', ' ', ' ', ' ', ' ', ' ', ' ', ' ', ' ', ' ', ' ', ' ', ' ', ':', ' ', '-', '-', '\\n', ' ', ' ', ' ', ' ', ' ', ' ', ' ', ' ', ' ', ' ', ' ', ' ', '-', '-', '\\n', ' ', ' ', ' ', ' ', ' ', ' ', ' ', ' ', ' ', ' ', ' ', ' ', '-', '-', '\\n', ' ', ' ', ' ', ' ', ' ', ' ', ' ', ' ', ' ', ' ', ' ', ' ', '-', '-', '\\n', ' ', ' ', ' ', ' ', ' ', ' ', ' ', ' ', ' ', ' ', ' ', ' ', '-', '-', ' ', '\\n', ' ', ' ', ' ', ' ', ' ', ' ', ' ', ' ', ' ', ' ', ' ', ' ', '-', '-', ' ', '\\n', ' ', ' ', ' ', ' ', ' ', ' ', ' ', ' ', ' ', ' ', ' ', ' ', '\\n', ' ', ' ', ' ', ' ', ' ', ' ', ' ', ' ', ' ', ' ', ' ', ' ', ' ', ' ', ' ', '#', ' ', '\\n', ' ', ' ', ' ', ' ', ' ', ' ', ' ', ' ', ' ', ' ', ' ', ' ', ' ', ' ', ' ', '#', ' ', '\\n', ' ', ' ', ' ', ' ', ' ', ' ', ' ', ' ', ' ', ' ', ' ', ' ', ' ', ' ', ' ', '#', ' ', '\\n', ' ', ' ', ' ', ' ', ' ', ' ', ' ', ' ', ' ', ' ', ' ', ' ', ' ', ' ', ' ', '#', ' ', '\\n', ' ', ' ', ' ', ' ', ' ', ' ', ' ', ' ', ' ', ' ', ' ', ' ', ' ', ' ', ' ', '#', ' ', '\\n', ' ', ' ', ' ', ' ', ' ', ' ', ' ', ' ', ' ', ' ', ' ', ' ', '\\n', ' ', ' ', ' ', ' ', ' ', ' ', ' ', ' ', ' ', ' ', ' ', ' ', ' ', ':', '\\n', ' ', ' ', ' ', ' ', ' ', ' ', ' ', ' ', ' ', ' ', ' ', ' ', '\\n', ' ', ' ', ' ', ' ', ' ', ' ', ' ', ' ', ' ', ' ', ' ', ' ', '\\n', ' ', ' ', ' ', ' ', ' ', ' ', ' ', ' ', ' ', ' ', ' ', ' ', '\\n', '\\n', \"'\", ' ', ' ', ' ', ' ', ' ', ' ', ' ', ' ', ' ', ' ', ' ', '.', ' ', '\\n', ' ', ' ', ' ', ' ', ' ', ' ', ' ', ',', ' ', ' ', ' ', ' ', ' ', ' ', ',', ' ', ' ', ' ', '.', ' ', '\\n', ' ', ',', ' ', ' ', ' ', ' ', ' ', ' ', ' ', ' ', ' ', ',', ' ', ' ', ' ', ' ', ' ', ' ', ' ', ' ', ' ', ' ', ' ', ' ', ' ', ' ', '.', ' ', '\\n', ' ', ' ', ' ', ' ', ' ', ' ', ' ', '(', ' ', ' ', ' ', ' ', ' ', ' ', ' ', ')', ' ', ' ', ' ', ' ', ' ', ' ', '.', ' ', '\\n', ' ', ' ', ' ', ' ', ' ', ',', ' ', ' ', ' ', ' ', ' ', ' ', ' ', ' ', ' ', '.', ' ', '\\n', ' ', ' ', ' ', ' ', ',', ' ', ' ', ' ', ' ', ' ', ',', ' ', ' ', ' ', '(', ' ', ' ', ' ', ' ', ' ', ' ', ')', ' ', ' ', ' ', ' ', ',', ' ', ' ', ' ', ' ', ' ', ' ', ' ', ' ', ' ', ';', ' ', ' ', ' ', ' ', ' ', ' ', ' ', ' ', ' ', ' ', ' ', ' ', ' ', '.', ' ', '\\n', ' ', ' ', ',', ' ', ' ', ' ', ' ', ' ', ' ', ' ', ',', ' ', ' ', ' ', ',', ' ', ' ', ' ', ' ', ' ', ' ', ' ', ' ', ' ', ' ', ' ', \"'\", ' ', ' ', ' ', ' ', ' ', ' ', ' ', ' ', ' ', ' ', '.', ' ', '\\n', ' ', ' ', ' ', ' ', ' ', ' ', ' ', ' ', ',', ' ', ' ', ' ', ' ', ' ', ',', ' ', ' ', ' ', ',', ' ', ' ', ' ', ' ', ' ', ' ', ' ', ' ', ' ', \"'\", ' ', ' ', ' ', ' ', ' ', ',', ' ', ' ', ' ', ' ', ' ', ' ', ' ', '.', ' ', '\\n', ' ', ' ', ' ', ' ', ' ', ' ', ',', ' ', ' ', ' ', ' ', ' ', ' ', ' ', ' ', ' ', ' ', '.', ' ', '\\n', ' ', ',', ' ', ' ', ' ', ' ', ' ', ' ', ' ', ' ', ' ', ' ', ' ', ',', ' ', ' ', ' ', ' ', ' ', ' ', ' ', ' ', ' ', ' ', ' ', ',', ' ', ' ', ' ', ' ', ' ', ' ', ' ', ' ', ' ', ' ', ' ', ' ', ' ', ' ', ' ', '.', ' ', '\\n', \"'\", ' ', ' ', ' ', ' ', ' ', ' ', ' ', ',', ' ', ' ', ' ', ' ', ' ', ' ', ' ', ' ', ',', ' ', ' ', ' ', ',', ' ', ' ', ' ', ' ', ' ', ' ', ' ', ' ', ' ', ' ', ' ', '.', ' ', '\\n', ' ', ' ', ' ', ' ', ' ', ',', ' ', ' ', ' ', ' ', ' ', ' ', ' ', ' ', ' ', ' ', ' ', ' ', ' ', ' ', ' ', ' ', ' ', ',', ' ', ' ', \"'\", ' ', ' ', ' ', ' ', ' ', ' ', ' ', ' ', ' ', ' ', ' ', ' ', ' ', '.', ' ', '\\n', ' ', ' ', ' ', ' ', ' ', ' ', '(', ' ', ' ', '/', ' ', ',', ' ', ' ', ' ', ',', ' ', ' ', ' ', ' ', ' ', ' ', ' ', '-', ' ', ' ', ' ', ' ', '!', ' ', ')', ' ', ' ', ' ', ' ', ' ', ' ', ' ', ' ', ' ', ' ', ' ', ' ', ' ', ' ', ' ', ' ', ' ', ' ', '.', ' ', '\\n', \"'\", ' ', ' ', ' ', ' ', ' ', ' ', ' ', ' ', ' ', ' ', ' ', ' ', ' ', ' ', ' ', ' ', ' ', '.', ' ', '\\n', ' ', ' ', \"'\", ' ', ' ', ' ', ' ', ' ', ' ', ',', ' ', ' ', ' ', ' ', ' ', ' ', ' ', ' ', '\"', ' ', ' ', ' ', '\"', ' ', ' ', ' ', ' ', ',', ' ', ' ', \"'\", ' ', ' ', ' ', ' ', ' ', ' ', ' ', ' ', ' ', ' ', ' ', ' ', ' ', ' ', '.', ' ', '\\n', ' ', ' ', ' ', ' ', ' ', ' ', ' ', ' ', ' ', ' ', ',', ' ', ' ', ' ', ' ', ' ', ' ', ' ', ' ', ' ', ' ', ' ', ' ', ' ', ' ', ' ', ' ', ' ', ' ', ' ', ' ', ' ', ' ', '.', ' ', '\\n', \"'\", ' ', ' ', ' ', ' ', ' ', ' ', ' ', ' ', ' ', ' ', ',', ' ', ' ', ' ', ' ', ' ', ' ', ' ', ' ', ' ', ' ', ' ', ',', ' ', ' ', ' ', ' ', ' ', ' ', ' ', ' ', ' ', ' ', ' ', ' ', ' ', ' ', ',', ' ', ' ', ' ', \"'\", ' ', ' ', ' ', ' ', ' ', ' ', ' ', ' ', '.', ' ', '\\n', ' ', ' ', ' ', ' ', ' ', ' ', ' ', ' ', ' ', ' ', ' ', ' ', ' ', ' ', ' ', ' ', ' ', '.', ' ', '\\n', ' ', ' ', ' ', ' ', ' ', ' ', ' ', ' ', ' ', ' ', ' ', ' ', ' ', ',', ' ', ' ', ',', ' ', ' ', ' ', ' ', ' ', ' ', ' ', ' ', ' ', ',', ' ', ' ', ' ', ' ', ' ', ' ', '+', ' ', ' ', ' ', ' ', ' ', ' ', ' ', ' ', ' ', ',', ' ', ' ', ' ', ' ', ' ', ' ', ' ', ' ', ' ', ' ', ' ', ' ', ' ', ' ', '.', ' ', '\\n', ' ', ' ', ' ', ' ', ' ', ' ', ' ', ' ', '(', ' ', ' ', ' ', ' ', ' ', ' ', ',', ' ', ' ', ' ', ')', ' ', ',', ' ', ' ', ' ', ' ', ' ', ' ', ' ', ' ', ',', ' ', ' ', ' ', ' ', ' ', ' ', ' ', ' ', ' ', ',', ' ', ' ', ' ', ' ', ' ', ' ', '.', ' ', '\\n', ' ', ' ', ' ', ',', ' ', ' ', '-', ' ', ' ', ',', ' ', ' ', ' ', ' ', ' ', ' ', ' ', ' ', ' ', ' ', ' ', ' ', ' ', ' ', ' ', ' ', ' ', ' ', ' ', ' ', '.', ' ', '\\n', ' ', ',', ' ', ' ', ' ', ' ', ' ', ' ', ' ', ',', ' ', ' ', ' ', ' ', ' ', ' ', ' ', ' ', ' ', ' ', ' ', ' ', ' ', ' ', ' ', ' ', ' ', ' ', ' ', '.', ' ', '\\n'] 1415\n"
     ]
    }
   ],
   "source": [
    "with open(\"cv011_12166.txt\", 'r') as f:\n",
    "    text = f.read()\n",
    "    \n",
    "# print(text)\n",
    "\n",
    "email = re.findall(\"\\W\", text)\n",
    "print(email,len(email))"
   ]
  },
  {
   "cell_type": "code",
   "execution_count": 67,
   "id": "661226b2",
   "metadata": {},
   "outputs": [
    {
     "name": "stdout",
     "output_type": "stream",
     "text": [
      "[' . \\n', '- ', ' - ', ' . \\n', ' , ', ' , ', ' ? \\n', ' , ', ' , ', ' , ', ' , ', ' . \\n', ': \\n  ', '     ', '     ', '\\n    ', '     ', '   ', '\\n    ', '     ', '   ', '\\n    ', '     ', '   ', '\\n    ', '     ', '   ', '\\n    ', '     ', '   ', '\\n    ', '     ', '   ', '\\n    ', '     ', '   ', '\\n    ', '     ', '   ', '\\n    ', '     ', '   ', '\\n    ', '     ', '   ', '\\n    ', '     ', '   ', '\\n\\n', ': \\n  ', '     ', '     ', '\\n    ', '     ', '   ', '\\n    ', '     ', '   ', ': ', '\\n    ', '     ', '   ', ': ', '\\n    ', '     ', '   ', '\\n    ', '     ', '   ', '\\n    ', '     ', '   ', '\\n    ', '     ', '   ', ' \\n   ', '     ', '    ', ' \\n   ', '     ', '    \\n', '     ', '     ', '  ', '   # ', '\\n    ', '     ', '   ', '   # ', '\\n    ', '     ', '   ', '   # ', '\\n    ', '     ', '   ', '   # ', '\\n    ', '     ', '   ', '   # ', '\\n    ', '     ', '   \\n ', '     ', '     ', ':\\n   ', '     ', '    ', '\\n    ', '     ', '   ', '\\n    ', '     ', '   ', '\\n\\n', ' . \\n', ' , ', ' , ', ' . \\n', ' , ', ' , ', ' . \\n', ' ( ', ' ) ', ' . \\n', ' , ', ' . \\n', ' , ', ' , ', ' ( ', ' ) ', ' , ', ' ; ', ' . \\n', ' , ', ' , ', ' , ', ' . \\n', ' , ', ' , ', ' , ', ' , ', ' . \\n', ' , ', ' . \\n', ' , ', ' , ', ' , ', ' . \\n', ' , ', ' , ', ' , ', ' . \\n', ' , ', ' , ', ' . \\n', ' ( ', ' , ', ' , ', ' - ', ' ! ) ', ' . \\n', ' . \\n', ' , ', ' \" ', ' \" ', ' , ', ' . \\n', ' , ', ' . \\n', ' , ', ' , ', ' , ', ' . \\n', ' . \\n', ' , ', ' , ', ' , ', '+ ', ' , ', ' . \\n', ' ( ', ' , ', ' ) , ', ' , ', ' , ', ' . \\n', ' , ', ' , ', ' . \\n', ' , ', ' , ', ' . \\n'] 194\n"
     ]
    }
   ],
   "source": [
    "with open(\"cv011_12166.txt\", 'r') as f:\n",
    "    text = f.read()\n",
    "    \n",
    "# print(text)\n",
    "\n",
    "email = re.findall(\"\\W{2,5}\", text)\n",
    "print(email,len(email))"
   ]
  },
  {
   "cell_type": "code",
   "execution_count": 69,
   "id": "f06712c4",
   "metadata": {},
   "outputs": [
    {
     "name": "stdout",
     "output_type": "stream",
     "text": [
      "[' '] 1\n"
     ]
    }
   ],
   "source": [
    "text = \"Data Science\"\n",
    "\n",
    "output = re.findall(\"\\W\", text)   # By default 1\n",
    "print(output,len(output))"
   ]
  },
  {
   "cell_type": "markdown",
   "id": "5faac684",
   "metadata": {},
   "source": [
    "# Revison"
   ]
  },
  {
   "cell_type": "code",
   "execution_count": null,
   "id": "f65273a1",
   "metadata": {},
   "outputs": [],
   "source": [
    "regular expression\n",
    "1. re.findall(pattern, text)  >> output >> list of strings\n",
    "Special Sequences >> \n",
    "1. \\d\n",
    "2. \\D\n",
    "3. \\w\n",
    "4. \\W"
   ]
  }
 ],
 "metadata": {
  "kernelspec": {
   "display_name": "Python 3 (ipykernel)",
   "language": "python",
   "name": "python3"
  },
  "language_info": {
   "codemirror_mode": {
    "name": "ipython",
    "version": 3
   },
   "file_extension": ".py",
   "mimetype": "text/x-python",
   "name": "python",
   "nbconvert_exporter": "python",
   "pygments_lexer": "ipython3",
   "version": "3.12.7"
  }
 },
 "nbformat": 4,
 "nbformat_minor": 5
}
