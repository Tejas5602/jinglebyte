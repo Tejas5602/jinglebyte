{
 "cells": [
  {
   "cell_type": "markdown",
   "id": "272b4066-5bfa-4102-8e6a-6b1946fd24c2",
   "metadata": {},
   "source": [
    "# Function "
   ]
  },
  {
   "cell_type": "code",
   "execution_count": null,
   "id": "8fc6923f-3026-4095-8bfb-c80193fbc697",
   "metadata": {},
   "outputs": [],
   "source": [
    "organized block  of reusable code.\n",
    "will execute  only when itis called.\n"
   ]
  },
  {
   "cell_type": "code",
   "execution_count": null,
   "id": "4ed33dff-82a9-4afa-b86d-045a73abb42c",
   "metadata": {},
   "outputs": [],
   "source": [
    "def>>> defination"
   ]
  },
  {
   "cell_type": "code",
   "execution_count": 6,
   "id": "64898435-a7ce-44e1-99cd-3d1a4c3689dd",
   "metadata": {},
   "outputs": [
    {
     "name": "stdout",
     "output_type": "stream",
     "text": [
      "172.0\n"
     ]
    }
   ],
   "source": [
    "def function_name(a,b,c):\n",
    "    avg=(a*b*c)/3   # local variable\n",
    "    print(avg)\n",
    "function_name(6,43,2)"
   ]
  },
  {
   "cell_type": "code",
   "execution_count": 10,
   "id": "02873d79-9728-4a6f-a0c5-87df0433523c",
   "metadata": {},
   "outputs": [
    {
     "name": "stdout",
     "output_type": "stream",
     "text": [
      "even number of list  [2, 34, 78, 98, 44, 2, 2, 66, 68]\n",
      "odd number of list [1, 35, 45, 19, 77, 3, 3, 5, 7, 99, 87, 65, 3, 65, 7, 7]\n"
     ]
    }
   ],
   "source": [
    "def get_even_odd (lst):\n",
    "    even_no_list =[i for i in lst if i%2==0 ]\n",
    "    odd_no_list=[i for i in lst if i%2 !=0 ]\n",
    "    print(\"even number of list \",even_no_list)\n",
    "    print(\"odd number of list\",odd_no_list)\n",
    "get_even_odd([2,1,34,35,45,78,19,98,77,44,3,2,2,3,66,5,7,99,87,68,65,3,65,7,7])\n",
    "\n"
   ]
  },
  {
   "cell_type": "markdown",
   "id": "32708242-76d3-44e3-ad78-4c249256e4c6",
   "metadata": {},
   "source": [
    " # Return"
   ]
  },
  {
   "cell_type": "code",
   "execution_count": null,
   "id": "dc7cb3dc-06d5-46a8-92ce-29f5253e6a88",
   "metadata": {},
   "outputs": [],
   "source": [
    "end function"
   ]
  },
  {
   "cell_type": "code",
   "execution_count": 39,
   "id": "cbdd06c4-e6c3-45ec-993d-7d2abf4282ef",
   "metadata": {},
   "outputs": [
    {
     "name": "stdout",
     "output_type": "stream",
     "text": [
      "[2, 34, 78, 98, 44, 2, 2, 66, 68]\n"
     ]
    },
    {
     "ename": "TypeError",
     "evalue": "list.append() takes exactly one argument (4 given)",
     "output_type": "error",
     "traceback": [
      "\u001b[1;31m---------------------------------------------------------------------------\u001b[0m",
      "\u001b[1;31mTypeError\u001b[0m                                 Traceback (most recent call last)",
      "Cell \u001b[1;32mIn[39], line 10\u001b[0m\n\u001b[0;32m      8\u001b[0m a\u001b[38;5;241m=\u001b[39mget_even_odd([\u001b[38;5;241m2\u001b[39m,\u001b[38;5;241m1\u001b[39m,\u001b[38;5;241m34\u001b[39m,\u001b[38;5;241m35\u001b[39m,\u001b[38;5;241m45\u001b[39m,\u001b[38;5;241m78\u001b[39m,\u001b[38;5;241m19\u001b[39m,\u001b[38;5;241m98\u001b[39m,\u001b[38;5;241m77\u001b[39m,\u001b[38;5;241m44\u001b[39m,\u001b[38;5;241m3\u001b[39m,\u001b[38;5;241m2\u001b[39m,\u001b[38;5;241m2\u001b[39m,\u001b[38;5;241m3\u001b[39m,\u001b[38;5;241m66\u001b[39m,\u001b[38;5;241m5\u001b[39m,\u001b[38;5;241m7\u001b[39m,\u001b[38;5;241m99\u001b[39m,\u001b[38;5;241m87\u001b[39m,\u001b[38;5;241m68\u001b[39m,\u001b[38;5;241m65\u001b[39m,\u001b[38;5;241m3\u001b[39m,\u001b[38;5;241m65\u001b[39m,\u001b[38;5;241m7\u001b[39m,\u001b[38;5;241m7\u001b[39m])\n\u001b[0;32m      9\u001b[0m \u001b[38;5;28mprint\u001b[39m(a)\n\u001b[1;32m---> 10\u001b[0m a\u001b[38;5;241m.\u001b[39mappend(\u001b[38;5;241m54\u001b[39m,\u001b[38;5;241m62\u001b[39m,\u001b[38;5;241m6\u001b[39m,\u001b[38;5;241m10\u001b[39m)\n\u001b[0;32m     11\u001b[0m a\n",
      "\u001b[1;31mTypeError\u001b[0m: list.append() takes exactly one argument (4 given)"
     ]
    }
   ],
   "source": [
    "def get_even_odd (lst):\n",
    "    even_no_list =[i for i in lst if i%2==0 ]\n",
    "    odd_no_list=[i for i in lst if i%2 !=0 ]\n",
    "    return even_no_list\n",
    "     # print(\"even number of list \",even_no_list)\n",
    "      #print(\"odd number of list\",odd_no_list)\n",
    "    \n",
    "a=get_even_odd([2,1,34,35,45,78,19,98,77,44,3,2,2,3,66,5,7,99,87,68,65,3,65,7,7])\n",
    "print(a)\n",
    "a.append(54,62,6,10)\n",
    "a"
   ]
  },
  {
   "cell_type": "code",
   "execution_count": 37,
   "id": "73fc5262-cc3e-424a-8a7c-e5df3019de51",
   "metadata": {},
   "outputs": [
    {
     "name": "stdout",
     "output_type": "stream",
     "text": [
      "[144, 196]\n",
      "[169, 225]\n"
     ]
    }
   ],
   "source": [
    "def square (start,end):\n",
    "    lst1=[]\n",
    "    lst2=[]\n",
    "    for i in range(start,end+1):\n",
    "        if i%2==0:\n",
    "            lst1.append(i**2)\n",
    "        else:\n",
    "            lst2.append(i**2)\n",
    "    return lst1,lst2\n",
    "a,b=square(12,15)\n",
    "print(a)\n",
    "print(b)"
   ]
  },
  {
   "cell_type": "code",
   "execution_count": null,
   "id": "17bb4847-2b27-4ab2-a1b8-6e7ddfe8b9f6",
   "metadata": {},
   "outputs": [],
   "source": [
    "  # H.W def   factorial (number):\n",
    "    #code\n",
    "    return fact"
   ]
  },
  {
   "cell_type": "code",
   "execution_count": null,
   "id": "c99a9919-8b8e-4426-b00f-b54f372283ac",
   "metadata": {},
   "outputs": [],
   "source": [
    " def fabinaaci(number) :\n",
    "     #code\n",
    "     return fibo"
   ]
  },
  {
   "cell_type": "code",
   "execution_count": null,
   "id": "e6e786f5-5f54-4825-894a-8bc84eeaab34",
   "metadata": {},
   "outputs": [],
   "source": [
    "def prime_in range (start,end):\n",
    "# code\n",
    "return prime_lst\n"
   ]
  },
  {
   "cell_type": "code",
   "execution_count": null,
   "id": "d50efd48-545c-4284-9279-98286e950ad0",
   "metadata": {},
   "outputs": [],
   "source": [
    " # Function argument "
   ]
  },
  {
   "cell_type": "code",
   "execution_count": 41,
   "id": "5ad6746f-a352-4a6e-8915-f0890dc601b8",
   "metadata": {},
   "outputs": [
    {
     "name": "stdout",
     "output_type": "stream",
     "text": [
      "3\n",
      "21\n"
     ]
    },
    {
     "data": {
      "text/plain": [
       "24"
      ]
     },
     "execution_count": 41,
     "metadata": {},
     "output_type": "execute_result"
    }
   ],
   "source": [
    "def good(y,z):\n",
    "    print(y)\n",
    "    print(z)\n",
    "    add= y+z\n",
    "    return add\n",
    "good(3,21)"
   ]
  },
  {
   "cell_type": "code",
   "execution_count": null,
   "id": "dce05ece-a081-4ebf-8c03-6944e10552de",
   "metadata": {},
   "outputs": [],
   "source": [
    "# default  argument"
   ]
  },
  {
   "cell_type": "code",
   "execution_count": 43,
   "id": "ca970361-3aff-4818-85b5-a67cbbda7494",
   "metadata": {},
   "outputs": [
    {
     "name": "stdout",
     "output_type": "stream",
     "text": [
      "43\n",
      "22\n"
     ]
    },
    {
     "data": {
      "text/plain": [
       "65"
      ]
     },
     "execution_count": 43,
     "metadata": {},
     "output_type": "execute_result"
    }
   ],
   "source": [
    "def god(y=43,z=22):\n",
    "    print(y)\n",
    "    print(z)\n",
    "    add= y+z\n",
    "    return add\n",
    "god()"
   ]
  },
  {
   "cell_type": "code",
   "execution_count": null,
   "id": "1e9d379b-ba2e-4a94-bea8-c67abc357021",
   "metadata": {},
   "outputs": [],
   "source": [
    "# keyword"
   ]
  },
  {
   "cell_type": "code",
   "execution_count": 51,
   "id": "69ff72a5-35aa-4344-9d49-7f3ce845c189",
   "metadata": {},
   "outputs": [
    {
     "name": "stdout",
     "output_type": "stream",
     "text": [
      "22\n",
      "43\n"
     ]
    },
    {
     "data": {
      "text/plain": [
       "65"
      ]
     },
     "execution_count": 51,
     "metadata": {},
     "output_type": "execute_result"
    }
   ],
   "source": [
    "def gd(z,y):\n",
    "    print(z)\n",
    "    print(y)\n",
    "    add= z+y\n",
    "    return add\n",
    "gd(y=43,z=22)"
   ]
  },
  {
   "cell_type": "code",
   "execution_count": null,
   "id": "1b1a8890-9491-40a2-8609-d1818d1f9de3",
   "metadata": {},
   "outputs": [],
   "source": [
    "# arbitary positonal argument "
   ]
  },
  {
   "cell_type": "code",
   "execution_count": null,
   "id": "caae0cef-aaf7-4a7f-ac60-16520515c11a",
   "metadata": {},
   "outputs": [],
   "source": [
    "*args>>> *arguments\n",
    "datatype of args variable is tuple"
   ]
  },
  {
   "cell_type": "code",
   "execution_count": 55,
   "id": "db3d861d-291f-4bd6-b2c9-ea13f06e0210",
   "metadata": {},
   "outputs": [
    {
     "name": "stdout",
     "output_type": "stream",
     "text": [
      "(22, 1, 32, 34, 76, 89)\n"
     ]
    },
    {
     "data": {
      "text/plain": [
       "254"
      ]
     },
     "execution_count": 55,
     "metadata": {},
     "output_type": "execute_result"
    }
   ],
   "source": [
    "def addtion(*x):\n",
    "    print(x)\n",
    "    add= sum(x)\n",
    "    return add\n",
    "addtion(22,1,32,34,76,89)"
   ]
  },
  {
   "cell_type": "code",
   "execution_count": null,
   "id": "b78d0a37-5b52-463a-a720-fd25a190a18a",
   "metadata": {},
   "outputs": [],
   "source": [
    "# arbitary keyword"
   ]
  },
  {
   "cell_type": "code",
   "execution_count": null,
   "id": "cf896c35-602f-4b6c-9fc3-7e387101675a",
   "metadata": {},
   "outputs": [],
   "source": []
  },
  {
   "cell_type": "code",
   "execution_count": null,
   "id": "abbc602a-c397-4ee2-8ae9-4c0a7b1c7d27",
   "metadata": {},
   "outputs": [],
   "source": []
  }
 ],
 "metadata": {
  "kernelspec": {
   "display_name": "Python 3 (ipykernel)",
   "language": "python",
   "name": "python3"
  },
  "language_info": {
   "codemirror_mode": {
    "name": "ipython",
    "version": 3
   },
   "file_extension": ".py",
   "mimetype": "text/x-python",
   "name": "python",
   "nbconvert_exporter": "python",
   "pygments_lexer": "ipython3",
   "version": "3.12.7"
  }
 },
 "nbformat": 4,
 "nbformat_minor": 5
}
