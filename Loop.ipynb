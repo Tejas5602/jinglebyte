{
 "cells": [
  {
   "cell_type": "markdown",
   "id": "d8f07be3-f07b-4aef-b959-73530ff267c3",
   "metadata": {},
   "source": [
    "short hand if statement "
   ]
  },
  {
   "cell_type": "code",
   "execution_count": 29,
   "id": "59eb321f-0586-46a9-8865-c6f611797359",
   "metadata": {},
   "outputs": [
    {
     "name": "stdout",
     "output_type": "stream",
     "text": [
      "salary is high\n"
     ]
    }
   ],
   "source": [
    "salary=700000\n",
    "if salary>50000:\n",
    "        print(\"salary is high\")\n"
   ]
  },
  {
   "cell_type": "markdown",
   "id": "d6752a51-df8a-4d05-b969-581aa47523ec",
   "metadata": {},
   "source": [
    "Loop"
   ]
  },
  {
   "cell_type": "code",
   "execution_count": 35,
   "id": "c4e89b35-ad50-4c38-a5e5-946ec1727f73",
   "metadata": {},
   "outputs": [
    {
     "name": "stdout",
     "output_type": "stream",
     "text": [
      "h\n",
      "i\n",
      "i\n",
      " \n",
      "t\n",
      "h\n",
      "i\n",
      "s\n",
      " \n",
      "i\n",
      "s\n",
      " \n",
      "p\n",
      "y\n",
      "t\n",
      "h\n",
      "o\n",
      "n\n"
     ]
    }
   ],
   "source": [
    "str=\"hii this is python\"\n",
    "for i in str:\n",
    "    print(i)"
   ]
  },
  {
   "cell_type": "code",
   "execution_count": 51,
   "id": "d2ab9f86-6d1e-45a1-8f74-0465f4a32329",
   "metadata": {},
   "outputs": [
    {
     "name": "stdout",
     "output_type": "stream",
     "text": [
      "6\n",
      "p\n",
      "y\n",
      "t\n",
      "h\n",
      "o\n",
      "n\n"
     ]
    }
   ],
   "source": [
    "str1=\"python\"\n",
    "print(len(str1))\n",
    "for chr1 in str1:\n",
    "    print(chr1)"
   ]
  },
  {
   "cell_type": "code",
   "execution_count": 57,
   "id": "8db040ca-5126-48b9-a6d3-6fabf558272e",
   "metadata": {},
   "outputs": [
    {
     "name": "stdout",
     "output_type": "stream",
     "text": [
      "12\n",
      "32\n",
      "56\n"
     ]
    }
   ],
   "source": [
    "lst1=[12,43,45,32,56,67,89]\n",
    "for i in lst1:\n",
    "    if i%2==0:\n",
    "      print(i)"
   ]
  },
  {
   "cell_type": "code",
   "execution_count": 73,
   "id": "ae95e0a5-8e0f-4ec5-8470-233cd8c5a6ef",
   "metadata": {},
   "outputs": [
    {
     "name": "stdout",
     "output_type": "stream",
     "text": [
      "120\n"
     ]
    }
   ],
   "source": [
    "lst1=[1,2,3,4,5]  #1*2*3*4*5\n",
    "mul=1\n",
    "for i in lst1:\n",
    "    mul=mul*i  #mul=1*1=1  mul=1*2=2  mul=2*3=6\n",
    "\n",
    "print(mul)"
   ]
  },
  {
   "cell_type": "code",
   "execution_count": 87,
   "id": "826c66e0-7660-4167-9669-7b731c94fdcc",
   "metadata": {},
   "outputs": [
    {
     "name": "stdout",
     "output_type": "stream",
     "text": [
      "onkar\n",
      "neeta\n"
     ]
    }
   ],
   "source": [
    "a=[\"onkar\",\"neeta\",\"such\",\"indrayani\",\"sujana\"]\n",
    "for i in a:\n",
    "    if len(i)==5:\n",
    "          print(i)"
   ]
  },
  {
   "cell_type": "code",
   "execution_count": null,
   "id": "34cf9513-154e-4053-b91f-b9abf7e8f395",
   "metadata": {},
   "outputs": [],
   "source": [
    "Loop control statement "
   ]
  },
  {
   "cell_type": "code",
   "execution_count": null,
   "id": "7679bb89-5e7d-41fb-a2bf-9fd70cf1488d",
   "metadata": {},
   "outputs": [],
   "source": [
    "break statement"
   ]
  },
  {
   "cell_type": "code",
   "execution_count": 89,
   "id": "8aa4d715-81cc-4c81-b16d-dc8977faa362",
   "metadata": {},
   "outputs": [
    {
     "name": "stdout",
     "output_type": "stream",
     "text": [
      "1\n",
      "2\n",
      "3\n",
      "4\n",
      "5\n",
      "hello\n",
      "value found\n"
     ]
    }
   ],
   "source": [
    "for i in range (1,10):\n",
    "    print(i)\n",
    "    if i==5:\n",
    "        print(\"hello\")\n",
    "        print(\"value found\")\n",
    "        break"
   ]
  },
  {
   "cell_type": "code",
   "execution_count": 93,
   "id": "964cabb5-8410-4b3e-ac8f-a15310bd46f3",
   "metadata": {},
   "outputs": [
    {
     "name": "stdout",
     "output_type": "stream",
     "text": [
      "1\n",
      "2\n",
      "3\n",
      "4\n",
      "5\n",
      "hello\n"
     ]
    }
   ],
   "source": [
    "for i in range (1,10):\n",
    "    print(i)\n",
    "    if i==5:\n",
    "        print(\"hello\")\n",
    "        break\n",
    "        print(\"value found\")\n",
    "       "
   ]
  },
  {
   "cell_type": "code",
   "execution_count": 99,
   "id": "53805494-b1bd-4741-89b2-969b8737e523",
   "metadata": {},
   "outputs": [
    {
     "name": "stdout",
     "output_type": "stream",
     "text": [
      "1\n"
     ]
    }
   ],
   "source": [
    "for i in range (1,10):\n",
    "    print(i)\n",
    "    if i==5:\n",
    "        print(\"hello\")\n",
    "        print(\"value found\")\n",
    "    break"
   ]
  },
  {
   "cell_type": "code",
   "execution_count": 117,
   "id": "2723ee04-2113-4b3a-87a2-6a0ca24f2511",
   "metadata": {},
   "outputs": [
    {
     "name": "stdout",
     "output_type": "stream",
     "text": [
      "1\n",
      "3\n",
      "5\n",
      "7\n",
      "9\n"
     ]
    }
   ],
   "source": [
    "for i in range (1,10,2):\n",
    "   print(i)"
   ]
  },
  {
   "cell_type": "code",
   "execution_count": 137,
   "id": "0f389142-7e99-4554-aee5-ef4e21e6394a",
   "metadata": {},
   "outputs": [
    {
     "ename": "IndentationError",
     "evalue": "unindent does not match any outer indentation level (<string>, line 8)",
     "output_type": "error",
     "traceback": [
      "\u001b[1;36m  File \u001b[1;32m<string>:8\u001b[1;36m\u001b[0m\n\u001b[1;33m    print(\"hello\")\u001b[0m\n\u001b[1;37m                  ^\u001b[0m\n\u001b[1;31mIndentationError\u001b[0m\u001b[1;31m:\u001b[0m unindent does not match any outer indentation level\n"
     ]
    }
   ],
   "source": [
    "lst1=[2,3,5,6,\"python\",6,8.98,\"class\"]\n",
    " \n",
    "for i in lst1:\n",
    "      print(\"item----->\",i)\n",
    "       if type(i)==str:\n",
    "          print(\"string found \")\n",
    "       break\n",
    "     print(\"hello\")"
   ]
  },
  {
   "cell_type": "markdown",
   "id": "978dfc1a-9d79-4da1-9410-e49cc02e0417",
   "metadata": {},
   "source": [
    "2.continue"
   ]
  },
  {
   "cell_type": "code",
   "execution_count": 139,
   "id": "36f4ded9-a5e5-443d-affc-7424fc15db3a",
   "metadata": {},
   "outputs": [
    {
     "name": "stdout",
     "output_type": "stream",
     "text": [
      "number is :  10\n",
      "number is :  11\n",
      "number is :  12\n",
      "required number found\n",
      "number is :  13\n",
      "number is :  14\n"
     ]
    }
   ],
   "source": [
    "for num in range (10,15):\n",
    "   print(\"number is : \",num)\n",
    "   if num==12:\n",
    "      print(\"required number found\")\n",
    "      continue "
   ]
  },
  {
   "cell_type": "markdown",
   "id": "962f7c4e-4b26-48ce-9bd1-87ad043a91c5",
   "metadata": {},
   "source": [
    "for - else"
   ]
  },
  {
   "cell_type": "code",
   "execution_count": 141,
   "id": "29cb94a1-5c11-44ad-8655-73dac029fb04",
   "metadata": {},
   "outputs": [
    {
     "name": "stdout",
     "output_type": "stream",
     "text": [
      "value of i ---->0\n",
      "value of i ---->1\n",
      "value of i ---->2\n",
      "value of i ---->3\n",
      "value of i ---->4\n",
      "for loop completed\n"
     ]
    }
   ],
   "source": [
    "for i in range(5):\n",
    "    print(f\"value of i ---->{i}\")\n",
    "else:\n",
    "    print(\"for loop completed\")"
   ]
  },
  {
   "cell_type": "code",
   "execution_count": null,
   "id": "9ad6fe85-4db4-4c97-bc2d-f9433b1352a7",
   "metadata": {},
   "outputs": [],
   "source": []
  },
  {
   "cell_type": "code",
   "execution_count": null,
   "id": "1050b66c-dbec-4625-95e9-eaa369ddc96e",
   "metadata": {},
   "outputs": [],
   "source": []
  },
  {
   "cell_type": "code",
   "execution_count": null,
   "id": "3c1cce2c-6744-4f8b-bb4d-1d3d1b48a937",
   "metadata": {},
   "outputs": [],
   "source": []
  },
  {
   "cell_type": "code",
   "execution_count": null,
   "id": "3ef0bae2-8346-4cb1-a10e-62b99f85c397",
   "metadata": {},
   "outputs": [],
   "source": []
  },
  {
   "cell_type": "code",
   "execution_count": null,
   "id": "8ffa17bc-071e-4d95-b3b0-fcca694ba6ca",
   "metadata": {},
   "outputs": [],
   "source": []
  },
  {
   "cell_type": "code",
   "execution_count": null,
   "id": "7ee86565-eb4b-409f-bac4-ee6f0d43465f",
   "metadata": {},
   "outputs": [],
   "source": []
  },
  {
   "cell_type": "code",
   "execution_count": null,
   "id": "902b26c0-6e68-4b4e-8b31-6dfa6bcb91b5",
   "metadata": {},
   "outputs": [],
   "source": []
  },
  {
   "cell_type": "code",
   "execution_count": null,
   "id": "3d87b639-ca84-43a7-a8f1-661c97e559d6",
   "metadata": {},
   "outputs": [],
   "source": []
  },
  {
   "cell_type": "code",
   "execution_count": null,
   "id": "6a08666a-3267-40ab-92eb-80d94a9b6e62",
   "metadata": {},
   "outputs": [],
   "source": []
  }
 ],
 "metadata": {
  "kernelspec": {
   "display_name": "Python 3 (ipykernel)",
   "language": "python",
   "name": "python3"
  },
  "language_info": {
   "codemirror_mode": {
    "name": "ipython",
    "version": 3
   },
   "file_extension": ".py",
   "mimetype": "text/x-python",
   "name": "python",
   "nbconvert_exporter": "python",
   "pygments_lexer": "ipython3",
   "version": "3.12.7"
  }
 },
 "nbformat": 4,
 "nbformat_minor": 5
}
