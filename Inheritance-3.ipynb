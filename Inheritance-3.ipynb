{
 "cells": [
  {
   "cell_type": "markdown",
   "id": "5a65d552",
   "metadata": {},
   "source": [
    "# Inheritance"
   ]
  },
  {
   "cell_type": "markdown",
   "id": "c08c29d4",
   "metadata": {},
   "source": [
    "### Overridding Method"
   ]
  },
  {
   "cell_type": "code",
   "execution_count": null,
   "id": "41438a23",
   "metadata": {},
   "outputs": [],
   "source": [
    "# If both the class contains same function name\n",
    "\n",
    "# Parent class function get overridden by child class function."
   ]
  },
  {
   "cell_type": "code",
   "execution_count": 1,
   "id": "4a4f48fa",
   "metadata": {},
   "outputs": [
    {
     "name": "stdout",
     "output_type": "stream",
     "text": [
      "This is init function of child class\n",
      "**************** Parents __init__ method calling ***********\n",
      "This is Student_name_fun in child class\n"
     ]
    }
   ],
   "source": [
    "class StudentName():  # Parent class\n",
    "    \n",
    "    def __init__(self, name):\n",
    "        self.name = name   # instance variable\n",
    "        \n",
    "    def student_name_function(self):   # same function name\n",
    "        print(\"Student Name Function in Parent Class\")\n",
    "\n",
    "\n",
    "class StudentInfo(StudentName):  # Child class\n",
    "    \n",
    "    def __init__(self, NAME, VEHICLE, roll_number, age, marks):\n",
    "        print(\"This is init function of child class\")\n",
    "        \n",
    "        print(\"**************** Parents __init__ method calling ***********\")\n",
    "        super().__init__(NAME)   # calling __init__ method of parent class\n",
    "        \n",
    "                \n",
    "    def student_roll_number(self):\n",
    "        pass\n",
    "        \n",
    "        \n",
    "    def student_name_function(self):   # same function name\n",
    "        print(\"This is Student_name_fun in child class\")\n",
    "\n",
    "\n",
    "obj = StudentInfo(\"Rahul\", \"Bike\", 34, 25, \"96%\")\n",
    "\n",
    "\n",
    "obj.student_name_function()\n"
   ]
  },
  {
   "cell_type": "code",
   "execution_count": 3,
   "id": "e3d9c8d6",
   "metadata": {},
   "outputs": [
    {
     "name": "stdout",
     "output_type": "stream",
     "text": [
      "This is init function of child class\n",
      "**************** Parents __init__ method calling ***********\n",
      "This is Student_name_fun in child class\n"
     ]
    }
   ],
   "source": [
    "class StudentName():  # Parent class\n",
    "    \n",
    "    def __init__(self, name):\n",
    "        self.name = name   # instance variable\n",
    "        \n",
    "    def student_name_function(self):   # same function name\n",
    "        print(\"Student Name Function in Parent Class\")\n",
    "\n",
    "\n",
    "class StudentInfo(StudentName):  # Child class\n",
    "    \n",
    "    def __init__(self, NAME, VEHICLE, roll_number, age, marks):\n",
    "        print(\"This is init function of child class\")\n",
    "        \n",
    "        print(\"**************** Parents __init__ method calling ***********\")\n",
    "        super().__init__(NAME)   # calling __init__ method of parent class\n",
    "        \n",
    "                \n",
    "    def student_roll_number(self):\n",
    "        pass\n",
    "        \n",
    "        \n",
    "    def student_name_function(self):   # same function name\n",
    "        print(\"This is Student_name_fun in child class\")\n",
    "\n",
    "\n",
    "obj = StudentInfo(\"Rahul\", \"Bike\", 34, 25, \"96%\")\n",
    "\n",
    "\n",
    "obj.student_name_function()\n"
   ]
  },
  {
   "cell_type": "code",
   "execution_count": 4,
   "id": "558bdecb",
   "metadata": {},
   "outputs": [
    {
     "name": "stdout",
     "output_type": "stream",
     "text": [
      "This is init function of child class\n",
      "**************** Parents __init__ method calling ***********\n",
      "Student Name Function in Parent Class\n",
      "This is Student_name_fun in child class\n"
     ]
    }
   ],
   "source": [
    "class StudentName():  # Parent class\n",
    "    \n",
    "    def __init__(self, name):\n",
    "        self.name = name   # instance variable\n",
    "        \n",
    "    def student_name_function1(self):   # same function name\n",
    "        print(\"Student Name Function in Parent Class\")\n",
    "\n",
    "\n",
    "class StudentInfo(StudentName):  # Child class\n",
    "    \n",
    "    def __init__(self, NAME, VEHICLE, roll_number, age, marks):\n",
    "        print(\"This is init function of child class\")\n",
    "        \n",
    "        print(\"**************** Parents __init__ method calling ***********\")\n",
    "        super().__init__(NAME)   # calling __init__ method of parent class\n",
    "        \n",
    "                \n",
    "    def student_roll_number(self):\n",
    "        pass\n",
    "        \n",
    "        \n",
    "    def student_name_function2(self):   # same function name\n",
    "        print(\"This is Student_name_fun in child class\")\n",
    "\n",
    "\n",
    "obj = StudentInfo(\"Rahul\", \"Bike\", 34, 25, \"96%\")\n",
    "\n",
    "\n",
    "obj.student_name_function1()\n",
    "obj.student_name_function2()\n"
   ]
  },
  {
   "cell_type": "markdown",
   "id": "005c3475",
   "metadata": {},
   "source": [
    "# Types of Inheritance"
   ]
  },
  {
   "cell_type": "code",
   "execution_count": null,
   "id": "1208b26a",
   "metadata": {},
   "outputs": [],
   "source": [
    "1. Single inheritance\n",
    "2. Multilevel Inheritance\n",
    "3. Multiple Inheritance\n",
    "4. Hirarchical Inheritance\n",
    "5. Hybrid Inheritance"
   ]
  },
  {
   "cell_type": "markdown",
   "id": "18617f98",
   "metadata": {},
   "source": [
    "# 1. Single inheritance"
   ]
  },
  {
   "cell_type": "code",
   "execution_count": null,
   "id": "607e9829",
   "metadata": {},
   "outputs": [],
   "source": [
    "class Parent():  # Base class\n",
    "    def __init__(self):\n",
    "        print(\"Parent class init function\")\n",
    "        \n",
    "class Child():  # Base class\n",
    "    def __init__(self):\n",
    "        print(\"Child class init function\")"
   ]
  },
  {
   "cell_type": "code",
   "execution_count": 5,
   "id": "f1200f6c",
   "metadata": {},
   "outputs": [
    {
     "name": "stdout",
     "output_type": "stream",
     "text": [
      "Child class init function\n"
     ]
    }
   ],
   "source": [
    "class Parent():  # Base class\n",
    "    def __init__(self):\n",
    "        print(\"Parent class init function\")\n",
    "        \n",
    "class Child(Parent):  # Derived class\n",
    "    def __init__(self):\n",
    "        print(\"Child class init function\")\n",
    "        \n",
    "        \n",
    "c1 = Child()"
   ]
  },
  {
   "cell_type": "code",
   "execution_count": 6,
   "id": "c653cfd4",
   "metadata": {},
   "outputs": [
    {
     "name": "stdout",
     "output_type": "stream",
     "text": [
      "Child class init function\n"
     ]
    },
    {
     "data": {
      "text/plain": [
       "100"
      ]
     },
     "execution_count": 6,
     "metadata": {},
     "output_type": "execute_result"
    }
   ],
   "source": [
    "class Parent():  # Base class\n",
    "    var1 = 100   # class variable\n",
    "    \n",
    "    def __init__(self):\n",
    "        print(\"Parent class init function\")\n",
    "        \n",
    "class Child(Parent):  # Derived class\n",
    "    var2 = 200   # class variable\n",
    "    \n",
    "    def __init__(self):\n",
    "        print(\"Child class init function\")\n",
    "        \n",
    "        \n",
    "c1 = Child()\n",
    "c1.var1"
   ]
  },
  {
   "cell_type": "code",
   "execution_count": 7,
   "id": "f97542d8",
   "metadata": {},
   "outputs": [
    {
     "name": "stdout",
     "output_type": "stream",
     "text": [
      "Child class init function\n"
     ]
    },
    {
     "data": {
      "text/plain": [
       "200"
      ]
     },
     "execution_count": 7,
     "metadata": {},
     "output_type": "execute_result"
    }
   ],
   "source": [
    "class Parent():  # Base class\n",
    "    var1 = 100   # class variable\n",
    "    \n",
    "    def __init__(self):\n",
    "        print(\"Parent class init function\")\n",
    "        \n",
    "class Child(Parent):  # Derived class\n",
    "    var2 = 200   # class variable\n",
    "    \n",
    "    def __init__(self):\n",
    "        print(\"Child class init function\")\n",
    "        \n",
    "        \n",
    "c1 = Child()\n",
    "c1.var2"
   ]
  },
  {
   "cell_type": "code",
   "execution_count": 8,
   "id": "2ac341ca",
   "metadata": {},
   "outputs": [
    {
     "name": "stdout",
     "output_type": "stream",
     "text": [
      "Child class init function\n"
     ]
    },
    {
     "ename": "AttributeError",
     "evalue": "'Child' object has no attribute 'var3'",
     "output_type": "error",
     "traceback": [
      "\u001b[1;31m---------------------------------------------------------------------------\u001b[0m",
      "\u001b[1;31mAttributeError\u001b[0m                            Traceback (most recent call last)",
      "Cell \u001b[1;32mIn [8], line 17\u001b[0m\n\u001b[0;32m     13\u001b[0m         \u001b[38;5;28mprint\u001b[39m(\u001b[38;5;124m\"\u001b[39m\u001b[38;5;124mChild class init function\u001b[39m\u001b[38;5;124m\"\u001b[39m)\n\u001b[0;32m     16\u001b[0m c1 \u001b[38;5;241m=\u001b[39m Child()\n\u001b[1;32m---> 17\u001b[0m \u001b[43mc1\u001b[49m\u001b[38;5;241;43m.\u001b[39;49m\u001b[43mvar3\u001b[49m\n",
      "\u001b[1;31mAttributeError\u001b[0m: 'Child' object has no attribute 'var3'"
     ]
    }
   ],
   "source": [
    "class Parent():  # Base class\n",
    "    var1 = 100   # class variable\n",
    "    \n",
    "    def __init__(self):\n",
    "        print(\"Parent class init function\")\n",
    "        \n",
    "        self.var3 = 300   # instance variable\n",
    "        \n",
    "class Child(Parent):  # Derived class\n",
    "    var2 = 200   # class variable\n",
    "    \n",
    "    def __init__(self):\n",
    "        print(\"Child class init function\")\n",
    "        \n",
    "        \n",
    "c1 = Child()\n",
    "c1.var3"
   ]
  },
  {
   "cell_type": "code",
   "execution_count": 11,
   "id": "e931bb1f",
   "metadata": {},
   "outputs": [
    {
     "name": "stdout",
     "output_type": "stream",
     "text": [
      "Child class init function\n",
      "Parent class init function\n"
     ]
    },
    {
     "data": {
      "text/plain": [
       "300"
      ]
     },
     "execution_count": 11,
     "metadata": {},
     "output_type": "execute_result"
    }
   ],
   "source": [
    "class Parent():  # Base class\n",
    "    var1 = 100   # class variable\n",
    "    \n",
    "    def __init__(self):\n",
    "        print(\"Parent class init function\")\n",
    "        \n",
    "        self.var3 = 300   # instance variable\n",
    "        \n",
    "class Child(Parent):  # Derived class\n",
    "    var2 = 200   # class variable\n",
    "    \n",
    "    def __init__(self):\n",
    "        print(\"Child class init function\")\n",
    "        \n",
    "        Parent.__init__(self)   # calling __init__ method of parent class\n",
    "        \n",
    "        \n",
    "c1 = Child()\n",
    "c1.var3"
   ]
  },
  {
   "cell_type": "markdown",
   "id": "868865f6",
   "metadata": {},
   "source": [
    "# 2. Multilevel Inheritance"
   ]
  },
  {
   "cell_type": "code",
   "execution_count": null,
   "id": "989978d6",
   "metadata": {},
   "outputs": [],
   "source": [
    "class GrandFather:  # Base Class\n",
    "    def __init__(self):\n",
    "        print(\"GrandFather Class init Function\")\n",
    "        \n",
    "        \n",
    "class Father:  # Base Class\n",
    "    def __init__(self):\n",
    "        print(\"Father Class init Function\")\n",
    "        \n",
    "        \n",
    "class Child: # Base Class\n",
    "    def __init__(self): \n",
    "        print(\"Child Class init Function\")"
   ]
  },
  {
   "cell_type": "code",
   "execution_count": 1,
   "id": "2a1e80a8",
   "metadata": {},
   "outputs": [
    {
     "name": "stdout",
     "output_type": "stream",
     "text": [
      "Child Class init Function\n"
     ]
    },
    {
     "data": {
      "text/plain": [
       "100"
      ]
     },
     "execution_count": 1,
     "metadata": {},
     "output_type": "execute_result"
    }
   ],
   "source": [
    "class GrandFather:  # Base Class\n",
    "    var1 = 100\n",
    "    def __init__(self):\n",
    "        print(\"GrandFather Class init Function\")\n",
    "        \n",
    "        \n",
    "class Father(GrandFather):  # Child class of GrandFather\n",
    "    var2 = 200\n",
    "    def __init__(self):\n",
    "        print(\"Father Class init Function\")\n",
    "        \n",
    "        \n",
    "class Child(Father): # Child class of Father\n",
    "    var3 = 300\n",
    "    def __init__(self): \n",
    "        print(\"Child Class init Function\")\n",
    "        \n",
    "        \n",
    "c1 = Child()\n",
    "c1.var1"
   ]
  },
  {
   "cell_type": "code",
   "execution_count": 14,
   "id": "e476ef31",
   "metadata": {},
   "outputs": [
    {
     "name": "stdout",
     "output_type": "stream",
     "text": [
      "Child Class init Function\n",
      "Father Class init Function\n"
     ]
    }
   ],
   "source": [
    "class GrandFather:  # Base Class\n",
    "    var1 = 100\n",
    "    def __init__(self):\n",
    "        print(\"GrandFather Class init Function\")\n",
    "        \n",
    "        \n",
    "class Father(GrandFather):  # Child class of GrandFather\n",
    "    var2 = 200\n",
    "    def __init__(self):\n",
    "        print(\"Father Class init Function\")\n",
    "        \n",
    "        \n",
    "class Child(Father): # Child class of Father\n",
    "    var3 = 300\n",
    "    def __init__(self): \n",
    "        print(\"Child Class init Function\")\n",
    "        super().__init__()\n",
    "        \n",
    "        \n",
    "c1 = Child()"
   ]
  },
  {
   "cell_type": "code",
   "execution_count": 15,
   "id": "223b6895",
   "metadata": {},
   "outputs": [
    {
     "name": "stdout",
     "output_type": "stream",
     "text": [
      "Child Class init Function\n",
      "Father Class init Function\n",
      "GrandFather Class init Function\n"
     ]
    }
   ],
   "source": [
    "class GrandFather:  # Base Class\n",
    "    var1 = 100\n",
    "    def __init__(self):\n",
    "        print(\"GrandFather Class init Function\")\n",
    "        \n",
    "        \n",
    "class Father(GrandFather):  # Child class of GrandFather\n",
    "    var2 = 200\n",
    "    def __init__(self):\n",
    "        print(\"Father Class init Function\")\n",
    "        super().__init__()\n",
    "        \n",
    "        \n",
    "class Child(Father): # Child class of Father\n",
    "    var3 = 300\n",
    "    def __init__(self): \n",
    "        print(\"Child Class init Function\")\n",
    "        super().__init__()\n",
    "        \n",
    "        \n",
    "c1 = Child()"
   ]
  },
  {
   "cell_type": "code",
   "execution_count": 16,
   "id": "516e9840",
   "metadata": {},
   "outputs": [
    {
     "name": "stdout",
     "output_type": "stream",
     "text": [
      "Child Class init Function\n",
      "Father Class init Function\n",
      "GrandFather Class init Function\n"
     ]
    }
   ],
   "source": [
    "class GrandFather:  # Base Class\n",
    "    var1 = 100\n",
    "    def __init__(self):\n",
    "        print(\"GrandFather Class init Function\")\n",
    "        \n",
    "        \n",
    "class Father(GrandFather):  # Child class of GrandFather\n",
    "    var2 = 200\n",
    "    def __init__(self):\n",
    "        print(\"Father Class init Function\")\n",
    "        \n",
    "        \n",
    "class Child(Father): # Child class of Father\n",
    "    var3 = 300\n",
    "    def __init__(self): \n",
    "        print(\"Child Class init Function\")\n",
    "        Father.__init__(self)\n",
    "        GrandFather.__init__(self)\n",
    "        \n",
    "        \n",
    "c1 = Child()"
   ]
  },
  {
   "cell_type": "markdown",
   "id": "28134aa1",
   "metadata": {},
   "source": [
    "# 3. Multiple Inheritance"
   ]
  },
  {
   "cell_type": "code",
   "execution_count": 17,
   "id": "8a0208c0",
   "metadata": {},
   "outputs": [],
   "source": [
    "class Father:   # Base Class\n",
    "    pass\n",
    "\n",
    "class Mother:  # Base Class\n",
    "    pass\n",
    "\n",
    "class Child(Father, Mother):   # Derived Class\n",
    "    pass"
   ]
  },
  {
   "cell_type": "code",
   "execution_count": null,
   "id": "76401ee3",
   "metadata": {},
   "outputs": [],
   "source": [
    "class BaseClass1:\n",
    "    pass\n",
    "\n",
    "class BaseClass2:\n",
    "    pass\n",
    "\n",
    "class DerivedClass(BaseClass1, BaseClass2):\n",
    "    pass\n",
    "\n",
    "\n",
    "Obj = DerivedClass()"
   ]
  },
  {
   "cell_type": "code",
   "execution_count": 18,
   "id": "a71c7eea",
   "metadata": {},
   "outputs": [
    {
     "name": "stdout",
     "output_type": "stream",
     "text": [
      "Derived Class init Method\n"
     ]
    }
   ],
   "source": [
    "class BaseClass1:\n",
    "    var1 = \"Python\"\n",
    "    \n",
    "    def __init__(self):\n",
    "        print(\"BaseClass1 init Method\")\n",
    "\n",
    "class BaseClass2:\n",
    "    var2 = \"Machine Learning\"\n",
    "    \n",
    "    def __init__(self):\n",
    "        print(\"BaseClass2 init Method\")\n",
    "        \n",
    "class BaseClass3:\n",
    "    var3 = \"Deepe Learning\"\n",
    "    \n",
    "    def __init__(self):\n",
    "        print(\"BaseClass3 init Method\")\n",
    "\n",
    "    \n",
    "class DerivedClass(BaseClass1, BaseClass2, BaseClass3):\n",
    "    var4 = \"Data Science\"\n",
    "\n",
    "    def __init__(self):\n",
    "        print(\"Derived Class init Method\")\n",
    "\n",
    "\n",
    "Obj = DerivedClass()"
   ]
  },
  {
   "cell_type": "code",
   "execution_count": 19,
   "id": "ffbb8e26",
   "metadata": {},
   "outputs": [
    {
     "name": "stdout",
     "output_type": "stream",
     "text": [
      "Derived Class init Method\n"
     ]
    }
   ],
   "source": [
    "class BaseClass1:\n",
    "    var1 = \"Python\"   # class variable\n",
    "    \n",
    "    def __init__(self):\n",
    "        print(\"BaseClass1 init Method\")\n",
    "\n",
    "class BaseClass2:\n",
    "    var2 = \"Machine Learning\"\n",
    "    \n",
    "    def __init__(self):\n",
    "        print(\"BaseClass2 init Method\")\n",
    "        \n",
    "class BaseClass3:\n",
    "    var3 = \"Deepe Learning\"\n",
    "    \n",
    "    def __init__(self):\n",
    "        print(\"BaseClass3 init Method\")\n",
    "\n",
    "    \n",
    "class DerivedClass(BaseClass1, BaseClass2, BaseClass3):\n",
    "    var4 = \"Data Science\"\n",
    "\n",
    "    def __init__(self):\n",
    "        print(\"Derived Class init Method\")\n",
    "        \n",
    "    \n",
    "    def display(self):\n",
    "        print(\"var1 --->\", self.var1)\n",
    "        print(\"var2 --->\", self.var2)\n",
    "        print(\"var3 --->\", self.var3)\n",
    "        print(\"var4 --->\", var4)\n",
    "\n",
    "\n",
    "Obj = DerivedClass()"
   ]
  },
  {
   "cell_type": "code",
   "execution_count": 9,
   "id": "bff2fde9",
   "metadata": {},
   "outputs": [
    {
     "name": "stdout",
     "output_type": "stream",
     "text": [
      "Derived Class init Method\n",
      "var1 ---> Python\n",
      "var2 ---> Machine Learning\n",
      "var3 ---> Deepe Learning\n"
     ]
    },
    {
     "ename": "NameError",
     "evalue": "name 'var4' is not defined",
     "output_type": "error",
     "traceback": [
      "\u001b[1;31m---------------------------------------------------------------------------\u001b[0m",
      "\u001b[1;31mNameError\u001b[0m                                 Traceback (most recent call last)",
      "Cell \u001b[1;32mIn[9], line 36\u001b[0m\n\u001b[0;32m     32\u001b[0m         \u001b[38;5;28mprint\u001b[39m(\u001b[38;5;124m\"\u001b[39m\u001b[38;5;124mvar4 --->\u001b[39m\u001b[38;5;124m\"\u001b[39m, var4)\n\u001b[0;32m     35\u001b[0m Obj \u001b[38;5;241m=\u001b[39m DerivedClass()\n\u001b[1;32m---> 36\u001b[0m Obj\u001b[38;5;241m.\u001b[39mdisplay()\n",
      "Cell \u001b[1;32mIn[9], line 32\u001b[0m, in \u001b[0;36mDerivedClass.display\u001b[1;34m(self)\u001b[0m\n\u001b[0;32m     30\u001b[0m \u001b[38;5;28mprint\u001b[39m(\u001b[38;5;124m\"\u001b[39m\u001b[38;5;124mvar2 --->\u001b[39m\u001b[38;5;124m\"\u001b[39m, \u001b[38;5;28mself\u001b[39m\u001b[38;5;241m.\u001b[39mvar2)\n\u001b[0;32m     31\u001b[0m \u001b[38;5;28mprint\u001b[39m(\u001b[38;5;124m\"\u001b[39m\u001b[38;5;124mvar3 --->\u001b[39m\u001b[38;5;124m\"\u001b[39m, \u001b[38;5;28mself\u001b[39m\u001b[38;5;241m.\u001b[39mvar3)\n\u001b[1;32m---> 32\u001b[0m \u001b[38;5;28mprint\u001b[39m(\u001b[38;5;124m\"\u001b[39m\u001b[38;5;124mvar4 --->\u001b[39m\u001b[38;5;124m\"\u001b[39m, var4)\n",
      "\u001b[1;31mNameError\u001b[0m: name 'var4' is not defined"
     ]
    }
   ],
   "source": [
    "class BaseClass1:\n",
    "    var1 = \"Python\"   # class variable\n",
    "    \n",
    "    def __init__(self):\n",
    "        print(\"BaseClass1 init Method\")\n",
    "\n",
    "class BaseClass2:\n",
    "    var2 = \"Machine Learning\"\n",
    "    \n",
    "    def __init__(self):\n",
    "        print(\"BaseClass2 init Method\")\n",
    "        \n",
    "class BaseClass3:\n",
    "    var3 = \"Deepe Learning\"\n",
    "    \n",
    "    def __init__(self):\n",
    "        print(\"BaseClass3 init Method\")\n",
    "\n",
    "    \n",
    "class DerivedClass(BaseClass1, BaseClass2, BaseClass3):\n",
    "    var4 = \"Data Science\"\n",
    "\n",
    "    def __init__(self):\n",
    "        print(\"Derived Class init Method\")\n",
    "        \n",
    "    \n",
    "    def display(self):\n",
    "        \n",
    "        print(\"var1 --->\", self.var1)\n",
    "        print(\"var2 --->\", self.var2)\n",
    "        print(\"var3 --->\", self.var3)\n",
    "        print(\"var4 --->\", var4)\n",
    "\n",
    "\n",
    "Obj = DerivedClass()\n",
    "Obj.display()"
   ]
  },
  {
   "cell_type": "code",
   "execution_count": 22,
   "id": "c6fe851a",
   "metadata": {},
   "outputs": [
    {
     "name": "stdout",
     "output_type": "stream",
     "text": [
      "******* Data Science\n",
      "Derived Class init Method\n",
      "var1 ---> Python\n",
      "var2 ---> Machine Learning\n",
      "var3 ---> Deepe Learning\n",
      "var4 ---> Data Science\n",
      "AL --> AI\n"
     ]
    }
   ],
   "source": [
    "global_var = \"AI\"\n",
    "\n",
    "class BaseClass1:\n",
    "    var1 = \"Python\"   # class variable\n",
    "    \n",
    "    def __init__(self):\n",
    "        print(\"BaseClass1 init Method\")\n",
    "\n",
    "class BaseClass2:\n",
    "    var2 = \"Machine Learning\"\n",
    "    \n",
    "    def __init__(self):\n",
    "        print(\"BaseClass2 init Method\")\n",
    "        \n",
    "class BaseClass3:\n",
    "    var3 = \"Deepe Learning\"\n",
    "    \n",
    "    def __init__(self):\n",
    "        print(\"BaseClass3 init Method\")\n",
    "\n",
    "    \n",
    "class DerivedClass(BaseClass1, BaseClass2, BaseClass3):\n",
    "    var4 = \"Data Science\"   # class variable\n",
    "    print(\"*******\", var4)\n",
    "    \n",
    "    def __init__(self):\n",
    "        print(\"Derived Class init Method\")\n",
    "        \n",
    "    def display(self):\n",
    "        print(\"var1 --->\", self.var1)\n",
    "        print(\"var2 --->\", self.var2)\n",
    "        print(\"var3 --->\", BaseClass3.var3)\n",
    "        print(\"var4 --->\", self.var4)\n",
    "        print(\"AL -->\", global_var)\n",
    "\n",
    "\n",
    "Obj = DerivedClass()\n",
    "Obj.display()"
   ]
  },
  {
   "cell_type": "code",
   "execution_count": 28,
   "id": "f11231bc",
   "metadata": {},
   "outputs": [
    {
     "name": "stdout",
     "output_type": "stream",
     "text": [
      "******* Data Science\n",
      "Derived Class init Method\n",
      "var1 ---> Python\n",
      "var2 ---> Machine Learning\n",
      "var3 ---> Deepe Learning\n",
      "var4 ---> Data Science\n",
      "AL --> AI\n",
      "Printing 'a' --> 10\n"
     ]
    }
   ],
   "source": [
    "global_var = \"AI\"\n",
    "\n",
    "class BaseClass1:\n",
    "    var1 = \"Python\"   # class variable\n",
    "    \n",
    "    def __init__(self):\n",
    "        print(\"BaseClass1 init Method\")\n",
    "\n",
    "class BaseClass2:\n",
    "    var2 = \"Machine Learning\"\n",
    "    \n",
    "    def __init__(self):\n",
    "        print(\"BaseClass2 init Method\")\n",
    "        \n",
    "class BaseClass3:\n",
    "    var3 = \"Deepe Learning\"\n",
    "    \n",
    "    def __init__(self):\n",
    "        print(\"BaseClass3 init Method\")\n",
    "    \n",
    "class DerivedClass(BaseClass1, BaseClass2, BaseClass3):\n",
    "    var4 = \"Data Science\"   # class variable\n",
    "    print(\"*******\", var4)\n",
    "    \n",
    "    def __init__(self, a):\n",
    "        print(\"Derived Class init Method\")\n",
    "        # a is local variable\n",
    "        \n",
    "        # make that a as instance variable\n",
    "        self.a = a  # instance variable\n",
    "        \n",
    "    def display(self):\n",
    "        print(\"var1 --->\", self.var1)\n",
    "        print(\"var2 --->\", self.var2)\n",
    "        print(\"var3 --->\", BaseClass3.var3)\n",
    "        print(\"var4 --->\", self.var4)\n",
    "        print(\"AL -->\", global_var)\n",
    "        print(\"Printing 'a' -->\", self.a)\n",
    "\n",
    "        \n",
    "Obj = DerivedClass(10)\n",
    "Obj.display()"
   ]
  },
  {
   "cell_type": "code",
   "execution_count": 29,
   "id": "55593345",
   "metadata": {},
   "outputs": [
    {
     "name": "stdout",
     "output_type": "stream",
     "text": [
      "******* Data Science\n",
      "Derived Class init Method\n",
      "BaseClass1 init Method\n",
      "BaseClass2 init Method\n",
      "BaseClass3 init Method\n"
     ]
    }
   ],
   "source": [
    "global_var = \"AI\"\n",
    "\n",
    "class BaseClass1:\n",
    "    var1 = \"Python\"   # class variable\n",
    "    \n",
    "    def __init__(self):\n",
    "        print(\"BaseClass1 init Method\")\n",
    "\n",
    "class BaseClass2:\n",
    "    var2 = \"Machine Learning\"\n",
    "    \n",
    "    def __init__(self):\n",
    "        print(\"BaseClass2 init Method\")\n",
    "        \n",
    "class BaseClass3:\n",
    "    var3 = \"Deepe Learning\"\n",
    "    \n",
    "    def __init__(self):\n",
    "        print(\"BaseClass3 init Method\")\n",
    "    \n",
    "class DerivedClass(BaseClass1, BaseClass2, BaseClass3):\n",
    "    var4 = \"Data Science\"   # class variable\n",
    "    print(\"*******\", var4)\n",
    "    \n",
    "    def __init__(self, a):\n",
    "        print(\"Derived Class init Method\")\n",
    "        # a is local variable\n",
    "        \n",
    "        # make that a as instance variable\n",
    "        self.a = a  # instance variable\n",
    "        \n",
    "        BaseClass1.__init__(self)\n",
    "        BaseClass2.__init__(self)\n",
    "        BaseClass3.__init__(self)\n",
    "        \n",
    "    def display(self):\n",
    "        print(\"var1 --->\", self.var1)\n",
    "        print(\"var2 --->\", self.var2)\n",
    "        print(\"var3 --->\", BaseClass3.var3)\n",
    "        print(\"var4 --->\", self.var4)\n",
    "        print(\"AL -->\", global_var)\n",
    "        print(\"Printing 'a' -->\", self.a)\n",
    "\n",
    "\n",
    "Obj = DerivedClass(10)\n",
    "# Obj.display()"
   ]
  },
  {
   "cell_type": "code",
   "execution_count": 32,
   "id": "521ceba4",
   "metadata": {},
   "outputs": [
    {
     "name": "stdout",
     "output_type": "stream",
     "text": [
      "******* Data Science\n",
      "Derived Class init Method\n",
      "BaseClass3 init Method\n"
     ]
    }
   ],
   "source": [
    "global_var = \"AI\"\n",
    "\n",
    "class BaseClass1:\n",
    "    var1 = \"Python\"   # class variable\n",
    "    \n",
    "    def __init__(self):\n",
    "        print(\"BaseClass1 init Method\")\n",
    "\n",
    "class BaseClass2:\n",
    "    var2 = \"Machine Learning\"\n",
    "    \n",
    "    def __init__(self):\n",
    "        print(\"BaseClass2 init Method\")\n",
    "        \n",
    "class BaseClass3:\n",
    "    var3 = \"Deepe Learning\"\n",
    "    \n",
    "    def __init__(self):\n",
    "        print(\"BaseClass3 init Method\")\n",
    "    \n",
    "class DerivedClass(BaseClass1, BaseClass2, BaseClass3):\n",
    "    var4 = \"Data Science\"   # class variable\n",
    "    print(\"*******\", var4)\n",
    "    \n",
    "    def __init__(self):\n",
    "        print(\"Derived Class init Method\")\n",
    "        \n",
    "        super().__init__()  # It will always take __init__ method of 1st inherited class\n",
    "\n",
    "\n",
    "Obj = DerivedClass()"
   ]
  },
  {
   "cell_type": "markdown",
   "id": "5c844b00",
   "metadata": {},
   "source": [
    "# 4. Hierachical Inheritance"
   ]
  },
  {
   "cell_type": "code",
   "execution_count": null,
   "id": "0ae72c02",
   "metadata": {},
   "outputs": [],
   "source": [
    "A type of inheritance in which a single parent class is inheriteed by multiple child classes.\n",
    "\n",
    "\n",
    "Single Base class and multiple derived class"
   ]
  },
  {
   "cell_type": "code",
   "execution_count": null,
   "id": "8d9c5c80",
   "metadata": {},
   "outputs": [],
   "source": [
    "class Parent:\n",
    "    pass\n",
    "\n",
    "class Child1(Parent):\n",
    "    pass\n",
    "\n",
    "class Child2(Parent):\n",
    "    pass"
   ]
  },
  {
   "cell_type": "code",
   "execution_count": null,
   "id": "fb334b79",
   "metadata": {},
   "outputs": [],
   "source": [
    "class Parent:\n",
    "    pass\n",
    "\n",
    "class Child1(Parent):\n",
    "    pass\n",
    "\n",
    "class Child2(Parent):\n",
    "    pass\n",
    "\n",
    "c1 = Child1()  # Create Object of both child classes\n",
    "c2 = Child2()"
   ]
  },
  {
   "cell_type": "code",
   "execution_count": 36,
   "id": "07a2cbac",
   "metadata": {},
   "outputs": [
    {
     "name": "stdout",
     "output_type": "stream",
     "text": [
      "Multiplication of 2 and 5 is 10\n",
      "**********************\n",
      "Multiplication of 10 and 20 is 200\n"
     ]
    }
   ],
   "source": [
    "class BaseClass:  # Base class\n",
    "    var1 = \"Python\"\n",
    "    def __init__(self):\n",
    "        pass\n",
    "    \n",
    "    def multiplication(self):\n",
    "        mult = self.a * self.b\n",
    "        print(f\"Multiplication of {self.a} and {self.b} is {mult}\")\n",
    "    \n",
    "class DerivedClass1(BaseClass):\n",
    "    var2 = \"Data Science\"\n",
    "    \n",
    "    def __init__(self, a, b):\n",
    "        self.a = a\n",
    "        self.b = b\n",
    "        \n",
    "        self.multiplication()\n",
    "\n",
    "    def addition(self):\n",
    "        add = self.a + self.b\n",
    "        print(f\"Addition of {self.a} and {self.b} is {add}\")\n",
    "    \n",
    "class DerivedClass2(BaseClass):\n",
    "    var3 = \"Natural Language Processing\"\n",
    "    def __init__(self, a, b):\n",
    "        self.a = a\n",
    "        self.b = b\n",
    "        \n",
    "        self.multiplication()\n",
    "\n",
    "        \n",
    "d1 = DerivedClass1(2,5)  \n",
    "\n",
    "print(\"**********************\")\n",
    "\n",
    "d2 = DerivedClass2(10,20)"
   ]
  },
  {
   "cell_type": "markdown",
   "id": "bc689ee1",
   "metadata": {},
   "source": [
    "# 5. Hybrid Inheritance"
   ]
  },
  {
   "cell_type": "code",
   "execution_count": null,
   "id": "2e6fae6e",
   "metadata": {},
   "outputs": [],
   "source": [
    "It is combination of single, multilevel multiple and Hierarchical Inheritances"
   ]
  },
  {
   "cell_type": "code",
   "execution_count": null,
   "id": "066b65c7",
   "metadata": {},
   "outputs": [],
   "source": [
    "class ClassA():\n",
    "    pass\n",
    "\n",
    "class ClassB(ClassA):\n",
    "    pass\n",
    "\n",
    "class ClassC(ClassA):\n",
    "    pass\n",
    "\n",
    "class ClassD(ClassB):\n",
    "    pass\n",
    "\n",
    "class ClassE(ClassC, ClassD):\n",
    "    pass"
   ]
  },
  {
   "cell_type": "code",
   "execution_count": null,
   "id": "447d9a41",
   "metadata": {},
   "outputs": [],
   "source": [
    "1. Single Inheritance --> ClassA and ClassB --> Create an object of ClassB\n",
    "\n",
    "2. Multilevel Inheritance --> ClassA, ClassB, ClassD --> Create an object of ClassD\n",
    "\n",
    "3. Multiple Inheritance --> ClassC, ClassD, ClassE --> Create an object of ClassE\n",
    "\n",
    "4. Hierarchical Inheritance --> ClassA, ClassB, ClassC --> Create an object of ClassB and ClassC\n",
    "\n",
    "5. Hybrid"
   ]
  },
  {
   "cell_type": "code",
   "execution_count": 42,
   "id": "60b9c668",
   "metadata": {},
   "outputs": [
    {
     "name": "stdout",
     "output_type": "stream",
     "text": [
      "*playing music*\n",
      "stop playing\n",
      "I am gitarist\n"
     ]
    }
   ],
   "source": [
    "class Music:\n",
    "    def play():\n",
    "        print(\"*playing music*\")\n",
    "\n",
    "    def stop():\n",
    "        print(\"stop playing\")\n",
    "        \n",
    "class Studio(Music):\n",
    "    \n",
    "    def gitar():\n",
    "        print(\"I am gitarist\")\n",
    "        \n",
    "\n",
    "Studio.play()\n",
    "Studio.stop()\n",
    "Studio.gitar()"
   ]
  },
  {
   "cell_type": "code",
   "execution_count": 41,
   "id": "b32c3ba7",
   "metadata": {},
   "outputs": [
    {
     "name": "stdout",
     "output_type": "stream",
     "text": [
      "*playing music*\n",
      "stop playing\n",
      "I am gitarist\n"
     ]
    }
   ],
   "source": [
    "class Music:\n",
    "    def play(self):\n",
    "        print(\"*playing music*\")\n",
    "\n",
    "    def stop(self):\n",
    "        print(\"stop playing\")\n",
    "        \n",
    "class Studio(Music):\n",
    "    \n",
    "    def gitar(self):\n",
    "        print(\"I am gitarist\")\n",
    "        \n",
    "obj = Studio()\n",
    "obj.play()\n",
    "obj.stop()\n",
    "obj.gitar()"
   ]
  },
  {
   "cell_type": "code",
   "execution_count": 44,
   "id": "485cc356",
   "metadata": {},
   "outputs": [
    {
     "name": "stdout",
     "output_type": "stream",
     "text": [
      "Init Method\n",
      "60\n"
     ]
    }
   ],
   "source": [
    "class Test:\n",
    "    \n",
    "    def __init__(self, a, b, c):\n",
    "        print(\"Init Method\")\n",
    "        self.a = a\n",
    "        self.b = b\n",
    "        self.c = c\n",
    "    \n",
    "    def add(self):\n",
    "        add = self.a + self.b\n",
    "        print(add)\n",
    "        \n",
    "    def add(self):\n",
    "        add = self.a + self.b + self.c\n",
    "        print(add)                             # Overridding\n",
    "        \n",
    "Obj = Test(10,20,30)\n",
    "Obj.add()"
   ]
  },
  {
   "cell_type": "code",
   "execution_count": 47,
   "id": "6a274deb",
   "metadata": {},
   "outputs": [
    {
     "name": "stdout",
     "output_type": "stream",
     "text": [
      "Init Method\n"
     ]
    },
    {
     "ename": "TypeError",
     "evalue": "Test2.add() missing 1 required positional argument: 'c'",
     "output_type": "error",
     "traceback": [
      "\u001b[1;31m---------------------------------------------------------------------------\u001b[0m",
      "\u001b[1;31mTypeError\u001b[0m                                 Traceback (most recent call last)",
      "Cell \u001b[1;32mIn [47], line 17\u001b[0m\n\u001b[0;32m     13\u001b[0m         \u001b[38;5;28mprint\u001b[39m(add)                             \u001b[38;5;66;03m# Overridding\u001b[39;00m\n\u001b[0;32m     16\u001b[0m Obj \u001b[38;5;241m=\u001b[39m Test2()\n\u001b[1;32m---> 17\u001b[0m \u001b[43mObj\u001b[49m\u001b[38;5;241;43m.\u001b[39;49m\u001b[43madd\u001b[49m\u001b[43m(\u001b[49m\u001b[38;5;241;43m100\u001b[39;49m\u001b[43m,\u001b[49m\u001b[38;5;241;43m200\u001b[39;49m\u001b[43m)\u001b[49m\n",
      "\u001b[1;31mTypeError\u001b[0m: Test2.add() missing 1 required positional argument: 'c'"
     ]
    }
   ],
   "source": [
    "class Test:\n",
    "    def __init__(self):\n",
    "        print(\"Init Method\")\n",
    "        \n",
    "    def add(self, a, b):\n",
    "        add = a + b\n",
    "        print(add)\n",
    "        \n",
    "class Test2(Test):\n",
    "    \n",
    "    def add(self, a, b, c):\n",
    "        add = a + b + c\n",
    "        print(add)                             # Overridding\n",
    "        \n",
    "Obj = Test2()\n",
    "Obj.add(100,200)"
   ]
  },
  {
   "cell_type": "code",
   "execution_count": null,
   "id": "69594f0f",
   "metadata": {},
   "outputs": [],
   "source": []
  }
 ],
 "metadata": {
  "kernelspec": {
   "display_name": "Python 3 (ipykernel)",
   "language": "python",
   "name": "python3"
  },
  "language_info": {
   "codemirror_mode": {
    "name": "ipython",
    "version": 3
   },
   "file_extension": ".py",
   "mimetype": "text/x-python",
   "name": "python",
   "nbconvert_exporter": "python",
   "pygments_lexer": "ipython3",
   "version": "3.12.4"
  }
 },
 "nbformat": 4,
 "nbformat_minor": 5
}
