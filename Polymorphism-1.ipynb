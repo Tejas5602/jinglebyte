{
 "cells": [
  {
   "cell_type": "markdown",
   "id": "a2d2993c",
   "metadata": {},
   "source": [
    "# Polymorphism"
   ]
  },
  {
   "cell_type": "code",
   "execution_count": null,
   "id": "de68ca39",
   "metadata": {},
   "outputs": [],
   "source": [
    "Poly >> many\n",
    "Morphism >> Forms\n",
    "Polymorphism >> Many/Multiple forms\n",
    "\n",
    "\n",
    "Methods with identical Name\n",
    "Same function names are used in many class"
   ]
  },
  {
   "cell_type": "code",
   "execution_count": 7,
   "id": "214556bd",
   "metadata": {},
   "outputs": [
    {
     "name": "stdout",
     "output_type": "stream",
     "text": [
      "5\n",
      "7\n",
      "6\n",
      "12\n",
      "2\n"
     ]
    }
   ],
   "source": [
    "list1 = [4,5,6,7,8]\n",
    "tuple1 = (10,2,0,3,0,4,2)\n",
    "set1 = {1,2,3,46,7,8}\n",
    "string1 = \"Python Class\"\n",
    "dict2 = {\"X\":50, \"Y\":100}\n",
    "\n",
    "\n",
    "\n",
    "print(len(list1))\n",
    "print(len(tuple1))\n",
    "print(len(set1))\n",
    "print(len(string1))\n",
    "print(len(dict2))"
   ]
  },
  {
   "cell_type": "code",
   "execution_count": 11,
   "id": "e9ac0345",
   "metadata": {},
   "outputs": [
    {
     "data": {
      "text/plain": [
       "67"
      ]
     },
     "execution_count": 11,
     "metadata": {},
     "output_type": "execute_result"
    }
   ],
   "source": [
    "list1 = [4,5,6,7,8]\n",
    "tuple1 = (10,2,0,3,0,4,2)\n",
    "set1 = {1,2,3,46,7,8}\n",
    "\n",
    "sum(list1)\n",
    "sum(tuple1)\n",
    "sum(set1)"
   ]
  },
  {
   "cell_type": "code",
   "execution_count": null,
   "id": "b7d378de",
   "metadata": {},
   "outputs": [],
   "source": [
    "# sorted\n",
    "# min\n",
    "# max\n",
    "# ...."
   ]
  },
  {
   "cell_type": "code",
   "execution_count": 15,
   "id": "2dc9e7d5",
   "metadata": {},
   "outputs": [],
   "source": [
    "class Circle:   \n",
    "    pass\n",
    "\n",
    "class Square:\n",
    "    pass\n",
    "\n",
    "class Rectangle:\n",
    "    pass"
   ]
  },
  {
   "cell_type": "code",
   "execution_count": 1,
   "id": "0afbd083",
   "metadata": {},
   "outputs": [
    {
     "name": "stdout",
     "output_type": "stream",
     "text": [
      "Area of Circle\n",
      "Area of Rectangle\n",
      "Area of Square\n"
     ]
    }
   ],
   "source": [
    "class Circle:\n",
    "    def area(self):\n",
    "        print(\"Area of Circle\")\n",
    "\n",
    "class Square:\n",
    "    def area(self):\n",
    "        print(\"Area of Square\")\n",
    "\n",
    "class Rectangle:\n",
    "    def area(self):\n",
    "        print(\"Area of Rectangle\")\n",
    "        \n",
    "        \n",
    "c1 = Circle()\n",
    "c1.area()\n",
    "\n",
    "r1 = Rectangle()\n",
    "r1.area()\n",
    "\n",
    "s1 = Square()\n",
    "s1.area()"
   ]
  },
  {
   "cell_type": "code",
   "execution_count": 22,
   "id": "00c9caf3",
   "metadata": {},
   "outputs": [
    {
     "name": "stdout",
     "output_type": "stream",
     "text": [
      "Area of Circle\n",
      "Area of Rectangle\n",
      "Area of Square\n"
     ]
    }
   ],
   "source": [
    "class Circle:\n",
    "    def area(self):\n",
    "        print(\"Area of Circle\")\n",
    "\n",
    "class Square:\n",
    "    def area(self):\n",
    "        print(\"Area of Square\")\n",
    "\n",
    "class Rectangle:\n",
    "    def area(self):\n",
    "        print(\"Area of Rectangle\")\n",
    "        \n",
    "        \n",
    "c1 = Circle()\n",
    "r1 = Rectangle()\n",
    "s1 = Square()\n",
    "\n",
    "for Obj in [c1, r1, s1]:\n",
    "    Obj.area()"
   ]
  },
  {
   "cell_type": "code",
   "execution_count": 23,
   "id": "26c0e874",
   "metadata": {},
   "outputs": [
    {
     "name": "stdout",
     "output_type": "stream",
     "text": [
      "Area of Circle\n",
      "Area of Rectangle\n",
      "Area of Square\n"
     ]
    }
   ],
   "source": [
    "class Circle:\n",
    "    def area(self):\n",
    "        print(\"Area of Circle\")\n",
    "\n",
    "class Square:\n",
    "    def area(self):\n",
    "        print(\"Area of Square\")\n",
    "\n",
    "class Rectangle:\n",
    "    def area(self):\n",
    "        print(\"Area of Rectangle\")\n",
    "        \n",
    "def get_area():        \n",
    "    c1 = Circle()\n",
    "    r1 = Rectangle()\n",
    "    s1 = Square()\n",
    "\n",
    "    for Obj in [c1, r1, s1]:\n",
    "        Obj.area()\n",
    "        \n",
    "get_area()   # Calling the Function"
   ]
  },
  {
   "cell_type": "code",
   "execution_count": 24,
   "id": "e05934cb",
   "metadata": {},
   "outputs": [
    {
     "name": "stdout",
     "output_type": "stream",
     "text": [
      "Area of Circle\n",
      "Area of Rectangle\n",
      "Area of Square\n"
     ]
    }
   ],
   "source": [
    "class Circle:\n",
    "    def area(self):\n",
    "        print(\"Area of Circle\")\n",
    "\n",
    "class Square:\n",
    "    def area(self):\n",
    "        print(\"Area of Square\")\n",
    "\n",
    "class Rectangle:\n",
    "    def area(self):\n",
    "        print(\"Area of Rectangle\")\n",
    "        \n",
    "def get_area():        \n",
    "    c1 = Circle()\n",
    "    r1 = Rectangle()\n",
    "    s1 = Square()\n",
    "\n",
    "    for Obj in [c1, r1, s1]:\n",
    "        Obj.area()\n",
    "        \n",
    "if __name__ == \"__main__\":        \n",
    "    get_area()   # Calling the Function"
   ]
  },
  {
   "cell_type": "code",
   "execution_count": 5,
   "id": "757b5048",
   "metadata": {},
   "outputs": [
    {
     "name": "stdout",
     "output_type": "stream",
     "text": [
      "Area of Circle --> 78.54\n",
      "Area of Rectangle --> 200\n",
      "Area of Square --> 36\n"
     ]
    }
   ],
   "source": [
    "import math\n",
    "\n",
    "class Circle:\n",
    "    \n",
    "    def __init__(self, radius):\n",
    "        self.radius = radius\n",
    "    \n",
    "    def area(self):\n",
    "        ar = math.pi * (self.radius ** 2)\n",
    "        print(\"Area of Circle -->\",round(ar, 2))\n",
    "\n",
    "class Square:\n",
    "    \n",
    "    def __init__(self, side):\n",
    "        self.side = side\n",
    "        \n",
    "    def area(self):\n",
    "        ar = self.side ** 2\n",
    "        print(\"Area of Square -->\",round(ar, 2))\n",
    "        \n",
    "\n",
    "class Rectangle:\n",
    "    \n",
    "    def __init__(self, length, breadth):\n",
    "        self.length = length\n",
    "        self.breadth = breadth\n",
    "    \n",
    "    def area(self):\n",
    "        ar = self.length * self.breadth\n",
    "        print(\"Area of Rectangle -->\", round(ar,2))\n",
    "        \n",
    "        \n",
    "c1 = Circle(5)\n",
    "r1 = Rectangle(10,20)\n",
    "s1 = Square(6)\n",
    "\n",
    "for Obj in [c1, r1, s1]:\n",
    "    Obj.area()"
   ]
  },
  {
   "cell_type": "code",
   "execution_count": 7,
   "id": "a2a249fb",
   "metadata": {},
   "outputs": [
    {
     "name": "stdout",
     "output_type": "stream",
     "text": [
      "Area of Circle --> 78.54\n",
      "Area of Rectangle --> 200\n",
      "Area of Square --> 36\n"
     ]
    }
   ],
   "source": [
    "import math\n",
    "\n",
    "class Circle:   # Independent class\n",
    "    \n",
    "    def __init__(self, radius):\n",
    "        self.radius = radius\n",
    "    \n",
    "    def area(self):\n",
    "        ar = math.pi * (self.radius ** 2)\n",
    "        print(\"Area of Circle -->\",round(ar, 2))\n",
    "\n",
    "class Square:\n",
    "    \n",
    "    def __init__(self, side):\n",
    "        self.side = side\n",
    "        \n",
    "    def area(self):\n",
    "        ar = self.side ** 2\n",
    "        print(\"Area of Square -->\",round(ar, 2))\n",
    "\n",
    "class Rectangle:\n",
    "    \n",
    "    def __init__(self, length, breadth):\n",
    "        self.length = length\n",
    "        self.breadth = breadth\n",
    "    \n",
    "    def area(self):\n",
    "        ar = self.length * self.breadth\n",
    "        print(\"Area of Rectangle -->\", round(ar,2))\n",
    "        \n",
    "def execute_function():        \n",
    "    c1 = Circle(5)\n",
    "    r1 = Rectangle(10,20)\n",
    "    s1 = Square(6)\n",
    "\n",
    "    for Obj in [c1, r1, s1]:\n",
    "        Obj.area()\n",
    "        \n",
    "        \n",
    "execute_function()"
   ]
  },
  {
   "cell_type": "code",
   "execution_count": 26,
   "id": "370800b7",
   "metadata": {},
   "outputs": [
    {
     "data": {
      "text/plain": [
       "3.141592653589793"
      ]
     },
     "execution_count": 26,
     "metadata": {},
     "output_type": "execute_result"
    }
   ],
   "source": [
    "import math # Try to explore more\n",
    "\n",
    "math.pi"
   ]
  },
  {
   "cell_type": "markdown",
   "id": "751aad98",
   "metadata": {},
   "source": [
    "# Overridding Method"
   ]
  },
  {
   "cell_type": "code",
   "execution_count": null,
   "id": "79711d02",
   "metadata": {},
   "outputs": [],
   "source": [
    "In Inheritance, same method name is present in different classes"
   ]
  },
  {
   "cell_type": "code",
   "execution_count": 42,
   "id": "95dad5af",
   "metadata": {},
   "outputs": [
    {
     "ename": "AttributeError",
     "evalue": "'Square' object has no attribute 'radius'",
     "output_type": "error",
     "traceback": [
      "\u001b[1;31m---------------------------------------------------------------------------\u001b[0m",
      "\u001b[1;31mAttributeError\u001b[0m                            Traceback (most recent call last)",
      "Cell \u001b[1;32mIn [42], line 23\u001b[0m\n\u001b[0;32m     19\u001b[0m         \u001b[38;5;28mprint\u001b[39m(\u001b[38;5;124m\"\u001b[39m\u001b[38;5;124mArea of Square -->\u001b[39m\u001b[38;5;124m\"\u001b[39m,\u001b[38;5;28mround\u001b[39m(ar, \u001b[38;5;241m2\u001b[39m))\n\u001b[0;32m     22\u001b[0m sqr \u001b[38;5;241m=\u001b[39m Square(\u001b[38;5;241m5\u001b[39m)\n\u001b[1;32m---> 23\u001b[0m \u001b[43msqr\u001b[49m\u001b[38;5;241;43m.\u001b[39;49m\u001b[43marea\u001b[49m\u001b[43m(\u001b[49m\u001b[43m)\u001b[49m\n",
      "Cell \u001b[1;32mIn [42], line 9\u001b[0m, in \u001b[0;36mCircle.area\u001b[1;34m(self)\u001b[0m\n\u001b[0;32m      8\u001b[0m \u001b[38;5;28;01mdef\u001b[39;00m \u001b[38;5;21marea\u001b[39m(\u001b[38;5;28mself\u001b[39m):\n\u001b[1;32m----> 9\u001b[0m     ar \u001b[38;5;241m=\u001b[39m math\u001b[38;5;241m.\u001b[39mpi \u001b[38;5;241m*\u001b[39m (\u001b[38;5;28;43mself\u001b[39;49m\u001b[38;5;241;43m.\u001b[39;49m\u001b[43mradius\u001b[49m \u001b[38;5;241m*\u001b[39m\u001b[38;5;241m*\u001b[39m \u001b[38;5;241m2\u001b[39m)\n\u001b[0;32m     10\u001b[0m     \u001b[38;5;28mprint\u001b[39m(\u001b[38;5;124m\"\u001b[39m\u001b[38;5;124mArea of Circle -->\u001b[39m\u001b[38;5;124m\"\u001b[39m,\u001b[38;5;28mround\u001b[39m(ar, \u001b[38;5;241m2\u001b[39m))\n",
      "\u001b[1;31mAttributeError\u001b[0m: 'Square' object has no attribute 'radius'"
     ]
    }
   ],
   "source": [
    "import math\n",
    "\n",
    "class Circle:   # Base Class\n",
    "    \n",
    "    def __init__(self, radius):\n",
    "        self.radius = radius\n",
    "    \n",
    "    def area(self):\n",
    "        ar = math.pi * (self.radius ** 2)\n",
    "        print(\"Area of Circle -->\",round(ar, 2))\n",
    "\n",
    "class Square(Circle):   # Derived Class\n",
    "    \n",
    "    def __init__(self, side):\n",
    "        self.side = side\n",
    "        \n",
    "    def area1(self):\n",
    "        ar = self.side ** 2\n",
    "        print(\"Area of Square -->\",round(ar, 2))\n",
    "        \n",
    "        \n",
    "sqr = Square(5)\n",
    "sqr.area()"
   ]
  },
  {
   "cell_type": "code",
   "execution_count": 43,
   "id": "50964f14",
   "metadata": {},
   "outputs": [
    {
     "name": "stdout",
     "output_type": "stream",
     "text": [
      "Area of Circle --> 113.1\n"
     ]
    }
   ],
   "source": [
    "import math\n",
    "\n",
    "class Circle:   # Base Class\n",
    "    \n",
    "    def __init__(self, radius):\n",
    "        self.radius = radius\n",
    "    \n",
    "    def area(self):\n",
    "        ar = math.pi * (self.radius ** 2)\n",
    "        print(\"Area of Circle -->\",round(ar, 2))\n",
    "\n",
    "class Square(Circle):   # Derived Class\n",
    "    \n",
    "    def __init__(self, side, RADIUS):\n",
    "        self.side = side\n",
    "        \n",
    "        Circle.__init__(self, RADIUS)\n",
    "        \n",
    "    def area1(self):\n",
    "        ar = self.side ** 2\n",
    "        print(\"Area of Square -->\",round(ar, 2))\n",
    "        \n",
    "        \n",
    "sqr = Square(5,6)\n",
    "sqr.area()"
   ]
  },
  {
   "cell_type": "code",
   "execution_count": 51,
   "id": "1ffff510",
   "metadata": {},
   "outputs": [
    {
     "name": "stdout",
     "output_type": "stream",
     "text": [
      "Area of Square --> 25\n"
     ]
    }
   ],
   "source": [
    "import math\n",
    "\n",
    "class Circle:   # Base Class\n",
    "    \n",
    "    def __init__(self, radius):\n",
    "        self.radius = radius\n",
    "    \n",
    "    def area(self):\n",
    "        ar = math.pi * (self.radius ** 2)\n",
    "        print(\"Area of Circle -->\",round(ar, 2))\n",
    "\n",
    "class Square(Circle):   # Derived Class\n",
    "    \n",
    "    def __init__(self, side, RADIUS):\n",
    "        self.side = side\n",
    "        \n",
    "        Circle.__init__(self, RADIUS)\n",
    "        \n",
    "    def area(self):\n",
    "        ar = self.side ** 2\n",
    "        print(\"Area of Square -->\",round(ar, 2))\n",
    "        \n",
    "        \n",
    "sqr = Square(5,10)\n",
    "sqr.area()"
   ]
  },
  {
   "cell_type": "raw",
   "id": "bbe796bc",
   "metadata": {},
   "source": [
    "Parrent Method is overridden by Child Class Method"
   ]
  }
 ],
 "metadata": {
  "kernelspec": {
   "display_name": "Python 3 (ipykernel)",
   "language": "python",
   "name": "python3"
  },
  "language_info": {
   "codemirror_mode": {
    "name": "ipython",
    "version": 3
   },
   "file_extension": ".py",
   "mimetype": "text/x-python",
   "name": "python",
   "nbconvert_exporter": "python",
   "pygments_lexer": "ipython3",
   "version": "3.12.4"
  }
 },
 "nbformat": 4,
 "nbformat_minor": 5
}
