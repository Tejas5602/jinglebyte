{
 "cells": [
  {
   "cell_type": "code",
   "execution_count": 4,
   "id": "1d9e634c-db49-4c1b-8987-185de71ace5e",
   "metadata": {},
   "outputs": [
    {
     "data": {
      "text/plain": [
       "98"
      ]
     },
     "execution_count": 4,
     "metadata": {},
     "output_type": "execute_result"
    }
   ],
   "source": [
    "# Q4\n",
    "a=[12,23,4,5,87,98,22]\n",
    "max(a)"
   ]
  },
  {
   "cell_type": "code",
   "execution_count": 63,
   "id": "0b7ba621-425f-4e70-affd-c13943bdc132",
   "metadata": {},
   "outputs": [
    {
     "name": "stdout",
     "output_type": "stream",
     "text": [
      "[22, 23, 4, 5, 87, 98, 12]\n"
     ]
    }
   ],
   "source": [
    "my_list=[12,23,4,5,87,98,22]\n",
    "my_list[0],my_list[-1]=my_list[-1],my_list[0]\n",
    "# swapp_list=swap_first_last(my_list)\n",
    "print(my_list)"
   ]
  },
  {
   "cell_type": "code",
   "execution_count": 69,
   "id": "de7e8345-1105-4b2a-af4e-7097ebcfc389",
   "metadata": {},
   "outputs": [
    {
     "name": "stdout",
     "output_type": "stream",
     "text": [
      "[2, 3, 7, 76, 98, 5, 62]\n"
     ]
    }
   ],
   "source": [
    "x=[2,3,5,76,98,7,62]\n",
    "temp=x[2]\n",
    "x[2]=x[5]\n",
    "x[5]=temp\n",
    "print(x)"
   ]
  },
  {
   "cell_type": "code",
   "execution_count": 20,
   "id": "d01b07f9-dfc0-4737-83e4-1cefab659db9",
   "metadata": {},
   "outputs": [
    {
     "name": "stdout",
     "output_type": "stream",
     "text": [
      "[62, 7, 98, 76, 5, 3, 2]\n"
     ]
    }
   ],
   "source": [
    "z=[2,3,5,76,98,7,62]\n",
    "z.reverse()\n",
    "print(z)"
   ]
  },
  {
   "cell_type": "code",
   "execution_count": 30,
   "id": "7b28227a-f06b-458a-b525-4da15d7a30f9",
   "metadata": {},
   "outputs": [
    {
     "data": {
      "text/plain": [
       "3"
      ]
     },
     "execution_count": 30,
     "metadata": {},
     "output_type": "execute_result"
    }
   ],
   "source": [
    "z=[2,7,5,76,98,7,62,8,31,7]\n",
    "z.count(7)"
   ]
  },
  {
   "cell_type": "code",
   "execution_count": 46,
   "id": "7c913b8e-3bba-42cd-b6ad-f134caa23ce9",
   "metadata": {},
   "outputs": [
    {
     "name": "stdout",
     "output_type": "stream",
     "text": [
      "251\n"
     ]
    }
   ],
   "source": [
    "z=[2,7,5,76,98,7,62,8,31,7]\n",
    "y=sum(a)\n",
    "print(y)"
   ]
  },
  {
   "cell_type": "code",
   "execution_count": 54,
   "id": "2a0559e7-7eed-4657-ba36-c4d6ce5b53d8",
   "metadata": {},
   "outputs": [
    {
     "name": "stdout",
     "output_type": "stream",
     "text": [
      "4\n",
      "49\n",
      "5776\n",
      "9604\n",
      "25\n",
      "3844\n",
      "64\n",
      "961\n"
     ]
    }
   ],
   "source": [
    "z=[2,7,11,98,5,62,8,31]\n",
    "for i in z:\n",
    "    print(i**2)"
   ]
  },
  {
   "cell_type": "code",
   "execution_count": 58,
   "id": "116b0bb0-35a1-4eec-9b88-799c1d899e81",
   "metadata": {},
   "outputs": [
    {
     "name": "stdout",
     "output_type": "stream",
     "text": [
      "8\n"
     ]
    }
   ],
   "source": [
    "z=[2,7,11,98,5,62,8,31]\n",
    "y= len(z)\n",
    "print(y)"
   ]
  },
  {
   "cell_type": "code",
   "execution_count": 60,
   "id": "0ed5437b-54d2-49f1-a8e7-e886e15f3472",
   "metadata": {},
   "outputs": [
    {
     "name": "stdout",
     "output_type": "stream",
     "text": [
      "Smallest number: 101\n",
      "Largest number: 978\n"
     ]
    }
   ],
   "source": [
    "my_list = [101,978,454, 201, 301,323,687, 401, 501]\n",
    "\n",
    "smallest = my_list[0]\n",
    "largest = my_list[0]\n",
    "\n",
    "for n in my_list:\n",
    "    if n < smallest:\n",
    "        smallest = n\n",
    "    if n > largest:\n",
    "        largest = n\n",
    "\n",
    "print(\"Smallest number:\", smallest)\n",
    "print(\"Largest number:\", largest)"
   ]
  },
  {
   "cell_type": "code",
   "execution_count": 95,
   "id": "4e1ebd39-1cd4-4ec8-a96c-3cc136a89032",
   "metadata": {},
   "outputs": [
    {
     "name": "stdin",
     "output_type": "stream",
     "text": [
      "Enter a radius of circle: 5\n"
     ]
    },
    {
     "name": "stdout",
     "output_type": "stream",
     "text": [
      "The area of the circle is: 78.5\n"
     ]
    }
   ],
   "source": [
    "radius= int(input(\"Enter a radius of circle:\"))\n",
    "pi=3.14\n",
    "area=pi*radius*radius\n",
    "print(f\"The area of the circle is: {area}\")"
   ]
  },
  {
   "cell_type": "code",
   "execution_count": 135,
   "id": "01fb3251-16e8-449a-8dfe-be6b9872de70",
   "metadata": {},
   "outputs": [
    {
     "name": "stdout",
     "output_type": "stream",
     "text": [
      "Odd number Between: [1, 3, 5, 7, 9, 11, 13, 15, 17, 19, 21, 23, 25, 27, 29, 31, 33, 35, 37, 39, 41, 43, 45, 47, 49, 51, 53, 55, 57, 59, 61, 63, 65, 67, 69, 71, 73, 75, 77, 79, 81, 83, 85, 87, 89, 91, 93, 95, 97, 99, 101, 103, 105, 107, 109, 111, 113, 115, 117, 119, 121, 123, 125, 127, 129, 131, 133, 135, 137, 139, 141, 143, 145, 147, 149]\n",
      "Even number Between: [0, 2, 4, 6, 8, 10, 12, 14, 16, 18, 20, 22, 24, 26, 28, 30, 32, 34, 36, 38, 40, 42, 44, 46, 48, 50, 52, 54, 56, 58, 60, 62, 64, 66, 68, 70, 72, 74, 76, 78, 80, 82, 84, 86, 88, 90, 92, 94, 96, 98, 100, 102, 104, 106, 108, 110, 112, 114, 116, 118, 120, 122, 124, 126, 128, 130, 132, 134, 136, 138, 140, 142, 144, 146, 148, 150]\n"
     ]
    }
   ],
   "source": [
    "even_no=[]\n",
    "odd_no=[]\n",
    "for i in range(0,151): \n",
    "    if i % 2 == 1:\n",
    "        odd_no .append(i)\n",
    "    else:\n",
    "        even_no.append(i)\n",
    "        \n",
    "print(\"Odd number Between:\",odd_no)\n",
    "print(\"Even number Between:\",even_no)"
   ]
  },
  {
   "cell_type": "code",
   "execution_count": 141,
   "id": "bb3c6d48-d846-48b9-9809-bbd8bfe6c382",
   "metadata": {},
   "outputs": [
    {
     "name": "stdout",
     "output_type": "stream",
     "text": [
      "odd No.count: 7\n",
      "even No count: 11\n"
     ]
    }
   ],
   "source": [
    "my_list=[1,23,32,64,69,78,98,90,80,94,101,86,54,34,23,13,19,30]\n",
    "even_count=0\n",
    "odd_count=0\n",
    "for i in my_list:\n",
    "    if i % 2 == 1:\n",
    "        odd_count+=1\n",
    "    else:\n",
    "        even_count+=1\n",
    "print(\"odd No.count:\",odd_count)\n",
    "print(\"even No count:\",even_count)"
   ]
  },
  {
   "cell_type": "code",
   "execution_count": 159,
   "id": "2fae404f-7643-4bf4-bdc8-d02dc37deaf8",
   "metadata": {},
   "outputs": [
    {
     "name": "stdout",
     "output_type": "stream",
     "text": [
      "Number of divisible by 4: [0, 4, 8, 12, 16, 20, 24, 28, 32, 36, 40, 44, 48, 52, 56, 60, 64, 68, 72, 76, 80, 84, 88, 92, 96, 100, 104, 108, 112, 116, 120, 124, 128, 132, 136, 140, 144, 148]\n",
      "\n",
      "Number of divisible by 6: [0, 6, 12, 18, 24, 30, 36, 42, 48, 54, 60, 66, 72, 78, 84, 90, 96, 102, 108, 114, 120, 126, 132, 138, 144, 150]\n",
      "\n",
      "Number of divisible by 8: [0, 8, 16, 24, 32, 40, 48, 56, 64, 72, 80, 88, 96, 104, 112, 120, 128, 136, 144]\n",
      "\n",
      "Number of divisible by 10: [0, 10, 20, 30, 40, 50, 60, 70, 80, 90, 100, 110, 120, 130, 140, 150]\n",
      "\n",
      "Number of divisible by 3: [0, 3, 6, 9, 12, 15, 18, 21, 24, 27, 30, 33, 36, 39, 42, 45, 48, 51, 54, 57, 60, 63, 66, 69, 72, 75, 78, 81, 84, 87, 90, 93, 96, 99, 102, 105, 108, 111, 114, 117, 120, 123, 126, 129, 132, 135, 138, 141, 144, 147, 150]\n",
      "\n",
      "Number of divisible by 5: [0, 5, 10, 15, 20, 25, 30, 35, 40, 45, 50, 55, 60, 65, 70, 75, 80, 85, 90, 95, 100, 105, 110, 115, 120, 125, 130, 135, 140, 145, 150]\n",
      "\n",
      "Number of divisible by 7: [0, 7, 14, 21, 28, 35, 42, 49, 56, 63, 70, 77, 84, 91, 98, 105, 112, 119, 126, 133, 140, 147]\n",
      "\n",
      "Number of divisible by 9: [0, 9, 18, 27, 36, 45, 54, 63, 72, 81, 90, 99, 108, 117, 126, 135, 144]\n"
     ]
    }
   ],
   "source": [
    "div_by_4=[]\n",
    "div_by_6=[]\n",
    "div_by_8=[]\n",
    "div_by_10=[]\n",
    "div_by_3=[]\n",
    "div_by_5=[]\n",
    "div_by_7=[]\n",
    "div_by_9=[]\n",
    "for i in range(0,151+1):\n",
    "    if i % 4==0:\n",
    "        div_by_4.append(i)\n",
    "    if i % 6 ==0:\n",
    "        div_by_6.append(i)\n",
    "    if i % 8==0:\n",
    "        div_by_8.append(i)\n",
    "    if i % 10 ==0:\n",
    "        div_by_10.append(i)\n",
    "    if i % 3==0:\n",
    "        div_by_3.append(i)\n",
    "    if i % 5==0:\n",
    "        div_by_5.append(i)\n",
    "    if i % 7==0:\n",
    "        div_by_7.append(i)\n",
    "    if i % 9==0:\n",
    "        div_by_9.append(i)\n",
    "\n",
    "print(\"Number of divisible by 4:\",div_by_4)\n",
    "print()\n",
    "print(\"Number of divisible by 6:\",div_by_6)\n",
    "print()\n",
    "print(\"Number of divisible by 8:\",div_by_8)\n",
    "print()\n",
    "print(\"Number of divisible by 10:\",div_by_10)\n",
    "print()\n",
    "print(\"Number of divisible by 3:\",div_by_3)\n",
    "print()\n",
    "print(\"Number of divisible by 5:\",div_by_5)\n",
    "print()\n",
    "print(\"Number of divisible by 7:\",div_by_7)\n",
    "print()\n",
    "print(\"Number of divisible by 9:\",div_by_9)"
   ]
  },
  {
   "cell_type": "code",
   "execution_count": 76,
   "id": "d3b3961f-7d0f-44f4-8071-a07300cde7ec",
   "metadata": {},
   "outputs": [
    {
     "name": "stdout",
     "output_type": "stream",
     "text": [
      "Integers: [11, 23, 44]\n",
      "String: ['Tableau', 'Power bi ', 'Excel']\n",
      "Floats: [89.3, 53.62, 69.17]\n"
     ]
    }
   ],
   "source": [
    "My_list=[11,\"Tableau\",23,89.3,\"Power bi \",53.62,\"Excel\",44,69.17]\n",
    "\n",
    "integers =[]\n",
    "strings=[]\n",
    "floats=[]\n",
    "\n",
    "for i in My_list:\n",
    "    if isinstance(i,int):\n",
    "        integers.append(i)\n",
    "    elif isinstance(i,str):\n",
    "        strings.append(i)\n",
    "    else:\n",
    "        floats.append(i)\n",
    "            \n",
    "print(\"Integers:\",integers)\n",
    "print(\"String:\",strings)\n",
    "print(\"Floats:\", floats)"
   ]
  },
  {
   "cell_type": "code",
   "execution_count": 88,
   "id": "d37f18c0-cd05-4c9a-9974-50ed90ad2089",
   "metadata": {},
   "outputs": [
    {
     "name": "stdout",
     "output_type": "stream",
     "text": [
      "List 1: [2, 65, 77, 80, 65, 8, 70, 98]\n"
     ]
    }
   ],
   "source": [
    "list1=[2,65,77,80]\n",
    "list2=[65,8,70,98]\n",
    "list1.extend(list2)\n",
    "print(\"List 1:\",list1)"
   ]
  },
  {
   "cell_type": "code",
   "execution_count": 131,
   "id": "dbee0289-d1df-4aea-a1c8-10dd4797682c",
   "metadata": {},
   "outputs": [
    {
     "name": "stdout",
     "output_type": "stream",
     "text": [
      "57\n"
     ]
    }
   ],
   "source": [
    "list1=[2,65,43,57,98]\n",
    "\n",
    "list1.sort(reverse=True)\n",
    "\n",
    "list2=list1[2]\n",
    "\n",
    "print(list2)"
   ]
  },
  {
   "cell_type": "code",
   "execution_count": 187,
   "id": "093f058a-f0c7-44ba-9c02-a73962f2edc3",
   "metadata": {},
   "outputs": [
    {
     "data": {
      "text/plain": [
       "'lst=[2,2,2,6,6,6,6,5,5,5,1,3,3,3,3]\\nelement=set(lst)\\nfrequency=[]\\nfor i in element:\\n    #frequency(i)==frequency\\nprint()'"
      ]
     },
     "execution_count": 187,
     "metadata": {},
     "output_type": "execute_result"
    }
   ],
   "source": [
    "'''lst=[2,2,2,6,6,6,6,5,5,5,1,3,3,3,3]\n",
    "element=set(lst)\n",
    "frequency=[]\n",
    "for i in element:\n",
    "    #frequency(i)==frequency\n",
    "print()'''"
   ]
  },
  {
   "cell_type": "code",
   "execution_count": 153,
   "id": "50b2509c-392e-4c33-9e6e-9246266c75ad",
   "metadata": {},
   "outputs": [
    {
     "name": "stdout",
     "output_type": "stream",
     "text": [
      "10\n"
     ]
    }
   ],
   "source": [
    "a=[23,4,54,56,7,90,44,58,77,98]\n",
    "length=len(a)\n",
    "print(length)"
   ]
  },
  {
   "cell_type": "code",
   "execution_count": 159,
   "id": "09f85632-bad8-4cdf-bc52-5b175edc2469",
   "metadata": {},
   "outputs": [
    {
     "name": "stdout",
     "output_type": "stream",
     "text": [
      "list is Empty\n"
     ]
    }
   ],
   "source": [
    "my_list=[]\n",
    "if len(my_list)==0:\n",
    "    print(\"list is Empty\")\n",
    "else:\n",
    "    print(\"list is not Empty\")"
   ]
  },
  {
   "cell_type": "code",
   "execution_count": 165,
   "id": "74c839f7-8016-47d6-a80e-715ff8a1b235",
   "metadata": {},
   "outputs": [
    {
     "name": "stdout",
     "output_type": "stream",
     "text": [
      "[23, 34, 65, 87, 21, 46, 97, 87]\n"
     ]
    }
   ],
   "source": [
    "lst1=[23,34,65,87]\n",
    "lst2=[21,46,97,87]\n",
    "a=lst1+lst2\n",
    "print(a)"
   ]
  },
  {
   "cell_type": "code",
   "execution_count": 181,
   "id": "6efb8cc1-0e3d-4b80-8ab7-25a7cd954bd1",
   "metadata": {},
   "outputs": [
    {
     "name": "stdout",
     "output_type": "stream",
     "text": [
      "3\n"
     ]
    }
   ],
   "source": [
    "a=[1,2,2,3,3,4,1,2,1,5]\n",
    "occurrences = a.count(2)\n",
    "print(occurrences)"
   ]
  },
  {
   "cell_type": "code",
   "execution_count": 183,
   "id": "4ef0fcfb-32a6-468c-826b-9965b5051107",
   "metadata": {},
   "outputs": [
    {
     "name": "stdout",
     "output_type": "stream",
     "text": [
      "[1, 2, 3, 4, 5, 6]\n"
     ]
    }
   ],
   "source": [
    "my_list = [[1, 2], [3, 4], [5, 6]]\n",
    "flattened_list = []      # convert list of list into single list.\n",
    "for lst in my_list :\n",
    "    for item in lst:\n",
    "        flattened_list.append(item)\n",
    "print(flattened_list)  "
   ]
  },
  {
   "cell_type": "code",
   "execution_count": 195,
   "id": "0df403c1-fe60-4e09-9a6a-9e8443954b57",
   "metadata": {},
   "outputs": [
    {
     "name": "stdout",
     "output_type": "stream",
     "text": [
      "113355\n"
     ]
    }
   ],
   "source": [
    "lst=[11,33,55]\n",
    "result = int(\"\".join(map(str, lst)))\n",
    "print(result)"
   ]
  },
  {
   "cell_type": "code",
   "execution_count": null,
   "id": "93564a68-111c-4ca3-abbb-6ce44eef12a8",
   "metadata": {},
   "outputs": [],
   "source": []
  }
 ],
 "metadata": {
  "kernelspec": {
   "display_name": "Python 3 (ipykernel)",
   "language": "python",
   "name": "python3"
  },
  "language_info": {
   "codemirror_mode": {
    "name": "ipython",
    "version": 3
   },
   "file_extension": ".py",
   "mimetype": "text/x-python",
   "name": "python",
   "nbconvert_exporter": "python",
   "pygments_lexer": "ipython3",
   "version": "3.12.7"
  }
 },
 "nbformat": 4,
 "nbformat_minor": 5
}
