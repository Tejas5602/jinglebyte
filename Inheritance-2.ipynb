{
 "cells": [
  {
   "cell_type": "markdown",
   "id": "cac937ac",
   "metadata": {},
   "source": [
    "# Inheritance"
   ]
  },
  {
   "cell_type": "code",
   "execution_count": 50,
   "id": "eb486623-f180-4734-aabf-9f716556166e",
   "metadata": {},
   "outputs": [
    {
     "name": "stdout",
     "output_type": "stream",
     "text": [
      "67\n",
      "45\n"
     ]
    }
   ],
   "source": [
    "class vedant:\n",
    "    def python(self):\n",
    "        self.a=45\n",
    "        self.b=67\n",
    "        print(self.b)\n",
    "    def ml(self,d,e):\n",
    "        self.d=d\n",
    "        self.e=e\n",
    "        print(e)\n",
    "class machine(vedant):\n",
    "    def power(self):\n",
    "        self.python()\n",
    "        print(self.a)\n",
    "        # vedant.python()\n",
    "obj=machine()\n",
    "obj.power()"
   ]
  },
  {
   "cell_type": "code",
   "execution_count": 1,
   "id": "c0fbae99-5907-4bf1-8223-8cf67c8e6129",
   "metadata": {},
   "outputs": [
    {
     "name": "stdout",
     "output_type": "stream",
     "text": [
      "hello\n",
      "45\n"
     ]
    }
   ],
   "source": [
    "class vedant:\n",
    "    def __init__(self):\n",
    "        self.r=45\n",
    "        self.y=67\n",
    "        print(self.r)\n",
    "    def ml(self,d,e):\n",
    "        self.d=d\n",
    "        self.e=e\n",
    "        print(e)\n",
    "class machine(vedant):\n",
    "    print(\"hello\")\n",
    "    def power(self):\n",
    "        print(self.r)\n",
    "obj=machine()\n",
    "# obj.power()"
   ]
  },
  {
   "cell_type": "code",
   "execution_count": 76,
   "id": "1db9d664-e187-4bcd-b364-332cae722803",
   "metadata": {},
   "outputs": [
    {
     "name": "stdout",
     "output_type": "stream",
     "text": [
      "hello\n",
      "67\n"
     ]
    }
   ],
   "source": [
    "class neeta:\n",
    "    def __init__(self):\n",
    "        self.u=45\n",
    "        self.y=67\n",
    "        print(self.y)\n",
    "    def ml(self,d,e):\n",
    "        self.d=d\n",
    "        self.e=e\n",
    "        print(e)\n",
    "class onkar(neeta):\n",
    "    print(\"hello\")\n",
    "    # print(self.y)\n",
    "obj=onkar()"
   ]
  },
  {
   "cell_type": "code",
   "execution_count": 1,
   "id": "50e12bcc",
   "metadata": {},
   "outputs": [
    {
     "name": "stdout",
     "output_type": "stream",
     "text": [
      "In __init__ method\n",
      "Student Roll No. is 34\n"
     ]
    }
   ],
   "source": [
    "class Students():\n",
    "    def __init__(self, rollno):   # Automatically executed\n",
    "        print(\"In __init__ method\")\n",
    "        self.rollno = rollno    # instace variable\n",
    "        \n",
    "    def student_roll_num(self):\n",
    "        print(\"Student Roll No. is\", self.rollno)\n",
    "        \n",
    "        \n",
    "StudObj = Students(34)\n",
    "\n",
    "StudObj.student_roll_num()"
   ]
  },
  {
   "cell_type": "code",
   "execution_count": 3,
   "id": "08422fd5",
   "metadata": {},
   "outputs": [
    {
     "name": "stdout",
     "output_type": "stream",
     "text": [
      "College name is COEP\n"
     ]
    }
   ],
   "source": [
    "class College():\n",
    "    def __init__(self, col_name):\n",
    "        self.col_name = col_name\n",
    "        \n",
    "    def college_name(self):\n",
    "        print(\"College name is\", self.col_name)\n",
    "        \n",
    "        \n",
    "colObj = College('COEP')\n",
    "colObj.college_name()"
   ]
  },
  {
   "cell_type": "code",
   "execution_count": 1,
   "id": "0582b3fa",
   "metadata": {},
   "outputs": [
    {
     "name": "stdout",
     "output_type": "stream",
     "text": [
      "College name is COEP\n"
     ]
    },
    {
     "ename": "AttributeError",
     "evalue": "'College' object has no attribute 'rollno'",
     "output_type": "error",
     "traceback": [
      "\u001b[1;31m---------------------------------------------------------------------------\u001b[0m",
      "\u001b[1;31mAttributeError\u001b[0m                            Traceback (most recent call last)",
      "Cell \u001b[1;32mIn[1], line 19\u001b[0m\n\u001b[0;32m     15\u001b[0m         \u001b[38;5;28mprint\u001b[39m(\u001b[38;5;124m\"\u001b[39m\u001b[38;5;124mStudent Roll No. is\u001b[39m\u001b[38;5;124m\"\u001b[39m, \u001b[38;5;28mself\u001b[39m\u001b[38;5;241m.\u001b[39mrollno)\n\u001b[0;32m     18\u001b[0m colObj \u001b[38;5;241m=\u001b[39m College(\u001b[38;5;124m'\u001b[39m\u001b[38;5;124mCOEP\u001b[39m\u001b[38;5;124m'\u001b[39m)\n\u001b[1;32m---> 19\u001b[0m colObj\u001b[38;5;241m.\u001b[39mcollege_name()\n",
      "Cell \u001b[1;32mIn[1], line 15\u001b[0m, in \u001b[0;36mCollege.college_name\u001b[1;34m(self)\u001b[0m\n\u001b[0;32m     13\u001b[0m \u001b[38;5;28;01mdef\u001b[39;00m \u001b[38;5;21mcollege_name\u001b[39m(\u001b[38;5;28mself\u001b[39m):\n\u001b[0;32m     14\u001b[0m     \u001b[38;5;28mprint\u001b[39m(\u001b[38;5;124m\"\u001b[39m\u001b[38;5;124mCollege name is\u001b[39m\u001b[38;5;124m\"\u001b[39m, \u001b[38;5;28mself\u001b[39m\u001b[38;5;241m.\u001b[39mcol_name)  \n\u001b[1;32m---> 15\u001b[0m     \u001b[38;5;28mprint\u001b[39m(\u001b[38;5;124m\"\u001b[39m\u001b[38;5;124mStudent Roll No. is\u001b[39m\u001b[38;5;124m\"\u001b[39m, \u001b[38;5;28mself\u001b[39m\u001b[38;5;241m.\u001b[39mrollno)\n",
      "\u001b[1;31mAttributeError\u001b[0m: 'College' object has no attribute 'rollno'"
     ]
    }
   ],
   "source": [
    "class Students():\n",
    "    def __init__(self, rollno):   # Automatically executed\n",
    "        print(\"In __init__ method\")\n",
    "        self.rollno = rollno    # instace variable\n",
    "        \n",
    "    def student_roll_num(self):\n",
    "        print(\"Student Roll No. is\", self.rollno)\n",
    "        \n",
    "class College():\n",
    "    def __init__(self, col_name):\n",
    "        self.col_name = col_name\n",
    "        \n",
    "    def college_name(self):\n",
    "        print(\"College name is\", self.col_name)  \n",
    "        print(\"Student Roll No. is\", self.rollno)\n",
    "        \n",
    "        \n",
    "colObj = College('COEP')\n",
    "colObj.college_name()"
   ]
  },
  {
   "cell_type": "code",
   "execution_count": 6,
   "id": "a99eaa77",
   "metadata": {},
   "outputs": [
    {
     "name": "stdout",
     "output_type": "stream",
     "text": [
      "College name is COEP\n",
      "Student Roll No. is 40\n"
     ]
    }
   ],
   "source": [
    "class College():\n",
    "    \n",
    "    def __init__(self, col_name):\n",
    "        self.col_name = col_name\n",
    "        \n",
    "    def student_roll_num(self):\n",
    "        self.rollno = 40   # instance variable\n",
    "        \n",
    "    def college_name(self):\n",
    "        print(\"College name is\", self.col_name)  \n",
    "        print(\"Student Roll No. is\", self.rollno)\n",
    "        \n",
    "        \n",
    "colObj = College('COEP')\n",
    "colObj.student_roll_num()  # Making an instance variable\n",
    "colObj.college_name()"
   ]
  },
  {
   "cell_type": "code",
   "execution_count": 7,
   "id": "8a64eb17",
   "metadata": {},
   "outputs": [
    {
     "name": "stdout",
     "output_type": "stream",
     "text": [
      "College name is COEP\n",
      "Student Roll No. is 40\n"
     ]
    }
   ],
   "source": [
    "class College():\n",
    "    \n",
    "    def __init__(self, col_name):\n",
    "        self.col_name = col_name\n",
    "        self.rollno = 40   # instance variable\n",
    "        \n",
    "    def student_roll_num(self):\n",
    "        pass\n",
    "        \n",
    "    def college_name(self):\n",
    "        print(\"College name is\", self.col_name)  \n",
    "        print(\"Student Roll No. is\", self.rollno)\n",
    "        \n",
    "        \n",
    "colObj = College('COEP')\n",
    "# colObj.student_roll_num()  # No need to call\n",
    "colObj.college_name()"
   ]
  },
  {
   "cell_type": "markdown",
   "id": "f14498db",
   "metadata": {},
   "source": [
    "# inheritance"
   ]
  },
  {
   "cell_type": "code",
   "execution_count": null,
   "id": "6bd2315f",
   "metadata": {},
   "outputs": [],
   "source": [
    "inheritance allows a class to inherit the properties(methods/variables) from other class.\n",
    "\n",
    "parent >> Child\n",
    "\n",
    "Always Create an object of Child class\n",
    "\n",
    "\n",
    "# Parent class  / Base class     / Super class\n",
    "# Child class  / Derived class  / Sub class"
   ]
  },
  {
   "cell_type": "code",
   "execution_count": 8,
   "id": "486cd151",
   "metadata": {},
   "outputs": [
    {
     "name": "stdout",
     "output_type": "stream",
     "text": [
      "This is Parent Class\n",
      "This is Child Class\n"
     ]
    }
   ],
   "source": [
    "class Parent():   # Base class\n",
    "    print(\"This is Parent Class\")\n",
    "    \n",
    "class Child():   # Base class\n",
    "    print(\"This is Child Class\")"
   ]
  },
  {
   "cell_type": "code",
   "execution_count": null,
   "id": "ccb68c03",
   "metadata": {},
   "outputs": [],
   "source": [
    "class Parent():    # Parent class  / Base class  / Super class\n",
    "    print(\"This is Parent Class\")\n",
    "     \n",
    "class Child(Parent):  # Child class  / Derived class  / Sub class\n",
    "    print(\"This is Child Class\")"
   ]
  },
  {
   "cell_type": "code",
   "execution_count": 9,
   "id": "344fffcc",
   "metadata": {},
   "outputs": [],
   "source": [
    "class Parent():    # Parent class  / Base class  / Super class\n",
    "    pass\n",
    "     \n",
    "class Child(Parent):  # Child class  / Derived class  / Sub class\n",
    "    pass"
   ]
  },
  {
   "cell_type": "code",
   "execution_count": null,
   "id": "31d44da1",
   "metadata": {},
   "outputs": [],
   "source": [
    "class StudentName():  # Base class\n",
    "    pass\n",
    "\n",
    "class StudentInfo():  # Base class\n",
    "    pass"
   ]
  },
  {
   "cell_type": "code",
   "execution_count": null,
   "id": "ec85a6cc",
   "metadata": {},
   "outputs": [],
   "source": [
    "class StudentName():  # Base class\n",
    "    pass\n",
    "\n",
    "class StudentInfo(StudentName):  # Derived class\n",
    "    pass"
   ]
  },
  {
   "cell_type": "code",
   "execution_count": 3,
   "id": "1c2b7bac",
   "metadata": {},
   "outputs": [],
   "source": [
    "class StudentName():  # Parent class\n",
    "    pass\n",
    "\n",
    "class StudentInfo(StudentName):  # Child class\n",
    "    pass\n",
    "\n",
    "obj = StudentInfo()   # Always Create an object of Child class"
   ]
  },
  {
   "cell_type": "code",
   "execution_count": 5,
   "id": "2d132085",
   "metadata": {},
   "outputs": [
    {
     "name": "stdout",
     "output_type": "stream",
     "text": [
      "This is init function of child class\n"
     ]
    }
   ],
   "source": [
    "class StudentName():  # Parent class\n",
    "    pass\n",
    "\n",
    "class StudentInfo(StudentName):  # Child class\n",
    "    def __init__(self):\n",
    "        print(\"This is init function of child class\")\n",
    "\n",
    "obj = StudentInfo()"
   ]
  },
  {
   "cell_type": "code",
   "execution_count": 13,
   "id": "8b16dd7c",
   "metadata": {},
   "outputs": [
    {
     "name": "stdout",
     "output_type": "stream",
     "text": [
      "This is init function of child class\n"
     ]
    }
   ],
   "source": [
    "class StudentName():  # Parent class\n",
    "    pass\n",
    "\n",
    "class StudentInfo(StudentName):  # Child class\n",
    "    \n",
    "    def __init__(self, name, roll_number, age, marks):\n",
    "        print(\"This is init function of child class\")\n",
    "\n",
    "obj = StudentInfo(\"Rahul\", 34, 25, \"96%\")"
   ]
  },
  {
   "cell_type": "code",
   "execution_count": 11,
   "id": "90e1402d",
   "metadata": {},
   "outputs": [
    {
     "name": "stdout",
     "output_type": "stream",
     "text": [
      "This is init function of child class\n",
      "\n",
      "Student roll number is --> 34\n",
      "\n",
      "Student age is 25\n",
      "\n",
      "Student Name Function parent class\n",
      "Location is Pune\n"
     ]
    }
   ],
   "source": [
    "class StudentName():  # Parent class\n",
    "    \n",
    "    def __init__(self, name):\n",
    "        self.name = name\n",
    "        \n",
    "    def student_name_function(self):\n",
    "        print(\"\\nStudent Name Function parent class\")\n",
    "        self.location = \"Pune\"  # instance variable\n",
    "\n",
    "\n",
    "class StudentInfo(StudentName):  # Child class\n",
    "    \n",
    "    def __init__(self, name, roll_number, age, marks):\n",
    "        print(\"This is init function of child class\")\n",
    "        \n",
    "        self.roll_number = roll_number  # instance variable\n",
    "        self.age = age\n",
    "        \n",
    "    def student_roll_number(self):\n",
    "        print(\"\\nStudent roll number is -->\",self.roll_number)\n",
    "        \n",
    "        \n",
    "    def student_age(self):\n",
    "        print(\"\\nStudent age is\", self.age)\n",
    "        \n",
    "        self.student_name_function()  # calling the method(parent class)\n",
    "        \n",
    "        print(\"Location is\", self.location) #parent class variable\n",
    "\n",
    "        \n",
    "\n",
    "obj = StudentInfo(\"Rahul\", 34, 25, \"96%\")\n",
    "obj.student_roll_number()\n",
    "obj.student_age()"
   ]
  },
  {
   "cell_type": "code",
   "execution_count": 21,
   "id": "e48119da",
   "metadata": {},
   "outputs": [
    {
     "name": "stdout",
     "output_type": "stream",
     "text": [
      "This is init function of child class\n",
      "\n",
      "Student Name Function parent class\n"
     ]
    },
    {
     "ename": "AttributeError",
     "evalue": "'StudentInfo' object has no attribute 'name'",
     "output_type": "error",
     "traceback": [
      "\u001b[1;31m---------------------------------------------------------------------------\u001b[0m",
      "\u001b[1;31mAttributeError\u001b[0m                            Traceback (most recent call last)",
      "Cell \u001b[1;32mIn[21], line 34\u001b[0m\n\u001b[0;32m     29\u001b[0m         \u001b[38;5;28mprint\u001b[39m(\u001b[38;5;124m\"\u001b[39m\u001b[38;5;124mLocation is\u001b[39m\u001b[38;5;124m\"\u001b[39m, \u001b[38;5;28mself\u001b[39m\u001b[38;5;241m.\u001b[39mlocation)\n\u001b[0;32m     33\u001b[0m obj \u001b[38;5;241m=\u001b[39m StudentInfo(\u001b[38;5;124m\"\u001b[39m\u001b[38;5;124mRahul\u001b[39m\u001b[38;5;124m\"\u001b[39m, \u001b[38;5;241m34\u001b[39m, \u001b[38;5;241m25\u001b[39m, \u001b[38;5;124m\"\u001b[39m\u001b[38;5;124m96\u001b[39m\u001b[38;5;124m%\u001b[39m\u001b[38;5;124m\"\u001b[39m)\n\u001b[1;32m---> 34\u001b[0m obj\u001b[38;5;241m.\u001b[39mstudent_name_function()\n",
      "Cell \u001b[1;32mIn[21], line 9\u001b[0m, in \u001b[0;36mStudentName.student_name_function\u001b[1;34m(self)\u001b[0m\n\u001b[0;32m      7\u001b[0m \u001b[38;5;28mprint\u001b[39m(\u001b[38;5;124m\"\u001b[39m\u001b[38;5;130;01m\\n\u001b[39;00m\u001b[38;5;124mStudent Name Function parent class\u001b[39m\u001b[38;5;124m\"\u001b[39m)\n\u001b[0;32m      8\u001b[0m \u001b[38;5;28mself\u001b[39m\u001b[38;5;241m.\u001b[39mlocation \u001b[38;5;241m=\u001b[39m \u001b[38;5;124m\"\u001b[39m\u001b[38;5;124mPune\u001b[39m\u001b[38;5;124m\"\u001b[39m  \u001b[38;5;66;03m# instance variable\u001b[39;00m\n\u001b[1;32m----> 9\u001b[0m \u001b[38;5;28mprint\u001b[39m(\u001b[38;5;124m\"\u001b[39m\u001b[38;5;124mName in parent class\u001b[39m\u001b[38;5;124m\"\u001b[39m, \u001b[38;5;28mself\u001b[39m\u001b[38;5;241m.\u001b[39mname)\n",
      "\u001b[1;31mAttributeError\u001b[0m: 'StudentInfo' object has no attribute 'name'"
     ]
    }
   ],
   "source": [
    "class StudentName():  # Parent class\n",
    "    \n",
    "    def __init__(self, name):\n",
    "        self.name = name\n",
    "        \n",
    "    def student_name_function(self):\n",
    "        print(\"\\nStudent Name Function parent class\")\n",
    "        self.location = \"Pune\"  # instance variable\n",
    "        print(\"Name in parent class\", self.name)\n",
    "\n",
    "\n",
    "class StudentInfo(StudentName):  # Child class\n",
    "    \n",
    "    def __init__(self, name, roll_number, age, marks):\n",
    "        print(\"This is init function of child class\")\n",
    "        \n",
    "        self.roll_number = roll_number  # instance variable\n",
    "        self.age = age\n",
    "        \n",
    "    def student_roll_number(self):\n",
    "        print(\"\\nStudent roll number is -->\",self.roll_number)\n",
    "        \n",
    "        \n",
    "    def student_age(self):\n",
    "        print(\"\\nStudent age is\", self.age)\n",
    "        \n",
    "        self.student_name_function()  # calling the method\n",
    "        \n",
    "        print(\"Location is\", self.location)\n",
    "\n",
    "        \n",
    "\n",
    "obj = StudentInfo(\"Rahul\", 34, 25, \"96%\")\n",
    "obj.student_name_function()"
   ]
  },
  {
   "cell_type": "markdown",
   "id": "8f8790f8",
   "metadata": {},
   "source": [
    "### call init method of parent class in child class"
   ]
  },
  {
   "cell_type": "code",
   "execution_count": null,
   "id": "1028cdbc",
   "metadata": {},
   "outputs": [],
   "source": [
    "1. \n",
    "syntax:\n",
    "    ParentClassName.__init__(self,arguments)"
   ]
  },
  {
   "cell_type": "code",
   "execution_count": 28,
   "id": "7a46d4b8-5f0d-4577-b737-dd1dac26599d",
   "metadata": {},
   "outputs": [
    {
     "name": "stdout",
     "output_type": "stream",
     "text": [
      "This is init function of child class\n",
      "**************** Parents __init__ method calling ***********\n",
      "\n",
      "Student Name Function\n",
      "Name in parent class Vishal\n"
     ]
    }
   ],
   "source": [
    "class StudentName():  # Parent class\n",
    "    \n",
    "    def __init__(self, name):   # __init__(self,vishal)\n",
    "        self.name = name   # instance variable\n",
    "        \n",
    "    def student_name_function(self):\n",
    "        print(\"\\nStudent Name Function\")\n",
    "        self.location = \"Pune\"  # instance variable\n",
    "        print(\"Name in parent class\", self.name)\n",
    "\n",
    "\n",
    "class StudentInfo(StudentName):  # Child class\n",
    "    \n",
    "    def __init__(self,roll_number, age, marks):\n",
    "        print(\"This is init function of child class\")\n",
    "        \n",
    "        self.roll_number = roll_number  # instance variable\n",
    "        self.age = age\n",
    "        \n",
    "        print(\"**************** Parents __init__ method calling ***********\")\n",
    "        StudentName.__init__(self,\"Vishal\" )\n",
    "        \n",
    "                \n",
    "    def student_roll_number(self):\n",
    "        print(\"\\nStudent roll number is -->\",self.roll_number)\n",
    "        \n",
    "        \n",
    "    def student_age(self):\n",
    "        print(\"\\nStudent age is\", self.age)\n",
    "        \n",
    "        self.student_name_function()  # calling the method\n",
    "        \n",
    "        print(\"Location is\", self.location)\n",
    "\n",
    "\n",
    "obj = StudentInfo(34, 25, \"96%\")\n",
    "obj.student_name_function()"
   ]
  },
  {
   "cell_type": "code",
   "execution_count": 26,
   "id": "b76c098b",
   "metadata": {},
   "outputs": [
    {
     "name": "stdout",
     "output_type": "stream",
     "text": [
      "This is init function of child class\n",
      "**************** Parents __init__ method calling ***********\n",
      "\n",
      "Student Name Function\n",
      "Name in parent class Rahul\n"
     ]
    }
   ],
   "source": [
    "class StudentName():  # Parent class\n",
    "    \n",
    "    def __init__(self, name):\n",
    "        self.name = name   # instance variable\n",
    "        \n",
    "    def student_name_function(self):\n",
    "        print(\"\\nStudent Name Function\")\n",
    "        self.location = \"Pune\"  # instance variable\n",
    "        print(\"Name in parent class\", self.name)\n",
    "\n",
    "\n",
    "class StudentInfo(StudentName):  # Child class\n",
    "    \n",
    "    def __init__(self, NAME, roll_number, age, marks):\n",
    "        print(\"This is init function of child class\")\n",
    "        \n",
    "        self.roll_number = roll_number  # instance variable\n",
    "        self.age = age\n",
    "        \n",
    "        print(\"**************** Parents __init__ method calling ***********\")\n",
    "        StudentName.__init__(self, NAME)\n",
    "        \n",
    "                \n",
    "    def student_roll_number(self):\n",
    "        print(\"\\nStudent roll number is -->\",self.roll_number)\n",
    "        \n",
    "        \n",
    "    def student_age(self):\n",
    "        print(\"\\nStudent age is\", self.age)\n",
    "        \n",
    "        self.student_name_function()  # calling the method\n",
    "        \n",
    "        print(\"Location is\", self.location)\n",
    "\n",
    "\n",
    "obj = StudentInfo(\"Rahul\", 34, 25, \"96%\")\n",
    "obj.student_name_function()"
   ]
  },
  {
   "cell_type": "code",
   "execution_count": 36,
   "id": "8f09aeb4",
   "metadata": {},
   "outputs": [
    {
     "name": "stdout",
     "output_type": "stream",
     "text": [
      "This is init function of child class\n",
      "\n",
      "Student roll number is --> 34\n",
      "**************** Parents __init__ method calling ***********\n",
      "Parent init method\n"
     ]
    }
   ],
   "source": [
    "class StudentName():  # Parent class\n",
    "    \n",
    "    def __init__(self, name):\n",
    "        self.name = name   # instance variable\n",
    "        print(\"Parent init method\")\n",
    "    def student_name_function(self):\n",
    "        print(\"\\nStudent Name Function\")\n",
    "        self.location = \"Pune\"  # instance variable\n",
    "        print(\"Name in parent class\", self.name)\n",
    "\n",
    "\n",
    "class StudentInfo(StudentName):  # Child class\n",
    "    \n",
    "    def __init__(self, NAME, roll_number, age, marks):\n",
    "        print(\"This is init function of child class\")\n",
    "        \n",
    "        self.roll_number = roll_number  # instance variable\n",
    "        self.age = age\n",
    "        \n",
    "        # print(\"**************** Parents __init__ method calling ***********\")\n",
    "        # StudentName.__init__(self, \"Shreeram\")\n",
    "        \n",
    "                \n",
    "    def student_roll_number(self):\n",
    "        print(\"\\nStudent roll number is -->\",self.roll_number)\n",
    "        print(\"**************** Parents __init__ method calling ***********\")\n",
    "        StudentName.__init__(self, \"Shreeram\")\n",
    "        \n",
    "    def student_age(self):\n",
    "        print(\"\\nStudent age is\", self.age)\n",
    "        \n",
    "        self.student_name_function()  # calling the method\n",
    "        \n",
    "        print(\"Location is\", self.location)\n",
    "\n",
    "\n",
    "obj = StudentInfo(\"Rahul\", 34, 25, \"96%\")\n",
    "# obj.student_name_function()\n",
    "obj.student_roll_number()"
   ]
  },
  {
   "cell_type": "code",
   "execution_count": 28,
   "id": "6d9b0691",
   "metadata": {},
   "outputs": [
    {
     "name": "stdout",
     "output_type": "stream",
     "text": [
      "This is init function of child class\n",
      "**************** Parents __init__ method calling ***********\n",
      "\n",
      "Student age is 25\n",
      "\n",
      "Student Name Function\n",
      "Name in parent class Rahul\n",
      "\n",
      "Location is Pune\n",
      "Student is going by --> Bike\n"
     ]
    }
   ],
   "source": [
    "class StudentName():  # Parent class\n",
    "    \n",
    "    def __init__(self, name, vehicle):\n",
    "        self.name = name   # instance variable\n",
    "        self.vehicle = vehicle\n",
    "        \n",
    "    def student_name_function(self):\n",
    "        print(\"\\nStudent Name Function\")\n",
    "        self.location = \"Pune\"  # instance variable\n",
    "        print(\"Name in parent class\", self.name)\n",
    "\n",
    "\n",
    "class StudentInfo(StudentName):  # Child class\n",
    "    \n",
    "    def __init__(self, NAME, VEHICLE, roll_number, age, marks):\n",
    "        print(\"This is init function of child class\")\n",
    "        \n",
    "        self.roll_number = roll_number  # instance variable\n",
    "        self.age = age\n",
    "        \n",
    "        print(\"**************** Parents __init__ method calling ***********\")\n",
    "        StudentName.__init__(self, NAME, VEHICLE)\n",
    "        \n",
    "                \n",
    "    def student_roll_number(self):\n",
    "        print(\"\\nStudent roll number is -->\",self.roll_number)\n",
    "        \n",
    "        \n",
    "    def student_age(self):\n",
    "        print(\"\\nStudent age is\", self.age)\n",
    "        \n",
    "        self.student_name_function()  # calling the method\n",
    "        \n",
    "        print(\"\\nLocation is\", self.location)\n",
    "        print(\"Student is going by -->\",self.vehicle)\n",
    "\n",
    "\n",
    "obj = StudentInfo(\"Rahul\", \"Bike\", 34, 25, \"96%\")\n",
    "obj.student_age()"
   ]
  },
  {
   "cell_type": "code",
   "execution_count": 27,
   "id": "e8e55976",
   "metadata": {},
   "outputs": [
    {
     "name": "stdout",
     "output_type": "stream",
     "text": [
      "This is init function of child class\n",
      "**************** Parents __init__ method calling ***********\n",
      "\n",
      "Student age is 25\n",
      "\n",
      "Location is Pune\n",
      "Student is going by --> Bike\n"
     ]
    }
   ],
   "source": [
    "class StudentName():  # Parent class\n",
    "    \n",
    "    def __init__(self, name, vehicle):\n",
    "        self.name = name   # instance variable\n",
    "        self.vehicle = vehicle\n",
    "        self.location = \"Pune\"  # instance variable\n",
    "        \n",
    "    def student_name_function(self):\n",
    "        print(\"\\nStudent Name Function\")\n",
    "        print(\"Name in parent class\", self.name)\n",
    "\n",
    "\n",
    "class StudentInfo(StudentName):  # Child class\n",
    "    \n",
    "    def __init__(self, NAME, VEHICLE, roll_number, age, marks):\n",
    "        print(\"This is init function of child class\")\n",
    "        \n",
    "        self.roll_number = roll_number  # instance variable\n",
    "        self.age = age\n",
    "        \n",
    "        print(\"**************** Parents __init__ method calling ***********\")\n",
    "        StudentName.__init__(self, NAME, VEHICLE)\n",
    "        \n",
    "                \n",
    "    def student_roll_number(self):\n",
    "        print(\"\\nStudent roll number is -->\",self.roll_number)\n",
    "        \n",
    "        \n",
    "    def student_age(self):\n",
    "        print(\"\\nStudent age is\", self.age)\n",
    "        \n",
    "#         self.student_name_function()  # calling the method\n",
    "        \n",
    "        print(\"\\nLocation is\", self.location)\n",
    "        print(\"Student is going by -->\",self.vehicle)\n",
    "\n",
    "\n",
    "obj = StudentInfo(\"Rahul\", \"Bike\", 34, 25, \"96%\")\n",
    "obj.student_age()"
   ]
  },
  {
   "cell_type": "code",
   "execution_count": 31,
   "id": "64b802db",
   "metadata": {},
   "outputs": [
    {
     "name": "stdout",
     "output_type": "stream",
     "text": [
      "This is init function of child class\n",
      "**************** Parents __init__ method calling ***********\n",
      "INIT of parent class\n",
      "\n",
      "Student age is 25\n"
     ]
    }
   ],
   "source": [
    "# If your __init__ method of parent class does not recieving an arguments\n",
    "class StudentName():  # Parent class\n",
    "    \n",
    "    def __init__(self):\n",
    "        print(\"INIT of parent class\")\n",
    "        \n",
    "    def student_name_function(self):\n",
    "        print(\"\\nStudent Name Function\")\n",
    "\n",
    "\n",
    "class StudentInfo(StudentName):  # Child class\n",
    "    \n",
    "    def __init__(self, NAME, VEHICLE, roll_number, age, marks):\n",
    "        print(\"This is init function of child class\")\n",
    "        \n",
    "        self.roll_number = roll_number  # instance variable\n",
    "        self.age = age\n",
    "        \n",
    "        print(\"**************** Parents __init__ method calling ***********\")\n",
    "        StudentName.__init__(self)\n",
    "        \n",
    "                \n",
    "    def student_roll_number(self):\n",
    "        print(\"\\nStudent roll number is -->\",self.roll_number)\n",
    "        \n",
    "        \n",
    "    def student_age(self):\n",
    "        print(\"\\nStudent age is\", self.age)\n",
    "        \n",
    "#         self.student_name_function()  # calling the method\n",
    "        \n",
    "\n",
    "\n",
    "obj = StudentInfo(\"Rahul\", \"Bike\", 34, 25, \"96%\")\n",
    "obj.student_age()"
   ]
  },
  {
   "cell_type": "markdown",
   "id": "6178d584",
   "metadata": {},
   "source": [
    "### 2. by using super function()"
   ]
  },
  {
   "cell_type": "code",
   "execution_count": null,
   "id": "eba0cc87",
   "metadata": {},
   "outputs": [],
   "source": [
    "2. \n",
    "syntax:\n",
    "    super().__init__(arguments)\n",
    "    \n",
    "when you dont want to use parent class name while calling __init__ method of parent class into child class\n",
    "# use super() function\n",
    "# No need to use 'self' keyword"
   ]
  },
  {
   "cell_type": "code",
   "execution_count": 32,
   "id": "5b1a1e88",
   "metadata": {},
   "outputs": [
    {
     "name": "stdout",
     "output_type": "stream",
     "text": [
      "This is init function of child class\n",
      "**************** Parents __init__ method calling ***********\n",
      "\n",
      "Student age is 25\n",
      "\n",
      "Location is Pune\n",
      "Student is going by --> Bike\n"
     ]
    }
   ],
   "source": [
    "class StudentName():  # Parent class\n",
    "    \n",
    "    def __init__(self, name, vehicle):\n",
    "        self.name = name   # instance variable\n",
    "        self.vehicle = vehicle\n",
    "        self.location = \"Pune\"  # instance variable\n",
    "        \n",
    "    def student_name_function(self):\n",
    "        print(\"\\nStudent Name Function\")\n",
    "        print(\"Name in parent class\", self.name)\n",
    "\n",
    "\n",
    "class StudentInfo(StudentName):  # Child class\n",
    "    \n",
    "    def __init__(self, NAME, VEHICLE, roll_number, age, marks):\n",
    "        print(\"This is init function of child class\")\n",
    "        \n",
    "        self.roll_number = roll_number  # instance variable\n",
    "        self.age = age\n",
    "        \n",
    "        print(\"**************** Parents __init__ method calling ***********\")\n",
    "        super().__init__(NAME, VEHICLE)   # calling __init__ method of parent class\n",
    "        \n",
    "                \n",
    "    def student_roll_number(self):\n",
    "        print(\"\\nStudent roll number is -->\",self.roll_number)\n",
    "        \n",
    "        \n",
    "    def student_age(self):\n",
    "        print(\"\\nStudent age is\", self.age)\n",
    "        \n",
    "#         self.student_name_function()  # calling the method\n",
    "        \n",
    "        print(\"\\nLocation is\", self.location)\n",
    "        print(\"Student is going by -->\",self.vehicle)\n",
    "\n",
    "\n",
    "obj = StudentInfo(\"Rahul\", \"Bike\", 34, 25, \"96%\")\n",
    "obj.student_age()"
   ]
  },
  {
   "cell_type": "code",
   "execution_count": null,
   "id": "e6667706",
   "metadata": {},
   "outputs": [],
   "source": []
  },
  {
   "cell_type": "code",
   "execution_count": null,
   "id": "fc0f10cd",
   "metadata": {},
   "outputs": [],
   "source": []
  },
  {
   "cell_type": "code",
   "execution_count": 38,
   "id": "aeec7d72",
   "metadata": {},
   "outputs": [
    {
     "name": "stdout",
     "output_type": "stream",
     "text": [
      "This is init function of child class\n",
      "**************** Parents __init__ method calling ***********\n",
      "Student name is --> Rahul\n",
      "\n",
      "Student age is 25\n",
      "\n",
      "Location is Pune\n",
      "Student is going by --> Bike\n",
      "****************************************************************************************************\n",
      "This is init function of child class\n",
      "**************** Parents __init__ method calling ***********\n",
      "Student name is --> Dipak\n",
      "\n",
      "Student age is 25\n",
      "\n",
      "Location is Pune\n",
      "Student is going by --> BMW\n"
     ]
    }
   ],
   "source": [
    "class StudentName():  # Parent class\n",
    "    \n",
    "    def __init__(self, name, vehicle):\n",
    "        self.name = name   # instance variable\n",
    "        self.vehicle = vehicle\n",
    "        self.location = \"Pune\"  # instance variable\n",
    "        \n",
    "    def student_name_function(self):\n",
    "        print(\"\\nStudent Name Function\")\n",
    "        print(\"Name in parent class\", self.name)\n",
    "\n",
    "\n",
    "class StudentInfo(StudentName):  # Child class\n",
    "    \n",
    "    def __init__(self, NAME, VEHICLE, roll_number, age, marks):\n",
    "        print(\"This is init function of child class\")\n",
    "        \n",
    "        self.roll_number = roll_number  # instance variable\n",
    "        self.age = age\n",
    "        \n",
    "        print(\"**************** Parents __init__ method calling ***********\")\n",
    "        super().__init__(NAME, VEHICLE)   # calling __init__ method of parent class\n",
    "        \n",
    "                \n",
    "    def student_roll_number(self):\n",
    "        print(\"\\nStudent roll number is -->\",self.roll_number)\n",
    "        \n",
    "        \n",
    "    def student_age(self):\n",
    "        print(\"Student name is -->\",self.name)\n",
    "        print(\"\\nStudent age is\", self.age)\n",
    "        \n",
    "#         self.student_name_function()  # calling the method\n",
    "        \n",
    "        print(\"\\nLocation is\", self.location)\n",
    "        print(\"Student is going by -->\",self.vehicle)\n",
    "\n",
    "\n",
    "obj = StudentInfo(\"Rahul\", \"Bike\", 34, 25, \"96%\")\n",
    "obj.student_age()\n",
    "\n",
    "print(\"*\"*100)\n",
    "\n",
    "DIPAK = StudentInfo(\"Dipak\", \"BMW\", 34, 25, \"96%\")\n",
    "DIPAK.student_age()\n",
    "\n",
    "# # ***********************************************************************************\n",
    "\n",
    "# Object = StudentName(\"Onkar\", \"BMW\")\n",
    "# Object.student_name_function()"
   ]
  },
  {
   "cell_type": "code",
   "execution_count": null,
   "id": "6cd9e19c",
   "metadata": {},
   "outputs": [],
   "source": []
  }
 ],
 "metadata": {
  "kernelspec": {
   "display_name": "Python 3 (ipykernel)",
   "language": "python",
   "name": "python3"
  },
  "language_info": {
   "codemirror_mode": {
    "name": "ipython",
    "version": 3
   },
   "file_extension": ".py",
   "mimetype": "text/x-python",
   "name": "python",
   "nbconvert_exporter": "python",
   "pygments_lexer": "ipython3",
   "version": "3.12.4"
  }
 },
 "nbformat": 4,
 "nbformat_minor": 5
}
