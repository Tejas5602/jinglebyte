{
 "cells": [
  {
   "cell_type": "markdown",
   "id": "7922952c",
   "metadata": {},
   "source": [
    "# Revision"
   ]
  },
  {
   "cell_type": "code",
   "execution_count": null,
   "id": "47c8d5de",
   "metadata": {},
   "outputs": [],
   "source": [
    "Class --> Blueprint of an object\n",
    "Object --> Real world entity\n",
    "        --> Instance of Class\n",
    "    \n",
    "Obj = ClassName()\n",
    "\n",
    "self:\n",
    "    - It is used to represent instance of class\n",
    "    - Mandatory in methods at 1st position.\n",
    "    - Used to access variables and methods in the class\n",
    "    \n",
    "__init__:\n",
    "    - Reserved Method\n",
    "    - Execute automatically when object is created\n",
    "    - Used to accept arguments to the class\n",
    "    - Not mandatory\n",
    "    \n",
    "Variables:\n",
    "    1. class Variable\n",
    "    2. Instance Variable\n",
    "    3. Local varible\n",
    "    4. Global Variable"
   ]
  },
  {
   "cell_type": "markdown",
   "id": "497968ec",
   "metadata": {},
   "source": [
    "# Fundamental concepts of Object Oriented Programming"
   ]
  },
  {
   "cell_type": "code",
   "execution_count": null,
   "id": "429cf8ca",
   "metadata": {},
   "outputs": [],
   "source": [
    "1. Inheritance\n",
    "2. Encapsulation\n",
    "3. Polymorphism\n",
    "4. Abstraction"
   ]
  },
  {
   "cell_type": "markdown",
   "id": "4d8e3cd1",
   "metadata": {},
   "source": [
    "### 1. Inheritance"
   ]
  },
  {
   "cell_type": "code",
   "execution_count": null,
   "id": "ff7b7b7b",
   "metadata": {},
   "outputs": [],
   "source": [
    "It inherits properties (methods and variables) of parent class into child class\n",
    "\n",
    "Parent class >> Base class >> Super Class\n",
    "Child Class >> Derived Class >> Sub Class\n",
    "\n",
    "Types of inheritance:\n",
    "    1. Single (Parent >> Child)\n",
    "    2. Multilevel (GrandFather >> Father >> Child)\n",
    "    3. Multiple (Mother & Father >> Child)\n",
    "    4. Hierarchical (Parent >> Child1, Child2)\n",
    "    5. Hybrid (Combination of More than one inheritance)"
   ]
  },
  {
   "cell_type": "markdown",
   "id": "d10aed91",
   "metadata": {},
   "source": [
    "## 2. Encapsulation"
   ]
  },
  {
   "cell_type": "code",
   "execution_count": null,
   "id": "265f8d79",
   "metadata": {},
   "outputs": [],
   "source": [
    "Used to restrict access of variables and methods from outside the class.\n",
    "It provides protection from accidental data modification from outside the class.\n",
    "\n",
    "Public Method and Public Variable:\n",
    "    we can access or modify from outside the class\n",
    "    \n",
    "Private Method and Private Variable:\n",
    "    we can not access or modify from outside the class\n",
    "\n",
    "Private method/ Varibale --> By prefixing __ (double underscore) before the method and variable\n",
    "    \n",
    "    private class variable\n",
    "    private instance variable\n",
    "    private method\n",
    "    \n",
    "Name Mangling:\n",
    "    Used to access or modify private variable and method from outside the class\n",
    "    Object._ClassName__variable\n",
    "    Object._ClassName__method()"
   ]
  },
  {
   "cell_type": "markdown",
   "id": "1493918d",
   "metadata": {},
   "source": [
    "## 3. Polymorphism"
   ]
  },
  {
   "cell_type": "code",
   "execution_count": null,
   "id": "acc061e4",
   "metadata": {},
   "outputs": [],
   "source": [
    "Having many forms\n",
    "\n",
    "Same method name with different functionalities in different classes.\n",
    "\n",
    "print()\n",
    "len()\n",
    "sum()\n",
    "max"
   ]
  },
  {
   "cell_type": "markdown",
   "id": "35b54ca3",
   "metadata": {},
   "source": [
    "#### Overridding"
   ]
  },
  {
   "cell_type": "code",
   "execution_count": null,
   "id": "3bf54514",
   "metadata": {},
   "outputs": [],
   "source": [
    "- Same method present in Parent class and child class\n",
    "- Child class method overrides the parent class method"
   ]
  },
  {
   "cell_type": "markdown",
   "id": "52217c19",
   "metadata": {},
   "source": [
    "## 4. Abstraction"
   ]
  },
  {
   "cell_type": "code",
   "execution_count": null,
   "id": "3f303923",
   "metadata": {},
   "outputs": [],
   "source": [
    "Blueprint of your project.\n",
    "Blueprint for other classes.\n",
    "\n",
    "need to import external library\n",
    "from abc import ABC, abstractmethod\n",
    "\n",
    "@abstractmethod Decorator is used to define Absstract Method\n",
    "\n",
    "Abstact Method is mandatory to use in inheritted class\n",
    "In Abstract class there are one or more abstract methods.\n",
    "\n",
    "Abstract class is only used for declaration, not for the implementation.\n",
    "\n",
    "We can not create an object of Abstract class.\n",
    "\n",
    "# API Creation\n",
    "It is used to hide internal functionality of your project.\n",
    "It will gives overall idea of your project.\n",
    "code become easy to understand at managerial level."
   ]
  }
 ],
 "metadata": {
  "kernelspec": {
   "display_name": "Python 3 (ipykernel)",
   "language": "python",
   "name": "python3"
  },
  "language_info": {
   "codemirror_mode": {
    "name": "ipython",
    "version": 3
   },
   "file_extension": ".py",
   "mimetype": "text/x-python",
   "name": "python",
   "nbconvert_exporter": "python",
   "pygments_lexer": "ipython3",
   "version": "3.12.4"
  }
 },
 "nbformat": 4,
 "nbformat_minor": 5
}
