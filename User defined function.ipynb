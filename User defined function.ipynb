{
 "cells": [
  {
   "cell_type": "markdown",
   "id": "c85fccb5-9d34-4d97-b7af-ee21ebd87ee0",
   "metadata": {},
   "source": [
    "# Function"
   ]
  },
  {
   "cell_type": "code",
   "execution_count": 2,
   "id": "f1986dcf-9e40-4f49-ba24-afe360813108",
   "metadata": {},
   "outputs": [
    {
     "name": "stdout",
     "output_type": "stream",
     "text": [
      "hello\n",
      "hi\n",
      "good\n"
     ]
    }
   ],
   "source": [
    "print(\"hello\")\n",
    "print(\"hi\")\n",
    "print(\"good\")"
   ]
  },
  {
   "cell_type": "code",
   "execution_count": null,
   "id": "18eab2cd-06ae-4d91-bbde-11e277272135",
   "metadata": {},
   "outputs": [],
   "source": [
    "function is a orgnised block of reusable code\n",
    "\n",
    "function will exceute only when it is called"
   ]
  },
  {
   "cell_type": "code",
   "execution_count": null,
   "id": "e579b357-0218-4640-83ee-d25114bd2ad0",
   "metadata": {},
   "outputs": [],
   "source": [
    "# rules to define a function name\n",
    "# 1.must start with _ or alphabates\n",
    "# 2.does not conatin special char. and space\n",
    "# 3.can not defiend a fucntion using reserved keyword\n",
    "# 4. can not start wit number"
   ]
  },
  {
   "cell_type": "code",
   "execution_count": null,
   "id": "55fdf79d-d0f2-4671-9a3c-5ef765732666",
   "metadata": {},
   "outputs": [],
   "source": [
    "def >> definition"
   ]
  },
  {
   "cell_type": "code",
   "execution_count": 16,
   "id": "cd66a036-c9cc-41a3-88bc-c563accddc37",
   "metadata": {},
   "outputs": [
    {
     "name": "stdout",
     "output_type": "stream",
     "text": [
      "we are testing function\n",
      "Hello\n",
      "python and data science\n",
      "python and data science\n",
      "python and data science\n",
      "python and data science\n",
      "python and data science\n",
      "\n",
      "we are testing function\n",
      "Hello\n",
      "python and data science\n",
      "python and data science\n",
      "python and data science\n",
      "python and data science\n",
      "python and data science\n",
      "\n",
      "we are testing function\n",
      "Hello\n",
      "python and data science\n",
      "python and data science\n",
      "python and data science\n",
      "python and data science\n",
      "python and data science\n"
     ]
    }
   ],
   "source": [
    "def function_name():\n",
    "    print(\"we are testing function\")\n",
    "    print(\"Hello\")\n",
    "    \n",
    "    for i in range(5):\n",
    "        print(\"python and data science\")\n",
    "\n",
    "# calling the fubction\n",
    "function_name()\n",
    "print()\n",
    "function_name()\n",
    "print()\n",
    "function_name()"
   ]
  },
  {
   "cell_type": "code",
   "execution_count": 18,
   "id": "ebe8b3e3-f8cd-4fda-bfb2-01814b54214f",
   "metadata": {},
   "outputs": [
    {
     "name": "stdout",
     "output_type": "stream",
     "text": [
      "Addition of elements in a list 421\n"
     ]
    }
   ],
   "source": [
    "a=[2,3,4,5,6,345,56]\n",
    "add=0\n",
    "for i in a:\n",
    "    add=add+i\n",
    "print(\"Addition of elements in a list\",add)"
   ]
  },
  {
   "cell_type": "code",
   "execution_count": 28,
   "id": "d734e8f9-24c2-4177-95a7-043cb80e4a79",
   "metadata": {},
   "outputs": [
    {
     "name": "stdout",
     "output_type": "stream",
     "text": [
      "Addition of elements in a list 421\n"
     ]
    },
    {
     "ename": "NameError",
     "evalue": "name 'c' is not defined",
     "output_type": "error",
     "traceback": [
      "\u001b[1;31m---------------------------------------------------------------------------\u001b[0m",
      "\u001b[1;31mNameError\u001b[0m                                 Traceback (most recent call last)",
      "Cell \u001b[1;32mIn[28], line 8\u001b[0m\n\u001b[0;32m      6\u001b[0m     \u001b[38;5;28mprint\u001b[39m(\u001b[38;5;124m\"\u001b[39m\u001b[38;5;124mAddition of elements in a list\u001b[39m\u001b[38;5;124m\"\u001b[39m,add)\n\u001b[0;32m      7\u001b[0m addition()\n\u001b[1;32m----> 8\u001b[0m \u001b[38;5;28mprint\u001b[39m(c)\n",
      "\u001b[1;31mNameError\u001b[0m: name 'c' is not defined"
     ]
    }
   ],
   "source": [
    "def addition():\n",
    "    c=[2,3,4,5,6,345,56]\n",
    "    add=0\n",
    "    for i in c:\n",
    "        add=add+i\n",
    "    print(\"Addition of elements in a list\",add)\n",
    "addition()\n",
    "print(c)"
   ]
  },
  {
   "cell_type": "code",
   "execution_count": 30,
   "id": "d2f60b48-6254-484e-8c2f-d2c7c9bf762f",
   "metadata": {},
   "outputs": [
    {
     "name": "stdout",
     "output_type": "stream",
     "text": [
      "Addition of elements in a list 421\n"
     ]
    }
   ],
   "source": [
    "def addition():\n",
    "    c=[2,3,4,5,6,345,56]\n",
    "    add=0\n",
    "    for i in c:\n",
    "        add=add+i\n",
    "    print(\"Addition of elements in a list\",add)\n",
    "addition()\n",
    "# print(c)"
   ]
  },
  {
   "cell_type": "code",
   "execution_count": 38,
   "id": "058e9fa6-8bfc-4197-904d-29da3e71314a",
   "metadata": {},
   "outputs": [
    {
     "ename": "TypeError",
     "evalue": "addition() takes 1 positional argument but 2 were given",
     "output_type": "error",
     "traceback": [
      "\u001b[1;31m---------------------------------------------------------------------------\u001b[0m",
      "\u001b[1;31mTypeError\u001b[0m                                 Traceback (most recent call last)",
      "Cell \u001b[1;32mIn[38], line 6\u001b[0m\n\u001b[0;32m      4\u001b[0m         add\u001b[38;5;241m=\u001b[39madd\u001b[38;5;241m+\u001b[39mi\n\u001b[0;32m      5\u001b[0m     \u001b[38;5;28mprint\u001b[39m(\u001b[38;5;124m\"\u001b[39m\u001b[38;5;124mAddition of elements in a list\u001b[39m\u001b[38;5;124m\"\u001b[39m,add)\n\u001b[1;32m----> 6\u001b[0m addition([\u001b[38;5;241m1\u001b[39m,\u001b[38;5;241m2\u001b[39m,\u001b[38;5;241m3\u001b[39m,\u001b[38;5;241m5\u001b[39m],[\u001b[38;5;241m3\u001b[39m,\u001b[38;5;241m4\u001b[39m,\u001b[38;5;241m5\u001b[39m,\u001b[38;5;241m6\u001b[39m])\n",
      "\u001b[1;31mTypeError\u001b[0m: addition() takes 1 positional argument but 2 were given"
     ]
    }
   ],
   "source": [
    "def addition(lst):  # lst=[1,2,3,5]\n",
    "    add=0\n",
    "    for i in lst:\n",
    "        add=add+i\n",
    "    print(\"Addition of elements in a list\",add)\n",
    "addition([1,2,3,5],[3,4,5,6])"
   ]
  },
  {
   "cell_type": "code",
   "execution_count": null,
   "id": "427c3e71-e8f2-4a98-98e5-77da0e82cca6",
   "metadata": {},
   "outputs": [],
   "source": [
    "function_name(arguments1,argument2,...)\n",
    "number of arguments=no of parameters\n",
    "arguments >> it is a value is passed to function when it is calledf\n",
    "parameter >> it is used when  defining a function"
   ]
  },
  {
   "cell_type": "code",
   "execution_count": 36,
   "id": "f6b3e1ec-238d-4be8-b142-22f279a4f8d6",
   "metadata": {},
   "outputs": [
    {
     "name": "stdout",
     "output_type": "stream",
     "text": [
      "Addition of elements in a list 11\n"
     ]
    }
   ],
   "source": [
    "def addition(): # \n",
    "    lst=[1,2,3,5]\n",
    "    add=0\n",
    "    for i in lst:\n",
    "        add=add+i\n",
    "    print(\"Addition of elements in a list\",add)\n",
    "addition([3,4,5,6,9])"
   ]
  },
  {
   "cell_type": "code",
   "execution_count": 44,
   "id": "5ee88725-6815-437b-87fb-fe5b0ce1b9c2",
   "metadata": {},
   "outputs": [
    {
     "name": "stdout",
     "output_type": "stream",
     "text": [
      "43.0\n"
     ]
    }
   ],
   "source": [
    "def addition(a,b,c):\n",
    "    avg=(a+b+c)/3  # local variable\n",
    "    print(avg)\n",
    "# addition(4,5,6)\n",
    "\n",
    "addition(6,34,89)"
   ]
  },
  {
   "cell_type": "code",
   "execution_count": 48,
   "id": "576351af-1fe9-427b-bbf2-de5c7193cded",
   "metadata": {},
   "outputs": [
    {
     "name": "stdout",
     "output_type": "stream",
     "text": [
      "20.0\n"
     ]
    }
   ],
   "source": [
    "x,y,z=10,20,30  # global varible\n",
    "addition(x,y,z)"
   ]
  },
  {
   "cell_type": "code",
   "execution_count": 50,
   "id": "85fcf78e-c334-49a0-8492-9146d3930b39",
   "metadata": {},
   "outputs": [
    {
     "ename": "TypeError",
     "evalue": "addition() missing 1 required positional argument: 'c'",
     "output_type": "error",
     "traceback": [
      "\u001b[1;31m---------------------------------------------------------------------------\u001b[0m",
      "\u001b[1;31mTypeError\u001b[0m                                 Traceback (most recent call last)",
      "Cell \u001b[1;32mIn[50], line 1\u001b[0m\n\u001b[1;32m----> 1\u001b[0m addition(x,y)\n",
      "\u001b[1;31mTypeError\u001b[0m: addition() missing 1 required positional argument: 'c'"
     ]
    }
   ],
   "source": [
    "addition(x,y)"
   ]
  },
  {
   "cell_type": "code",
   "execution_count": 52,
   "id": "4dbf8fd6-319a-4da7-9ce2-b97d5def087c",
   "metadata": {},
   "outputs": [
    {
     "name": "stdout",
     "output_type": "stream",
     "text": [
      "44.0\n"
     ]
    }
   ],
   "source": [
    "def addition(a,b,c):  # parameters\n",
    "    avg=(a+b+c)/3  # local variable\n",
    "    print(avg)\n",
    "# addition(4,5,6)\n",
    "\n",
    "x=20  # global varible\n",
    "y=45\n",
    "z=67\n",
    "addition(x,y,z)  # arguments"
   ]
  },
  {
   "cell_type": "code",
   "execution_count": null,
   "id": "32e40dfa-8221-4a5e-81e1-e7c377b3c232",
   "metadata": {},
   "outputs": [],
   "source": [
    "function odd and even number from list"
   ]
  },
  {
   "cell_type": "code",
   "execution_count": 63,
   "id": "682c0235-2dd0-411f-90a7-353d8314ce5f",
   "metadata": {},
   "outputs": [
    {
     "name": "stdout",
     "output_type": "stream",
     "text": [
      "even number list [2, 4, 2, 2, 56, 54, 22, 46, 78]\n",
      "odd number list [3, 5, 3, 3, 33, 97, 65, 45]\n"
     ]
    }
   ],
   "source": [
    "def get_even_odd(lst):\n",
    "    even_no_list=[i for i in lst if i%2 ==0]\n",
    "    odd_no_list=[i for i in lst if i%2 !=0]\n",
    "    print(\"even number list\",even_no_list)\n",
    "    print(\"odd number list\",odd_no_list)\n",
    "get_even_odd([2,3,4,5,3,2,2,3,56,54,22,33,46,78,97,65,45])"
   ]
  },
  {
   "cell_type": "code",
   "execution_count": 58,
   "id": "b6b39dc2-347f-435b-bf44-d405069ad2b8",
   "metadata": {},
   "outputs": [],
   "source": [
    "def get_even_odd(lst):\n",
    "    even_no_list=[i for i in lst if i%2 ==0]\n",
    "    odd_no_list=[i for i in lst if i%2 !=0]\n",
    "    # print(\"even number list\",even_no_list)\n",
    "    # print(\"odd number list\",odd_no_list)\n",
    "get_even_odd([2,3,4,5,3,2,2,3,56,54,22,33,46,78,97,65,45])"
   ]
  },
  {
   "cell_type": "markdown",
   "id": "d955aee0-9353-4337-a694-326602d99ad1",
   "metadata": {},
   "source": [
    "# return"
   ]
  },
  {
   "cell_type": "code",
   "execution_count": null,
   "id": "32a78148-f5f8-406c-94f7-b52bc4ce261b",
   "metadata": {},
   "outputs": [],
   "source": [
    "it is used to end the function\n",
    "output of fuction is returned by using return statemnt\n",
    "if you  to continue work with the function output value and try out the some operation on it\n",
    "you can use return statement"
   ]
  },
  {
   "cell_type": "code",
   "execution_count": 65,
   "id": "8a3fbf2d-a17e-4629-9c1a-f4b523e1497b",
   "metadata": {},
   "outputs": [
    {
     "data": {
      "text/plain": [
       "'Sucess'"
      ]
     },
     "execution_count": 65,
     "metadata": {},
     "output_type": "execute_result"
    }
   ],
   "source": [
    "def get_even_odd(lst):\n",
    "    even_no_list=[i for i in lst if i%2 ==0]\n",
    "    odd_no_list=[i for i in lst if i%2 !=0]\n",
    "    return \"Sucess\"\n",
    "get_even_odd([2,3,4,5,3,2,2,3,56,54,22,33,46,78,97,65,45])"
   ]
  },
  {
   "cell_type": "code",
   "execution_count": 82,
   "id": "1da0bb1b-1cba-4395-bb7d-9fdf81489d7b",
   "metadata": {},
   "outputs": [
    {
     "name": "stdout",
     "output_type": "stream",
     "text": [
      "even number list [2, 4, 2, 2, 56, 54, 22, 46, 78]\n",
      "odd number list [3, 5, 3, 3, 33, 97, 65, 45]\n",
      "None\n"
     ]
    }
   ],
   "source": [
    "def get_even_odd(lst):\n",
    "    even_no_list=[i for i in lst if i%2 ==0]\n",
    "    odd_no_list=[i for i in lst if i%2 !=0]\n",
    "    print(\"even number list\",even_no_list)\n",
    "    print(\"odd number list\",odd_no_list)\n",
    "a=get_even_odd([2,3,4,5,3,2,2,3,56,54,22,33,46,78,97,65,45])\n",
    "print(a)"
   ]
  },
  {
   "cell_type": "code",
   "execution_count": 88,
   "id": "4e68b92b-1ec6-48a8-ac59-c4352f40c8dc",
   "metadata": {},
   "outputs": [
    {
     "name": "stdout",
     "output_type": "stream",
     "text": [
      "[2, 4, 2, 2, 56, 54, 22, 46, 78]\n"
     ]
    },
    {
     "data": {
      "text/plain": [
       "[2, 4, 2, 2, 56, 54, 22, 46, 78, 10000]"
      ]
     },
     "execution_count": 88,
     "metadata": {},
     "output_type": "execute_result"
    }
   ],
   "source": [
    "def get_even_odd(lst):\n",
    "    even_no_list=[i for i in lst if i%2 ==0]\n",
    "    odd_no_list=[i for i in lst if i%2 !=0]\n",
    "    return even_no_list\n",
    "a=get_even_odd([2,3,4,5,3,2,2,3,56,54,22,33,46,78,97,65,45])\n",
    "print(a)\n",
    "a.append(10000)\n",
    "a"
   ]
  },
  {
   "cell_type": "code",
   "execution_count": 5,
   "id": "21c234d0-1ed1-43c0-bb6a-bc7b6d2808a6",
   "metadata": {},
   "outputs": [
    {
     "name": "stdout",
     "output_type": "stream",
     "text": [
      "[144, 196, 256, 324, 400, 484, 576, 676, 784, 900, 1024, 1156, 1296, 1444, 1600, 1764, 1936, 2116, 2304, 2500, 2704, 2916, 3136]\n",
      "[169, 225, 289, 361, 441, 529, 625, 729, 841, 961, 1089, 1225, 1369, 1521, 1681, 1849, 2025, 2209, 2401, 2601, 2809, 3025]\n"
     ]
    }
   ],
   "source": [
    "def square(start,end):\n",
    "    lst1=[]\n",
    "    lst2=[]\n",
    "    \n",
    "    for i in range(start,end+1):\n",
    "        if i%2==0:\n",
    "            lst1.append(i**2)\n",
    "        else:\n",
    "            lst2.append(i**2)\n",
    "    return lst1,lst2\n",
    "a,b=square(12,56)\n",
    "print(a)\n",
    "print(b)"
   ]
  },
  {
   "cell_type": "code",
   "execution_count": 19,
   "id": "64e7c7a0-db90-4570-aa0b-39f8b3385bc9",
   "metadata": {},
   "outputs": [
    {
     "name": "stdout",
     "output_type": "stream",
     "text": [
      "Oyto Suceess\n",
      "Oyto dsf\n",
      "Oyto sfsfg\n"
     ]
    }
   ],
   "source": [
    "def square(start,end):\n",
    "    lst1=[]\n",
    "    lst2=[]\n",
    "    \n",
    "    for i in range(start,end+1):\n",
    "        if i%2==0:\n",
    "            lst1.append(i**2)\n",
    "        else:\n",
    "            lst2.append(i**2)\n",
    "    return \"Suceess\",\"dsf\",\"sfsfg\"\n",
    "a,b,c=square(12,56)\n",
    "print(\"Oyto\",a)\n",
    "print(\"Oyto\",b)\n",
    "print(\"Oyto\",c)"
   ]
  },
  {
   "cell_type": "code",
   "execution_count": null,
   "id": "18bb2022-7453-4bab-894c-1540c6b004cd",
   "metadata": {},
   "outputs": [],
   "source": [
    "def factorial(number):\n",
    "    #code\n",
    "    return fact"
   ]
  },
  {
   "cell_type": "code",
   "execution_count": null,
   "id": "0e32611f-c025-4882-804b-940002c68990",
   "metadata": {},
   "outputs": [],
   "source": [
    "def fabinaaci(number):\n",
    "    #code\n",
    "    return fibo"
   ]
  },
  {
   "cell_type": "code",
   "execution_count": null,
   "id": "613e5e0a-2b2c-4539-817b-6a6867788599",
   "metadata": {},
   "outputs": [],
   "source": [
    "def prime_in_range(start,end):\n",
    "    #code\n",
    "    return primt_lst"
   ]
  },
  {
   "cell_type": "markdown",
   "id": "e751a28d-bc28-437a-b78a-856a95d77e50",
   "metadata": {},
   "source": [
    "# function arguments"
   ]
  },
  {
   "cell_type": "code",
   "execution_count": null,
   "id": "eabf714b-5419-4610-b2ca-d29f5de26f24",
   "metadata": {},
   "outputs": [],
   "source": [
    "1.positional argument\n",
    "2.default arguments\n",
    "3.keyword argument\n",
    "4.arbitary positional\n",
    "5.arbitary keyword "
   ]
  },
  {
   "cell_type": "markdown",
   "id": "0ff1472c-8af8-4489-ab23-c77d8a5461fb",
   "metadata": {},
   "source": [
    "# positional argument"
   ]
  },
  {
   "cell_type": "code",
   "execution_count": 28,
   "id": "8962fbc6-e1b9-4d9a-af9c-5baec3dce2bb",
   "metadata": {},
   "outputs": [
    {
     "name": "stdout",
     "output_type": "stream",
     "text": [
      "1\n",
      "2\n"
     ]
    },
    {
     "data": {
      "text/plain": [
       "3"
      ]
     },
     "execution_count": 28,
     "metadata": {},
     "output_type": "execute_result"
    }
   ],
   "source": [
    "def addition(a,b):\n",
    "    print(a)\n",
    "    print(b)\n",
    "    add=a+b\n",
    "    return add\n",
    "addition(1,2)"
   ]
  },
  {
   "cell_type": "code",
   "execution_count": 31,
   "id": "7ba03682-2b82-4e99-b43d-6e6d525d8204",
   "metadata": {},
   "outputs": [
    {
     "name": "stdout",
     "output_type": "stream",
     "text": [
      "2\n",
      "1\n"
     ]
    },
    {
     "data": {
      "text/plain": [
       "3"
      ]
     },
     "execution_count": 31,
     "metadata": {},
     "output_type": "execute_result"
    }
   ],
   "source": [
    "def addition(a,b):\n",
    "    print(a)\n",
    "    print(b)\n",
    "    add=a+b\n",
    "    return add\n",
    "addition(2,1)"
   ]
  },
  {
   "cell_type": "code",
   "execution_count": 43,
   "id": "dcbea48b-eae9-4051-86f6-d53c09bf9b5e",
   "metadata": {},
   "outputs": [
    {
     "name": "stdout",
     "output_type": "stream",
     "text": [
      "2\n",
      "1\n"
     ]
    },
    {
     "data": {
      "text/plain": [
       "3"
      ]
     },
     "execution_count": 43,
     "metadata": {},
     "output_type": "execute_result"
    }
   ],
   "source": [
    "def good(y,z):\n",
    "    print(y)\n",
    "    print(z)\n",
    "    add=y+z\n",
    "    return add\n",
    "good(2,1)"
   ]
  },
  {
   "cell_type": "code",
   "execution_count": null,
   "id": "37918026-2b7c-4680-92ee-e29ef41bebeb",
   "metadata": {},
   "outputs": [],
   "source": [
    "no.of argument=no. of parametrs\n",
    "it is the arguments which is passed in specific order to a function"
   ]
  },
  {
   "cell_type": "markdown",
   "id": "534a34c9-fc4d-4b90-9d59-63ce6b91a172",
   "metadata": {},
   "source": [
    "# 2.default argument"
   ]
  },
  {
   "cell_type": "code",
   "execution_count": 48,
   "id": "e675d0de-ae8f-4299-b10c-b355a4ad4a56",
   "metadata": {},
   "outputs": [
    {
     "name": "stdout",
     "output_type": "stream",
     "text": [
      "40\n",
      "30\n"
     ]
    },
    {
     "data": {
      "text/plain": [
       "70"
      ]
     },
     "execution_count": 48,
     "metadata": {},
     "output_type": "execute_result"
    }
   ],
   "source": [
    "def bad(y=40,z=30):\n",
    "    print(y)\n",
    "    print(z)\n",
    "    add=y+z\n",
    "    return add\n",
    "bad()"
   ]
  },
  {
   "cell_type": "code",
   "execution_count": 50,
   "id": "3681fa93-c885-4dcc-ab7e-126e512c0046",
   "metadata": {},
   "outputs": [
    {
     "name": "stdout",
     "output_type": "stream",
     "text": [
      "23\n",
      "45\n"
     ]
    },
    {
     "data": {
      "text/plain": [
       "68"
      ]
     },
     "execution_count": 50,
     "metadata": {},
     "output_type": "execute_result"
    }
   ],
   "source": [
    "def bad(y=40,z=30):\n",
    "    print(y)\n",
    "    print(z)\n",
    "    add=y+z\n",
    "    return add\n",
    "bad(23,45)"
   ]
  },
  {
   "cell_type": "code",
   "execution_count": 54,
   "id": "2eaa437e-9c9e-4fca-89e6-ea437e0ecd91",
   "metadata": {},
   "outputs": [
    {
     "name": "stdout",
     "output_type": "stream",
     "text": [
      "40\n",
      "30\n",
      "23\n",
      "45\n"
     ]
    },
    {
     "data": {
      "text/plain": [
       "70"
      ]
     },
     "execution_count": 54,
     "metadata": {},
     "output_type": "execute_result"
    }
   ],
   "source": [
    "def bad(r,t,y=40,z=30):\n",
    "    print(y)\n",
    "    print(z)\n",
    "    print(r)\n",
    "    print(t)\n",
    "    add=y+z\n",
    "    return add\n",
    "bad(23,45)"
   ]
  },
  {
   "cell_type": "code",
   "execution_count": 66,
   "id": "7bd98e6b-7ca4-4929-bc47-dada1fdc536e",
   "metadata": {},
   "outputs": [
    {
     "name": "stdout",
     "output_type": "stream",
     "text": [
      "40\n",
      "30\n",
      "23\n",
      "45\n"
     ]
    },
    {
     "data": {
      "text/plain": [
       "70"
      ]
     },
     "execution_count": 66,
     "metadata": {},
     "output_type": "execute_result"
    }
   ],
   "source": [
    "def bad(r,t,y=40,z=30):\n",
    "    print(y)\n",
    "    print(z)\n",
    "    print(r)\n",
    "    print(t)\n",
    "    add=y+z\n",
    "    return add\n",
    "bad(23,45)"
   ]
  },
  {
   "cell_type": "code",
   "execution_count": 68,
   "id": "85198bad-9c39-4634-86df-01d51b9b0cf4",
   "metadata": {},
   "outputs": [
    {
     "name": "stdout",
     "output_type": "stream",
     "text": [
      "98\n",
      "67\n",
      "23\n",
      "45\n"
     ]
    },
    {
     "data": {
      "text/plain": [
       "165"
      ]
     },
     "execution_count": 68,
     "metadata": {},
     "output_type": "execute_result"
    }
   ],
   "source": [
    "def bad(r,t,y=40,z=30):\n",
    "    print(y)\n",
    "    print(z)\n",
    "    print(r)\n",
    "    print(t)\n",
    "    add=y+z\n",
    "    return add\n",
    "bad(23,45,98,67)"
   ]
  },
  {
   "cell_type": "markdown",
   "id": "2cc30d9b-f516-4325-b87e-a7f8371711f8",
   "metadata": {},
   "source": [
    "# keyword"
   ]
  },
  {
   "cell_type": "code",
   "execution_count": null,
   "id": "bede634d-4546-46d5-a9da-ca657425c7c0",
   "metadata": {},
   "outputs": [],
   "source": [
    "it is passed using parameter name"
   ]
  },
  {
   "cell_type": "code",
   "execution_count": 71,
   "id": "bbef9f55-b596-4f45-884f-610e6dfda5ea",
   "metadata": {},
   "outputs": [
    {
     "name": "stdout",
     "output_type": "stream",
     "text": [
      "23\n",
      "45\n"
     ]
    },
    {
     "data": {
      "text/plain": [
       "68"
      ]
     },
     "execution_count": 71,
     "metadata": {},
     "output_type": "execute_result"
    }
   ],
   "source": [
    "def bad(r,t):\n",
    "    print(r)\n",
    "    print(t)\n",
    "    add=r+t\n",
    "    return add\n",
    "bad(t=45,r=23)"
   ]
  },
  {
   "cell_type": "code",
   "execution_count": 75,
   "id": "4886404f-a106-4d99-ba4b-7e7113d42bf3",
   "metadata": {},
   "outputs": [
    {
     "data": {
      "text/plain": [
       "3"
      ]
     },
     "execution_count": 75,
     "metadata": {},
     "output_type": "execute_result"
    }
   ],
   "source": [
    "def addition(x,y):\n",
    "    # print(x)\n",
    "    # print(y)\n",
    "    add=x+y\n",
    "    return add\n",
    "addition(2,1)"
   ]
  },
  {
   "cell_type": "markdown",
   "id": "40e7d869-6d74-4445-a2bb-b20b0013ead4",
   "metadata": {},
   "source": [
    "# arbitary postional arguments"
   ]
  },
  {
   "cell_type": "code",
   "execution_count": null,
   "id": "f4e77b8a-0217-4959-85de-0b294e7d308e",
   "metadata": {},
   "outputs": [],
   "source": [
    "if we dont know number of positional argument to be passed\n",
    "*args >> *argumets\n",
    "datatype of args variable is tuple"
   ]
  },
  {
   "cell_type": "code",
   "execution_count": 86,
   "id": "6d68cd90-f263-4691-a64a-09356c686e9e",
   "metadata": {},
   "outputs": [
    {
     "name": "stdout",
     "output_type": "stream",
     "text": [
      "(2, 1, 45, 7, 3)\n",
      "<class 'tuple'>\n"
     ]
    },
    {
     "data": {
      "text/plain": [
       "58"
      ]
     },
     "execution_count": 86,
     "metadata": {},
     "output_type": "execute_result"
    }
   ],
   "source": [
    "def addition(*x):\n",
    "    print(x)\n",
    "    print(type(x))\n",
    "    # print(y)\n",
    "    add=sum(x)\n",
    "    return add\n",
    "addition(2,1,45,7,3)"
   ]
  },
  {
   "cell_type": "code",
   "execution_count": 88,
   "id": "a9b508dd-526f-462b-821f-e927fe86faa5",
   "metadata": {},
   "outputs": [
    {
     "name": "stdout",
     "output_type": "stream",
     "text": [
      "(45, 7, 3)\n",
      "2\n",
      "1\n",
      "<class 'tuple'>\n"
     ]
    },
    {
     "data": {
      "text/plain": [
       "55"
      ]
     },
     "execution_count": 88,
     "metadata": {},
     "output_type": "execute_result"
    }
   ],
   "source": [
    "def addition(d,c,*x):\n",
    "    print(x)\n",
    "    print(d)\n",
    "    print(c)\n",
    "    print(type(x))\n",
    "    # print(y)\n",
    "    add=sum(x)\n",
    "    return add\n",
    "addition(2,1,45,7,3)"
   ]
  },
  {
   "cell_type": "code",
   "execution_count": 90,
   "id": "cc551565-25d2-4259-ad3c-9c139c1aaf93",
   "metadata": {},
   "outputs": [
    {
     "ename": "TypeError",
     "evalue": "addition() missing 2 required keyword-only arguments: 'd' and 'c'",
     "output_type": "error",
     "traceback": [
      "\u001b[1;31m---------------------------------------------------------------------------\u001b[0m",
      "\u001b[1;31mTypeError\u001b[0m                                 Traceback (most recent call last)",
      "Cell \u001b[1;32mIn[90], line 9\u001b[0m\n\u001b[0;32m      7\u001b[0m     add\u001b[38;5;241m=\u001b[39m\u001b[38;5;28msum\u001b[39m(x)\n\u001b[0;32m      8\u001b[0m     \u001b[38;5;28;01mreturn\u001b[39;00m add\n\u001b[1;32m----> 9\u001b[0m addition(\u001b[38;5;241m2\u001b[39m,\u001b[38;5;241m1\u001b[39m,\u001b[38;5;241m45\u001b[39m,\u001b[38;5;241m7\u001b[39m,\u001b[38;5;241m3\u001b[39m)\n",
      "\u001b[1;31mTypeError\u001b[0m: addition() missing 2 required keyword-only arguments: 'd' and 'c'"
     ]
    }
   ],
   "source": [
    "def addition(*x,d,c):\n",
    "    print(x)\n",
    "    print(d)\n",
    "    print(c)\n",
    "    print(type(x))\n",
    "    # print(y)\n",
    "    add=sum(x)\n",
    "    return add\n",
    "addition(2,1,45,7,3)"
   ]
  },
  {
   "cell_type": "code",
   "execution_count": 100,
   "id": "7c712876-613a-42bd-8b51-a7e6d13c04bb",
   "metadata": {},
   "outputs": [
    {
     "name": "stdout",
     "output_type": "stream",
     "text": [
      "(7, 8, 9, 0, 64, 23)\n",
      "34\n",
      "56\n",
      "78\n",
      "45\n",
      "<class 'tuple'>\n"
     ]
    },
    {
     "data": {
      "text/plain": [
       "111"
      ]
     },
     "execution_count": 100,
     "metadata": {},
     "output_type": "execute_result"
    }
   ],
   "source": [
    "def addition(d,c,*x,v=45,n=78):\n",
    "    print(x)\n",
    "    print(d)\n",
    "    print(c)\n",
    "    print(n)\n",
    "    print(v)\n",
    "    print(type(x))\n",
    "    # print(y)\n",
    "    add=sum(x)\n",
    "    return add\n",
    "addition(34,56,7,8,9,0,64,23)"
   ]
  },
  {
   "cell_type": "code",
   "execution_count": 102,
   "id": "6fc225e2-ceb7-4203-8cde-e087e1244e37",
   "metadata": {},
   "outputs": [
    {
     "name": "stdout",
     "output_type": "stream",
     "text": [
      "(9, 0, 64, 23)\n",
      "34\n",
      "56\n",
      "8\n",
      "7\n",
      "<class 'tuple'>\n"
     ]
    },
    {
     "data": {
      "text/plain": [
       "96"
      ]
     },
     "execution_count": 102,
     "metadata": {},
     "output_type": "execute_result"
    }
   ],
   "source": [
    "def addition(d,c,v=45,n=78,*x):\n",
    "    print(x)\n",
    "    print(d)\n",
    "    print(c)\n",
    "    print(n)\n",
    "    print(v)\n",
    "    print(type(x))\n",
    "    # print(y)\n",
    "    add=sum(x)\n",
    "    return add\n",
    "addition(34,56,7,8,9,0,64,23)"
   ]
  },
  {
   "cell_type": "code",
   "execution_count": null,
   "id": "36c3ea7c-f993-4a3f-afb9-30858c169865",
   "metadata": {},
   "outputs": [],
   "source": []
  },
  {
   "cell_type": "code",
   "execution_count": 80,
   "id": "20875cb4-5c64-4bf1-9028-1317a2113804",
   "metadata": {},
   "outputs": [
    {
     "data": {
      "text/plain": [
       "tuple"
      ]
     },
     "execution_count": 80,
     "metadata": {},
     "output_type": "execute_result"
    }
   ],
   "source": [
    "a=3,4,5,6,7\n",
    "type(a)"
   ]
  },
  {
   "cell_type": "code",
   "execution_count": null,
   "id": "dfcc80c7-8454-4307-ad92-e7c4bd314568",
   "metadata": {},
   "outputs": [],
   "source": [
    "# positional >> arbitary postional >> default/keyword >> arbitary keyword"
   ]
  },
  {
   "cell_type": "code",
   "execution_count": null,
   "id": "800369bb-ac00-462e-8a00-e1fb5a0f5716",
   "metadata": {},
   "outputs": [],
   "source": []
  },
  {
   "cell_type": "markdown",
   "id": "440a8a0f-3a37-4edf-bbb3-542896916269",
   "metadata": {},
   "source": [
    "# arbitary keyword"
   ]
  },
  {
   "cell_type": "code",
   "execution_count": 111,
   "id": "b7b6c58a-7731-4b58-bf2f-6453aefd9329",
   "metadata": {},
   "outputs": [
    {
     "name": "stdout",
     "output_type": "stream",
     "text": [
      "35\n",
      "45\n"
     ]
    }
   ],
   "source": [
    "def addition(c=35,d=45):\n",
    "    print(c)\n",
    "    print(d)\n",
    "addition()"
   ]
  },
  {
   "cell_type": "code",
   "execution_count": 117,
   "id": "406f03ca-78f0-4e4b-af7e-ae34a1e6e691",
   "metadata": {},
   "outputs": [
    {
     "name": "stdout",
     "output_type": "stream",
     "text": [
      "{'f': 45, 'y': 67, 't': 67, 'u': 67}\n"
     ]
    }
   ],
   "source": [
    "def addition(**d):\n",
    "   print(d)\n",
    "addition(f=45,y=67,t=67,u=67)"
   ]
  },
  {
   "cell_type": "code",
   "execution_count": 125,
   "id": "ffbafff8-70e1-433a-adda-644cb014314a",
   "metadata": {},
   "outputs": [
    {
     "data": {
      "text/plain": [
       "246"
      ]
     },
     "execution_count": 125,
     "metadata": {},
     "output_type": "execute_result"
    }
   ],
   "source": [
    "def addition(**d):\n",
    "    r=sum(d.values())\n",
    "    return r\n",
    "addition(f=45,y=67,t=67,u=67)"
   ]
  },
  {
   "cell_type": "code",
   "execution_count": 121,
   "id": "3ab85b48-5e23-4515-be84-a13c05a5e65a",
   "metadata": {},
   "outputs": [
    {
     "ename": "TypeError",
     "evalue": "addition() got an unexpected keyword argument 't'",
     "output_type": "error",
     "traceback": [
      "\u001b[1;31m---------------------------------------------------------------------------\u001b[0m",
      "\u001b[1;31mTypeError\u001b[0m                                 Traceback (most recent call last)",
      "Cell \u001b[1;32mIn[121], line 3\u001b[0m\n\u001b[0;32m      1\u001b[0m \u001b[38;5;28;01mdef\u001b[39;00m \u001b[38;5;21maddition\u001b[39m(f\u001b[38;5;241m=\u001b[39m\u001b[38;5;241m45\u001b[39m,y\u001b[38;5;241m=\u001b[39m\u001b[38;5;241m67\u001b[39m):\n\u001b[0;32m      2\u001b[0m    \u001b[38;5;28mprint\u001b[39m(f)\n\u001b[1;32m----> 3\u001b[0m addition(f\u001b[38;5;241m=\u001b[39m\u001b[38;5;241m45\u001b[39m,y\u001b[38;5;241m=\u001b[39m\u001b[38;5;241m67\u001b[39m,t\u001b[38;5;241m=\u001b[39m\u001b[38;5;241m67\u001b[39m,u\u001b[38;5;241m=\u001b[39m\u001b[38;5;241m67\u001b[39m)\n",
      "\u001b[1;31mTypeError\u001b[0m: addition() got an unexpected keyword argument 't'"
     ]
    }
   ],
   "source": [
    "def addition(f=45,y=67):\n",
    "   print(f)\n",
    "addition(f=45,y=67,t=67,u=67)"
   ]
  }
 ],
 "metadata": {
  "kernelspec": {
   "display_name": "Python 3 (ipykernel)",
   "language": "python",
   "name": "python3"
  },
  "language_info": {
   "codemirror_mode": {
    "name": "ipython",
    "version": 3
   },
   "file_extension": ".py",
   "mimetype": "text/x-python",
   "name": "python",
   "nbconvert_exporter": "python",
   "pygments_lexer": "ipython3",
   "version": "3.12.7"
  }
 },
 "nbformat": 4,
 "nbformat_minor": 5
}
