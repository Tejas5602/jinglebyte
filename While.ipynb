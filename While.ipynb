{
 "cells": [
  {
   "cell_type": "markdown",
   "id": "e77c5069-29ff-49ab-a9f3-efdda0b28e6f",
   "metadata": {},
   "source": [
    "while loop"
   ]
  },
  {
   "cell_type": "code",
   "execution_count": 5,
   "id": "263536e4-2c8d-4626-8649-7247ba8f5a52",
   "metadata": {},
   "outputs": [
    {
     "name": "stdout",
     "output_type": "stream",
     "text": [
      "hello---> 0\n",
      "we are testing while loop\n",
      "hello---> 1\n",
      "we are testing while loop\n",
      "hello---> 2\n",
      "we are testing while loop\n",
      "hello---> 3\n",
      "we are testing while loop\n"
     ]
    }
   ],
   "source": [
    "i=0\n",
    "while i<4:\n",
    "    print(\"hello--->\",i)\n",
    "    print(\"we are testing while loop\")\n",
    "    i=i+1\n"
   ]
  },
  {
   "cell_type": "code",
   "execution_count": 26,
   "id": "8393d568-8c5f-4a7f-90d7-05cab0284402",
   "metadata": {},
   "outputs": [
    {
     "name": "stdout",
     "output_type": "stream",
     "text": [
      "sum of first 10number is 55\n"
     ]
    }
   ],
   "source": [
    "n=10\n",
    "i=1\n",
    "sum=0\n",
    "while i<=n:\n",
    "    sum=sum+i\n",
    "    i=i+1\n",
    "print(f\"sum of first {n}number is {sum}\")\n"
   ]
  },
  {
   "cell_type": "code",
   "execution_count": 2,
   "id": "0adf8c74-dbdb-4760-aa59-7a092b2eabff",
   "metadata": {},
   "outputs": [
    {
     "name": "stdout",
     "output_type": "stream",
     "text": [
      "1\n",
      "2\n",
      "3\n",
      "sum of first10number is 55\n"
     ]
    }
   ],
   "source": [
    "n=10\n",
    "i=1\n",
    "sum=0\n",
    "while i<=n:\n",
    "    if sum<=5:\n",
    "        print(i)\n",
    "        \n",
    "    sum=sum+i\n",
    "    i=i+1\n",
    "print(f\"sum of first{n}number is {sum}\")"
   ]
  },
  {
   "cell_type": "code",
   "execution_count": 5,
   "id": "7893f309-bb58-4617-84fa-045c50d478f1",
   "metadata": {},
   "outputs": [
    {
     "name": "stdout",
     "output_type": "stream",
     "text": [
      "i==1\n",
      "i==2\n",
      "i==3\n",
      "i==4\n",
      "i==5\n",
      "i==6\n",
      "value found\n",
      "out of while loop \n"
     ]
    }
   ],
   "source": [
    "i=1 \n",
    "\n",
    "while i<=10:\n",
    "    print(f\"i=={i}\")\n",
    "    \n",
    "    if i==6:\n",
    "        print(\"value found\")\n",
    "        break\n",
    "    i=i+1\n",
    "print(\"out of while loop \")"
   ]
  },
  {
   "cell_type": "code",
   "execution_count": 7,
   "id": "f6c6c95a-d77c-4e9d-8c68-a1d7e3aace71",
   "metadata": {
    "scrolled": true
   },
   "outputs": [
    {
     "name": "stdout",
     "output_type": "stream",
     "text": [
      "i==1\n",
      "hello\n",
      "i==2\n",
      "hello\n",
      "i==3\n",
      "hello\n",
      "i==4\n",
      "hello\n",
      "i==5\n",
      "hello\n",
      "i==6\n",
      "value found\n",
      "out of while loop \n"
     ]
    }
   ],
   "source": [
    "i=1 \n",
    "\n",
    "while i<=10:\n",
    "    print(f\"i=={i}\")\n",
    "    \n",
    "    if i==6:\n",
    "        print(\"value found\")\n",
    "        break\n",
    "    print(\"hello\")\n",
    "    i=i+1\n",
    "print(\"out of while loop \")"
   ]
  },
  {
   "cell_type": "code",
   "execution_count": 29,
   "id": "8863022d-542f-4019-be3e-0c266ca84a4a",
   "metadata": {},
   "outputs": [
    {
     "name": "stdout",
     "output_type": "stream",
     "text": [
      "i==1\n",
      "hello\n",
      "\n",
      "i==2\n",
      "hello\n",
      "\n",
      "i==3\n",
      "hello\n",
      "\n",
      "i==4\n",
      "hello\n",
      "\n",
      "i==5\n",
      "value found\n",
      "i==6\n",
      "hello\n",
      "\n",
      "i==7\n",
      "hello\n",
      "\n",
      "i==8\n",
      "hello\n",
      "\n",
      "i==9\n",
      "hello\n",
      "\n",
      "i==10\n",
      "hello\n",
      "\n",
      "out of while loop \n"
     ]
    }
   ],
   "source": [
    "i=1 \n",
    "\n",
    "while i<=10:\n",
    "     print(f\"i=={i}\")\n",
    "     i=i+1\n",
    "     if i==6:\n",
    "        print(\"value found\")\n",
    "        continue \n",
    "    \n",
    "     print(\"hello\")\n",
    "     print()\n",
    "print(\"out of while loop \")"
   ]
  },
  {
   "cell_type": "code",
   "execution_count": null,
   "id": "d178ab97-61ac-4921-964b-f74586377e11",
   "metadata": {},
   "outputs": [],
   "source": []
  },
  {
   "cell_type": "code",
   "execution_count": null,
   "id": "1da60058-9e81-4fc6-aff3-cc5c71fa420a",
   "metadata": {},
   "outputs": [],
   "source": []
  },
  {
   "cell_type": "code",
   "execution_count": null,
   "id": "201ac1ef-255c-4548-b216-eb9d485b6601",
   "metadata": {},
   "outputs": [],
   "source": []
  },
  {
   "cell_type": "code",
   "execution_count": null,
   "id": "161b7341-117a-4e38-9f73-4c278031c338",
   "metadata": {},
   "outputs": [],
   "source": []
  },
  {
   "cell_type": "code",
   "execution_count": null,
   "id": "62fafe6a-5e2e-4231-a53d-d2aa61815f53",
   "metadata": {},
   "outputs": [],
   "source": []
  },
  {
   "cell_type": "code",
   "execution_count": null,
   "id": "a8bc485f-9b4b-4af3-9507-bb29a4f2f060",
   "metadata": {},
   "outputs": [],
   "source": []
  }
 ],
 "metadata": {
  "kernelspec": {
   "display_name": "Python 3 (ipykernel)",
   "language": "python",
   "name": "python3"
  },
  "language_info": {
   "codemirror_mode": {
    "name": "ipython",
    "version": 3
   },
   "file_extension": ".py",
   "mimetype": "text/x-python",
   "name": "python",
   "nbconvert_exporter": "python",
   "pygments_lexer": "ipython3",
   "version": "3.12.7"
  }
 },
 "nbformat": 4,
 "nbformat_minor": 5
}
