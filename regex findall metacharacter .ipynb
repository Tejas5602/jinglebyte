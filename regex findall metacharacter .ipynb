{
 "cells": [
  {
   "cell_type": "code",
   "execution_count": 4,
   "id": "452a770e-7918-4392-be01-423e0987252d",
   "metadata": {},
   "outputs": [],
   "source": [
    "import re"
   ]
  },
  {
   "cell_type": "code",
   "execution_count": 5,
   "id": "dc0d4b02-fa09-444b-af79-3dc331b4a513",
   "metadata": {},
   "outputs": [
    {
     "data": {
      "text/plain": [
       "['9876574890', '4567890456', '4567890757']"
      ]
     },
     "execution_count": 5,
     "metadata": {},
     "output_type": "execute_result"
    }
   ],
   "source": [
    "text=\"\"\" mobile number is:\n",
    "    9876574890\n",
    "    4567890456\n",
    "    4567890757\n",
    "    email ID: rohitsharma45@gmail.com\n",
    "    todays date:31-12-2024\"\"\"\n",
    "\n",
    "#pattern --->10 digits\n",
    "#[0-9] --> pattern\n",
    "#{} --> no of occurances\n",
    "\n",
    "mo=re.findall(\"[0-9]{10}\",text)\n",
    "mo"
   ]
  },
  {
   "cell_type": "code",
   "execution_count": 9,
   "id": "c8d434ac-91ec-4e36-9a26-f5ae2a186fa1",
   "metadata": {},
   "outputs": [
    {
     "data": {
      "text/plain": [
       "['31-12-2024', '31/12/2024', '31_12_2024', '84-12-2024']"
      ]
     },
     "execution_count": 9,
     "metadata": {},
     "output_type": "execute_result"
    }
   ],
   "source": [
    "text=\"\"\" mobile number is:\n",
    "    9876574890\n",
    "    4567890456\n",
    "    4567890757\n",
    "    email ID: rohitsharma45@gmail.com\n",
    "    todays date:31-12-2024\n",
    "                 31/12/2024\n",
    "                 31_12_2024\n",
    "                 84-12-2024\"\"\"\n",
    "\n",
    "mo=re.findall(\"[0-9]{2}[-_/][0-9]{2}[-/_][0-9]{4}\",text)\n",
    "mo"
   ]
  },
  {
   "cell_type": "code",
   "execution_count": 6,
   "id": "a127927d-c7be-452f-908c-f1dd7ef05bc0",
   "metadata": {},
   "outputs": [
    {
     "data": {
      "text/plain": [
       "['31-12-2024', '31/02/2024', '31_12_2024', '84-12-2024']"
      ]
     },
     "execution_count": 6,
     "metadata": {},
     "output_type": "execute_result"
    }
   ],
   "source": [
    "text=\"\"\" mobile number is:\n",
    "    9876574890\n",
    "    4567890456\n",
    "    4567890757\n",
    "    email ID: rohitsharma45@gmail.com\n",
    "    todays date:31-12-2024\n",
    "                 31/02/2024\n",
    "                 31_12_2024\n",
    "                 84-12-2024\"\"\"\n",
    "#09 -->0\n",
    "#11,12,19 -->1\n",
    "#21,22,29 -->2\n",
    "#[0-3][0-9][_/-][0-1][0-9][-_/][0-9]{4}\n",
    "\n",
    "mo=re.findall(\"[0-9]{2}[-_/][0-9]{2}[-/_][0-9]{4}\",text)\n",
    "mo"
   ]
  },
  {
   "cell_type": "code",
   "execution_count": 11,
   "id": "841db190-d6b1-4f7f-97c8-452dbe8998c3",
   "metadata": {},
   "outputs": [
    {
     "data": {
      "text/plain": [
       "['31-12-2024', '31/02/2024', '31_12_2024']"
      ]
     },
     "execution_count": 11,
     "metadata": {},
     "output_type": "execute_result"
    }
   ],
   "source": [
    "text=\"\"\" mobile number is:\n",
    "    9876574890\n",
    "    4567890456\n",
    "    4567890757\n",
    "    email ID: rohitsharma45@gmail.com\n",
    "    todays date:31-12-2024\n",
    "                 31/02/2024\n",
    "                 31_12_2024\n",
    "                 84-12-2024\"\"\"\n",
    "#09 -->0\n",
    "#11,12,19 -->1\n",
    "#21,22,29 -->2\n",
    "#[0-3][0-9][_/-][0-1][0-9][-_/][0-9]{4}\n",
    "\n",
    "mo=re.findall(\"[0-3][0-9][_/-][0-1][0-9][-_/][0-9]{4}\",text)\n",
    "mo"
   ]
  },
  {
   "cell_type": "code",
   "execution_count": 15,
   "id": "85e1526c-a34e-404a-9fd3-b607600a634d",
   "metadata": {},
   "outputs": [
    {
     "data": {
      "text/plain": [
       "[]"
      ]
     },
     "execution_count": 15,
     "metadata": {},
     "output_type": "execute_result"
    }
   ],
   "source": [
    "text=\"\"\" mobile number is:\n",
    "    9876574890\n",
    "    4567890456\n",
    "    4567890757\n",
    "    email ID: rohitsharma45@gmail.com\n",
    "    todays date:31-12-2024\n",
    "                 31/02/2024\n",
    "                 31_12_2024\n",
    "                 84-12-2024\"\"\"\n",
    "#09 -->0\n",
    "#11,12,19 -->1\n",
    "#21,22,29 -->2\n",
    "#[0-3][0-9][_/-][0-1][0-9][-_/][0-9]{4}\n",
    "\n",
    "mo=re.findall(\"[a-z]{3,20}[@][a-z]{5}[.][a-z]{3}\",text)\n",
    "mo"
   ]
  },
  {
   "cell_type": "code",
   "execution_count": 17,
   "id": "c9304424-410d-4fff-93aa-5397beb8264a",
   "metadata": {},
   "outputs": [
    {
     "data": {
      "text/plain": [
       "['rohitsharma45@gmail.com']"
      ]
     },
     "execution_count": 17,
     "metadata": {},
     "output_type": "execute_result"
    }
   ],
   "source": [
    "text=\"\"\" mobile number is:\n",
    "    9876574890\n",
    "    4567890456\n",
    "    4567890757\n",
    "    email ID: rohitsharma45@gmail.com\n",
    "    todays date:31-12-2024\n",
    "                 31/02/2024\n",
    "                 31_12_2024\n",
    "                 84-12-2024\"\"\"\n",
    "#09 -->0\n",
    "#11,12,19 -->1\n",
    "#21,22,29 -->2\n",
    "#[0-3][0-9][_/-][0-1][0-9][-_/][0-9]{4}\n",
    "\n",
    "mo=re.findall(\"[a-z0-9]{3,20}[@][a-z]{5}[.][a-z]{3}\",text)\n",
    "mo"
   ]
  },
  {
   "cell_type": "code",
   "execution_count": 21,
   "id": "5f3521d0-a869-4534-8aeb-24c16c39ea34",
   "metadata": {},
   "outputs": [
    {
     "data": {
      "text/plain": [
       "['Rohitsharma45@gmail.com']"
      ]
     },
     "execution_count": 21,
     "metadata": {},
     "output_type": "execute_result"
    }
   ],
   "source": [
    "text=\"\"\" mobile number is:\n",
    "    9876574890\n",
    "    4567890456\n",
    "    4567890757\n",
    "    email ID: Rohitsharma45@gmail.com\n",
    "    todays date:31-12-2024\n",
    "                 31/02/2024\n",
    "                 31_12_2024\n",
    "                 84-12-2024\"\"\"\n",
    "#09 -->0\n",
    "#11,12,19 -->1\n",
    "#21,22,29 -->2\n",
    "#[0-3][0-9][_/-][0-1][0-9][-_/][0-9]{4}\n",
    "\n",
    "mo=re.findall(\"[a-z0-9A-Z]{3,20}[@][a-z]{5}[.][a-z]{3}\",text)\n",
    "mo"
   ]
  },
  {
   "cell_type": "code",
   "execution_count": 23,
   "id": "56067a1d-67bb-4098-ad32-0d1be61f335e",
   "metadata": {},
   "outputs": [
    {
     "data": {
      "text/plain": [
       "['Rohitsharma45@gmail.com',\n",
       " 'Rohit_sharma45@gmail.com',\n",
       " 'Rohit.sharma45@gmail.com',\n",
       " 'sharma45@gmail.com',\n",
       " 'Rohit@sharma45@gmail.com']"
      ]
     },
     "execution_count": 23,
     "metadata": {},
     "output_type": "execute_result"
    }
   ],
   "source": [
    "text=\"\"\" mobile number is:\n",
    "    9876574890\n",
    "    4567890456\n",
    "    4567890757\n",
    "    email ID: Rohitsharma45@gmail.com\n",
    "              Rohit_sharma45@gmail.com\n",
    "              Rohit.sharma45@gmail.com\n",
    "              Rohit-sharma45@gmail.com\n",
    "              Rohit@sharma45@gmail.com\n",
    "    todays date:31-12-2024\n",
    "                 31/02/2024\n",
    "                 31_12_2024\n",
    "                 84-12-2024\"\"\"\n",
    "#09 -->0\n",
    "#11,12,19 -->1\n",
    "#21,22,29 -->2\n",
    "#[0-3][0-9][_/-][0-1][0-9][-_/][0-9]{4}\n",
    "\n",
    "mo=re.findall(\"[a-z0-9A-Z_.-@]{3,20}[@][a-z]{5}[.][a-z]{3}\",text)\n",
    "mo"
   ]
  },
  {
   "cell_type": "code",
   "execution_count": null,
   "id": "2c097d16-283a-446c-86f8-4715938e8ae5",
   "metadata": {},
   "outputs": [],
   "source": [
    "# IFSC number\n",
    "#SBIN0002134 --> Total char. 11 --> 1 at 4--> char remaining 7 ---> no.\n",
    "#[A-Z]{4}[0-9]{7}"
   ]
  },
  {
   "cell_type": "code",
   "execution_count": null,
   "id": "c4bd7ed8-8c61-41c9-980d-c7e99e896175",
   "metadata": {},
   "outputs": [],
   "source": [
    "special sequences(META CHARACTER)"
   ]
  },
  {
   "cell_type": "code",
   "execution_count": null,
   "id": "ac396d6f-4619-4849-b200-cac488c5fe21",
   "metadata": {},
   "outputs": [],
   "source": [
    "1.\\d"
   ]
  },
  {
   "cell_type": "code",
   "execution_count": 27,
   "id": "6a4de2de-f58d-49cb-87c8-ea7233e3ecf7",
   "metadata": {},
   "outputs": [
    {
     "data": {
      "text/plain": [
       "['9876574890', '4567890456', '4567890757']"
      ]
     },
     "execution_count": 27,
     "metadata": {},
     "output_type": "execute_result"
    }
   ],
   "source": [
    "text=\"\"\" mobile number is:\n",
    "    9876574890\n",
    "    4567890456\n",
    "    4567890757\n",
    "    email ID: rohitsharma45@gmail.com\n",
    "    todays date:31-12-2024\"\"\"\n",
    "\n",
    "#pattern --->10 digits\n",
    "#[0-9] --> pattern\n",
    "#{} --> no of occurances\n",
    "\n",
    "mo=re.findall(r\"[\\d]{10}\",text)\n",
    "mo"
   ]
  },
  {
   "cell_type": "code",
   "execution_count": 29,
   "id": "323124db-d3d0-4eda-86ee-b7f3fc096a44",
   "metadata": {},
   "outputs": [
    {
     "data": {
      "text/plain": [
       "['9876574890', '4567890456', '4567890757']"
      ]
     },
     "execution_count": 29,
     "metadata": {},
     "output_type": "execute_result"
    }
   ],
   "source": [
    "text=\"\"\" mobile number is:\n",
    "    9876574890\n",
    "    4567890456\n",
    "    4567890757\n",
    "    email ID: rohitsharma45@gmail.com\n",
    "    todays date:31-12-2024\"\"\"\n",
    "\n",
    "#pattern --->10 digits\n",
    "#[0-9] --> pattern\n",
    "#{} --> no of occurances\n",
    "\n",
    "mo=re.findall(r\"\\d{10}\",text)\n",
    "mo"
   ]
  },
  {
   "cell_type": "code",
   "execution_count": 31,
   "id": "3591fd55-9a7d-4d22-96be-fe6ecabb20e4",
   "metadata": {},
   "outputs": [
    {
     "data": {
      "text/plain": [
       "['Rohitsharma45@gmail.com',\n",
       " 'Rohit_sharma45@gmail.com',\n",
       " 'Rohit.sharma45@gmail.com',\n",
       " 'sharma45@gmail.com',\n",
       " 'Rohit@sharma45@gmail.com']"
      ]
     },
     "execution_count": 31,
     "metadata": {},
     "output_type": "execute_result"
    }
   ],
   "source": [
    "text=\"\"\" mobile number is:\n",
    "    9876574890\n",
    "    4567890456\n",
    "    4567890757\n",
    "    email ID: Rohitsharma45@gmail.com\n",
    "              Rohit_sharma45@gmail.com\n",
    "              Rohit.sharma45@gmail.com\n",
    "              Rohit-sharma45@gmail.com\n",
    "              Rohit@sharma45@gmail.com\n",
    "    todays date:31-12-2024\n",
    "                 31/02/2024\n",
    "                 31_12_2024\n",
    "                 84-12-2024\"\"\"\n",
    "#09 -->0\n",
    "#11,12,19 -->1\n",
    "#21,22,29 -->2\n",
    "#[0-3][0-9][_/-][0-1][0-9][-_/][0-9]{4}\n",
    "\n",
    "mo=re.findall(r\"[a-z\\dA-Z_.-@]{3,20}[@][a-z]{5}[.][a-z]{3}\",text)\n",
    "mo"
   ]
  },
  {
   "cell_type": "code",
   "execution_count": null,
   "id": "c97b601f-3c1b-49cd-9afc-067bc0456963",
   "metadata": {},
   "outputs": [],
   "source": [
    "\\d{4}[ ]\\d{4}[ ]\\d{4}"
   ]
  },
  {
   "cell_type": "markdown",
   "id": "88187a93-0636-4d0b-b481-a84d6327cbf5",
   "metadata": {},
   "source": [
    "# 2.\\D"
   ]
  },
  {
   "cell_type": "code",
   "execution_count": null,
   "id": "27702736-0dbe-4f9b-a180-d42532909cd5",
   "metadata": {},
   "outputs": [],
   "source": [
    "except [0-9]\n",
    "[^0-9]"
   ]
  },
  {
   "cell_type": "code",
   "execution_count": 39,
   "id": "8a9c130f-acdd-49ce-a331-a324b28c3e63",
   "metadata": {},
   "outputs": [
    {
     "name": "stdout",
     "output_type": "stream",
     "text": [
      "[' mobile nu', 'mber is:\\n ', '   ', '\\n    ', '\\n    ', '\\n    email', ' ID: rohit', 'sharma', '@gmail.com', '\\n    today', 's date:']\n"
     ]
    }
   ],
   "source": [
    "text=\"\"\" mobile number is:\n",
    "    9876574890\n",
    "    4567890456\n",
    "    4567890757\n",
    "    email ID: rohitsharma45@gmail.com\n",
    "    todays date:31-12-2024\"\"\"\n",
    "\n",
    "#pattern --->10 digits\n",
    "#[0-9] --> pattern\n",
    "#{} --> no of occurances\n",
    "\n",
    "mo=re.findall(r\"\\D{3,10}\",text)\n",
    "print(mo)"
   ]
  },
  {
   "cell_type": "code",
   "execution_count": 41,
   "id": "97371504-782e-450c-a83e-efb62fccfe61",
   "metadata": {},
   "outputs": [
    {
     "name": "stdout",
     "output_type": "stream",
     "text": [
      "[' ', 'm', 'o', 'b', 'i', 'l', 'e', ' ', 'n', 'u', 'm', 'b', 'e', 'r', ' ', 'i', 's', ':', '\\n', ' ', ' ', ' ', ' ', '\\n', ' ', ' ', ' ', ' ', '\\n', ' ', ' ', ' ', ' ', '\\n', ' ', ' ', ' ', ' ', 'e', 'm', 'a', 'i', 'l', ' ', 'I', 'D', ':', ' ', 'r', 'o', 'h', 'i', 't', 's', 'h', 'a', 'r', 'm', 'a', '@', 'g', 'm', 'a', 'i', 'l', '.', 'c', 'o', 'm', '\\n', ' ', ' ', ' ', ' ', 't', 'o', 'd', 'a', 'y', 's', ' ', 'd', 'a', 't', 'e', ':', '-', '-']\n"
     ]
    }
   ],
   "source": [
    "text=\"\"\" mobile number is:\n",
    "    9876574890\n",
    "    4567890456\n",
    "    4567890757\n",
    "    email ID: rohitsharma45@gmail.com\n",
    "    todays date:31-12-2024\"\"\"\n",
    "\n",
    "#pattern --->10 digits\n",
    "#[0-9] --> pattern\n",
    "#{} --> no of occurances\n",
    "\n",
    "mo=re.findall(\"[^0-9]\",text)\n",
    "print(mo)"
   ]
  },
  {
   "cell_type": "markdown",
   "id": "6a0543e9-9f4b-403d-9a57-a0a377c02d9a",
   "metadata": {},
   "source": [
    "# \\w"
   ]
  },
  {
   "cell_type": "code",
   "execution_count": null,
   "id": "cf628df0-125e-4fe2-b6b0-0cfd59d46bb0",
   "metadata": {},
   "outputs": [],
   "source": [
    "\\w-->[0-9a-zA-Z]"
   ]
  },
  {
   "cell_type": "code",
   "execution_count": 52,
   "id": "ca653a70-0993-4765-b042-aab413ad951c",
   "metadata": {},
   "outputs": [
    {
     "data": {
      "text/plain": [
       "['Rohitsharma45@gmail.com',\n",
       " 'Rohit_sharma45@gmail.com',\n",
       " 'Rohit.sharma45@gmail.com',\n",
       " 'sharma45@gmail.com',\n",
       " 'Rohit@sharma45@gmail.com']"
      ]
     },
     "execution_count": 52,
     "metadata": {},
     "output_type": "execute_result"
    }
   ],
   "source": [
    "text=\"\"\" mobile number is:\n",
    "    9876574890\n",
    "    4567890456\n",
    "    4567890757\n",
    "    email ID: Rohitsharma45@gmail.com\n",
    "              Rohit_sharma45@gmail.com\n",
    "              Rohit.sharma45@gmail.com\n",
    "              Rohit-sharma45@gmail.com\n",
    "              Rohit@sharma45@gmail.com\n",
    "    todays date:31-12-2024\n",
    "                 31/02/2024\n",
    "                 31_12_2024\n",
    "                 84-12-2024\"\"\"\n",
    "#09 -->0\n",
    "#11,12,19 -->1\n",
    "#21,22,29 -->2\n",
    "#[0-3][0-9][_/-][0-1][0-9][-_/][0-9]{4}\n",
    "\n",
    "mo=re.findall(r\"[\\w_.-@]{3,20}[@][\\w]{5}[.][\\w]{3}\",text)\n",
    "mo"
   ]
  },
  {
   "cell_type": "markdown",
   "id": "f5831d56-4c14-4cef-b812-986471cf1682",
   "metadata": {},
   "source": [
    "# \\W"
   ]
  },
  {
   "cell_type": "code",
   "execution_count": null,
   "id": "e307b7a8-bc13-40ee-8f72-2578b5543727",
   "metadata": {},
   "outputs": [],
   "source": [
    "\\W -->[^a-zA-Z0-9]"
   ]
  },
  {
   "cell_type": "code",
   "execution_count": 57,
   "id": "bf013ea0-863e-49c8-baca-b831f76766cc",
   "metadata": {},
   "outputs": [
    {
     "name": "stdout",
     "output_type": "stream",
     "text": [
      "[' ', ' ', ' ', ':', '\\n', ' ', ' ', ' ', ' ', '\\n', ' ', ' ', ' ', ' ', '\\n', ' ', ' ', ' ', ' ', '\\n', ' ', ' ', ' ', ' ', ' ', ':', ' ', '@', '.', '\\n', ' ', ' ', ' ', ' ', ' ', ' ', ' ', ' ', ' ', ' ', ' ', ' ', ' ', ' ', '@', '.', '\\n', ' ', ' ', ' ', ' ', ' ', ' ', ' ', ' ', ' ', ' ', ' ', ' ', ' ', ' ', '.', '@', '.', '\\n', ' ', ' ', ' ', ' ', ' ', ' ', ' ', ' ', ' ', ' ', ' ', ' ', ' ', ' ', '-', '@', '.', '\\n', ' ', ' ', ' ', ' ', ' ', ' ', ' ', ' ', ' ', ' ', ' ', ' ', ' ', ' ', '@', '@', '.', '\\n', ' ', ' ', ' ', ' ', ' ', ':', '-', '-', '\\n', ' ', ' ', ' ', ' ', ' ', ' ', ' ', ' ', ' ', ' ', ' ', ' ', ' ', ' ', ' ', ' ', ' ', '/', '/', '\\n', ' ', ' ', ' ', ' ', ' ', ' ', ' ', ' ', ' ', ' ', ' ', ' ', ' ', ' ', ' ', ' ', ' ', '\\n', ' ', ' ', ' ', ' ', ' ', ' ', ' ', ' ', ' ', ' ', ' ', ' ', ' ', ' ', ' ', ' ', ' ', '-', '-']\n"
     ]
    }
   ],
   "source": [
    "text=\"\"\" mobile number is:\n",
    "    9876574890\n",
    "    4567890456\n",
    "    4567890757\n",
    "    email ID: Rohitsharma45@gmail.com\n",
    "              Rohit_sharma45@gmail.com\n",
    "              Rohit.sharma45@gmail.com\n",
    "              Rohit-sharma45@gmail.com\n",
    "              Rohit@sharma45@gmail.com\n",
    "    todays date:31-12-2024\n",
    "                 31/02/2024\n",
    "                 31_12_2024\n",
    "                 84-12-2024\"\"\"\n",
    "#09 -->0\n",
    "#11,12,19 -->1\n",
    "#21,22,29 -->2\n",
    "#[0-3][0-9][_/-][0-1][0-9][-_/][0-9]{4}\n",
    "\n",
    "mo=re.findall(r\"[\\W]\",text)\n",
    "print(mo)"
   ]
  },
  {
   "cell_type": "markdown",
   "id": "b3527a2a-3f98-4dac-8b51-3a397c7f2126",
   "metadata": {},
   "source": [
    "# \\s"
   ]
  },
  {
   "cell_type": "code",
   "execution_count": null,
   "id": "7d13a053-366b-4376-8175-34b964976daf",
   "metadata": {},
   "outputs": [],
   "source": [
    "blank space"
   ]
  },
  {
   "cell_type": "code",
   "execution_count": 62,
   "id": "25fb9e81-984d-46a2-81eb-35ffaaca25c8",
   "metadata": {},
   "outputs": [
    {
     "name": "stdout",
     "output_type": "stream",
     "text": [
      "[' ', ' ', ' ', '\\n', ' ', ' ', ' ', ' ', '\\n', ' ', ' ', ' ', ' ', '\\n', ' ', ' ', ' ', ' ', '\\n', ' ', ' ', ' ', ' ', ' ', ' ', '\\n', ' ', ' ', ' ', ' ', ' ', ' ', ' ', ' ', ' ', ' ', ' ', ' ', ' ', ' ', '\\n', ' ', ' ', ' ', ' ', ' ', ' ', ' ', ' ', ' ', ' ', ' ', ' ', ' ', ' ', '\\n', ' ', ' ', ' ', ' ', ' ', ' ', ' ', ' ', ' ', ' ', ' ', ' ', ' ', ' ', '\\n', ' ', ' ', ' ', ' ', ' ', ' ', ' ', ' ', ' ', ' ', ' ', ' ', ' ', ' ', '\\n', ' ', ' ', ' ', ' ', ' ', '\\n', ' ', ' ', ' ', ' ', ' ', ' ', ' ', ' ', ' ', ' ', ' ', ' ', ' ', ' ', ' ', ' ', ' ', '\\n', ' ', ' ', ' ', ' ', ' ', ' ', ' ', ' ', ' ', ' ', ' ', ' ', ' ', ' ', ' ', ' ', ' ', '\\n', ' ', ' ', ' ', ' ', ' ', ' ', ' ', ' ', ' ', ' ', ' ', ' ', ' ', ' ', ' ', ' ', ' ']\n"
     ]
    }
   ],
   "source": [
    "text=\"\"\" mobile number is:\n",
    "    9876574890\n",
    "    4567890456\n",
    "    4567890757\n",
    "    email ID: Rohitsharma45@gmail.com\n",
    "              Rohit_sharma45@gmail.com\n",
    "              Rohit.sharma45@gmail.com\n",
    "              Rohit-sharma45@gmail.com\n",
    "              Rohit@sharma45@gmail.com\n",
    "    todays date:31-12-2024\n",
    "                 31/02/2024\n",
    "                 31_12_2024\n",
    "                 84-12-2024\"\"\"\n",
    "#09 -->0\n",
    "#11,12,19 -->1\n",
    "#21,22,29 -->2\n",
    "#[0-3][0-9][_/-][0-1][0-9][-_/][0-9]{4}\n",
    "\n",
    "mo=re.findall(r\"\\s\",text)\n",
    "print(mo)"
   ]
  },
  {
   "cell_type": "markdown",
   "id": "5b7f4239-8ae6-4d0d-abe1-6522d8fa9c96",
   "metadata": {},
   "source": [
    "# \\S"
   ]
  },
  {
   "cell_type": "code",
   "execution_count": null,
   "id": "6858ce47-51e8-4ca5-bccb-7ff43bfbdfd1",
   "metadata": {},
   "outputs": [],
   "source": [
    "\\S --> except space"
   ]
  },
  {
   "cell_type": "code",
   "execution_count": 67,
   "id": "7d635ed3-dfd1-4582-bdc2-c2c4acd9aa64",
   "metadata": {},
   "outputs": [
    {
     "name": "stdout",
     "output_type": "stream",
     "text": [
      "['m', 'o', 'b', 'i', 'l', 'e', 'n', 'u', 'm', 'b', 'e', 'r', 'i', 's', ':', '9', '8', '7', '6', '5', '7', '4', '8', '9', '0', '4', '5', '6', '7', '8', '9', '0', '4', '5', '6', '4', '5', '6', '7', '8', '9', '0', '7', '5', '7', 'e', 'm', 'a', 'i', 'l', 'I', 'D', ':', 'R', 'o', 'h', 'i', 't', 's', 'h', 'a', 'r', 'm', 'a', '4', '5', '@', 'g', 'm', 'a', 'i', 'l', '.', 'c', 'o', 'm', 'R', 'o', 'h', 'i', 't', '_', 's', 'h', 'a', 'r', 'm', 'a', '4', '5', '@', 'g', 'm', 'a', 'i', 'l', '.', 'c', 'o', 'm', 'R', 'o', 'h', 'i', 't', '.', 's', 'h', 'a', 'r', 'm', 'a', '4', '5', '@', 'g', 'm', 'a', 'i', 'l', '.', 'c', 'o', 'm', 'R', 'o', 'h', 'i', 't', '-', 's', 'h', 'a', 'r', 'm', 'a', '4', '5', '@', 'g', 'm', 'a', 'i', 'l', '.', 'c', 'o', 'm', 'R', 'o', 'h', 'i', 't', '@', 's', 'h', 'a', 'r', 'm', 'a', '4', '5', '@', 'g', 'm', 'a', 'i', 'l', '.', 'c', 'o', 'm', 't', 'o', 'd', 'a', 'y', 's', 'd', 'a', 't', 'e', ':', '3', '1', '-', '1', '2', '-', '2', '0', '2', '4', '3', '1', '/', '0', '2', '/', '2', '0', '2', '4', '3', '1', '_', '1', '2', '_', '2', '0', '2', '4', '8', '4', '-', '1', '2', '-', '2', '0', '2', '4']\n"
     ]
    }
   ],
   "source": [
    "text=\"\"\" mobile number is:\n",
    "    9876574890\n",
    "    4567890456\n",
    "    4567890757\n",
    "    email ID: Rohitsharma45@gmail.com\n",
    "              Rohit_sharma45@gmail.com\n",
    "              Rohit.sharma45@gmail.com\n",
    "              Rohit-sharma45@gmail.com\n",
    "              Rohit@sharma45@gmail.com\n",
    "    todays date:31-12-2024\n",
    "                 31/02/2024\n",
    "                 31_12_2024\n",
    "                 84-12-2024\"\"\"\n",
    "#09 -->0\n",
    "#11,12,19 -->1\n",
    "#21,22,29 -->2\n",
    "#[0-3][0-9][_/-][0-1][0-9][-_/][0-9]{4}\n",
    "\n",
    "mo=re.findall(r\"\\S\",text)\n",
    "print(mo)"
   ]
  },
  {
   "cell_type": "markdown",
   "id": "ae963be2-8171-4baf-9cc0-f9bd4e49350c",
   "metadata": {},
   "source": [
    "# \\b -->  Boundry matches"
   ]
  },
  {
   "cell_type": "code",
   "execution_count": 74,
   "id": "14e96fa8-32ac-430a-b2b1-6ac729c8c58c",
   "metadata": {},
   "outputs": [
    {
     "name": "stdout",
     "output_type": "stream",
     "text": [
      "['9456789099', '8678905999', '8976542465', '6543345778', '2345677765', '3456777777']\n"
     ]
    }
   ],
   "source": [
    "text=\"\"\" mobile number is:\n",
    "        9456789099\n",
    "        8678905999\n",
    "        8976542465\n",
    "        6543345778\n",
    "        2345677765432  # invalid\n",
    "        A3456777777   # invalid\"\"\"\n",
    "mo=re.findall(\"[0-9]{10}\",text)\n",
    "print(mo)"
   ]
  },
  {
   "cell_type": "code",
   "execution_count": 78,
   "id": "e83e7ede-bd9e-4895-b9e8-ea4a494b98c1",
   "metadata": {},
   "outputs": [
    {
     "name": "stdout",
     "output_type": "stream",
     "text": [
      "['9456789099', '8678905999', '8976542465', '6543345778', '2345677765']\n"
     ]
    }
   ],
   "source": [
    "text=\"\"\" mobile number is:\n",
    "        9456789099\n",
    "        8678905999\n",
    "        8976542465\n",
    "        6543345778\n",
    "        2345677765432  # invalid\n",
    "        A3456777777   # invalid\"\"\"\n",
    "mo=re.findall(r\"\\b[0-9]{10}\",text)\n",
    "print(mo)"
   ]
  },
  {
   "cell_type": "code",
   "execution_count": 80,
   "id": "ad2ac741-e672-44b7-8d2c-46682c484f93",
   "metadata": {},
   "outputs": [
    {
     "name": "stdout",
     "output_type": "stream",
     "text": [
      "['9456789099', '8678905999', '8976542465', '6543345778']\n"
     ]
    }
   ],
   "source": [
    "text=\"\"\" mobile number is:\n",
    "        9456789099\n",
    "        8678905999\n",
    "        8976542465\n",
    "        6543345778\n",
    "        2345677765432  # invalid\n",
    "        A3456777777   # invalid\"\"\"\n",
    "mo=re.findall(r\"\\b[0-9]{10}\\b\",text)\n",
    "print(mo)"
   ]
  },
  {
   "cell_type": "code",
   "execution_count": null,
   "id": "e5bc3c3e-8757-460c-b06b-b6ea7edaa838",
   "metadata": {},
   "outputs": [],
   "source": [
    "\\B --> all postions where \\b doesnt match"
   ]
  },
  {
   "cell_type": "code",
   "execution_count": 84,
   "id": "20407bc8-8a81-4990-8bb5-58d5568bb534",
   "metadata": {},
   "outputs": [
    {
     "data": {
      "text/plain": [
       "['cat']"
      ]
     },
     "execution_count": 84,
     "metadata": {},
     "output_type": "execute_result"
    }
   ],
   "source": [
    "result=re.findall(\"cat\",\"cerificate\")\n",
    "result"
   ]
  },
  {
   "cell_type": "code",
   "execution_count": 86,
   "id": "df634513-6005-4654-a7d0-21eefde2e705",
   "metadata": {},
   "outputs": [
    {
     "data": {
      "text/plain": [
       "[]"
      ]
     },
     "execution_count": 86,
     "metadata": {},
     "output_type": "execute_result"
    }
   ],
   "source": [
    "result=re.findall(r\"\\bcat\",\"cerificate\")\n",
    "result"
   ]
  },
  {
   "cell_type": "code",
   "execution_count": 92,
   "id": "f9a5690d-1c10-4d20-b105-ead5a3f10225",
   "metadata": {},
   "outputs": [
    {
     "data": {
      "text/plain": [
       "['cat']"
      ]
     },
     "execution_count": 92,
     "metadata": {},
     "output_type": "execute_result"
    }
   ],
   "source": [
    "result=re.findall(r\"\\bcat\",\"catificate\")\n",
    "result"
   ]
  },
  {
   "cell_type": "code",
   "execution_count": 90,
   "id": "6209f6b5-5a6f-4123-9bb3-3dde7b658758",
   "metadata": {},
   "outputs": [
    {
     "data": {
      "text/plain": [
       "['cat']"
      ]
     },
     "execution_count": 90,
     "metadata": {},
     "output_type": "execute_result"
    }
   ],
   "source": [
    "result=re.findall(r\"\\Bcat\",\"cerificate\")\n",
    "result"
   ]
  },
  {
   "cell_type": "code",
   "execution_count": 98,
   "id": "07375b36-a9fa-4a58-bc2e-e610e826329b",
   "metadata": {},
   "outputs": [
    {
     "name": "stdout",
     "output_type": "stream",
     "text": [
      "i've noticed something lately that i've never thought of before . \n",
      "pseudo- substance - hollywood faking deep meanings in their films . \n",
      "have you ever seen a movie that you really enjoyed , then when you look back , you realize there was something missing ? \n",
      "more and more , filmmakers seem to be putting out well rehearsed , melodramatic films that evoke strong connotations of being a great film , but if you step aside and reflect on your movie going experience , you may just discover nothing more than elegantly presented fluff . \n",
      "Email ID: \n",
      "            rohitsharma@gmail.com\n",
      "            rohit_sharma@gmail.com\n",
      "            rohit-sharma@gmail.com\n",
      "            rohitsharma123@gmail.com\n",
      "            rohit.sharma123@gmail.com\n",
      "            123rohit.sharma@gmail.com\n",
      "            rohitsharma@hotmail.com\n",
      "            rohit.sharma@rediffmail.com\n",
      "            rohitsharma@yahoo.com\n",
      "            rohitsharma123@yahoo.co.in\n",
      "            rohitsharma123@coep.co.in\n",
      "            rohitsharma123@vctcpune.com\n",
      "\n",
      "Mobile Number is: \n",
      "            9784512564\n",
      "            9874561247\n",
      "            Email ID: rohitsharma@gmail.com\n",
      "            Todays Date: 02-03-2023\n",
      "            23-03-2023\n",
      "            19-12-1984\n",
      "            24-12-2021\n",
      "            84-96-2012 \n",
      "            2012-15-04 \n",
      "            \n",
      "            AGDYA5478I   # Valid\n",
      "            TAJHA4613U   # Valid\n",
      "            GYIGFU4579   # Invalid\n",
      "            HSDJ45788H   # Invalid\n",
      "            SAGIA5478A   # Valid\n",
      "            \n",
      "            IFSC Code:\n",
      "            SBIN0001234\n",
      "            HDFC0004654587546565\n",
      "            FGDIUSGUISDYIICI0002457\n",
      "\n",
      "i'm not trying to say city of angels is that bad . \n",
      "it had a lot going for it , but somewhere along the way , it faltered . \n",
      "somehow , underneath the seemingly poetic beauty of it all , there was a gigantic hole somebody covered with iridescent performances and glossy cinematography . \n",
      "the predictable ending that shattered our hopes ( even though we saw it coming ) only added to the disappointment . \n",
      "but for over an hour , city of angels is well worth the time . \n",
      "nicolas cage is seth , a guardian angel who , like hundreds ( likely thousands or even millions ) of other angels , spends eternity watching over the citizens of mortality ; humans never aware of how much celestial intervention occurs in their life . \n",
      "meg ryan , in her most subdued performance yet , plays maggie , a doctor who begins to ponder exactly who it is we're fighting against when we fight to keep someone alive . \n",
      "after losing a patient on the surgery table , these questions envelope maggie , and seth , the angel who was there to oversee the patient's transition into the afterlife , is immediately captivated by the doctor . \n",
      "he begins following and observing maggie , falling more and more in love with her everyday . \n",
      "angels , who we quickly learn are not and never were humans , can not experience human sensations such as taste and touch , but they do have the ability to make themselves seen to anyone they desire . \n",
      "seth's adoration is too much to resist , and eventually he does appear to maggie , quite regularly , although such a thing seems taboo among the angelic community . \n",
      "the angels are interestingly presented , all of them dressed in black and more reminiscent of hitmen than traditional glowing white entities , but it's a nice touch that never seems like a mere attempt at uniqueness . \n",
      "cage is a wonderfully versatile actor ( think face/off , raising arizona , and it could happen to you - what a combo ! ) who slips into the role of a heavenly agent quite nicely but threatens sappiness more than once . \n",
      "it's nice to see ryan pick up roles like this and the one in courage under fire . \n",
      "the two aren't very comparable to each other , but they both deviate from her usual \" intelligently ditzy \" romantic comedy roles , and it's an impressive side of ryan movie goers rarely have the chance to enjoy . \n",
      "but even though the two leads do an impressive job , it is dennis franz who grabs us with his interpretation of a hospital patient who knows more than meets the eye . \n",
      "it's a shame that with so much going for it , city of angels falters so much in its final stages , leaving us with the realization that an emotionally incredible movie was out there , they just didn't know quite how to get to it . \n",
      "they struggle for an impacting conclusion and wind up with painful thud rather than an exhilarating high . \n",
      "filmmakers should know your final impression will be the one you linger on , remember , and convey to others thru word of mouth , so after telling us for 60+ minutes that this film is a glorious masterpiece , they sure leave us with a disheartening taste of mediocrity in our mouths . \n",
      "based on the german film wings of desire ( that being the english title , of course ) , city of angels is ninety percent success , enough to make most people forgive its shortcomings , even the devastatingly disappointing ending . \n",
      "most movie goers , the non-cynics anyway , will be too wrapped up in the surreal atmosphere to give criticism to that which needs to be criticized . \n",
      "nonetheless , city of angels is beautifully captivating , which is probably enough to satisfy those poetic viewers who will appreciate a delve into rich emotional territories . \n",
      "\n"
     ]
    }
   ],
   "source": [
    "file=open(\"hi.txt\",\"r\")\n",
    "text=file.read()\n",
    "print(text)"
   ]
  },
  {
   "cell_type": "code",
   "execution_count": 112,
   "id": "71af0665-305b-4e53-98c4-fb7a6bf6ae3d",
   "metadata": {
    "scrolled": true
   },
   "outputs": [
    {
     "data": {
      "text/plain": [
       "['rohitsharma@gmail.com',\n",
       " 'rohit_sharma@gmail.com',\n",
       " 'sharma@gmail.com',\n",
       " 'rohitsharma123@gmail.com',\n",
       " 'sharma123@gmail.com',\n",
       " 'sharma@gmail.com',\n",
       " 'rohitsharma@hotmail.com',\n",
       " 'sharma@rediffmail.com',\n",
       " 'rohitsharma@yahoo.com',\n",
       " 'rohitsharma123@vctcpune.com',\n",
       " 'rohitsharma@gmail.com']"
      ]
     },
     "execution_count": 112,
     "metadata": {},
     "output_type": "execute_result"
    }
   ],
   "source": [
    "email=re.findall(r\"\\w{3,20}[@][a-z]{5,20}[.][a-z]{3}\",text)\n",
    "(email)"
   ]
  },
  {
   "cell_type": "markdown",
   "id": "e158c5b7-46cf-4072-a38e-db7be3d734fc",
   "metadata": {},
   "source": [
    "# character with special meaning"
   ]
  },
  {
   "cell_type": "markdown",
   "id": "4b30fd39-729e-4fa8-81b5-9dc9620b6442",
   "metadata": {},
   "source": [
    "# plus(+)"
   ]
  },
  {
   "cell_type": "code",
   "execution_count": null,
   "id": "5749f410-7db7-43d3-8992-ab057f791374",
   "metadata": {},
   "outputs": [],
   "source": [
    "one or more occurances"
   ]
  },
  {
   "cell_type": "code",
   "execution_count": 125,
   "id": "e6df5d38-f6b2-46e0-ae6e-e42c482c10d9",
   "metadata": {},
   "outputs": [
    {
     "data": {
      "text/plain": [
       "['asfsdgdhgdthtr32124adfeghtdwfse@gmail.c']"
      ]
     },
     "execution_count": 125,
     "metadata": {},
     "output_type": "execute_result"
    }
   ],
   "source": [
    "email=\"asfsdgdhgdthtr32124adfeghtdwfse@gmail.com\"\n",
    "a=re.findall(r\"\\w+[@]\\w+[.][com]\",email)\n",
    "a"
   ]
  },
  {
   "cell_type": "code",
   "execution_count": 129,
   "id": "63630897-18eb-4f25-9481-274d94263b29",
   "metadata": {},
   "outputs": [
    {
     "data": {
      "text/plain": [
       "['hrushikeshthombar', 'data', 'science']"
      ]
     },
     "execution_count": 129,
     "metadata": {},
     "output_type": "execute_result"
    }
   ],
   "source": [
    "a=\"hrushikeshthombare as data science\"\n",
    "b=re.findall(r\"\\w{3,17}\",a)\n",
    "b"
   ]
  },
  {
   "cell_type": "code",
   "execution_count": 131,
   "id": "55cfe320-2b48-47bc-afc8-aedfee3e7bbb",
   "metadata": {},
   "outputs": [
    {
     "data": {
      "text/plain": [
       "['hrushikeshthombare', 'as', 'data', 'science']"
      ]
     },
     "execution_count": 131,
     "metadata": {},
     "output_type": "execute_result"
    }
   ],
   "source": [
    "a=\"hrushikeshthombare as data science\"\n",
    "b=re.findall(r\"\\w{3,17}\",a)  # {1,infine}\n",
    "b"
   ]
  },
  {
   "cell_type": "markdown",
   "id": "aec20d4f-3021-4ff4-a215-4d0a13e9474b",
   "metadata": {},
   "source": [
    "# star(*)"
   ]
  },
  {
   "cell_type": "code",
   "execution_count": null,
   "id": "fa86855e-767e-43df-b125-0234ad847a4f",
   "metadata": {},
   "outputs": [],
   "source": [
    "zero or more occurances"
   ]
  },
  {
   "cell_type": "code",
   "execution_count": 136,
   "id": "bbca63d5-18cd-4383-a0db-f1f07e50d6d9",
   "metadata": {},
   "outputs": [
    {
     "data": {
      "text/plain": [
       "['python', 'pythhhhhhhhon']"
      ]
     },
     "execution_count": 136,
     "metadata": {},
     "output_type": "execute_result"
    }
   ],
   "source": [
    "string=\"python and data sceince pythhhhhooonnn pyttttttthon pythhhhhhhhon\"\n",
    "a=re.findall(\"pyth*on\",string)\n",
    "a"
   ]
  },
  {
   "cell_type": "code",
   "execution_count": 138,
   "id": "ce680c5f-5eb4-4a94-86b3-fa89ba1c613b",
   "metadata": {},
   "outputs": [
    {
     "data": {
      "text/plain": [
       "['python', 'pyttttttthon', 'pythhhhhhhhon']"
      ]
     },
     "execution_count": 138,
     "metadata": {},
     "output_type": "execute_result"
    }
   ],
   "source": [
    "string=\"python and data sceince pythhhhhooonnn pyttttttthon pythhhhhhhhon pyton\"\n",
    "a=re.findall(\"pyt+h+on\",string)\n",
    "a"
   ]
  },
  {
   "cell_type": "code",
   "execution_count": 140,
   "id": "9c5a2019-dd96-44f8-a81c-41a2ba9b2aa5",
   "metadata": {},
   "outputs": [
    {
     "data": {
      "text/plain": [
       "['python', 'pyttttttthon', 'pythhhhhhhhon', 'pyton']"
      ]
     },
     "execution_count": 140,
     "metadata": {},
     "output_type": "execute_result"
    }
   ],
   "source": [
    "string=\"python and data sceince pythhhhhooonnn pyttttttthon pythhhhhhhhon pyton\"\n",
    "a=re.findall(\"pyt+h*on\",string)\n",
    "a"
   ]
  },
  {
   "cell_type": "markdown",
   "id": "842385e9-f5c5-4387-8e44-c7354f63cf6b",
   "metadata": {},
   "source": [
    "# dot(.)"
   ]
  },
  {
   "cell_type": "code",
   "execution_count": null,
   "id": "b15a66a1-5438-46ef-8325-df35ee87adf4",
   "metadata": {},
   "outputs": [],
   "source": [
    "any character /element except new line"
   ]
  },
  {
   "cell_type": "code",
   "execution_count": 143,
   "id": "88f876ef-9923-42d6-8b52-67378f3a62b9",
   "metadata": {},
   "outputs": [
    {
     "data": {
      "text/plain": [
       "['9876987097']"
      ]
     },
     "execution_count": 143,
     "metadata": {},
     "output_type": "execute_result"
    }
   ],
   "source": [
    "numbers=\"\"\"9876987097\n",
    "           9768543097\n",
    "           9087654389\"\"\"\n",
    "result=re.findall(\"98........\",numbers)\n",
    "result"
   ]
  },
  {
   "cell_type": "code",
   "execution_count": 145,
   "id": "c357f2ee-2ad7-4922-92e9-debdbe53592a",
   "metadata": {},
   "outputs": [
    {
     "data": {
      "text/plain": [
       "['9802334500']"
      ]
     },
     "execution_count": 145,
     "metadata": {},
     "output_type": "execute_result"
    }
   ],
   "source": [
    "numbers=\"\"\"9876987097\n",
    "           9768543097\n",
    "           9087654389\n",
    "           9802334500\"\"\"\n",
    "result=re.findall(\"98......00\",numbers)\n",
    "result"
   ]
  },
  {
   "cell_type": "code",
   "execution_count": 147,
   "id": "d9bd7e52-5b79-4d4b-9ee2-3b3902e0e309",
   "metadata": {},
   "outputs": [
    {
     "data": {
      "text/plain": [
       "['980sk34500']"
      ]
     },
     "execution_count": 147,
     "metadata": {},
     "output_type": "execute_result"
    }
   ],
   "source": [
    "numbers=\"\"\"9876987097\n",
    "           9768543097\n",
    "           9087654389\n",
    "           980sk34500\"\"\"\n",
    "result=re.findall(\"98......00\",numbers)\n",
    "result"
   ]
  },
  {
   "cell_type": "code",
   "execution_count": 20,
   "id": "dc87f653-499e-4746-a7cc-e7fba07d843f",
   "metadata": {},
   "outputs": [
    {
     "data": {
      "text/plain": [
       "'154634564567345675@@@@###123'"
      ]
     },
     "execution_count": 20,
     "metadata": {},
     "output_type": "execute_result"
    }
   ],
   "source": [
    "import re\n",
    "\n",
    "string=\"Python Class 1546 Class 3456 class 4567 345675 @@@@ ### 123\"\n",
    "output=re.sub(r\"[a-z A-Z]\",\"\",string)\n",
    "output"
   ]
  },
  {
   "cell_type": "code",
   "execution_count": 30,
   "id": "a372c14e-ee3e-418a-818a-af61838814be",
   "metadata": {},
   "outputs": [
    {
     "data": {
      "text/plain": [
       "'Python Class  Class  class     '"
      ]
     },
     "execution_count": 30,
     "metadata": {},
     "output_type": "execute_result"
    }
   ],
   "source": [
    "string=\"Python Class 1546 Class 3456 class 4567 345675 @@@@ ### 123\"\n",
    "output=re.sub(r\"[^a-z A-Z]\",\"\",string)\n",
    "output"
   ]
  },
  {
   "cell_type": "code",
   "execution_count": 34,
   "id": "0b445a22-1e88-413c-9ff6-f7862fc9820b",
   "metadata": {},
   "outputs": [
    {
     "data": {
      "text/plain": [
       "'MAchine learing and datas science hi onkar '"
      ]
     },
     "execution_count": 34,
     "metadata": {},
     "output_type": "execute_result"
    }
   ],
   "source": [
    "string=\"MAchine learing and datas science     hi     onkar     \"\n",
    "output=re.sub(r\"\\s+\",\" \",string)\n",
    "output"
   ]
  },
  {
   "cell_type": "code",
   "execution_count": null,
   "id": "e008ba16-1bd1-4ea5-b8ea-f26d6be7442e",
   "metadata": {},
   "outputs": [],
   "source": [
    "? "
   ]
  },
  {
   "cell_type": "code",
   "execution_count": null,
   "id": "0634227c-2e83-4682-adfe-37f81622099f",
   "metadata": {},
   "outputs": [],
   "source": [
    "# Zero or more Occurrences \n",
    "\n"
   ]
  },
  {
   "cell_type": "code",
   "execution_count": null,
   "id": "f82960a5-3537-40fd-bbdb-23678b3b0ba0",
   "metadata": {},
   "outputs": [],
   "source": [
    "# endswith($)"
   ]
  },
  {
   "cell_type": "code",
   "execution_count": null,
   "id": "f8ff0e6b-7619-41a8-ad5e-6da814f4f19d",
   "metadata": {},
   "outputs": [],
   "source": [
    "# or (|)"
   ]
  },
  {
   "cell_type": "code",
   "execution_count": null,
   "id": "c7c5b1bd-d2d5-4383-a844-7c4ed3adbcfe",
   "metadata": {},
   "outputs": [],
   "source": []
  },
  {
   "cell_type": "code",
   "execution_count": null,
   "id": "366ee8a7-de3d-4313-bce4-2e7ca1707a84",
   "metadata": {},
   "outputs": [],
   "source": []
  },
  {
   "cell_type": "code",
   "execution_count": null,
   "id": "058e8175-a576-436e-b812-1eff42bacc4d",
   "metadata": {},
   "outputs": [],
   "source": []
  },
  {
   "cell_type": "code",
   "execution_count": null,
   "id": "470a4d2f-d6b6-4d7b-bc0b-109875f6d756",
   "metadata": {},
   "outputs": [],
   "source": []
  },
  {
   "cell_type": "code",
   "execution_count": null,
   "id": "19e669f1-3a80-4d89-a287-344af52db3b8",
   "metadata": {},
   "outputs": [],
   "source": []
  },
  {
   "cell_type": "code",
   "execution_count": null,
   "id": "2156b846-89fa-4c69-abe6-336015a29d64",
   "metadata": {},
   "outputs": [],
   "source": []
  },
  {
   "cell_type": "code",
   "execution_count": null,
   "id": "ad476976-f82c-4ead-9708-3dbf8a719e3d",
   "metadata": {},
   "outputs": [],
   "source": []
  },
  {
   "cell_type": "code",
   "execution_count": null,
   "id": "767b2233-b101-4f91-83f3-31a5348a84ff",
   "metadata": {},
   "outputs": [],
   "source": []
  },
  {
   "cell_type": "code",
   "execution_count": null,
   "id": "b0d15c1a-a9ff-407b-bb08-a1b68bb2aa2b",
   "metadata": {},
   "outputs": [],
   "source": []
  },
  {
   "cell_type": "code",
   "execution_count": null,
   "id": "5edf3fc7-8de0-46b4-a009-f2535e8a7af6",
   "metadata": {},
   "outputs": [],
   "source": []
  },
  {
   "cell_type": "code",
   "execution_count": null,
   "id": "d8f3f8dc-0c2b-4dc5-be8c-a4fc9b34b96d",
   "metadata": {},
   "outputs": [],
   "source": []
  }
 ],
 "metadata": {
  "kernelspec": {
   "display_name": "Python 3 (ipykernel)",
   "language": "python",
   "name": "python3"
  },
  "language_info": {
   "codemirror_mode": {
    "name": "ipython",
    "version": 3
   },
   "file_extension": ".py",
   "mimetype": "text/x-python",
   "name": "python",
   "nbconvert_exporter": "python",
   "pygments_lexer": "ipython3",
   "version": "3.12.7"
  }
 },
 "nbformat": 4,
 "nbformat_minor": 5
}
