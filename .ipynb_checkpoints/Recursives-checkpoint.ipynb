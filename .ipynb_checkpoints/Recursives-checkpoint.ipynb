{
 "cells": [
  {
   "cell_type": "code",
   "execution_count": null,
   "id": "441b881f-b0ea-47a1-bc17-b5ea901bc86b",
   "metadata": {},
   "outputs": [],
   "source": [
    "\n",
    "# Recursive funcation"
   ]
  },
  {
   "cell_type": "code",
   "execution_count": null,
   "id": "c8ed17ed-01ba-4e81-a6b9-0bf1625ca551",
   "metadata": {},
   "outputs": [],
   "source": [
    "1!=1!\n",
    "2!=2*1!\n",
    "3!=3*2*1!\n",
    "4!=4*3*2*1!\n",
    "5!=5*4*3*2*1!"
   ]
  },
  {
   "cell_type": "code",
   "execution_count": 6,
   "id": "cfff476c-59c1-4efa-bb43-0981b101e845",
   "metadata": {},
   "outputs": [
    {
     "name": "stdout",
     "output_type": "stream",
     "text": [
      "120\n"
     ]
    }
   ],
   "source": [
    "def factorial(n):\n",
    "    if n==1:\n",
    "        return 1\n",
    "    else:\n",
    "        return n*factorial(n-1)\n",
    "        return factorial\n",
    "x=factorial(5)\n",
    "print(x)"
   ]
  },
  {
   "cell_type": "markdown",
   "id": "dae1d7ee-e89b-4e97-9acf-bb4ebee45bbb",
   "metadata": {},
   "source": [
    "# Lambda function"
   ]
  },
  {
   "cell_type": "code",
   "execution_count": null,
   "id": "cc30bd5b-a63c-46e8-a15e-b087f67925f1",
   "metadata": {},
   "outputs": [],
   "source": [
    "function without name\n",
    "called as anonymous function.\n",
    "define lambda keyword\n",
    "\n",
    "no need to use def keyword , return statement."
   ]
  },
  {
   "cell_type": "code",
   "execution_count": 9,
   "id": "fa221e62-a172-4743-bd3d-9284efa81923",
   "metadata": {},
   "outputs": [
    {
     "data": {
      "text/plain": [
       "<function __main__.<lambda>(b)>"
      ]
     },
     "execution_count": 9,
     "metadata": {},
     "output_type": "execute_result"
    }
   ],
   "source": [
    "lambda b:b**2"
   ]
  },
  {
   "cell_type": "code",
   "execution_count": 11,
   "id": "dedef1fc-17ff-46a2-864f-b007f0a779a2",
   "metadata": {},
   "outputs": [
    {
     "data": {
      "text/plain": [
       "25"
      ]
     },
     "execution_count": 11,
     "metadata": {},
     "output_type": "execute_result"
    }
   ],
   "source": [
    "(lambda b:b**2)(5)\n"
   ]
  },
  {
   "cell_type": "code",
   "execution_count": 13,
   "id": "2f0859e3-5d61-48ff-a5c1-ee4a4c3080ca",
   "metadata": {},
   "outputs": [
    {
     "data": {
      "text/plain": [
       "524.0"
      ]
     },
     "execution_count": 13,
     "metadata": {},
     "output_type": "execute_result"
    }
   ],
   "source": [
    "(lambda *args : sum(args)/3)(32,1212,3,43,65,78,97,42)  # averages "
   ]
  },
  {
   "cell_type": "code",
   "execution_count": 15,
   "id": "083c9f8c-d272-4001-b6a5-a84dd6e60900",
   "metadata": {},
   "outputs": [
    {
     "data": {
      "text/plain": [
       "[32768, 13824, 175616, 343, 474552, 226981, 729000, 216]"
      ]
     },
     "execution_count": 15,
     "metadata": {},
     "output_type": "execute_result"
    }
   ],
   "source": [
    "(lambda lst: [i**3 for i in lst])([32,24,56,7,78,61,90,6])   # cube"
   ]
  },
  {
   "cell_type": "code",
   "execution_count": 19,
   "id": "d2075650-eb4f-4a3a-b9ce-ebff61df4ab0",
   "metadata": {},
   "outputs": [
    {
     "data": {
      "text/plain": [
       "[32768, 175616, 474552, 216]"
      ]
     },
     "execution_count": 19,
     "metadata": {},
     "output_type": "execute_result"
    }
   ],
   "source": [
    "(lambda lst: [i**3 for i in lst if i%2==0])([32,56,7,78,61,99,6])  # even "
   ]
  },
  {
   "cell_type": "code",
   "execution_count": 21,
   "id": "61750cd4-d63e-453d-b785-e3f8a8a118f7",
   "metadata": {},
   "outputs": [
    {
     "data": {
      "text/plain": [
       "[343, 226981, 970299]"
      ]
     },
     "execution_count": 21,
     "metadata": {},
     "output_type": "execute_result"
    }
   ],
   "source": [
    "(lambda lst: [i**3 for i in lst if i%2==1])([32,56,7,78,61,99,6])  # odd"
   ]
  },
  {
   "cell_type": "code",
   "execution_count": null,
   "id": "95392c31-dcd3-4eff-9aa4-01541da50ca3",
   "metadata": {},
   "outputs": [],
   "source": []
  },
  {
   "cell_type": "code",
   "execution_count": null,
   "id": "7bfaa1c9-393e-4d95-8af4-db373242e0b4",
   "metadata": {},
   "outputs": [],
   "source": [
    "# Higher order function"
   ]
  },
  {
   "cell_type": "code",
   "execution_count": 27,
   "id": "4a1a93d1-1989-4001-967f-5e63b311817f",
   "metadata": {},
   "outputs": [],
   "source": [
    "def sum(a):\n",
    "    return a**2"
   ]
  },
  {
   "cell_type": "code",
   "execution_count": 29,
   "id": "f0c9000d-6b51-49ab-a637-ce0396412ef4",
   "metadata": {},
   "outputs": [
    {
     "data": {
      "text/plain": [
       "[9, 4, 25, 3136, 64]"
      ]
     },
     "execution_count": 29,
     "metadata": {},
     "output_type": "execute_result"
    }
   ],
   "source": [
    "map\n",
    "list(map(sum,[3,2,5,56,8]))"
   ]
  },
  {
   "cell_type": "code",
   "execution_count": 35,
   "id": "6c949967-732e-4e90-941c-7239c3435243",
   "metadata": {},
   "outputs": [
    {
     "data": {
      "text/plain": [
       "[6, 7, 8, 9, 10]"
      ]
     },
     "execution_count": 35,
     "metadata": {},
     "output_type": "execute_result"
    }
   ],
   "source": [
    "lst =[1,2,3,4,5]\n",
    "list(map(lambda x:x+5,lst))"
   ]
  },
  {
   "cell_type": "code",
   "execution_count": null,
   "id": "d0751fe8-51b4-47b3-906d-f499cc47c6e1",
   "metadata": {},
   "outputs": [],
   "source": [
    "# filter"
   ]
  },
  {
   "cell_type": "code",
   "execution_count": 39,
   "id": "da8ebf55-9b8a-4120-84b4-ffa356935acf",
   "metadata": {},
   "outputs": [
    {
     "data": {
      "text/plain": [
       "['MACHINE']"
      ]
     },
     "execution_count": 39,
     "metadata": {},
     "output_type": "execute_result"
    }
   ],
   "source": [
    "lst =[\"MACHINE\",\"learning\"]\n",
    "list(filter(lambda x:x.isupper(),lst))"
   ]
  },
  {
   "cell_type": "code",
   "execution_count": 45,
   "id": "17ba5786-1b50-483e-88a8-069f3e684f75",
   "metadata": {},
   "outputs": [
    {
     "data": {
      "text/plain": [
       "['Sunday', 'Monday', 'Friday']"
      ]
     },
     "execution_count": 45,
     "metadata": {},
     "output_type": "execute_result"
    }
   ],
   "source": [
    "weekdays=[\"Sunday\",\"Monday\",\"Tuesday\",\"Wednesday\",\"Thursday\",\"Friday\",\"Saturday\"]\n",
    "list(filter(lambda x:len(x)==6,weekdays))"
   ]
  },
  {
   "cell_type": "code",
   "execution_count": null,
   "id": "527e88c0-1cfc-4771-8edf-840bb070ac1a",
   "metadata": {},
   "outputs": [],
   "source": []
  },
  {
   "cell_type": "code",
   "execution_count": null,
   "id": "7e3818a1-2641-4120-a825-4916c4e8bad3",
   "metadata": {},
   "outputs": [],
   "source": []
  },
  {
   "cell_type": "code",
   "execution_count": null,
   "id": "ca2f61e9-f07c-444b-bfb3-fa4e28562cfb",
   "metadata": {},
   "outputs": [],
   "source": []
  },
  {
   "cell_type": "code",
   "execution_count": null,
   "id": "8debd1e3-1834-4a9d-b4a0-8f60242d02d1",
   "metadata": {},
   "outputs": [],
   "source": []
  }
 ],
 "metadata": {
  "kernelspec": {
   "display_name": "Python 3 (ipykernel)",
   "language": "python",
   "name": "python3"
  },
  "language_info": {
   "codemirror_mode": {
    "name": "ipython",
    "version": 3
   },
   "file_extension": ".py",
   "mimetype": "text/x-python",
   "name": "python",
   "nbconvert_exporter": "python",
   "pygments_lexer": "ipython3",
   "version": "3.12.7"
  }
 },
 "nbformat": 4,
 "nbformat_minor": 5
}
