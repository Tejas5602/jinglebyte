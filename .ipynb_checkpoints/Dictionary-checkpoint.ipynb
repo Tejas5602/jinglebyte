{
 "cells": [
  {
   "cell_type": "markdown",
   "id": "aa97402d-1e6d-4856-bfb9-9a67ee7cf270",
   "metadata": {},
   "source": [
    "# Dictionary"
   ]
  },
  {
   "cell_type": "code",
   "execution_count": null,
   "id": "8a67b93d-51ef-460e-a30a-5fd29e2724e5",
   "metadata": {},
   "outputs": [],
   "source": [
    "# frozen - its unorder,imutable , duplicate not allowed .\n",
    "# dict - orderd, mutable,duplicate not allowed .\n"
   ]
  },
  {
   "cell_type": "code",
   "execution_count": 3,
   "id": "b1e33b3a-2ab2-4743-a924-8e6948b58c37",
   "metadata": {},
   "outputs": [
    {
     "data": {
      "text/plain": [
       "2"
      ]
     },
     "execution_count": 3,
     "metadata": {},
     "output_type": "execute_result"
    }
   ],
   "source": [
    "d1={\"A\":54,\"B\":65}\n",
    "len(d1)"
   ]
  },
  {
   "cell_type": "code",
   "execution_count": 11,
   "id": "514a1e6e-ead0-489d-8e45-4d1b38522673",
   "metadata": {},
   "outputs": [
    {
     "data": {
      "text/plain": [
       "2"
      ]
     },
     "execution_count": 11,
     "metadata": {},
     "output_type": "execute_result"
    }
   ],
   "source": [
    "d1={\"A\":65,\"B\":21}\n",
    "len(d1)"
   ]
  },
  {
   "cell_type": "code",
   "execution_count": null,
   "id": "f271ba80-24c7-4f7a-bb42-824c050cc44c",
   "metadata": {},
   "outputs": [],
   "source": [
    "# Access dictionary items"
   ]
  },
  {
   "cell_type": "code",
   "execution_count": 17,
   "id": "fef47cdf-0ff2-4acf-85e6-44dbd54dd1b9",
   "metadata": {},
   "outputs": [],
   "source": [
    "Emp={\"empname\":\"neeta\",\"salary\":60000,\"company\":\"ITV\"}\n"
   ]
  },
  {
   "cell_type": "code",
   "execution_count": 19,
   "id": "dfb9d135-03d6-4141-b54c-0ebcb8de7f50",
   "metadata": {},
   "outputs": [
    {
     "data": {
      "text/plain": [
       "60000"
      ]
     },
     "execution_count": 19,
     "metadata": {},
     "output_type": "execute_result"
    }
   ],
   "source": [
    "Emp.get(\"salary\")"
   ]
  },
  {
   "cell_type": "code",
   "execution_count": 27,
   "id": "03f70384-985c-424f-84d2-c787c007f3c6",
   "metadata": {},
   "outputs": [
    {
     "data": {
      "text/plain": [
       "'neeta'"
      ]
     },
     "execution_count": 27,
     "metadata": {},
     "output_type": "execute_result"
    }
   ],
   "source": [
    "Emp.get(\"empname\")"
   ]
  },
  {
   "cell_type": "code",
   "execution_count": 35,
   "id": "a8189359-f975-4a57-b9c2-a32241125385",
   "metadata": {},
   "outputs": [
    {
     "name": "stdout",
     "output_type": "stream",
     "text": [
      "('empname', 'neeta')\n",
      "('salary', 60000)\n",
      "('company', 'ITV')\n"
     ]
    }
   ],
   "source": [
    "Emp={\"empname\":\"neeta\",\"salary\":60000,\"company\":\"ITV\"}\n",
    "for i in Emp.items():\n",
    "    print(i)"
   ]
  },
  {
   "cell_type": "code",
   "execution_count": 43,
   "id": "62aa8cd5-b55c-4e83-a869-406573b55181",
   "metadata": {},
   "outputs": [
    {
     "name": "stdout",
     "output_type": "stream",
     "text": [
      "key--->empname,      value is neeta\n",
      "key--->salary,      value is 60000\n",
      "key--->company,      value is ITV\n"
     ]
    }
   ],
   "source": [
    "Emp={\"empname\":\"neeta\",\"salary\":60000,\"company\":\"ITV\"}\n",
    "for i ,v in Emp.items():\n",
    "    print(f\"key--->{i},      value is {v}\")"
   ]
  },
  {
   "cell_type": "code",
   "execution_count": 47,
   "id": "ee29e050-5eef-4fcc-adda-013879a167a4",
   "metadata": {},
   "outputs": [],
   "source": [
    "Emp={\"empname\":\"neeta\",\"salary\":60000,\"company\":\"ITV\"}\n",
    "\n",
    "Emp[\"salary\"]=90000"
   ]
  },
  {
   "cell_type": "code",
   "execution_count": 49,
   "id": "ba049319-8d19-41e9-8525-6d6fb677f74f",
   "metadata": {},
   "outputs": [
    {
     "data": {
      "text/plain": [
       "{'empname': 'neeta', 'salary': 90000, 'company': 'ITV'}"
      ]
     },
     "execution_count": 49,
     "metadata": {},
     "output_type": "execute_result"
    }
   ],
   "source": [
    "Emp"
   ]
  },
  {
   "cell_type": "code",
   "execution_count": null,
   "id": "24526565-8d06-4ed5-b4ff-30df71c8c326",
   "metadata": {},
   "outputs": [],
   "source": [
    "# update "
   ]
  },
  {
   "cell_type": "code",
   "execution_count": null,
   "id": "bb4f6927-57be-4998-bd72-fd58499eb990",
   "metadata": {},
   "outputs": [],
   "source": [
    "dict1.update(dict2)\n",
    "input only dictionary"
   ]
  },
  {
   "cell_type": "code",
   "execution_count": 57,
   "id": "615f5050-fcd4-4877-ac4d-a3d637d8b2cf",
   "metadata": {},
   "outputs": [
    {
     "data": {
      "text/plain": [
       "{'empname': 'neeta',\n",
       " 'salary': 5000,\n",
       " 'company': 'ITV',\n",
       " 'Comapany': 'Infosis',\n",
       " 'Age': 65}"
      ]
     },
     "execution_count": 57,
     "metadata": {},
     "output_type": "execute_result"
    }
   ],
   "source": [
    "Emp={\"empname\":\"neeta\",\"salary\":60000,\"company\":\"ITV\"}\n",
    "New_dict={\"salary\":5000,\"Comapany\":\"Infosis\",\"Age\":65}\n",
    "Emp.update(New_dict)   # update  new value or key \n",
    "Emp"
   ]
  },
  {
   "cell_type": "code",
   "execution_count": null,
   "id": "1c6c14ea-9e3c-489a-8a9f-7be1159953e6",
   "metadata": {},
   "outputs": [],
   "source": [
    "# Pop "
   ]
  },
  {
   "cell_type": "code",
   "execution_count": 63,
   "id": "4570cd64-1e9c-40ee-8679-1efd4d2d8dec",
   "metadata": {},
   "outputs": [
    {
     "data": {
      "text/plain": [
       "{'empname': 'neeta', 'salary': 5000, 'Age': 65}"
      ]
     },
     "execution_count": 63,
     "metadata": {},
     "output_type": "execute_result"
    }
   ],
   "source": [
    "emp={'empname': 'neeta',\n",
    " 'salary': 5000,\n",
    " 'Company': 'Infosis',\n",
    " 'Age': 65}\n",
    "emp.pop('Company')    # delete key\n",
    "emp"
   ]
  },
  {
   "cell_type": "code",
   "execution_count": 65,
   "id": "3e4dfedb-7355-4c95-8d61-06a3a9778712",
   "metadata": {},
   "outputs": [
    {
     "data": {
      "text/plain": [
       "{'empname': 'neeta', 'salary': 5000, 'Company': 'Infosis'}"
      ]
     },
     "execution_count": 65,
     "metadata": {},
     "output_type": "execute_result"
    }
   ],
   "source": [
    "emp={'empname': 'neeta',\n",
    " 'salary': 5000,\n",
    " 'Company': 'Infosis',\n",
    " 'Age': 65}\n",
    "emp.popitem()    # last key are delete of dictionary \n",
    "emp"
   ]
  },
  {
   "cell_type": "code",
   "execution_count": 67,
   "id": "450a9af1-2c13-42a2-a154-38cf08832bdc",
   "metadata": {},
   "outputs": [
    {
     "data": {
      "text/plain": [
       "{}"
      ]
     },
     "execution_count": 67,
     "metadata": {},
     "output_type": "execute_result"
    }
   ],
   "source": [
    "emp={'empname': 'neeta',\n",
    " 'salary': 5000,\n",
    " 'Company': 'Infosis',\n",
    " 'Age': 65}\n",
    "emp.clear()    # clear of dictionary \n",
    "emp"
   ]
  },
  {
   "cell_type": "code",
   "execution_count": null,
   "id": "34c0633f-1424-4f82-9b16-7a0b6fa13369",
   "metadata": {},
   "outputs": [],
   "source": []
  },
  {
   "cell_type": "code",
   "execution_count": null,
   "id": "54af6936-45ef-4c5d-8556-7a94917f2a70",
   "metadata": {},
   "outputs": [],
   "source": [
    "# nested dictionary "
   ]
  },
  {
   "cell_type": "code",
   "execution_count": 75,
   "id": "8b9dd697-588e-4269-a07d-6e370fa1432d",
   "metadata": {},
   "outputs": [
    {
     "ename": "SyntaxError",
     "evalue": "invalid syntax. Perhaps you forgot a comma? (2446554177.py, line 1)",
     "output_type": "error",
     "traceback": [
      "\u001b[1;36m  Cell \u001b[1;32mIn[75], line 1\u001b[1;36m\u001b[0m\n\u001b[1;33m    emp_info={\"CG001\":{'empname': 'neeta',\u001b[0m\n\u001b[1;37m                      ^\u001b[0m\n\u001b[1;31mSyntaxError\u001b[0m\u001b[1;31m:\u001b[0m invalid syntax. Perhaps you forgot a comma?\n"
     ]
    }
   ],
   "source": [
    "emp_info={\"CG001\":{'empname': 'neeta',\n",
    "                   'salary': 5000,\n",
    "                   'Company': 'Infosis',\n",
    "                  'Age': 65}\n",
    "\"CG002\":{'empname': 'tushar',\n",
    "           'salary': 60000,\n",
    "           'Company': 'Wipro',\n",
    "           'Age': 23}\n",
    "\"CG003\":{'empname': 'suyjot',\n",
    "        'salary': 41000,\n",
    "        'Company': 'ITV',\n",
    "        'Age': 50}}\n",
    "emp_info[\"CG002\"]"
   ]
  },
  {
   "cell_type": "markdown",
   "id": "f32f4324-d7cc-425b-9390-e4106b472cf3",
   "metadata": {},
   "source": [
    "# Square of 11 to 20 Numbers"
   ]
  },
  {
   "cell_type": "code",
   "execution_count": 93,
   "id": "634081ae-a6d4-46d2-9325-30f05a199d8f",
   "metadata": {},
   "outputs": [
    {
     "data": {
      "text/plain": [
       "{11: 121,\n",
       " 12: 144,\n",
       " 13: 169,\n",
       " 14: 196,\n",
       " 15: 225,\n",
       " 16: 256,\n",
       " 17: 289,\n",
       " 18: 324,\n",
       " 19: 361,\n",
       " 20: 400}"
      ]
     },
     "execution_count": 93,
     "metadata": {},
     "output_type": "execute_result"
    }
   ],
   "source": [
    "num=[11,12,13,14,15,16,17,18,19,20]\n",
    "dict1={}\n",
    "for i in range (11,21):\n",
    "    dict1[i]=i**2\n",
    "dict1\n"
   ]
  },
  {
   "cell_type": "code",
   "execution_count": null,
   "id": "acca1243-c52a-4107-8878-ed6d28ac3b8a",
   "metadata": {},
   "outputs": [],
   "source": [
    "dict1 ={}"
   ]
  },
  {
   "cell_type": "code",
   "execution_count": null,
   "id": "18e72700-83f1-4735-82e9-7771ba2fd079",
   "metadata": {},
   "outputs": [],
   "source": [
    "# sort the according to value \n",
    "# give solution by U(H.W)"
   ]
  },
  {
   "cell_type": "markdown",
   "id": "34171b77-b912-4c10-83fe-b01f610a16b4",
   "metadata": {},
   "source": [
    "# Function "
   ]
  },
  {
   "cell_type": "code",
   "execution_count": null,
   "id": "19ab4033-bb1a-4ef4-af4d-2c81d1812f8e",
   "metadata": {},
   "outputs": [],
   "source": [
    " # fromkeys()\n",
    "Create dict with same value for all keys"
   ]
  },
  {
   "cell_type": "code",
   "execution_count": 96,
   "id": "0324c68e-d2be-4e53-9ba5-7b0c80d580fc",
   "metadata": {},
   "outputs": [
    {
     "data": {
      "text/plain": [
       "{'a': 100, 'b': 100, 'c': 100, 'd': 100}"
      ]
     },
     "execution_count": 96,
     "metadata": {},
     "output_type": "execute_result"
    }
   ],
   "source": [
    "dict1 = dict.fromkeys([\"a\",\"b\",\"c\",\"d\"],100)\n",
    "dict1"
   ]
  },
  {
   "cell_type": "markdown",
   "id": "cff9a1b9-22c6-4d69-a75f-5acc8dea4cfe",
   "metadata": {},
   "source": [
    "# Setdefault"
   ]
  },
  {
   "cell_type": "code",
   "execution_count": 99,
   "id": "55231392-b188-45a4-997c-d7bae332679a",
   "metadata": {},
   "outputs": [
    {
     "data": {
      "text/plain": [
       "10"
      ]
     },
     "execution_count": 99,
     "metadata": {},
     "output_type": "execute_result"
    }
   ],
   "source": [
    "dict1={'a': 10, 'b': 25, 'c': 654, 'd': 45}\n",
    "dict1.setdefault(\"a\")"
   ]
  },
  {
   "cell_type": "code",
   "execution_count": null,
   "id": "8377304a-3022-47f7-95d2-19ed157e0047",
   "metadata": {},
   "outputs": [],
   "source": []
  },
  {
   "cell_type": "code",
   "execution_count": null,
   "id": "6f495622-3c82-4fb8-a3c9-956f82a4efa5",
   "metadata": {},
   "outputs": [],
   "source": []
  },
  {
   "cell_type": "code",
   "execution_count": null,
   "id": "7bb91de0-e35a-45ed-980b-58908fb9cc88",
   "metadata": {},
   "outputs": [],
   "source": []
  },
  {
   "cell_type": "code",
   "execution_count": null,
   "id": "a8de9782-cad4-42a9-acbc-dc6a6322c131",
   "metadata": {},
   "outputs": [],
   "source": []
  },
  {
   "cell_type": "code",
   "execution_count": null,
   "id": "afb7ea10-453c-43fe-b715-c03688c68da1",
   "metadata": {},
   "outputs": [],
   "source": []
  },
  {
   "cell_type": "code",
   "execution_count": null,
   "id": "3217ce01-2fde-40dc-93fe-6062f73659c1",
   "metadata": {},
   "outputs": [],
   "source": []
  }
 ],
 "metadata": {
  "kernelspec": {
   "display_name": "Python 3 (ipykernel)",
   "language": "python",
   "name": "python3"
  },
  "language_info": {
   "codemirror_mode": {
    "name": "ipython",
    "version": 3
   },
   "file_extension": ".py",
   "mimetype": "text/x-python",
   "name": "python",
   "nbconvert_exporter": "python",
   "pygments_lexer": "ipython3",
   "version": "3.12.7"
  }
 },
 "nbformat": 4,
 "nbformat_minor": 5
}
