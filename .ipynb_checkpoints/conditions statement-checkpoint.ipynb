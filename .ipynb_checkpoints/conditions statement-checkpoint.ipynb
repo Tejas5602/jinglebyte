{
 "cells": [
  {
   "cell_type": "markdown",
   "id": "caf09887-2e4f-4e11-9892-b5d1f4fd2440",
   "metadata": {},
   "source": [
    "operator"
   ]
  },
  {
   "cell_type": "code",
   "execution_count": 4,
   "id": "3543770c-e37f-4741-afd3-e4fb7c540790",
   "metadata": {},
   "outputs": [
    {
     "data": {
      "text/plain": [
       "False"
      ]
     },
     "execution_count": 4,
     "metadata": {},
     "output_type": "execute_result"
    }
   ],
   "source": [
    "lst=[1,2,3,4,5,6,7]\n",
    "8 in lst"
   ]
  },
  {
   "cell_type": "code",
   "execution_count": 14,
   "id": "59f6fa90-380c-43f5-a380-c615d213032d",
   "metadata": {},
   "outputs": [
    {
     "data": {
      "text/plain": [
       "True"
      ]
     },
     "execution_count": 14,
     "metadata": {},
     "output_type": "execute_result"
    }
   ],
   "source": [
    "a=256  \n",
    "b=256 \n",
    "a is b"
   ]
  },
  {
   "cell_type": "code",
   "execution_count": 28,
   "id": "d0a48cb2-7ccd-4fb3-a68e-17f540c8b6b6",
   "metadata": {},
   "outputs": [
    {
     "name": "stdout",
     "output_type": "stream",
     "text": [
      "not same memory location\n"
     ]
    }
   ],
   "source": [
    " a=20\n",
    " b=10\n",
    "\n",
    " if a is b:\n",
    "    print(\"same memory location\")\n",
    "\n",
    "else:\n",
    "    print(\"not same memory location\")"
   ]
  },
  {
   "cell_type": "code",
   "execution_count": 48,
   "id": "573f3318-dd20-4919-a699-f2ab27850df3",
   "metadata": {},
   "outputs": [
    {
     "name": "stdout",
     "output_type": "stream",
     "text": [
      "absent\n"
     ]
    }
   ],
   "source": [
    "lst=[1,2,3,4,5,6,5]\n",
    "a=5\n",
    "if  a is lst:\n",
    " print(\"present\")\n",
    "else: \n",
    "   print(\"absent\")"
   ]
  },
  {
   "cell_type": "code",
   "execution_count": 56,
   "id": "03f309a1-5a73-410d-a1b8-db41403c140e",
   "metadata": {},
   "outputs": [
    {
     "name": "stdout",
     "output_type": "stream",
     "text": [
      "hello\n"
     ]
    }
   ],
   "source": [
    "a=30\n",
    "b=20\n",
    "if  a>b:\n",
    "    print(\"hello\")\n",
    "elif a==b:\n",
    "    print(\"good\")\n",
    "else :\n",
    "    print(\"ok\")\n"
   ]
  },
  {
   "cell_type": "markdown",
   "id": "6640dcfa-daed-4356-b9d9-c0b5073339e9",
   "metadata": {},
   "source": [
    "pass statement"
   ]
  },
  {
   "cell_type": "code",
   "execution_count": 58,
   "id": "7f792f97-b6c9-4968-9a93-8a9f27c3f736",
   "metadata": {},
   "outputs": [
    {
     "name": "stdout",
     "output_type": "stream",
     "text": [
      "bye\n"
     ]
    }
   ],
   "source": [
    "#if any statemnt \n",
    "a=10\n",
    "b=20\n",
    "if a>b:\n",
    "    print(\"hello\")\n",
    "    pass\n",
    "else:\n",
    "    print(\"bye\")\n",
    "    pass"
   ]
  },
  {
   "cell_type": "code",
   "execution_count": null,
   "id": "2d09e2ac-d2ef-40dc-8029-731610e22f70",
   "metadata": {},
   "outputs": [],
   "source": [
    "# if statement\n"
   ]
  },
  {
   "cell_type": "code",
   "execution_count": null,
   "id": "d64f6625-a0a3-4c90-8306-ed0874d29085",
   "metadata": {},
   "outputs": [],
   "source": [
    "#age salary cibil_score"
   ]
  },
  {
   "cell_type": "code",
   "execution_count": 90,
   "id": "fe52579a-f905-4c86-a77b-17cc1722f8f6",
   "metadata": {},
   "outputs": [
    {
     "name": "stdout",
     "output_type": "stream",
     "text": [
      "age above criteria satisfied\n",
      "salary grater than criteria \n",
      "cibil score satisfied\n",
      "congrates , loan is approved\n"
     ]
    }
   ],
   "source": [
    "age= 27\n",
    "salary=50000\n",
    "cibil=780\n",
    "\n",
    "if  age>26:\n",
    "    print(\"age above criteria satisfied\")\n",
    "    \n",
    "    if salary>48000:\n",
    "        print(\"salary grater than criteria \")\n",
    "        \n",
    "        if cibil>750:\n",
    "            print(\"cibil score satisfied\")\n",
    "            \n",
    "            print(\"congrates , loan is approved\")\n",
    "            \n",
    "        else :\n",
    "            print(\"cibil score not satisfied\")\n",
    "    else:\n",
    "        print(\"salary low due to declined\")\n",
    "\n",
    "else: \n",
    "    print(\"age declined due low \")\n",
    "\n"
   ]
  },
  {
   "cell_type": "code",
   "execution_count": null,
   "id": "dec419aa-7ec8-441f-96f9-238e7664396f",
   "metadata": {},
   "outputs": [],
   "source": []
  },
  {
   "cell_type": "code",
   "execution_count": null,
   "id": "4702ab5f-3b4f-41e9-9205-28cc02e67a93",
   "metadata": {},
   "outputs": [],
   "source": []
  }
 ],
 "metadata": {
  "kernelspec": {
   "display_name": "Python 3 (ipykernel)",
   "language": "python",
   "name": "python3"
  },
  "language_info": {
   "codemirror_mode": {
    "name": "ipython",
    "version": 3
   },
   "file_extension": ".py",
   "mimetype": "text/x-python",
   "name": "python",
   "nbconvert_exporter": "python",
   "pygments_lexer": "ipython3",
   "version": "3.12.7"
  }
 },
 "nbformat": 4,
 "nbformat_minor": 5
}
