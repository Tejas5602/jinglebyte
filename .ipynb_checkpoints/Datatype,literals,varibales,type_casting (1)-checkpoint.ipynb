{
 "cells": [
  {
   "cell_type": "code",
   "execution_count": 1,
   "id": "34deb571-e2a4-407e-a7d5-efa9a836ffe9",
   "metadata": {},
   "outputs": [
    {
     "name": "stdout",
     "output_type": "stream",
     "text": [
      "Help on built-in function print in module builtins:\n",
      "\n",
      "print(*args, sep=' ', end='\\n', file=None, flush=False)\n",
      "    Prints the values to a stream, or to sys.stdout by default.\n",
      "\n",
      "    sep\n",
      "      string inserted between values, default a space.\n",
      "    end\n",
      "      string appended after the last value, default a newline.\n",
      "    file\n",
      "      a file-like object (stream); defaults to the current sys.stdout.\n",
      "    flush\n",
      "      whether to forcibly flush the stream.\n",
      "\n"
     ]
    }
   ],
   "source": [
    "help(print)"
   ]
  },
  {
   "cell_type": "code",
   "execution_count": 1,
   "id": "c4a0f785-ed9c-4484-a363-7253ff06c7fe",
   "metadata": {},
   "outputs": [
    {
     "name": "stdout",
     "output_type": "stream",
     "text": [
      "Hello, World!\n",
      "42\n"
     ]
    }
   ],
   "source": [
    "   print(\"Hello, World!\")\n",
    "   print(42)\n",
    "   "
   ]
  },
  {
   "cell_type": "code",
   "execution_count": 3,
   "id": "c9508523-b0c2-4c91-81de-913ea9d38f5e",
   "metadata": {},
   "outputs": [
    {
     "name": "stdout",
     "output_type": "stream",
     "text": [
      "[1, 2, 3]\n"
     ]
    }
   ],
   "source": [
    "   my_list = [1, 2, 3]\n",
    "   print(my_list)\n",
    "   "
   ]
  },
  {
   "cell_type": "code",
   "execution_count": 2,
   "id": "7a4a1feb-63f6-4769-8163-40619b8cc3ac",
   "metadata": {},
   "outputs": [
    {
     "ename": "SyntaxError",
     "evalue": "invalid syntax (547238418.py, line 1)",
     "output_type": "error",
     "traceback": [
      "\u001b[1;36m  Cell \u001b[1;32mIn[2], line 1\u001b[1;36m\u001b[0m\n\u001b[1;33m    syntax:\u001b[0m\n\u001b[1;37m           ^\u001b[0m\n\u001b[1;31mSyntaxError\u001b[0m\u001b[1;31m:\u001b[0m invalid syntax\n"
     ]
    }
   ],
   "source": [
    "syntax:\n",
    "    print(*args, sep=' ', end='\\n', file=None, flush=False)"
   ]
  },
  {
   "cell_type": "code",
   "execution_count": 8,
   "id": "5fd25a80-9049-49ef-b398-b70eafdfe207",
   "metadata": {},
   "outputs": [
    {
     "name": "stdout",
     "output_type": "stream",
     "text": [
      "10\n",
      "20\n"
     ]
    }
   ],
   "source": [
    "a=10\n",
    "b=20\n",
    "\n",
    "print(a)\n",
    "print(b)"
   ]
  },
  {
   "cell_type": "code",
   "execution_count": null,
   "id": "c1270993-14ec-4016-9efc-c921ebb52dc7",
   "metadata": {},
   "outputs": [],
   "source": []
  },
  {
   "cell_type": "code",
   "execution_count": 14,
   "id": "28d89c3d-ff85-411f-b792-13f434ca002d",
   "metadata": {},
   "outputs": [
    {
     "data": {
      "text/plain": [
       "20"
      ]
     },
     "execution_count": 14,
     "metadata": {},
     "output_type": "execute_result"
    }
   ],
   "source": [
    "a=10\n",
    "b=20\n",
    "a\n",
    "b"
   ]
  },
  {
   "cell_type": "code",
   "execution_count": null,
   "id": "9d75eb08-771c-46aa-87f3-d05dff41ee77",
   "metadata": {},
   "outputs": [],
   "source": [
    "print(a,end=\"\\n\")  # by default #\\n is escape character --> go to next/line/next line"
   ]
  },
  {
   "cell_type": "code",
   "execution_count": null,
   "id": "62ae2ac1-f798-46c6-bacf-bee5c892419f",
   "metadata": {},
   "outputs": [],
   "source": [
    "shift+tab --> give you functaionality of any built in function"
   ]
  },
  {
   "cell_type": "code",
   "execution_count": 16,
   "id": "f6bcfecf-d972-4f52-b9ce-68c6cabbd60a",
   "metadata": {},
   "outputs": [
    {
     "name": "stdout",
     "output_type": "stream",
     "text": [
      "10\n",
      "20\n"
     ]
    }
   ],
   "source": [
    "print(a,end=\"\\n\")\n",
    "print(b)"
   ]
  },
  {
   "cell_type": "code",
   "execution_count": 18,
   "id": "e2d0064f-a053-4650-96d3-3e9c34c4c70f",
   "metadata": {},
   "outputs": [
    {
     "name": "stdout",
     "output_type": "stream",
     "text": [
      "10++20\n"
     ]
    }
   ],
   "source": [
    "print(a,end=\"++\")\n",
    "print(b)"
   ]
  },
  {
   "cell_type": "code",
   "execution_count": 20,
   "id": "7dff0f9b-1aea-46ca-b024-2462388280e8",
   "metadata": {},
   "outputs": [
    {
     "name": "stdout",
     "output_type": "stream",
     "text": [
      "10++"
     ]
    }
   ],
   "source": [
    "print(a,end=\"++\")\n",
    "# print(b)"
   ]
  },
  {
   "cell_type": "code",
   "execution_count": 22,
   "id": "14e8e5a7-12eb-4bb7-91f9-51174b14d736",
   "metadata": {},
   "outputs": [
    {
     "name": "stdout",
     "output_type": "stream",
     "text": [
      "10**20\n",
      "10\n"
     ]
    }
   ],
   "source": [
    "print(a,end=\"**\")\n",
    "print(b)\n",
    "print(10)"
   ]
  },
  {
   "cell_type": "code",
   "execution_count": 26,
   "id": "3564546f-43d4-4ff9-9901-b4552b5643c9",
   "metadata": {},
   "outputs": [
    {
     "data": {
      "text/plain": [
       "<method 'isupper' of 'str' objects>"
      ]
     },
     "execution_count": 26,
     "metadata": {},
     "output_type": "execute_result"
    }
   ],
   "source": [
    "str.isupper"
   ]
  },
  {
   "cell_type": "code",
   "execution_count": 44,
   "id": "c063ce86-c927-4913-b521-d7a54aa856a8",
   "metadata": {},
   "outputs": [
    {
     "name": "stdout",
     "output_type": "stream",
     "text": [
      "10 20\n"
     ]
    }
   ],
   "source": [
    "print(a,b)"
   ]
  },
  {
   "cell_type": "code",
   "execution_count": 40,
   "id": "d9a7afc4-1d42-41d6-9018-d1a219a71223",
   "metadata": {},
   "outputs": [
    {
     "name": "stdout",
     "output_type": "stream",
     "text": [
      "10         20\n"
     ]
    }
   ],
   "source": [
    "print(a,b,sep=\"         \")"
   ]
  },
  {
   "cell_type": "code",
   "execution_count": 36,
   "id": "4f372239-a16c-4ee5-9774-d4b8efc394b8",
   "metadata": {},
   "outputs": [
    {
     "name": "stdout",
     "output_type": "stream",
     "text": [
      "10--20\n"
     ]
    }
   ],
   "source": [
    "print(a,b,sep=\"--\")"
   ]
  },
  {
   "cell_type": "code",
   "execution_count": 46,
   "id": "887ee097-3741-4d65-b2e6-3ce424775875",
   "metadata": {},
   "outputs": [
    {
     "name": "stdout",
     "output_type": "stream",
     "text": [
      "10---20\n",
      "30\n"
     ]
    }
   ],
   "source": [
    "a=10\n",
    "b=20\n",
    "c=30\n",
    "print(a,b,sep=\"---\",end=\"\\n\")\n",
    "print(c)"
   ]
  },
  {
   "cell_type": "code",
   "execution_count": 48,
   "id": "b5341a9c-1a65-45e9-9417-4cdec43f3bd9",
   "metadata": {},
   "outputs": [
    {
     "name": "stdout",
     "output_type": "stream",
     "text": [
      "10---20$$$$$30\n"
     ]
    }
   ],
   "source": [
    "a=10\n",
    "b=20\n",
    "c=30\n",
    "print(a,b,sep=\"---\",end=\"$$$$$\")\n",
    "print(c)"
   ]
  },
  {
   "cell_type": "code",
   "execution_count": 50,
   "id": "859d6430-516f-4961-acc2-2de861088b78",
   "metadata": {},
   "outputs": [
    {
     "name": "stdout",
     "output_type": "stream",
     "text": [
      "10\n",
      "20$$$$$30\n"
     ]
    }
   ],
   "source": [
    "a=10\n",
    "b=20\n",
    "c=30\n",
    "print(a,b,sep=\"\\n\",end=\"$$$$$\")\n",
    "print(c)"
   ]
  },
  {
   "cell_type": "code",
   "execution_count": 52,
   "id": "67ca4721-7261-40fd-95f4-9b5dd711129d",
   "metadata": {},
   "outputs": [
    {
     "name": "stdout",
     "output_type": "stream",
     "text": [
      "addition of 10 and 20: 30\n"
     ]
    }
   ],
   "source": [
    "a=10\n",
    "b=20\n",
    "c=a+b\n",
    "print(\"addition of 10 and 20:\",c)"
   ]
  },
  {
   "cell_type": "code",
   "execution_count": 56,
   "id": "0a724a02-a00e-4ad2-b8b6-493b27296272",
   "metadata": {},
   "outputs": [
    {
     "name": "stdout",
     "output_type": "stream",
     "text": [
      "addition of 10 and 20: 40\n"
     ]
    }
   ],
   "source": [
    "a=20\n",
    "b=20\n",
    "c=a+b\n",
    "print(\"addition of 10 and 20:\",c)"
   ]
  },
  {
   "cell_type": "code",
   "execution_count": 58,
   "id": "3d992314-d555-4c81-9ec4-654691ab6ed0",
   "metadata": {},
   "outputs": [
    {
     "name": "stdout",
     "output_type": "stream",
     "text": [
      "addition of a and b: 40\n"
     ]
    }
   ],
   "source": [
    "a=20\n",
    "b=20\n",
    "c=a+b\n",
    "print(\"addition of a and b:\",c)"
   ]
  },
  {
   "cell_type": "code",
   "execution_count": 60,
   "id": "16683164-abb6-4752-a8c7-615c7511b0c6",
   "metadata": {},
   "outputs": [
    {
     "name": "stdout",
     "output_type": "stream",
     "text": [
      "addition of 50 and 20: 70\n"
     ]
    }
   ],
   "source": [
    "a=50\n",
    "b=20\n",
    "c=a+b\n",
    "print(f\"addition of {a} and {b}: {c}\")"
   ]
  },
  {
   "cell_type": "code",
   "execution_count": 54,
   "id": "fbab17f1-3cdf-490d-92ad-a374e0394091",
   "metadata": {},
   "outputs": [
    {
     "name": "stdout",
     "output_type": "stream",
     "text": [
      "addition of {a} and {b}: {c}\n"
     ]
    }
   ],
   "source": [
    "a=50\n",
    "b=20\n",
    "c=a+b\n",
    "print(\"addition of {a} and {b}: {c}\")"
   ]
  },
  {
   "cell_type": "markdown",
   "id": "beb4ec31-b453-41a5-b0eb-ec3f5c72e66f",
   "metadata": {},
   "source": [
    "# .format()"
   ]
  },
  {
   "cell_type": "code",
   "execution_count": 62,
   "id": "71a3d304-d5a0-4823-8b78-b3d3ca378668",
   "metadata": {},
   "outputs": [
    {
     "name": "stdout",
     "output_type": "stream",
     "text": [
      "addition of {} and {} is: {}\n"
     ]
    }
   ],
   "source": [
    "a=50\n",
    "b=20\n",
    "c=a+b\n",
    "print(\"addition of {} and {} is: {}\")"
   ]
  },
  {
   "cell_type": "code",
   "execution_count": 64,
   "id": "a6c4b8ce-e787-4189-a860-5fbe6d0c2bfd",
   "metadata": {},
   "outputs": [
    {
     "name": "stdout",
     "output_type": "stream",
     "text": [
      "addition of 50 and 20 is : 70\n"
     ]
    }
   ],
   "source": [
    "a=50\n",
    "b=20\n",
    "c=a+b\n",
    "print(\"addition of {} and {} is : {}\".format(a,b,c))"
   ]
  },
  {
   "cell_type": "code",
   "execution_count": 68,
   "id": "c5cf478b-1640-4583-a5bf-8409f594de5b",
   "metadata": {},
   "outputs": [
    {
     "name": "stdout",
     "output_type": "stream",
     "text": [
      "addition of 20 and 50 is : 1000\n"
     ]
    }
   ],
   "source": [
    "a=50\n",
    "b=20\n",
    "c=a*b\n",
    "print(\"addition of {} and {} is : {}\".format(b,a,c))"
   ]
  },
  {
   "cell_type": "code",
   "execution_count": 70,
   "id": "95a43def-dc65-4d28-9e48-a0f80e2cd6f7",
   "metadata": {},
   "outputs": [
    {
     "name": "stdout",
     "output_type": "stream",
     "text": [
      "addition of 70 and 50 is : 20\n"
     ]
    }
   ],
   "source": [
    "a=50\n",
    "b=20\n",
    "c=a+b\n",
    "print(\"addition of {} and {} is : {}\".format(c,a,b))"
   ]
  },
  {
   "cell_type": "markdown",
   "id": "338fc095-ac60-4679-99b9-5be538e45ae6",
   "metadata": {},
   "source": [
    "# 3. % operator"
   ]
  },
  {
   "cell_type": "code",
   "execution_count": 74,
   "id": "2885d429-a83b-4741-8e12-ba39b4e27798",
   "metadata": {},
   "outputs": [
    {
     "data": {
      "text/plain": [
       "' integer =%d\\nfloat=%f\\nstring=%s '"
      ]
     },
     "execution_count": 74,
     "metadata": {},
     "output_type": "execute_result"
    }
   ],
   "source": [
    "''' integer =%d\n",
    "float=%f\n",
    "string=%s '''"
   ]
  },
  {
   "cell_type": "code",
   "execution_count": 2,
   "id": "7a6633cb-4124-44b4-acaa-c799d7c50c25",
   "metadata": {},
   "outputs": [
    {
     "name": "stdout",
     "output_type": "stream",
     "text": [
      "x==100\n",
      "x==100\n",
      "x==100\n"
     ]
    }
   ],
   "source": [
    "x=100   # int\n",
    "y=\"Ramkrishna\"  # string\n",
    "z=34.67    # float\n",
    "\n",
    "print(f\"x=={x}\")\n",
    "print(\"x=={}\".format(x))\n",
    "print(\"x==%d\" %x)"
   ]
  },
  {
   "cell_type": "code",
   "execution_count": 4,
   "id": "81255ebe-827f-4ceb-8a9a-9c68a585e7b5",
   "metadata": {},
   "outputs": [
    {
     "name": "stdout",
     "output_type": "stream",
     "text": [
      "x is 100\n",
      "y is Ramkrishna\n",
      "z is 34.670000\n"
     ]
    }
   ],
   "source": [
    "\n",
    "x=100   # int\n",
    "y=\"Ramkrishna\"  # string\n",
    "z=34.67    # float\n",
    "print(\"x is %d\" %x)\n",
    "print(\"y is %s\" %y)\n",
    "print(\"z is %f\" %z)"
   ]
  },
  {
   "cell_type": "code",
   "execution_count": 12,
   "id": "e2ff3725-6a7a-422e-8da6-a1ca0ce92d45",
   "metadata": {},
   "outputs": [
    {
     "name": "stdout",
     "output_type": "stream",
     "text": [
      "x is 100\n",
      "y is Ramkrishna\n",
      "z is 34.670000\n"
     ]
    }
   ],
   "source": [
    "x=100   # int\n",
    "y=\"Ramkrishna\"  # string\n",
    "z=34.67    # float\n",
    "print(\"x is %d\" %x)\n",
    "print(\"y is %s\" %y)\n",
    "print(\"z is %f\" %z)"
   ]
  },
  {
   "cell_type": "code",
   "execution_count": 14,
   "id": "93ae0d8d-68fe-40ac-a454-d24622a8227b",
   "metadata": {},
   "outputs": [
    {
     "name": "stdout",
     "output_type": "stream",
     "text": [
      "x is 100.000000\n"
     ]
    },
    {
     "ename": "TypeError",
     "evalue": "%d format: a real number is required, not str",
     "output_type": "error",
     "traceback": [
      "\u001b[1;31m---------------------------------------------------------------------------\u001b[0m",
      "\u001b[1;31mTypeError\u001b[0m                                 Traceback (most recent call last)",
      "Cell \u001b[1;32mIn[14], line 5\u001b[0m\n\u001b[0;32m      3\u001b[0m z\u001b[38;5;241m=\u001b[39m\u001b[38;5;241m34.67\u001b[39m    \u001b[38;5;66;03m# float\u001b[39;00m\n\u001b[0;32m      4\u001b[0m \u001b[38;5;28mprint\u001b[39m(\u001b[38;5;124m\"\u001b[39m\u001b[38;5;124mx is \u001b[39m\u001b[38;5;132;01m%f\u001b[39;00m\u001b[38;5;124m\"\u001b[39m \u001b[38;5;241m%\u001b[39mx)\n\u001b[1;32m----> 5\u001b[0m \u001b[38;5;28mprint\u001b[39m(\u001b[38;5;124m\"\u001b[39m\u001b[38;5;124my is \u001b[39m\u001b[38;5;132;01m%d\u001b[39;00m\u001b[38;5;124m\"\u001b[39m \u001b[38;5;241m%\u001b[39my)\n\u001b[0;32m      6\u001b[0m \u001b[38;5;28mprint\u001b[39m(\u001b[38;5;124m\"\u001b[39m\u001b[38;5;124mz is \u001b[39m\u001b[38;5;132;01m%f\u001b[39;00m\u001b[38;5;124m\"\u001b[39m \u001b[38;5;241m%\u001b[39mz)\n",
      "\u001b[1;31mTypeError\u001b[0m: %d format: a real number is required, not str"
     ]
    }
   ],
   "source": [
    "x=100   # int\n",
    "y=\"Ramkrishna\"  # string\n",
    "z=34.67    # float\n",
    "print(\"x is %f\" %x)\n",
    "print(\"y is %d\" %y)\n",
    "print(\"z is %f\" %z)"
   ]
  },
  {
   "cell_type": "code",
   "execution_count": 16,
   "id": "e8097e07-4b24-4d5a-88a0-fe4f1d319c9a",
   "metadata": {},
   "outputs": [
    {
     "name": "stdout",
     "output_type": "stream",
     "text": [
      "x is 100.000000\n",
      "y is Ramkrishna\n",
      "z is 34\n"
     ]
    }
   ],
   "source": [
    "x=100   # int\n",
    "y=\"Ramkrishna\"  # string\n",
    "z=34.67    # float\n",
    "print(\"x is %f\" %x)\n",
    "print(\"y is %s\" %y)\n",
    "print(\"z is %d\" %z)"
   ]
  },
  {
   "cell_type": "code",
   "execution_count": 18,
   "id": "8355b958-f9f0-4af1-9ae4-2f6bf194a889",
   "metadata": {},
   "outputs": [
    {
     "name": "stdout",
     "output_type": "stream",
     "text": [
      "x is 100\n",
      "y is Ramkrishna\n",
      "z is 34\n"
     ]
    }
   ],
   "source": [
    "x=100   # int\n",
    "y=\"Ramkrishna\"  # string\n",
    "z=34.67    # float\n",
    "print(\"x is %s\" %x)\n",
    "print(\"y is %s\" %y)\n",
    "print(\"z is %d\" %z)"
   ]
  },
  {
   "cell_type": "code",
   "execution_count": 20,
   "id": "30db5c22-1357-4045-8e1a-f38d44aafdac",
   "metadata": {},
   "outputs": [
    {
     "data": {
      "text/plain": [
       "int"
      ]
     },
     "execution_count": 20,
     "metadata": {},
     "output_type": "execute_result"
    }
   ],
   "source": [
    "a=10\n",
    "type(a)"
   ]
  },
  {
   "cell_type": "code",
   "execution_count": 22,
   "id": "e6c30490-a637-4753-aa4c-02eb4ed93e48",
   "metadata": {},
   "outputs": [
    {
     "data": {
      "text/plain": [
       "str"
      ]
     },
     "execution_count": 22,
     "metadata": {},
     "output_type": "execute_result"
    }
   ],
   "source": [
    "a=\"10\"\n",
    "type(a)"
   ]
  },
  {
   "cell_type": "markdown",
   "id": "145fcd79-989e-4903-b8b4-b97f37205a9e",
   "metadata": {},
   "source": [
    "# type casting"
   ]
  },
  {
   "cell_type": "code",
   "execution_count": 24,
   "id": "b6faa3fb-24c9-42b6-be96-fb37e2bbdfbf",
   "metadata": {},
   "outputs": [
    {
     "data": {
      "text/plain": [
       "10.0"
      ]
     },
     "execution_count": 24,
     "metadata": {},
     "output_type": "execute_result"
    }
   ],
   "source": [
    "a=10\n",
    "b=39\n",
    "c=34.56\n",
    "a=float(a)\n",
    "a"
   ]
  },
  {
   "cell_type": "code",
   "execution_count": 26,
   "id": "12ef9047-49c8-4a4a-82a8-35cf3ea4311f",
   "metadata": {},
   "outputs": [
    {
     "data": {
      "text/plain": [
       "34"
      ]
     },
     "execution_count": 26,
     "metadata": {},
     "output_type": "execute_result"
    }
   ],
   "source": [
    "a=10\n",
    "b=98\n",
    "c=34.56\n",
    "b=int(c)\n",
    "b"
   ]
  },
  {
   "cell_type": "code",
   "execution_count": 28,
   "id": "119e845e-8f43-4156-9cb0-30f97861f92a",
   "metadata": {},
   "outputs": [
    {
     "data": {
      "text/plain": [
       "'34.56'"
      ]
     },
     "execution_count": 28,
     "metadata": {},
     "output_type": "execute_result"
    }
   ],
   "source": [
    "a=10\n",
    "b=98\n",
    "c=34.56\n",
    "b=str(c)\n",
    "b"
   ]
  },
  {
   "cell_type": "code",
   "execution_count": 40,
   "id": "5c11479c-03af-457c-9797-83a405bca055",
   "metadata": {},
   "outputs": [
    {
     "data": {
      "text/plain": [
       "complex"
      ]
     },
     "execution_count": 40,
     "metadata": {},
     "output_type": "execute_result"
    }
   ],
   "source": [
    "d=4+45j\n",
    "type(d)"
   ]
  },
  {
   "cell_type": "markdown",
   "id": "fcddfcd1-ea0b-4995-90b0-8b1312041e16",
   "metadata": {},
   "source": [
    "# Datatypes"
   ]
  },
  {
   "cell_type": "code",
   "execution_count": 32,
   "id": "2aaaadbf-830c-41a4-a143-114fbf53d973",
   "metadata": {},
   "outputs": [
    {
     "data": {
      "text/plain": [
       "\"' 6 major datatypes\\n\\n1.numeric datatype: int, float, complex\\n\\n2.text datatype: str\\n\\n3.sequence Datatype: list,tuple\\n\\n4.Mapping Datatype : dict  {key :value}\\n\\n5.Set Datatype : set , frozenset\\n\\n6.Boolean Datatype : bool(True/False)\""
      ]
     },
     "execution_count": 32,
     "metadata": {},
     "output_type": "execute_result"
    }
   ],
   "source": [
    "'''' 6 major datatypes\n",
    "\n",
    "1.numeric datatype: int, float, complex\n",
    "\n",
    "2.text datatype: str\n",
    "\n",
    "3.sequence Datatype: list,tuple\n",
    "\n",
    "4.Mapping Datatype : dict  {key :value}\n",
    "\n",
    "5.Set Datatype : set , frozenset\n",
    "\n",
    "6.Boolean Datatype : bool(True/False)'''\n"
   ]
  },
  {
   "cell_type": "code",
   "execution_count": 6,
   "id": "974f5db3-32da-4046-b545-0fef78806769",
   "metadata": {},
   "outputs": [
    {
     "data": {
      "text/plain": [
       "int"
      ]
     },
     "execution_count": 6,
     "metadata": {},
     "output_type": "execute_result"
    }
   ],
   "source": [
    "a=10\n",
    "type(a)"
   ]
  },
  {
   "cell_type": "code",
   "execution_count": 36,
   "id": "b6247815-1fc5-4b5a-9839-4549f168ebad",
   "metadata": {},
   "outputs": [
    {
     "data": {
      "text/plain": [
       "float"
      ]
     },
     "execution_count": 36,
     "metadata": {},
     "output_type": "execute_result"
    }
   ],
   "source": [
    "a=10.67\n",
    "type(a)"
   ]
  },
  {
   "cell_type": "code",
   "execution_count": 38,
   "id": "7a11acf4-7893-4370-a83e-1c73d5f1c80b",
   "metadata": {},
   "outputs": [
    {
     "data": {
      "text/plain": [
       "complex"
      ]
     },
     "execution_count": 38,
     "metadata": {},
     "output_type": "execute_result"
    }
   ],
   "source": [
    "a=10.67+34j\n",
    "type(a)"
   ]
  },
  {
   "cell_type": "code",
   "execution_count": 42,
   "id": "ba3bd695-2295-46c5-8ab4-c556d0d62154",
   "metadata": {},
   "outputs": [
    {
     "data": {
      "text/plain": [
       "str"
      ]
     },
     "execution_count": 42,
     "metadata": {},
     "output_type": "execute_result"
    }
   ],
   "source": [
    "a=\"Hi this is python class at 1: 00 pm\"\n",
    "type(a)"
   ]
  },
  {
   "cell_type": "code",
   "execution_count": 44,
   "id": "22b2380d-956c-4db3-ac66-4f503f0799b4",
   "metadata": {},
   "outputs": [
    {
     "data": {
      "text/plain": [
       "list"
      ]
     },
     "execution_count": 44,
     "metadata": {},
     "output_type": "execute_result"
    }
   ],
   "source": [
    "a=[10,20,30,\"str\",12.34,34+5j]\n",
    "type(a)"
   ]
  },
  {
   "cell_type": "code",
   "execution_count": 46,
   "id": "cb970178-9b34-4ad1-9e59-370ef89d2792",
   "metadata": {},
   "outputs": [
    {
     "data": {
      "text/plain": [
       "tuple"
      ]
     },
     "execution_count": 46,
     "metadata": {},
     "output_type": "execute_result"
    }
   ],
   "source": [
    "a=(10,20,30,\"str\",12.34,34+5j)\n",
    "type(a)"
   ]
  },
  {
   "cell_type": "code",
   "execution_count": 48,
   "id": "1537abc8-7fad-4dec-818b-6bac88e2aa22",
   "metadata": {},
   "outputs": [
    {
     "data": {
      "text/plain": [
       "set"
      ]
     },
     "execution_count": 48,
     "metadata": {},
     "output_type": "execute_result"
    }
   ],
   "source": [
    "a={10,20,30,\"str\",12.34,34+5j}\n",
    "type(a)"
   ]
  },
  {
   "cell_type": "code",
   "execution_count": 52,
   "id": "2b3025e1-0433-416d-b08f-9c2923f46463",
   "metadata": {},
   "outputs": [
    {
     "ename": "SyntaxError",
     "evalue": "invalid syntax (3047285821.py, line 1)",
     "output_type": "error",
     "traceback": [
      "\u001b[1;36m  Cell \u001b[1;32mIn[52], line 1\u001b[1;36m\u001b[0m\n\u001b[1;33m    input1:a=23,b=342\u001b[0m\n\u001b[1;37m                 ^\u001b[0m\n\u001b[1;31mSyntaxError\u001b[0m\u001b[1;31m:\u001b[0m invalid syntax\n"
     ]
    }
   ],
   "source": [
    "input1={\"b\":30,\"m\":34}\n",
    "type(input1)\n"
   ]
  },
  {
   "cell_type": "code",
   "execution_count": null,
   "id": "1252d8ad-7bdc-4d83-bd19-73d4d1bf1276",
   "metadata": {},
   "outputs": [],
   "source": [
    "a=23\n",
    "b=87\n",
    "a==b"
   ]
  },
  {
   "cell_type": "code",
   "execution_count": null,
   "id": "d473341c-ab11-4f52-adc0-e0ab0bb95653",
   "metadata": {},
   "outputs": [],
   "source": [
    "a=23\n",
    "b=87\n",
    "a!=b"
   ]
  },
  {
   "cell_type": "markdown",
   "id": "07afc230-47ff-4431-8b66-3c41a9754f8c",
   "metadata": {},
   "source": [
    "# variables"
   ]
  },
  {
   "cell_type": "code",
   "execution_count": null,
   "id": "69265d1d-1fef-43c3-8e55-c6719548bed1",
   "metadata": {},
   "outputs": [],
   "source": [
    "variable is used to store any value\n",
    "python has no command to declare variable\n",
    "there is no need to specify datatype of variable\n",
    "equal operator is used to assign a value to variable"
   ]
  },
  {
   "cell_type": "code",
   "execution_count": null,
   "id": "a9f24069-f9fb-49c9-b497-ec668c4562c4",
   "metadata": {},
   "outputs": [],
   "source": []
  },
  {
   "cell_type": "code",
   "execution_count": 2,
   "id": "3a1c38d4-ee14-4959-9dc1-6242aab49737",
   "metadata": {},
   "outputs": [
    {
     "data": {
      "text/plain": [
       "int"
      ]
     },
     "execution_count": 2,
     "metadata": {},
     "output_type": "execute_result"
    }
   ],
   "source": [
    "a=10\n",
    "type(a)"
   ]
  },
  {
   "cell_type": "code",
   "execution_count": 4,
   "id": "9724bf95-cbba-41c4-9aad-b86465cc2ec1",
   "metadata": {},
   "outputs": [
    {
     "ename": "SyntaxError",
     "evalue": "invalid syntax (743087725.py, line 1)",
     "output_type": "error",
     "traceback": [
      "\u001b[1;36m  Cell \u001b[1;32mIn[4], line 1\u001b[1;36m\u001b[0m\n\u001b[1;33m    var a=10\u001b[0m\n\u001b[1;37m        ^\u001b[0m\n\u001b[1;31mSyntaxError\u001b[0m\u001b[1;31m:\u001b[0m invalid syntax\n"
     ]
    }
   ],
   "source": [
    "var a=10"
   ]
  },
  {
   "cell_type": "code",
   "execution_count": 6,
   "id": "6f31c0e0-e254-4ca7-b09b-1b57084c5db2",
   "metadata": {},
   "outputs": [
    {
     "data": {
      "text/plain": [
       "str"
      ]
     },
     "execution_count": 6,
     "metadata": {},
     "output_type": "execute_result"
    }
   ],
   "source": [
    "abcd=\"23\"\n",
    "type(abcd)"
   ]
  },
  {
   "cell_type": "markdown",
   "id": "b90e4279-44af-40a5-ac11-54ba3899e21b",
   "metadata": {},
   "source": [
    "# rules to define varibales"
   ]
  },
  {
   "cell_type": "code",
   "execution_count": null,
   "id": "a7347c6f-39aa-4870-8631-c62a533a3241",
   "metadata": {},
   "outputs": [],
   "source": [
    "1.variable must start with alphabate(A-Z/a-z) or underscore(_)\n",
    "\n",
    "2.case sensitive\n",
    "\n",
    "3.all charcter may be alphanumeric(a-z,A-Z,0-9) or underscore\n",
    "\n",
    "4.must not contain special character(@,!#,%,^,&,*,....)\n",
    "\n",
    "5.do not use any reserved keywords"
   ]
  },
  {
   "cell_type": "code",
   "execution_count": null,
   "id": "c5b9a83a-b6f9-425d-8018-cdf54fbfee92",
   "metadata": {},
   "outputs": [],
   "source": [
    "myvar=100\n",
    "Myvar=21\n",
    "myVar=34\n",
    "__myvar=234\n",
    "my__var=98\n",
    "# my@123=45\n",
    "# 123my_var=09\n",
    "myvar123=76\n",
    "str=23`"
   ]
  },
  {
   "cell_type": "code",
   "execution_count": null,
   "id": "be4c3b2f-a9d6-4330-8b2e-6c3b62db24cf",
   "metadata": {},
   "outputs": [],
   "source": [
    "help(\"keywords\")"
   ]
  },
  {
   "cell_type": "markdown",
   "id": "6dc0b68b-7550-41c0-8eec-2c0ce462d484",
   "metadata": {},
   "source": [
    "# Literals"
   ]
  },
  {
   "cell_type": "code",
   "execution_count": null,
   "id": "c1fbb71f-a8d5-4243-b13d-031a9998dce6",
   "metadata": {},
   "outputs": [],
   "source": [
    "a=10  # 10 is an intiger literal\n",
    "a=10 # fixed value  # 10 is literal  #int is datatype"
   ]
  },
  {
   "cell_type": "markdown",
   "id": "ae5dd603-6ce8-45c9-850c-8ff52bccce6c",
   "metadata": {},
   "source": [
    "# identifier"
   ]
  },
  {
   "cell_type": "code",
   "execution_count": null,
   "id": "204676dd-b4bb-4c23-9342-e10b437bfe6d",
   "metadata": {},
   "outputs": [],
   "source": [
    "a=10  # storage location for holding data  # variable\n",
    "# a name identify a varibale, function ,class\n",
    "# used to lable or refer to entity like variable\n",
    "# act as name"
   ]
  },
  {
   "cell_type": "code",
   "execution_count": null,
   "id": "13966021-9b09-407f-bcb5-f629e059d362",
   "metadata": {},
   "outputs": [],
   "source": [
    "name=\"alice\""
   ]
  }
 ],
 "metadata": {
  "kernelspec": {
   "display_name": "Python 3 (ipykernel)",
   "language": "python",
   "name": "python3"
  },
  "language_info": {
   "codemirror_mode": {
    "name": "ipython",
    "version": 3
   },
   "file_extension": ".py",
   "mimetype": "text/x-python",
   "name": "python",
   "nbconvert_exporter": "python",
   "pygments_lexer": "ipython3",
   "version": "3.12.7"
  }
 },
 "nbformat": 4,
 "nbformat_minor": 5
}
