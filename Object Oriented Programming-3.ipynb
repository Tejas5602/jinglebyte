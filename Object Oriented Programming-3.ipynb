{
 "cells": [
  {
   "cell_type": "markdown",
   "id": "574f5825",
   "metadata": {},
   "source": [
    "# Object Oriented Programming"
   ]
  },
  {
   "cell_type": "code",
   "execution_count": null,
   "id": "c4cd2a76",
   "metadata": {},
   "outputs": [],
   "source": [
    "Python >> Object Oriented Programming Language\n",
    "\n",
    "Object Oriented Programming Language means Functions, variables and Class\n",
    "\n",
    "Functions >> Methods"
   ]
  },
  {
   "cell_type": "markdown",
   "id": "53b9e789",
   "metadata": {},
   "source": [
    "# Object"
   ]
  },
  {
   "cell_type": "code",
   "execution_count": null,
   "id": "a1b32616",
   "metadata": {},
   "outputs": [],
   "source": [
    "Object >> Real world entity (Laptop, Table, Notebook, Mobile, Remote etc)\n",
    "\n",
    "Everything in a Python is an object.\n",
    "str, list, tuple\n",
    "\"python\", [1,2,3,4], (3,4,5,6)\n",
    "\n",
    "\n",
    "It is a Physical Entity"
   ]
  },
  {
   "cell_type": "markdown",
   "id": "9e447ced",
   "metadata": {},
   "source": [
    "# Class"
   ]
  },
  {
   "cell_type": "code",
   "execution_count": null,
   "id": "5241a747",
   "metadata": {},
   "outputs": [],
   "source": [
    "class >> It is a collection of objects\n",
    "\n",
    "Class >> Logical Entity it contains both variables and methods(functions)\n",
    "\n",
    "class >> Blueprint of an objects that defines variables and methods(functions)\n",
    "\n",
    "class is defined by class keyword\n",
    "\n",
    "Rules to define the class name:\n",
    "    1. Class name should be in a CamelCase. (Condition)\n",
    "        - It will differ class from the function.\n",
    "    2. must start with alphabet and _.\n",
    "    3. should not start with numbers\n",
    "    4. should not contains special characters and space.\n",
    "    5. We can not use reserved keywords while defining the class\n",
    "\n",
    "def my_function()\n",
    "\n",
    "class MyFunction()\n",
    "\n",
    "my_function()  # calling the function\n",
    "\n",
    "MyFunction()   # Object creation of class\n"
   ]
  },
  {
   "cell_type": "code",
   "execution_count": null,
   "id": "0ddead88",
   "metadata": {},
   "outputs": [],
   "source": [
    "sketch_of_house:  # Class\n",
    "    House1 # object\n",
    "    House2\n",
    "    House3\n",
    "    ....\n",
    "    \n",
    "    HouseN\n",
    "    \n",
    "Class is collection of Objects"
   ]
  },
  {
   "cell_type": "code",
   "execution_count": null,
   "id": "1b92ef73-18dd-4deb-a5b5-db9fb62ae6a2",
   "metadata": {},
   "outputs": [],
   "source": [
    "class onkar()"
   ]
  },
  {
   "cell_type": "code",
   "execution_count": null,
   "id": "07461303-56f2-4e92-b68c-3f597c4b5424",
   "metadata": {},
   "outputs": [],
   "source": [
    "def onkar"
   ]
  },
  {
   "cell_type": "code",
   "execution_count": null,
   "id": "7d34a496-0005-4c9d-91b2-d938a01ed256",
   "metadata": {},
   "outputs": [],
   "source": [
    "onkar()"
   ]
  },
  {
   "cell_type": "code",
   "execution_count": null,
   "id": "d423f8cb",
   "metadata": {},
   "outputs": [],
   "source": [
    "Class: Human\n",
    "Objects: Man, Woman\n",
    "    \n",
    "Class: Fruits\n",
    "Objects: Apple, Banana, Mango, Grapes, Orange\n",
    "    \n",
    "Class: Food\n",
    "Objects: Dosa, Paneer, Pizza, Burger, Cold Coffe\n",
    "    \n",
    "Class: Mobile Phone\n",
    "Objects: iphone, samsung, vivo"
   ]
  },
  {
   "cell_type": "code",
   "execution_count": 7,
   "id": "cb5bf1bf",
   "metadata": {},
   "outputs": [
    {
     "name": "stdout",
     "output_type": "stream",
     "text": [
      "Value of x: 100\n"
     ]
    }
   ],
   "source": [
    "x = 100  # Global variable\n",
    "\n",
    "def my_fun():\n",
    "    print(\"Value of x:\",x)\n",
    "    \n",
    "    z = 200  # Local Variable\n",
    "    \n",
    "my_fun()  # Calling the function\n"
   ]
  },
  {
   "cell_type": "code",
   "execution_count": 5,
   "id": "790aef25",
   "metadata": {},
   "outputs": [
    {
     "name": "stdout",
     "output_type": "stream",
     "text": [
      "We are testing class concept\n",
      "Accessing the variable 200\n",
      "10 20\n",
      "**************************************\n",
      "In My Function\n"
     ]
    }
   ],
   "source": [
    "x = 100   # Global Variable\n",
    "\n",
    "class ClassName():\n",
    "    \n",
    "    a = 200    # Class variable\n",
    "    print(\"We are testing class concept\")\n",
    "    \n",
    "    def my_fun(self, arg1, arg2):  # Function / method\n",
    "        print(arg1, arg2)\n",
    "        print(\"**************************************\")\n",
    "        print(\"In My Function\")\n",
    "        \n",
    "        \n",
    "# create an object of class\n",
    "Obj = ClassName()\n",
    "\n",
    "# # Access the variable\n",
    "print(\"Accessing the variable\",Obj.a)\n",
    "\n",
    "# # Acceess Method\n",
    "Obj.my_fun(10,20)"
   ]
  },
  {
   "cell_type": "markdown",
   "id": "3565f8a5",
   "metadata": {},
   "source": [
    "### self"
   ]
  },
  {
   "cell_type": "code",
   "execution_count": null,
   "id": "02a3627a",
   "metadata": {},
   "outputs": [],
   "source": [
    "- It is keywords and it is mandatory in method.\n",
    "- It is used to represent an instance of a given class.\n",
    "- It should be at a first postion of parameters in a method\n",
    "- By using \"self\" keyword we can access the variables and methods in side the class\n",
    "\n",
    "Attributes --> Variables / Functions / Methods"
   ]
  },
  {
   "cell_type": "code",
   "execution_count": 13,
   "id": "07863893",
   "metadata": {},
   "outputs": [
    {
     "name": "stdout",
     "output_type": "stream",
     "text": [
      "We are tseting mobile class\n",
      "**************** Price ******************\n",
      "The price of mobile is 30000\n",
      "---------------- Color -------------------\n",
      "Color of mobile is Moon Light\n"
     ]
    }
   ],
   "source": [
    "class Mobile:\n",
    "    \n",
    "    print(\"We are tseting mobile class\")\n",
    "    \n",
    "    tag = \"Made in INDIA\"  # class variable\n",
    "    \n",
    "    def price(self):  # Method\n",
    "        print(\"**************** Price ******************\")\n",
    "        p = 30000\n",
    "        print(\"The price of mobile is\",p)\n",
    "        \n",
    "    def color(self):\n",
    "        print(\"---------------- Color -------------------\")\n",
    "        col = \"Moon Light\"\n",
    "        print(\"Color of mobile is\",col)\n",
    "        \n",
    "    def RAM(self):\n",
    "        print(\"Getting RAM\")\n",
    "        \n",
    "    def memory(self):\n",
    "        print(\"Getting Memory\")\n",
    "        \n",
    "    # Define N numbers of methods\n",
    "        \n",
    "    \n",
    "# Creating an object\n",
    "Object = Mobile()\n",
    "\n",
    "# # Accessing the variable\n",
    "Object.tag\n",
    "\n",
    "# # Accessing Methods\n",
    "Object.price()\n",
    "Object.color()"
   ]
  },
  {
   "cell_type": "code",
   "execution_count": 27,
   "id": "053bc923-9f01-4d4d-99a3-4b47c7c38aed",
   "metadata": {},
   "outputs": [
    {
     "name": "stdout",
     "output_type": "stream",
     "text": [
      "We are tseting mobile class\n",
      "**************** Price ******************\n",
      "The price of mobile is 30000\n",
      "---------------- Color -------------------\n",
      "Color of mobile is Moon Light\n",
      "The price of mobile is 30000\n",
      "tag--> Made in INDIA\n",
      "10\n"
     ]
    }
   ],
   "source": [
    "a=10\n",
    "class Mobile:\n",
    "    \n",
    "    print(\"We are tseting mobile class\")\n",
    "    \n",
    "    tag = \"Made in INDIA\"  # class variable\n",
    "    \n",
    "    def price(self):  # Method\n",
    "        print(\"**************** Price ******************\")\n",
    "        p = 30000\n",
    "        self.p=p  # instance varible\n",
    "        print(\"The price of mobile is\",p)\n",
    "        \n",
    "    def color(self):\n",
    "        print(\"---------------- Color -------------------\")\n",
    "        col = \"Moon Light\"\n",
    "        print(\"Color of mobile is\",col)\n",
    "        print(\"The price of mobile is\",self.p)\n",
    "        print(\"tag-->\",self.tag)\n",
    "        print(a)\n",
    "    def RAM(self):\n",
    "    \n",
    "        print(\"Getting RAM\")\n",
    "        \n",
    "    def memory(self):\n",
    "        print(\"Getting Memory\")\n",
    "        \n",
    "    # Define N numbers of methods\n",
    "        \n",
    "    \n",
    "# Creating an object\n",
    "Object = Mobile()\n",
    "\n",
    "# # Accessing the variable\n",
    "Object.tag\n",
    "\n",
    "# # Accessing Methods\n",
    "Object.price()\n",
    "Object.color()"
   ]
  },
  {
   "cell_type": "code",
   "execution_count": 33,
   "id": "346d37f3-dd71-4b57-85df-8440358be285",
   "metadata": {},
   "outputs": [
    {
     "name": "stdout",
     "output_type": "stream",
     "text": [
      "We are tseting mobile class\n",
      "**************** Price ******************\n",
      "The price of mobile is 30000\n",
      "---------------- Color -------------------\n",
      "Color of mobile is Moon Light\n",
      "The price of mobile is 30000\n",
      "tag--> Made in INDIA\n",
      "10\n"
     ]
    }
   ],
   "source": [
    "a=10\n",
    "class Mobile:\n",
    "    \n",
    "    print(\"We are tseting mobile class\")\n",
    "    \n",
    "    tag = \"Made in INDIA\"  # class variable\n",
    "    \n",
    "    def price(self):  # Method\n",
    "        print(\"**************** Price ******************\")\n",
    "        p = 30000\n",
    "        self.p=p  # instance varible\n",
    "        print(\"The price of mobile is\",p)\n",
    "        \n",
    "    def color(self):\n",
    "        print(\"---------------- Color -------------------\")\n",
    "        col = \"Moon Light\"\n",
    "        print(\"Color of mobile is\",col)\n",
    "        print(\"The price of mobile is\",self.p)\n",
    "        print(\"tag-->\",self.tag)\n",
    "        print(a)\n",
    "    def RAM(self):\n",
    "    \n",
    "        print(\"Getting RAM\")\n",
    "        \n",
    "    def memory(self):\n",
    "        print(\"Getting Memory\")\n",
    "        \n",
    "    # Define N numbers of methods\n",
    "        \n",
    "    \n",
    "# Creating an object\n",
    "Object = Mobile()\n",
    "\n",
    "# # Accessing the variable\n",
    "# Object.tag\n",
    "\n",
    "# # Accessing Methods\n",
    "Object.price()\n",
    "Object.color()"
   ]
  },
  {
   "cell_type": "code",
   "execution_count": null,
   "id": "e2b2bdae",
   "metadata": {},
   "outputs": [],
   "source": [
    "Four Fundamental Concepts in Object Oriented Programming:\n",
    "    1. Inheritance\n",
    "    2. Encapsulation\n",
    "    3. Polymorphism\n",
    "    4. Abstraction"
   ]
  },
  {
   "cell_type": "markdown",
   "id": "1351a74f",
   "metadata": {},
   "source": [
    "# Concepts of Class and Object"
   ]
  },
  {
   "cell_type": "code",
   "execution_count": 53,
   "id": "77df792e-8d87-4f16-9333-8626f7e8f427",
   "metadata": {},
   "outputs": [
    {
     "name": "stdout",
     "output_type": "stream",
     "text": [
      "@@@@@@@ @@@@@@@@ @@@@@@@ @@@@@@@@ @@@@@@@ @@@@@@@\n",
      "We are in __init__ method\n",
      "\n",
      "***************** my_method1 ****************\n",
      "Value 500\n",
      "Class variable1 100\n",
      "Global Variable --> Python and Data Science\n",
      "X --> 1000\n",
      "\n",
      "---------------------- my_method2 ----------------\n",
      "\n",
      "***************** my_method1 ****************\n",
      "Value DATA\n",
      "Class variable1 100\n",
      "Global Variable --> Python and Data Science\n",
      "X --> 1000\n",
      "Nation :: INDIA\n",
      "X --> 1000\n"
     ]
    }
   ],
   "source": [
    "global_var = \"Python and Data Science\"   # Global Variable\n",
    "\n",
    "class ClassName():\n",
    "    \n",
    "    class_variable1 = 100   # Class variables\n",
    "    class_variable2 = 200\n",
    "    \n",
    "    def __init__(self):  # Execute automatically when we create an object of class\n",
    "        print(\"@@@@@@@ @@@@@@@@ @@@@@@@ @@@@@@@@ @@@@@@@ @@@@@@@\")\n",
    "        print(\"We are in __init__ method\")\n",
    "        # print(arg1, arg2)\n",
    "        \n",
    "        # self.argument1 = arg1   # instance variable\n",
    "        # self.arg2 = arg2\n",
    "         \n",
    "        self.x = 1000     # Instance Variable\n",
    "        self.y = 5000\n",
    "        \n",
    "    def my_method1(self, value):\n",
    "        print()\n",
    "        print(\"***************** my_method1 ****************\")\n",
    "        print(\"Value\", value)\n",
    "        \n",
    "        # print(\"Argument1 ::\", self.argument1)  # Accessing Instance variable\n",
    "        \n",
    "        self.nation = \"INDIA\"   # Instance Variable\n",
    "        \n",
    "        print(\"Class variable1\", self.class_variable1)   # Accessing class variable\n",
    "        \n",
    "        print(\"Global Variable -->\", global_var)\n",
    "        print(\"X -->\",self.x)\n",
    "        \n",
    "    def my_method2(self):\n",
    "        print()\n",
    "        print(\"---------------------- my_method2 ----------------\")\n",
    "        \n",
    "        self.my_method1(\"DATA\")  # Accessing y_method1 here by using self keyword\n",
    "        \n",
    "        print(\"Nation ::\", self.nation)\n",
    "        print(\"X -->\",self.x)\n",
    "    \n",
    "\n",
    "obj = ClassName()\n",
    "\n",
    "obj.my_method1(500)\n",
    "\n",
    "obj.my_method2()"
   ]
  },
  {
   "cell_type": "code",
   "execution_count": 55,
   "id": "53bb7aae",
   "metadata": {},
   "outputs": [
    {
     "name": "stdout",
     "output_type": "stream",
     "text": [
      "@@@@@@@ @@@@@@@@ @@@@@@@ @@@@@@@@ @@@@@@@ @@@@@@@\n",
      "We are in __init__ method\n",
      "10 20\n",
      "\n",
      "***************** my_method1 ****************\n",
      "Value 500\n",
      "Argument1 :: 10\n",
      "Class variable1 100\n",
      "Global Variable --> Python and Data Science\n",
      "\n",
      "---------------------- my_method2 ----------------\n",
      "\n",
      "***************** my_method1 ****************\n",
      "Value DATA\n",
      "Argument1 :: 10\n",
      "Class variable1 100\n",
      "Global Variable --> Python and Data Science\n",
      "Nation :: INDIA\n",
      "X --> 1000\n"
     ]
    }
   ],
   "source": [
    "global_var = \"Python and Data Science\"   # Global Variable\n",
    "\n",
    "class ClassName():\n",
    "    \n",
    "    class_variable1 = 100   # Class variables\n",
    "    class_variable2 = 200\n",
    "    \n",
    "    def __init__(self, arg1, arg2):  # Execute automatically when we create an object of class\n",
    "        print(\"@@@@@@@ @@@@@@@@ @@@@@@@ @@@@@@@@ @@@@@@@ @@@@@@@\")\n",
    "        print(\"We are in __init__ method\")\n",
    "        print(arg1, arg2)\n",
    "        \n",
    "        self.argument1 = arg1   # instance variable\n",
    "        self.arg2 = arg2\n",
    "         \n",
    "        self.x = 1000     # Instance Variable\n",
    "        self.y = 5000\n",
    "        \n",
    "    def my_method1(self, value):\n",
    "        print()\n",
    "        print(\"***************** my_method1 ****************\")\n",
    "        print(\"Value\", value)\n",
    "        \n",
    "        print(\"Argument1 ::\", self.argument1)  # Accessing Instance variable\n",
    "        \n",
    "        self.nation = \"INDIA\"   # Instance Variable\n",
    "        \n",
    "        print(\"Class variable1\", self.class_variable1)   # Accessing class variable\n",
    "        \n",
    "        print(\"Global Variable -->\", global_var)\n",
    "        \n",
    "        \n",
    "    def my_method2(self):\n",
    "        print()\n",
    "        print(\"---------------------- my_method2 ----------------\")\n",
    "        \n",
    "        self.my_method1(\"DATA\")  # Accessing y_method1 here by using self keyword\n",
    "        \n",
    "        print(\"Nation ::\", self.nation)\n",
    "        print(\"X -->\",self.x)\n",
    "    \n",
    "\n",
    "obj = ClassName(10,20)\n",
    "\n",
    "obj.my_method1(500)\n",
    "\n",
    "obj.my_method2()"
   ]
  },
  {
   "cell_type": "code",
   "execution_count": null,
   "id": "605a295c",
   "metadata": {},
   "outputs": [],
   "source": []
  },
  {
   "cell_type": "markdown",
   "id": "5d635d07",
   "metadata": {},
   "source": [
    "# __init__"
   ]
  },
  {
   "cell_type": "code",
   "execution_count": null,
   "id": "74419510",
   "metadata": {},
   "outputs": [],
   "source": [
    "__init__:\n",
    "    - __init__ is a reserved method in a python class.\n",
    "    - Constructor >> It will get automatically execute when we create an object of class\n",
    "    - We can access the parameters of the class in __init__ method\n",
    "    \n",
    "    - If you dont want to pass an arguments in a class, no need to use __init__ method.\n",
    "    - It is not mandatory.\n",
    "    \n",
    "    \n",
    "self:\n",
    "    - used to access the class variable, instance variable and methods / functions inside the class.\n",
    "    - It will differentiate between instance variable and class variable.\n",
    "    \n",
    "    - by using self keyword we can access variables and methods anywhere inside the class.\n",
    "    \n",
    "    \n",
    "    - It is keywords and it is mandatory in method.\n",
    "    - It is used to represent an instance of a given class.\n",
    "    - It should be at a first postion of parameters in a method\n",
    "    - By using \"self\" keyword we can access the variables and methods in side the class"
   ]
  }
 ],
 "metadata": {
  "kernelspec": {
   "display_name": "Python 3 (ipykernel)",
   "language": "python",
   "name": "python3"
  },
  "language_info": {
   "codemirror_mode": {
    "name": "ipython",
    "version": 3
   },
   "file_extension": ".py",
   "mimetype": "text/x-python",
   "name": "python",
   "nbconvert_exporter": "python",
   "pygments_lexer": "ipython3",
   "version": "3.12.4"
  }
 },
 "nbformat": 4,
 "nbformat_minor": 5
}
