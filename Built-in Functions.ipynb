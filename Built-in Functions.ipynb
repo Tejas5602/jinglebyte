{
 "cells": [
  {
   "cell_type": "markdown",
   "id": "2e94ed83",
   "metadata": {},
   "source": [
    "# Built-in Functions"
   ]
  },
  {
   "cell_type": "code",
   "execution_count": null,
   "id": "864498fc",
   "metadata": {},
   "outputs": [],
   "source": [
    "1. int()\n",
    "2. complex()\n",
    "3. float()\n",
    "4. str()\n",
    "5. list()\n",
    "6. set()\n",
    "7. tuple()\n",
    "8. frozenset()\n",
    "9. dict()\n",
    "10. bool()\n",
    "11. id()\n",
    "12. bin()\n",
    "13. range()\n",
    "14. print()\n",
    "15. len()\n",
    "16. input()\n",
    "17. chr()\n",
    "18. sorted()\n",
    "19. reversed()\n",
    "20. enumerate()\n",
    "21. eval()\n",
    "22. type()\n",
    "23. ord()\n",
    "24. max()\n",
    "25. min()\n",
    "26. sum()\n",
    "27. abs()\n",
    "28. zip()\n",
    "29. filter()\n",
    "30. map()\n",
    "\n"
   ]
  },
  {
   "cell_type": "markdown",
   "id": "cd9bd1c4",
   "metadata": {},
   "source": [
    "# 1. zip()"
   ]
  },
  {
   "cell_type": "code",
   "execution_count": null,
   "id": "d2849140",
   "metadata": {},
   "outputs": [],
   "source": [
    "create a dictionary from two iterable\n",
    "\n",
    "zip function is used for mapping. Two iterables into dictionary datatype.\n",
    "# JSON is a dictionary\n",
    "\n",
    "Output is in python object\n",
    "Mostly used to convert it into dictionary"
   ]
  },
  {
   "cell_type": "code",
   "execution_count": 1,
   "id": "feebb911",
   "metadata": {},
   "outputs": [
    {
     "data": {
      "text/plain": [
       "{'Phy': 87, 'Che': 92, 'Math': 98, 'Bio': 96}"
      ]
     },
     "execution_count": 1,
     "metadata": {},
     "output_type": "execute_result"
    }
   ],
   "source": [
    "sub_names = ['Phy', 'Che', 'Math', 'Bio']\n",
    "sub_marks = [87,92,98,96]\n",
    "\n",
    "dict1 = {}\n",
    "\n",
    "for i in range(len(sub_names)):\n",
    "    dict1[sub_names[i]] = sub_marks[i]\n",
    "    \n",
    "dict1"
   ]
  },
  {
   "cell_type": "code",
   "execution_count": 3,
   "id": "49be81fe",
   "metadata": {},
   "outputs": [
    {
     "data": {
      "text/plain": [
       "{'Phy': 87, 'Che': 92, 'Math': 98, 'Bio': 96}"
      ]
     },
     "execution_count": 3,
     "metadata": {},
     "output_type": "execute_result"
    }
   ],
   "source": [
    "sub_names = ['Phy', 'Che', 'Math', 'Bio']\n",
    "sub_marks = [87,92,98,96]\n",
    "\n",
    "dict(zip(sub_names,sub_marks))"
   ]
  },
  {
   "cell_type": "code",
   "execution_count": 6,
   "id": "ad2ef7c1",
   "metadata": {},
   "outputs": [
    {
     "name": "stdout",
     "output_type": "stream",
     "text": [
      "<zip object at 0x00000208CF6660C0>\n",
      "{'Viat': 34, 'Rohit': 33, 'Dhoni': 40, 'Pandya': 29}\n"
     ]
    }
   ],
   "source": [
    "name = [\"Viat\", \"Rohit\", \"Dhoni\", \"Pandya\"]\n",
    "age = [34, 33, 40, 29]\n",
    "\n",
    "print(zip(name,age))\n",
    "\n",
    "print(dict(zip(name,age)))"
   ]
  },
  {
   "cell_type": "code",
   "execution_count": 7,
   "id": "f598a2a5",
   "metadata": {},
   "outputs": [
    {
     "name": "stdout",
     "output_type": "stream",
     "text": [
      "<zip object at 0x00000208CF667180>\n"
     ]
    },
    {
     "data": {
      "text/plain": [
       "[('Viat', 34), ('Rohit', 33), ('Dhoni', 40), ('Pandya', 29)]"
      ]
     },
     "execution_count": 7,
     "metadata": {},
     "output_type": "execute_result"
    }
   ],
   "source": [
    "name = [\"Viat\", \"Rohit\", \"Dhoni\", \"Pandya\"]\n",
    "age = [34, 33, 40, 29]\n",
    "\n",
    "list(zip(name,age))"
   ]
  },
  {
   "cell_type": "code",
   "execution_count": 8,
   "id": "c162c278",
   "metadata": {},
   "outputs": [
    {
     "data": {
      "text/plain": [
       "(('Viat', 34), ('Rohit', 33), ('Dhoni', 40), ('Pandya', 29))"
      ]
     },
     "execution_count": 8,
     "metadata": {},
     "output_type": "execute_result"
    }
   ],
   "source": [
    "name = [\"Viat\", \"Rohit\", \"Dhoni\", \"Pandya\"]\n",
    "age = [34, 33, 40, 29]\n",
    "\n",
    "tuple(zip(name,age))"
   ]
  },
  {
   "cell_type": "code",
   "execution_count": 9,
   "id": "e11b53f5",
   "metadata": {},
   "outputs": [
    {
     "data": {
      "text/plain": [
       "{('Dhoni', 40), ('Pandya', 29), ('Rohit', 33), ('Viat', 34)}"
      ]
     },
     "execution_count": 9,
     "metadata": {},
     "output_type": "execute_result"
    }
   ],
   "source": [
    "name = [\"Viat\", \"Rohit\", \"Dhoni\", \"Pandya\"]\n",
    "age = [34, 33, 40, 29]\n",
    "\n",
    "set(zip(name,age))"
   ]
  },
  {
   "cell_type": "code",
   "execution_count": 12,
   "id": "372d2cf1",
   "metadata": {},
   "outputs": [
    {
     "data": {
      "text/plain": [
       "{'Viat': 34, 'Rohit': 33, 'Dhoni': 40, 'Pandya': 29}"
      ]
     },
     "execution_count": 12,
     "metadata": {},
     "output_type": "execute_result"
    }
   ],
   "source": [
    "name = [\"Viat\", \"Rohit\", \"Dhoni\", \"Pandya\"]\n",
    "age = [34, 33, 40, 29, 33]\n",
    "\n",
    "dict(zip(name,age))"
   ]
  },
  {
   "cell_type": "code",
   "execution_count": 13,
   "id": "c62c6177",
   "metadata": {},
   "outputs": [
    {
     "ename": "ValueError",
     "evalue": "dictionary update sequence element #0 has length 3; 2 is required",
     "output_type": "error",
     "traceback": [
      "\u001b[1;31m---------------------------------------------------------------------------\u001b[0m",
      "\u001b[1;31mValueError\u001b[0m                                Traceback (most recent call last)",
      "Cell \u001b[1;32mIn [13], line 5\u001b[0m\n\u001b[0;32m      2\u001b[0m age \u001b[38;5;241m=\u001b[39m [\u001b[38;5;241m34\u001b[39m, \u001b[38;5;241m33\u001b[39m, \u001b[38;5;241m40\u001b[39m, \u001b[38;5;241m29\u001b[39m, \u001b[38;5;241m33\u001b[39m]\n\u001b[0;32m      3\u001b[0m score \u001b[38;5;241m=\u001b[39m [\u001b[38;5;241m100\u001b[39m,\u001b[38;5;241m200\u001b[39m,\u001b[38;5;241m100\u001b[39m,\u001b[38;5;241m100\u001b[39m]\n\u001b[1;32m----> 5\u001b[0m \u001b[38;5;28;43mdict\u001b[39;49m\u001b[43m(\u001b[49m\u001b[38;5;28;43mzip\u001b[39;49m\u001b[43m(\u001b[49m\u001b[43mname\u001b[49m\u001b[43m,\u001b[49m\u001b[43mage\u001b[49m\u001b[43m,\u001b[49m\u001b[43mscore\u001b[49m\u001b[43m)\u001b[49m\u001b[43m)\u001b[49m\n",
      "\u001b[1;31mValueError\u001b[0m: dictionary update sequence element #0 has length 3; 2 is required"
     ]
    }
   ],
   "source": [
    "name = [\"Viat\", \"Rohit\", \"Dhoni\", \"Pandya\"]\n",
    "age = [34, 33, 40, 29, 33]\n",
    "score = [100,200,100,100]\n",
    "\n",
    "dict(zip(name,age,score))"
   ]
  },
  {
   "cell_type": "markdown",
   "id": "18602df4",
   "metadata": {},
   "source": [
    "# 2. filter()"
   ]
  },
  {
   "cell_type": "code",
   "execution_count": null,
   "id": "e60f9a32",
   "metadata": {},
   "outputs": [],
   "source": [
    "Syntax:\n",
    "    filter(function_name, iterable)\n",
    "    \n",
    "It only returns True value\n",
    "It gives an output in python object.\n",
    "\n",
    "Syntax:\n",
    "    list(filter(function_name, iterable))\n",
    "    tuple(filter(function_name, iterable))\n",
    "\n",
    "iterable >> list, tuple, set\n",
    "You can pass only one iterable"
   ]
  },
  {
   "cell_type": "code",
   "execution_count": 14,
   "id": "76d8c786",
   "metadata": {},
   "outputs": [
    {
     "data": {
      "text/plain": [
       "[5, 1, 79, 45, 21]"
      ]
     },
     "execution_count": 14,
     "metadata": {},
     "output_type": "execute_result"
    }
   ],
   "source": [
    "lst = [4,5,1,2,64,79,45,21,12,34,46]\n",
    "\n",
    "output = [i for i in lst if i % 2 !=0]\n",
    "output"
   ]
  },
  {
   "cell_type": "code",
   "execution_count": 15,
   "id": "797b562c",
   "metadata": {},
   "outputs": [
    {
     "data": {
      "text/plain": [
       "5"
      ]
     },
     "execution_count": 15,
     "metadata": {},
     "output_type": "execute_result"
    }
   ],
   "source": [
    "def test_odd_number(x): # x = 5\n",
    "    if x % 2 != 0: # True\n",
    "        return x\n",
    "    \n",
    "    \n",
    "test_odd_number(5)"
   ]
  },
  {
   "cell_type": "code",
   "execution_count": 16,
   "id": "c9be9c5f",
   "metadata": {},
   "outputs": [],
   "source": [
    "def test_odd_number(x): # x = 5\n",
    "    if x % 2 != 0: # True\n",
    "        return x\n",
    "    \n",
    "    \n",
    "test_odd_number(4)"
   ]
  },
  {
   "cell_type": "code",
   "execution_count": 6,
   "id": "8157f4bb",
   "metadata": {},
   "outputs": [
    {
     "ename": "TypeError",
     "evalue": "unsupported operand type(s) for %: 'list' and 'int'",
     "output_type": "error",
     "traceback": [
      "\u001b[1;31m---------------------------------------------------------------------------\u001b[0m",
      "\u001b[1;31mTypeError\u001b[0m                                 Traceback (most recent call last)",
      "Cell \u001b[1;32mIn[6], line 6\u001b[0m\n\u001b[0;32m      3\u001b[0m         \u001b[38;5;28;01mreturn\u001b[39;00m x\n\u001b[0;32m      5\u001b[0m lst \u001b[38;5;241m=\u001b[39m [\u001b[38;5;241m4\u001b[39m,\u001b[38;5;241m5\u001b[39m,\u001b[38;5;241m1\u001b[39m,\u001b[38;5;241m2\u001b[39m,\u001b[38;5;241m64\u001b[39m,\u001b[38;5;241m79\u001b[39m,\u001b[38;5;241m45\u001b[39m,\u001b[38;5;241m21\u001b[39m,\u001b[38;5;241m12\u001b[39m,\u001b[38;5;241m34\u001b[39m,\u001b[38;5;241m46\u001b[39m]\n\u001b[1;32m----> 6\u001b[0m test_odd_number(lst)\n",
      "Cell \u001b[1;32mIn[6], line 2\u001b[0m, in \u001b[0;36mtest_odd_number\u001b[1;34m(x)\u001b[0m\n\u001b[0;32m      1\u001b[0m \u001b[38;5;28;01mdef\u001b[39;00m \u001b[38;5;21mtest_odd_number\u001b[39m(x): \n\u001b[1;32m----> 2\u001b[0m     \u001b[38;5;28;01mif\u001b[39;00m x \u001b[38;5;241m%\u001b[39m \u001b[38;5;241m2\u001b[39m \u001b[38;5;241m!=\u001b[39m \u001b[38;5;241m0\u001b[39m: \n\u001b[0;32m      3\u001b[0m         \u001b[38;5;28;01mreturn\u001b[39;00m x\n",
      "\u001b[1;31mTypeError\u001b[0m: unsupported operand type(s) for %: 'list' and 'int'"
     ]
    }
   ],
   "source": [
    "def test_odd_number(x): \n",
    "    if x % 2 != 0: \n",
    "        return x\n",
    "    \n",
    "lst = [4,5,1,2,64,79,45,21,12,34,46]\n",
    "test_odd_number(lst)"
   ]
  },
  {
   "cell_type": "code",
   "execution_count": 4,
   "id": "079dd38c",
   "metadata": {},
   "outputs": [
    {
     "data": {
      "text/plain": [
       "[5, 1, 79, 45, 21]"
      ]
     },
     "execution_count": 4,
     "metadata": {},
     "output_type": "execute_result"
    }
   ],
   "source": [
    "def test_odd_number(x):   # for single value\n",
    "    if x % 2 != 0: \n",
    "        return x\n",
    "    \n",
    "lst = [4,5,1,2,64,79,45,21,12,34,46]\n",
    "list(filter(test_odd_number, lst))"
   ]
  },
  {
   "cell_type": "code",
   "execution_count": 20,
   "id": "de5007ba",
   "metadata": {},
   "outputs": [
    {
     "data": {
      "text/plain": [
       "False"
      ]
     },
     "execution_count": 20,
     "metadata": {},
     "output_type": "execute_result"
    }
   ],
   "source": [
    "odd_num = lambda x : x % 2 != 0\n",
    "odd_num(12)"
   ]
  },
  {
   "cell_type": "code",
   "execution_count": 21,
   "id": "1716bb66",
   "metadata": {},
   "outputs": [
    {
     "data": {
      "text/plain": [
       "True"
      ]
     },
     "execution_count": 21,
     "metadata": {},
     "output_type": "execute_result"
    }
   ],
   "source": [
    "odd_num = lambda x : x % 2 != 0\n",
    "odd_num(11)"
   ]
  },
  {
   "cell_type": "code",
   "execution_count": 22,
   "id": "0886c3ed",
   "metadata": {},
   "outputs": [
    {
     "data": {
      "text/plain": [
       "[5, 1, 79, 45, 21]"
      ]
     },
     "execution_count": 22,
     "metadata": {},
     "output_type": "execute_result"
    }
   ],
   "source": [
    "lst = [4,5,1,2,64,79,45,21,12,34,46]\n",
    "\n",
    "list(filter(lambda x : x % 2 != 0, lst))"
   ]
  },
  {
   "cell_type": "code",
   "execution_count": 23,
   "id": "d3be8f98",
   "metadata": {},
   "outputs": [
    {
     "data": {
      "text/plain": [
       "[4, 2, 64, 12, 34, 46]"
      ]
     },
     "execution_count": 23,
     "metadata": {},
     "output_type": "execute_result"
    }
   ],
   "source": [
    "list1 = [4,5,1,2,64,79,45,21,12,34,46]\n",
    "\n",
    "list(filter(lambda x : x % 2 == 0, list1))"
   ]
  },
  {
   "cell_type": "code",
   "execution_count": 24,
   "id": "d364c00d",
   "metadata": {},
   "outputs": [
    {
     "data": {
      "text/plain": [
       "['P', 'M', 'L']"
      ]
     },
     "execution_count": 24,
     "metadata": {},
     "output_type": "execute_result"
    }
   ],
   "source": [
    "string = \"Python and Machine Learning\"\n",
    "\n",
    "list(filter(lambda x: x.isupper(), string))"
   ]
  },
  {
   "cell_type": "code",
   "execution_count": 30,
   "id": "a4074fdb",
   "metadata": {},
   "outputs": [
    {
     "name": "stdout",
     "output_type": "stream",
     "text": [
      "['y', 't', 'h', 'o', 'n', 'a', 'n', 'd', 'a', 'c', 'h', 'i', 'n', 'e', 'e', 'a', 'r', 'n', 'i', 'n', 'g']\n"
     ]
    },
    {
     "data": {
      "text/plain": [
       "'ythonandachineearning'"
      ]
     },
     "execution_count": 30,
     "metadata": {},
     "output_type": "execute_result"
    }
   ],
   "source": [
    "string = \"Python and Machine Learning\"\n",
    "\n",
    "lower = list(filter(lambda x: x.islower(), string))\n",
    "print(lower)\n",
    "\n",
    "# COnvert list into str\n",
    "\"\".join(lower)"
   ]
  },
  {
   "cell_type": "code",
   "execution_count": 31,
   "id": "fbd33877",
   "metadata": {},
   "outputs": [
    {
     "data": {
      "text/plain": [
       "['P',\n",
       " 'y',\n",
       " 't',\n",
       " 'h',\n",
       " 'o',\n",
       " 'n',\n",
       " ' ',\n",
       " 'a',\n",
       " 'n',\n",
       " 'd',\n",
       " ' ',\n",
       " 'M',\n",
       " 'a',\n",
       " 'c',\n",
       " 'h',\n",
       " 'i',\n",
       " 'n',\n",
       " 'e',\n",
       " ' ',\n",
       " 'L',\n",
       " 'e',\n",
       " 'a',\n",
       " 'r',\n",
       " 'n',\n",
       " 'i',\n",
       " 'n',\n",
       " 'g']"
      ]
     },
     "execution_count": 31,
     "metadata": {},
     "output_type": "execute_result"
    }
   ],
   "source": [
    "string = \"Python and Machine Learning\"\n",
    "\n",
    "list(filter(lambda x: x.upper(), string))"
   ]
  },
  {
   "cell_type": "code",
   "execution_count": 32,
   "id": "dd3af580",
   "metadata": {},
   "outputs": [
    {
     "data": {
      "text/plain": [
       "['P',\n",
       " 'Y',\n",
       " 'T',\n",
       " 'H',\n",
       " 'O',\n",
       " 'N',\n",
       " ' ',\n",
       " 'A',\n",
       " 'N',\n",
       " 'D',\n",
       " ' ',\n",
       " 'M',\n",
       " 'A',\n",
       " 'C',\n",
       " 'H',\n",
       " 'I',\n",
       " 'N',\n",
       " 'E',\n",
       " ' ',\n",
       " 'L',\n",
       " 'E',\n",
       " 'A',\n",
       " 'R',\n",
       " 'N',\n",
       " 'I',\n",
       " 'N',\n",
       " 'G']"
      ]
     },
     "execution_count": 32,
     "metadata": {},
     "output_type": "execute_result"
    }
   ],
   "source": [
    "string = \"Python and Machine Learning\"\n",
    "\n",
    "list(map(lambda x: x.upper(), string))"
   ]
  },
  {
   "cell_type": "code",
   "execution_count": 33,
   "id": "6efcb2e5",
   "metadata": {},
   "outputs": [
    {
     "data": {
      "text/plain": [
       "[True,\n",
       " False,\n",
       " False,\n",
       " False,\n",
       " False,\n",
       " False,\n",
       " False,\n",
       " False,\n",
       " False,\n",
       " False,\n",
       " False,\n",
       " True,\n",
       " False,\n",
       " False,\n",
       " False,\n",
       " False,\n",
       " False,\n",
       " False,\n",
       " False,\n",
       " True,\n",
       " False,\n",
       " False,\n",
       " False,\n",
       " False,\n",
       " False,\n",
       " False,\n",
       " False]"
      ]
     },
     "execution_count": 33,
     "metadata": {},
     "output_type": "execute_result"
    }
   ],
   "source": [
    "string = \"Python and Machine Learning\"\n",
    "\n",
    "list(map(lambda x: x.isupper(), string))"
   ]
  },
  {
   "cell_type": "code",
   "execution_count": 34,
   "id": "9bfdd780",
   "metadata": {},
   "outputs": [
    {
     "data": {
      "text/plain": [
       "['P', 'M', 'L']"
      ]
     },
     "execution_count": 34,
     "metadata": {},
     "output_type": "execute_result"
    }
   ],
   "source": [
    "string = \"Python and Machine Learning\"\n",
    "\n",
    "list(filter(lambda x: x.isupper(), string))"
   ]
  },
  {
   "cell_type": "code",
   "execution_count": null,
   "id": "e7ef328c",
   "metadata": {},
   "outputs": [],
   "source": []
  }
 ],
 "metadata": {
  "kernelspec": {
   "display_name": "Python 3 (ipykernel)",
   "language": "python",
   "name": "python3"
  },
  "language_info": {
   "codemirror_mode": {
    "name": "ipython",
    "version": 3
   },
   "file_extension": ".py",
   "mimetype": "text/x-python",
   "name": "python",
   "nbconvert_exporter": "python",
   "pygments_lexer": "ipython3",
   "version": "3.12.7"
  }
 },
 "nbformat": 4,
 "nbformat_minor": 5
}
