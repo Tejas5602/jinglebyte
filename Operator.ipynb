{
 "cells": [
  {
   "cell_type": "code",
   "execution_count": 2,
   "id": "eebe18d7-b65d-4373-97ac-250efc3a5a28",
   "metadata": {},
   "outputs": [],
   "source": [
    "a=10\n"
   ]
  },
  {
   "cell_type": "markdown",
   "id": "e6a17bcd-f9e3-43cc-9858-ceaf0aff7229",
   "metadata": {},
   "source": [
    "# operator"
   ]
  },
  {
   "cell_type": "code",
   "execution_count": null,
   "id": "743bdf98-a098-4f91-ad3b-cd266c01341a",
   "metadata": {},
   "outputs": [],
   "source": [
    "def:\n",
    "   operators are special symbols in python that carry out any operations on the operands"
   ]
  },
  {
   "cell_type": "code",
   "execution_count": 4,
   "id": "59bfa427-e6b5-4536-bdaf-5f89bcae364e",
   "metadata": {},
   "outputs": [
    {
     "data": {
      "text/plain": [
       "7"
      ]
     },
     "execution_count": 4,
     "metadata": {},
     "output_type": "execute_result"
    }
   ],
   "source": [
    "2+5"
   ]
  },
  {
   "cell_type": "code",
   "execution_count": 6,
   "id": "07fcd029-d250-4c5f-8833-bfca4802089f",
   "metadata": {},
   "outputs": [
    {
     "ename": "SyntaxError",
     "evalue": "invalid syntax (3532329136.py, line 1)",
     "output_type": "error",
     "traceback": [
      "\u001b[1;36m  Cell \u001b[1;32mIn[6], line 1\u001b[1;36m\u001b[0m\n\u001b[1;33m    +  >> operator\u001b[0m\n\u001b[1;37m       ^\u001b[0m\n\u001b[1;31mSyntaxError\u001b[0m\u001b[1;31m:\u001b[0m invalid syntax\n"
     ]
    }
   ],
   "source": [
    "+  >> operator\n",
    "3,5 >> operands\n",
    "7 >> output"
   ]
  },
  {
   "cell_type": "code",
   "execution_count": 12,
   "id": "63a03e8c-a56e-45dd-b063-3b354d91ea64",
   "metadata": {},
   "outputs": [
    {
     "data": {
      "text/plain": [
       "'  1.Arthmatic operator\\n2.assignment oprator\\n3.Comparison operator\\n4.Logical operatoer\\n5.Identity Operator\\n6.Bitwise Operator   '"
      ]
     },
     "execution_count": 12,
     "metadata": {},
     "output_type": "execute_result"
    }
   ],
   "source": [
    "'''  1.Arthmatic operator\n",
    "2.assignment oprator\n",
    "3.Comparison operator\n",
    "4.Logical operatoer\n",
    "5.Identity Operator\n",
    "6.Bitwise Operator   '''"
   ]
  },
  {
   "cell_type": "code",
   "execution_count": 14,
   "id": "05afde0c-a376-46cf-a6da-6ea9a3a5194e",
   "metadata": {},
   "outputs": [
    {
     "data": {
      "text/plain": [
       "'1.arthmatic operator\\n+ >> addition\\n- >> substarction\\n* >> multiplication\\n/ >> division\\n% >> modulus\\n// >> floor division # return always integer\\n** >> exponent # rest to value '"
      ]
     },
     "execution_count": 14,
     "metadata": {},
     "output_type": "execute_result"
    }
   ],
   "source": [
    "'''1.arthmatic operator\n",
    "+ >> addition\n",
    "- >> substarction\n",
    "* >> multiplication\n",
    "/ >> division\n",
    "% >> modulus\n",
    "// >> floor division # return always integer\n",
    "** >> exponent # rest to value '''"
   ]
  },
  {
   "cell_type": "code",
   "execution_count": 16,
   "id": "6699ac3c-c4f1-447c-adf3-f4f32a1c81b1",
   "metadata": {},
   "outputs": [
    {
     "data": {
      "text/plain": [
       "0"
      ]
     },
     "execution_count": 16,
     "metadata": {},
     "output_type": "execute_result"
    }
   ],
   "source": [
    "12%2"
   ]
  },
  {
   "cell_type": "code",
   "execution_count": 4,
   "id": "4ad92bee-9394-4386-8f74-fbb03cb753f6",
   "metadata": {},
   "outputs": [
    {
     "data": {
      "text/plain": [
       "8"
      ]
     },
     "execution_count": 4,
     "metadata": {},
     "output_type": "execute_result"
    }
   ],
   "source": [
    "97//12"
   ]
  },
  {
   "cell_type": "code",
   "execution_count": 6,
   "id": "9edb420f-eea1-4c22-aa2d-65bd9237258f",
   "metadata": {},
   "outputs": [
    {
     "data": {
      "text/plain": [
       "8.083333333333334"
      ]
     },
     "execution_count": 6,
     "metadata": {},
     "output_type": "execute_result"
    }
   ],
   "source": [
    "97/12"
   ]
  },
  {
   "cell_type": "code",
   "execution_count": 18,
   "id": "4eefc34f-498a-48f6-8acf-bfdf9cfa604d",
   "metadata": {},
   "outputs": [
    {
     "data": {
      "text/plain": [
       "'pythonclass'"
      ]
     },
     "execution_count": 18,
     "metadata": {},
     "output_type": "execute_result"
    }
   ],
   "source": [
    "\"python\"+\"class\""
   ]
  },
  {
   "cell_type": "code",
   "execution_count": 12,
   "id": "4009da6b-a181-4173-a78c-bebd22f3f413",
   "metadata": {},
   "outputs": [
    {
     "data": {
      "text/plain": [
       "'pythonpython'"
      ]
     },
     "execution_count": 12,
     "metadata": {},
     "output_type": "execute_result"
    }
   ],
   "source": [
    "\"python\"*2"
   ]
  },
  {
   "cell_type": "code",
   "execution_count": 14,
   "id": "14766a1e-5b1e-4091-8f58-f49902701999",
   "metadata": {},
   "outputs": [
    {
     "ename": "TypeError",
     "evalue": "unsupported operand type(s) for -: 'str' and 'str'",
     "output_type": "error",
     "traceback": [
      "\u001b[1;31m---------------------------------------------------------------------------\u001b[0m",
      "\u001b[1;31mTypeError\u001b[0m                                 Traceback (most recent call last)",
      "Cell \u001b[1;32mIn[14], line 1\u001b[0m\n\u001b[1;32m----> 1\u001b[0m \u001b[38;5;124m\"\u001b[39m\u001b[38;5;124mpython\u001b[39m\u001b[38;5;124m\"\u001b[39m\u001b[38;5;241m-\u001b[39m\u001b[38;5;124m\"\u001b[39m\u001b[38;5;124mclass\u001b[39m\u001b[38;5;124m\"\u001b[39m\n",
      "\u001b[1;31mTypeError\u001b[0m: unsupported operand type(s) for -: 'str' and 'str'"
     ]
    }
   ],
   "source": [
    "\"python\"-\"class\""
   ]
  },
  {
   "cell_type": "code",
   "execution_count": 20,
   "id": "8653fe5f-3fc7-4558-b565-0d58d028245c",
   "metadata": {},
   "outputs": [
    {
     "ename": "TypeError",
     "evalue": "can't multiply sequence by non-int of type 'str'",
     "output_type": "error",
     "traceback": [
      "\u001b[1;31m---------------------------------------------------------------------------\u001b[0m",
      "\u001b[1;31mTypeError\u001b[0m                                 Traceback (most recent call last)",
      "Cell \u001b[1;32mIn[20], line 1\u001b[0m\n\u001b[1;32m----> 1\u001b[0m \u001b[38;5;124m\"\u001b[39m\u001b[38;5;124mpython\u001b[39m\u001b[38;5;124m\"\u001b[39m\u001b[38;5;241m*\u001b[39m\u001b[38;5;124m\"\u001b[39m\u001b[38;5;124mclass\u001b[39m\u001b[38;5;124m\"\u001b[39m\n",
      "\u001b[1;31mTypeError\u001b[0m: can't multiply sequence by non-int of type 'str'"
     ]
    }
   ],
   "source": [
    "\"python\"*\"class\""
   ]
  },
  {
   "cell_type": "code",
   "execution_count": 22,
   "id": "bf9bf780-28a0-483c-bf1d-4feb2d6bc029",
   "metadata": {},
   "outputs": [
    {
     "data": {
      "text/plain": [
       "'python python python python python python python python python python '"
      ]
     },
     "execution_count": 22,
     "metadata": {},
     "output_type": "execute_result"
    }
   ],
   "source": [
    "\"python \"*10"
   ]
  },
  {
   "cell_type": "code",
   "execution_count": 20,
   "id": "ce8df9bc-b41a-46e1-9b52-5c703692133d",
   "metadata": {},
   "outputs": [
    {
     "data": {
      "text/plain": [
       "16"
      ]
     },
     "execution_count": 20,
     "metadata": {},
     "output_type": "execute_result"
    }
   ],
   "source": [
    "2**4"
   ]
  },
  {
   "cell_type": "code",
   "execution_count": 22,
   "id": "1b3d2b52-c8fb-4b0f-82fe-f4bf0b3b02f6",
   "metadata": {},
   "outputs": [
    {
     "data": {
      "text/plain": [
       "1"
      ]
     },
     "execution_count": 22,
     "metadata": {},
     "output_type": "execute_result"
    }
   ],
   "source": [
    "31%2"
   ]
  },
  {
   "cell_type": "markdown",
   "id": "f3b91eae-5266-420f-9fa8-519d3e55e071",
   "metadata": {},
   "source": [
    "# 2.assignment Operator"
   ]
  },
  {
   "cell_type": "code",
   "execution_count": 28,
   "id": "74557bb9-ef00-47f3-a65e-d5e474269bb9",
   "metadata": {},
   "outputs": [
    {
     "ename": "SyntaxError",
     "evalue": "invalid syntax (560485255.py, line 1)",
     "output_type": "error",
     "traceback": [
      "\u001b[1;36m  Cell \u001b[1;32mIn[28], line 1\u001b[1;36m\u001b[0m\n\u001b[1;33m    =\u001b[0m\n\u001b[1;37m    ^\u001b[0m\n\u001b[1;31mSyntaxError\u001b[0m\u001b[1;31m:\u001b[0m invalid syntax\n"
     ]
    }
   ],
   "source": [
    "=\n",
    "+= >> a+=1 >> a=a+1\n",
    "-= >> a-=1 >> a=a-1\n",
    "*= >> a*=1 >> a=a*1\n",
    "%= >> a%=1 >> a=a%1\n",
    "/= >> a/=1 >> a=a/1\n",
    "//= >> a//=1 >> a=a/1\n",
    "**= >> a**=1 >> a=a**1"
   ]
  },
  {
   "cell_type": "code",
   "execution_count": 26,
   "id": "be4712b1-acfa-45cd-85fe-8536badbb589",
   "metadata": {},
   "outputs": [
    {
     "name": "stdout",
     "output_type": "stream",
     "text": [
      "13\n"
     ]
    }
   ],
   "source": [
    "a=10\n",
    "a+=3\n",
    "print(a)"
   ]
  },
  {
   "cell_type": "code",
   "execution_count": 37,
   "id": "dcbc4aee-e077-4998-9917-5fa632304f12",
   "metadata": {},
   "outputs": [
    {
     "data": {
      "text/plain": [
       "18"
      ]
     },
     "execution_count": 37,
     "metadata": {},
     "output_type": "execute_result"
    }
   ],
   "source": [
    "a+=5\n",
    "a"
   ]
  },
  {
   "cell_type": "code",
   "execution_count": 30,
   "id": "85a2fd7e-9ed3-4849-96b6-2587f170a9cf",
   "metadata": {},
   "outputs": [
    {
     "data": {
      "text/plain": [
       "12"
      ]
     },
     "execution_count": 30,
     "metadata": {},
     "output_type": "execute_result"
    }
   ],
   "source": [
    "a-=1\n",
    "a"
   ]
  },
  {
   "cell_type": "markdown",
   "id": "46c841d5-a743-46d5-b423-838eb6283b9b",
   "metadata": {},
   "source": [
    "# 3.Comparision Operator"
   ]
  },
  {
   "cell_type": "code",
   "execution_count": 33,
   "id": "2ce84b31-1f54-49c0-8f63-b7ea565531e5",
   "metadata": {},
   "outputs": [
    {
     "ename": "SyntaxError",
     "evalue": "invalid syntax (2284628135.py, line 1)",
     "output_type": "error",
     "traceback": [
      "\u001b[1;36m  Cell \u001b[1;32mIn[33], line 1\u001b[1;36m\u001b[0m\n\u001b[1;33m    ==\u001b[0m\n\u001b[1;37m    ^\u001b[0m\n\u001b[1;31mSyntaxError\u001b[0m\u001b[1;31m:\u001b[0m invalid syntax\n"
     ]
    }
   ],
   "source": [
    "==\n",
    "!=\n",
    ">\n",
    "<\n",
    ">=\n",
    "<=\n",
    "\n",
    "#output is always in boolean True/False"
   ]
  },
  {
   "cell_type": "code",
   "execution_count": 35,
   "id": "f20d1b40-d580-4edc-8ce3-095115fd17e8",
   "metadata": {},
   "outputs": [
    {
     "data": {
      "text/plain": [
       "False"
      ]
     },
     "execution_count": 35,
     "metadata": {},
     "output_type": "execute_result"
    }
   ],
   "source": [
    "a=10\n",
    "b=30\n",
    "a==b"
   ]
  },
  {
   "cell_type": "code",
   "execution_count": 37,
   "id": "bb034f9c-d211-41b8-8e78-01801eda712a",
   "metadata": {},
   "outputs": [
    {
     "data": {
      "text/plain": [
       "False"
      ]
     },
     "execution_count": 37,
     "metadata": {},
     "output_type": "execute_result"
    }
   ],
   "source": [
    "a>b"
   ]
  },
  {
   "cell_type": "code",
   "execution_count": 39,
   "id": "6340f1dd-034e-44d1-b24d-e0e04cc5625a",
   "metadata": {},
   "outputs": [
    {
     "data": {
      "text/plain": [
       "True"
      ]
     },
     "execution_count": 39,
     "metadata": {},
     "output_type": "execute_result"
    }
   ],
   "source": [
    "a<b"
   ]
  },
  {
   "cell_type": "code",
   "execution_count": 49,
   "id": "adbf5c8b-953e-41be-b6fd-e444a12f9969",
   "metadata": {},
   "outputs": [
    {
     "data": {
      "text/plain": [
       "True"
      ]
     },
     "execution_count": 49,
     "metadata": {},
     "output_type": "execute_result"
    }
   ],
   "source": [
    "a!=b"
   ]
  },
  {
   "cell_type": "markdown",
   "id": "7656edf2-0c64-4262-b98e-1cae1f5471d6",
   "metadata": {},
   "source": [
    "# Membership Operator"
   ]
  },
  {
   "cell_type": "code",
   "execution_count": null,
   "id": "1b0a89f7-f6ce-4663-b788-76416cf7f671",
   "metadata": {},
   "outputs": [],
   "source": [
    "in\n",
    "not in"
   ]
  },
  {
   "cell_type": "code",
   "execution_count": 52,
   "id": "ed7bd689-0a2e-4563-a4d4-27c70c3ba9ab",
   "metadata": {},
   "outputs": [
    {
     "data": {
      "text/plain": [
       "False"
      ]
     },
     "execution_count": 52,
     "metadata": {},
     "output_type": "execute_result"
    }
   ],
   "source": [
    "string=\"Sujyot Rathod\"\n",
    "\"rathod\" in string"
   ]
  },
  {
   "cell_type": "code",
   "execution_count": 54,
   "id": "3f41c877-d64b-4838-b534-3b49772f2097",
   "metadata": {},
   "outputs": [
    {
     "data": {
      "text/plain": [
       "True"
      ]
     },
     "execution_count": 54,
     "metadata": {},
     "output_type": "execute_result"
    }
   ],
   "source": [
    "string=\"Sujyot Rathod\"\n",
    "\"Rathod\" in string"
   ]
  },
  {
   "cell_type": "code",
   "execution_count": 56,
   "id": "017cae96-1a46-4a56-acd6-9aef7c5f1fd5",
   "metadata": {},
   "outputs": [
    {
     "data": {
      "text/plain": [
       "True"
      ]
     },
     "execution_count": 56,
     "metadata": {},
     "output_type": "execute_result"
    }
   ],
   "source": [
    "string=\"Sujyot Rathod\"\n",
    "\"rathod\" not in string"
   ]
  },
  {
   "cell_type": "code",
   "execution_count": 64,
   "id": "f0de53b5-08c3-48f5-afbb-9616731a06c0",
   "metadata": {},
   "outputs": [
    {
     "name": "stdout",
     "output_type": "stream",
     "text": [
      "member of Rathod family\n"
     ]
    }
   ],
   "source": [
    "string=\"Sujyot Rathod\"\n",
    "if \"Rathod\" in string:\n",
    "    print(\"member of Rathod family\")\n",
    "else:\n",
    "    print(\"Outsider\")\n",
    "    "
   ]
  },
  {
   "cell_type": "code",
   "execution_count": 62,
   "id": "c1dda73f-c486-4f60-8c0a-9b902559c742",
   "metadata": {},
   "outputs": [
    {
     "data": {
      "text/plain": [
       "True"
      ]
     },
     "execution_count": 62,
     "metadata": {},
     "output_type": "execute_result"
    }
   ],
   "source": [
    "lst=[1,2,3,4,5,7,8,9]\n",
    "5 in lst"
   ]
  },
  {
   "cell_type": "markdown",
   "id": "22e9ed9e-49e0-4682-bdb1-3cf4e5d659d3",
   "metadata": {},
   "source": [
    "# 5.Logical Operator"
   ]
  },
  {
   "cell_type": "code",
   "execution_count": null,
   "id": "0be0e688-5697-4d27-9348-ff8439a6b0b7",
   "metadata": {},
   "outputs": [],
   "source": [
    "and\n",
    "or\n",
    "not"
   ]
  },
  {
   "cell_type": "code",
   "execution_count": null,
   "id": "d7b12dc7-cb7a-49c9-85c3-e6d430273e0b",
   "metadata": {},
   "outputs": [],
   "source": [
    "and:\n",
    "    True and True >> True\n",
    "    True and False >> False\n",
    "    False and True >> False\n",
    "   False and False >> False\n",
    "\n",
    "or:\n",
    "    True or True >> True\n",
    "    True or False >> True\n",
    "    False or True >> True\n",
    "    False or False >> False\n",
    "\n",
    "not:\n",
    "   not True >> False\n",
    "   not False >> True\n"
   ]
  },
  {
   "cell_type": "code",
   "execution_count": 69,
   "id": "a15479f5-493d-463e-8101-4be4ea107361",
   "metadata": {},
   "outputs": [],
   "source": [
    "if 5>2 and 3>5:\n",
    "    print(\"hello\")"
   ]
  },
  {
   "cell_type": "code",
   "execution_count": 79,
   "id": "ec951072-81ff-41c1-a874-34def164569e",
   "metadata": {},
   "outputs": [
    {
     "name": "stdout",
     "output_type": "stream",
     "text": [
      "hello\n"
     ]
    }
   ],
   "source": [
    "if not (5>2 and 3>5):  # not false >> true\n",
    "    print(\"hello\")"
   ]
  },
  {
   "cell_type": "code",
   "execution_count": 83,
   "id": "13195489-ab0c-42fb-acbf-141f8eb8c93f",
   "metadata": {},
   "outputs": [],
   "source": [
    "if not(5>2 and 3<5):  # not true >> false\n",
    "    print(\"hello\")"
   ]
  },
  {
   "cell_type": "code",
   "execution_count": null,
   "id": "c7c0b45a-1240-4dd6-a05b-28ca1a8a25c8",
   "metadata": {},
   "outputs": [],
   "source": []
  },
  {
   "cell_type": "code",
   "execution_count": 73,
   "id": "5ba5d06e-ad5b-4cad-9233-d2d6bdcbacdc",
   "metadata": {},
   "outputs": [
    {
     "name": "stdout",
     "output_type": "stream",
     "text": [
      "Bye\n"
     ]
    }
   ],
   "source": [
    "if 5>2 and 3>5:\n",
    "    print(\"hello\")\n",
    "else:\n",
    "    print(\"Bye\")"
   ]
  },
  {
   "cell_type": "markdown",
   "id": "0c80f907-4382-4d69-bcaa-2ce0cb5886ed",
   "metadata": {},
   "source": [
    "# 6.identity operator"
   ]
  },
  {
   "cell_type": "code",
   "execution_count": null,
   "id": "d16f1240-f041-468f-82be-cd0de1f3e7d3",
   "metadata": {},
   "outputs": [],
   "source": [
    "is\n",
    "is not\n",
    "# reutrns boolean value\n",
    "# used to check the memory location in python of  variable is same or not\n",
    "# id() function ---> built in function in python to find the memory location"
   ]
  },
  {
   "cell_type": "code",
   "execution_count": 86,
   "id": "8e551408-04d0-46ce-a02d-4458246efd6e",
   "metadata": {},
   "outputs": [
    {
     "data": {
      "text/plain": [
       "True"
      ]
     },
     "execution_count": 86,
     "metadata": {},
     "output_type": "execute_result"
    }
   ],
   "source": [
    "a=5\n",
    "b=5\n",
    "a is b"
   ]
  },
  {
   "cell_type": "code",
   "execution_count": 88,
   "id": "5b5986b6-b2a6-4019-8586-fabdddeec07c",
   "metadata": {},
   "outputs": [
    {
     "data": {
      "text/plain": [
       "140714378541624"
      ]
     },
     "execution_count": 88,
     "metadata": {},
     "output_type": "execute_result"
    }
   ],
   "source": [
    "id(a)"
   ]
  },
  {
   "cell_type": "code",
   "execution_count": 90,
   "id": "6f2d9fb5-edc4-4fb7-88bb-7d81ddb8771d",
   "metadata": {},
   "outputs": [
    {
     "data": {
      "text/plain": [
       "140714378541624"
      ]
     },
     "execution_count": 90,
     "metadata": {},
     "output_type": "execute_result"
    }
   ],
   "source": [
    "id(b)"
   ]
  },
  {
   "cell_type": "code",
   "execution_count": 92,
   "id": "55aaffac-97d4-43c0-bc35-30b50808f157",
   "metadata": {},
   "outputs": [],
   "source": [
    "a=256\n",
    "b=256"
   ]
  },
  {
   "cell_type": "code",
   "execution_count": 94,
   "id": "931de261-db51-47b6-94bb-7dd509643a6e",
   "metadata": {},
   "outputs": [
    {
     "data": {
      "text/plain": [
       "True"
      ]
     },
     "execution_count": 94,
     "metadata": {},
     "output_type": "execute_result"
    }
   ],
   "source": [
    "a is b"
   ]
  },
  {
   "cell_type": "code",
   "execution_count": 96,
   "id": "1bbf6898-be59-4d76-a803-de7637c7b655",
   "metadata": {},
   "outputs": [
    {
     "data": {
      "text/plain": [
       "False"
      ]
     },
     "execution_count": 96,
     "metadata": {},
     "output_type": "execute_result"
    }
   ],
   "source": [
    "a=257\n",
    "b=257\n",
    "a is b"
   ]
  },
  {
   "cell_type": "code",
   "execution_count": 100,
   "id": "7aa63b1d-1db9-441f-aa1e-a12603ef519a",
   "metadata": {},
   "outputs": [
    {
     "data": {
      "text/plain": [
       "True"
      ]
     },
     "execution_count": 100,
     "metadata": {},
     "output_type": "execute_result"
    }
   ],
   "source": [
    "a=\"pythonanddatascience\"\n",
    "b=\"pythonanddatascience\"\n",
    "a is b"
   ]
  },
  {
   "cell_type": "code",
   "execution_count": 102,
   "id": "786a1b3f-2903-4e28-8077-fccbe5456f38",
   "metadata": {},
   "outputs": [
    {
     "data": {
      "text/plain": [
       "False"
      ]
     },
     "execution_count": 102,
     "metadata": {},
     "output_type": "execute_result"
    }
   ],
   "source": [
    "a=\"python and data science\"\n",
    "b=\"python and data science\"\n",
    "a is b"
   ]
  },
  {
   "cell_type": "code",
   "execution_count": 104,
   "id": "db0a34b7-603d-47e4-bc61-9d2a8c190c8b",
   "metadata": {},
   "outputs": [
    {
     "name": "stdout",
     "output_type": "stream",
     "text": [
      "not same location\n"
     ]
    }
   ],
   "source": [
    "a=10\n",
    "b=20\n",
    "\n",
    "if id(a)==id(b):\n",
    "    print(\"Same memory location\")\n",
    "else:\n",
    "    print(\"not same location\")"
   ]
  },
  {
   "cell_type": "code",
   "execution_count": 106,
   "id": "b9ae084c-8de7-45c4-8315-c48f949444fb",
   "metadata": {},
   "outputs": [
    {
     "name": "stdout",
     "output_type": "stream",
     "text": [
      "not same location\n"
     ]
    }
   ],
   "source": [
    "a=10\n",
    "b=20\n",
    "\n",
    "if a is b:\n",
    "    print(\"Same memory location\")\n",
    "else:\n",
    "    print(\"not same location\")"
   ]
  },
  {
   "cell_type": "markdown",
   "id": "d17f4d1e-8697-4509-a761-04072615aff0",
   "metadata": {},
   "source": [
    "# conditional statement"
   ]
  },
  {
   "cell_type": "code",
   "execution_count": null,
   "id": "07254d06-3e9f-48b7-bc13-ffd3b7d6ca28",
   "metadata": {},
   "outputs": [],
   "source": [
    "used to make decisions based on specific conditions.\n",
    "it exceute diffent blocks of code depending on whether condition is true or false"
   ]
  },
  {
   "cell_type": "code",
   "execution_count": null,
   "id": "39e265f3-64b6-460b-8e1c-24ef2e43f13a",
   "metadata": {},
   "outputs": [],
   "source": [
    "Decision making statement\n",
    "if\n",
    "elif\n",
    "else"
   ]
  },
  {
   "cell_type": "code",
   "execution_count": null,
   "id": "f16e33d5-5ae3-4937-a536-a1a28afb9461",
   "metadata": {},
   "outputs": [],
   "source": [
    "if statement can not be empty >> condition is necessary\n",
    "else statement must be empty"
   ]
  },
  {
   "cell_type": "code",
   "execution_count": 109,
   "id": "b46e8440-e97e-401b-95f5-d0aaa7366c3c",
   "metadata": {},
   "outputs": [
    {
     "name": "stdout",
     "output_type": "stream",
     "text": [
      "Hello\n"
     ]
    }
   ],
   "source": [
    "if 5==5:\n",
    "    print(\"Hello\")\n",
    "else:\n",
    "    print(\"Welcome\")"
   ]
  },
  {
   "cell_type": "code",
   "execution_count": 111,
   "id": "a411032e-def9-47c8-9356-e4dfd17bbb90",
   "metadata": {},
   "outputs": [
    {
     "ename": "IndentationError",
     "evalue": "expected an indented block after 'if' statement on line 1 (2257900928.py, line 2)",
     "output_type": "error",
     "traceback": [
      "\u001b[1;36m  Cell \u001b[1;32mIn[111], line 2\u001b[1;36m\u001b[0m\n\u001b[1;33m    else:\u001b[0m\n\u001b[1;37m    ^\u001b[0m\n\u001b[1;31mIndentationError\u001b[0m\u001b[1;31m:\u001b[0m expected an indented block after 'if' statement on line 1\n"
     ]
    }
   ],
   "source": [
    "if 5==5:\n",
    "else:\n",
    "    print(\"HI\")"
   ]
  },
  {
   "cell_type": "code",
   "execution_count": null,
   "id": "499b144a-cea3-4713-8f13-4f6945e00f58",
   "metadata": {},
   "outputs": [],
   "source": [
    "sytax:\n",
    "     if condtion:  # either true/false\n",
    "         code\n",
    "         statement2\n",
    "         statement3\n",
    "    elif condtion:  # yoy can put n number of elif condtions --> multiple condtion\n",
    "        code \n",
    "        statement1\n",
    "         statement2\n",
    "    else:  # not compulsory\n",
    "        code \n",
    "        statement1"
   ]
  },
  {
   "cell_type": "code",
   "execution_count": 119,
   "id": "4ac47b55-7363-4126-a4cb-77488743ee22",
   "metadata": {},
   "outputs": [
    {
     "name": "stdout",
     "output_type": "stream",
     "text": [
      "not present\n"
     ]
    }
   ],
   "source": [
    "lst=[1,2,3,4,5,6,5]\n",
    "a=23\n",
    "if a in lst:\n",
    "    print(\"present\")\n",
    "else:\n",
    "    print(\"not present\")"
   ]
  },
  {
   "cell_type": "code",
   "execution_count": null,
   "id": "e695f75e-c44e-4e81-a7e5-45552e22aab0",
   "metadata": {},
   "outputs": [],
   "source": [
    "if\n",
    "if >> elif\n",
    "if >> elif >> else\n",
    "if >> elif >>.....>>elif>> else\n",
    "\n",
    "if >> else >> elif # invalid\n",
    "if >> else >> else # invalid\n",
    "elif >> else  # invalid"
   ]
  },
  {
   "cell_type": "code",
   "execution_count": 121,
   "id": "f0873fab-08a5-458c-86f7-cc40dbf3a725",
   "metadata": {},
   "outputs": [
    {
     "name": "stdout",
     "output_type": "stream",
     "text": [
      "hello\n"
     ]
    }
   ],
   "source": [
    "a=30\n",
    "b=20\n",
    "if a>b:\n",
    "    print(\"hello\")\n",
    "elif a==b:\n",
    "    print(\"good\")\n",
    "elif a<b:\n",
    "    print(\"Ok\")"
   ]
  },
  {
   "cell_type": "code",
   "execution_count": 127,
   "id": "10769445-a232-41c0-baf3-48e695991e61",
   "metadata": {},
   "outputs": [
    {
     "name": "stdout",
     "output_type": "stream",
     "text": [
      "Ok\n"
     ]
    }
   ],
   "source": [
    "a=10\n",
    "b=20\n",
    "if a>b:\n",
    "    print(\"hello\")\n",
    "elif a==b:\n",
    "    print(\"good\")\n",
    "else:\n",
    "    print(\"Ok\")"
   ]
  },
  {
   "cell_type": "code",
   "execution_count": 129,
   "id": "8c368c0f-2e64-4478-937e-1fd17f5a5a19",
   "metadata": {},
   "outputs": [
    {
     "ename": "SyntaxError",
     "evalue": "invalid syntax (3053329103.py, line 7)",
     "output_type": "error",
     "traceback": [
      "\u001b[1;36m  Cell \u001b[1;32mIn[129], line 7\u001b[1;36m\u001b[0m\n\u001b[1;33m    elif a==b:\u001b[0m\n\u001b[1;37m    ^\u001b[0m\n\u001b[1;31mSyntaxError\u001b[0m\u001b[1;31m:\u001b[0m invalid syntax\n"
     ]
    }
   ],
   "source": [
    "a=10\n",
    "b=20\n",
    "if a>b:\n",
    "    print(\"hello\")\n",
    "else:\n",
    "    print(\"good\")\n",
    "elif a==b:\n",
    "    print(\"Ok\")"
   ]
  },
  {
   "cell_type": "code",
   "execution_count": 131,
   "id": "b6f95b3c-fa6d-4999-b696-08ca3533b8cf",
   "metadata": {},
   "outputs": [
    {
     "ename": "SyntaxError",
     "evalue": "invalid syntax (3569735020.py, line 3)",
     "output_type": "error",
     "traceback": [
      "\u001b[1;36m  Cell \u001b[1;32mIn[131], line 3\u001b[1;36m\u001b[0m\n\u001b[1;33m    elif a==b:\u001b[0m\n\u001b[1;37m    ^\u001b[0m\n\u001b[1;31mSyntaxError\u001b[0m\u001b[1;31m:\u001b[0m invalid syntax\n"
     ]
    }
   ],
   "source": [
    "a=10\n",
    "b=20\n",
    "elif a==b:\n",
    "    print(\"good\")\n",
    "else:\n",
    "    print(\"Ok\")"
   ]
  },
  {
   "cell_type": "markdown",
   "id": "b91e492f-4301-4fd6-898b-7ae5339dec60",
   "metadata": {},
   "source": [
    "# Pass satement"
   ]
  },
  {
   "cell_type": "code",
   "execution_count": null,
   "id": "113fb817-ca98-42b9-b235-329dcf61cc62",
   "metadata": {},
   "outputs": [],
   "source": [
    "if there is no statement/code in if/elif/else block then we can use pass statement\n",
    "\n",
    "it will not give any output\n",
    "use this to avoid error"
   ]
  },
  {
   "cell_type": "code",
   "execution_count": 148,
   "id": "8d47bd81-563c-485e-98d6-4ed8d372d8b8",
   "metadata": {},
   "outputs": [],
   "source": [
    "a=30\n",
    "b=20\n",
    "if a>b:  # true\n",
    "    pass  # statment\n",
    "else:\n",
    "   pass"
   ]
  },
  {
   "cell_type": "code",
   "execution_count": 146,
   "id": "4de666f4-46c0-42dd-b5a1-8aba6494611e",
   "metadata": {},
   "outputs": [
    {
     "name": "stdout",
     "output_type": "stream",
     "text": [
      "bye\n"
     ]
    }
   ],
   "source": [
    "# if any single statemnt in if and elif or else block\n",
    "# THERE will be no impact of pass statment\n",
    "a=10\n",
    "b=20\n",
    "if a>b:  # Flase\n",
    "    print(\"hi\")\n",
    "    pass\n",
    "else:  # excute\n",
    "    print(\"bye\")  #code\n",
    "    pass    # statemnt"
   ]
  },
  {
   "cell_type": "markdown",
   "id": "5dc51299-0aa5-4a33-bd30-82f2ea619bff",
   "metadata": {},
   "source": [
    "# nested if statement"
   ]
  },
  {
   "cell_type": "code",
   "execution_count": null,
   "id": "e694dbf9-aa98-4f30-9a0c-a48cca16711b",
   "metadata": {},
   "outputs": [],
   "source": [
    "if inside if statement"
   ]
  },
  {
   "cell_type": "code",
   "execution_count": 153,
   "id": "30f55768-8d0a-4f76-b6f7-4ffab0b909e7",
   "metadata": {},
   "outputs": [
    {
     "name": "stdout",
     "output_type": "stream",
     "text": [
      "x is greater than 80\n",
      "x is less than 90\n"
     ]
    }
   ],
   "source": [
    "x=85\n",
    "if x>80:  # true\n",
    "    print(\"x is greater than 80\")  \n",
    "\n",
    "    if x>90:  # false\n",
    "        print(\"x is greater than 90\")\n",
    "    else:\n",
    "        print(\"x is less than 90\")\n",
    "else:\n",
    "    print(\"x is less than 80\")"
   ]
  },
  {
   "cell_type": "code",
   "execution_count": 157,
   "id": "f7a85595-a6e0-49a2-99b4-41412b66b0c8",
   "metadata": {},
   "outputs": [
    {
     "name": "stdout",
     "output_type": "stream",
     "text": [
      "x is less than 80\n"
     ]
    }
   ],
   "source": [
    "x=78\n",
    "if x>80:  # false\n",
    "    print(\"x is greater than 80\")\n",
    "\n",
    "    if x>90:\n",
    "        print(\"x is greater than 90\")\n",
    "    else:\n",
    "        print(\"x is less than 90\")\n",
    "else:\n",
    "    print(\"x is less than 80\")"
   ]
  },
  {
   "cell_type": "code",
   "execution_count": 159,
   "id": "75846572-9dfb-4f91-9202-c0df70a0093d",
   "metadata": {},
   "outputs": [
    {
     "name": "stdout",
     "output_type": "stream",
     "text": [
      "x is greater than 80\n",
      "x is greater than 90\n"
     ]
    }
   ],
   "source": [
    "x=100\n",
    "if x>80:  # true\n",
    "    print(\"x is greater than 80\")\n",
    "\n",
    "    if x>90: # true\n",
    "        print(\"x is greater than 90\")\n",
    "    else:\n",
    "        print(\"x is less than 90\")\n",
    "else:\n",
    "    print(\"x is less than 80\")"
   ]
  },
  {
   "cell_type": "code",
   "execution_count": 165,
   "id": "2754312d-b6bd-4693-95cf-6f4b2c207068",
   "metadata": {},
   "outputs": [
    {
     "name": "stdout",
     "output_type": "stream",
     "text": [
      "x is greater than 80\n",
      "x is greater than 90\n",
      "x is less than 95\n"
     ]
    }
   ],
   "source": [
    "x=94\n",
    "if x>80:  # true\n",
    "    print(\"x is greater than 80\")\n",
    "\n",
    "    if x>90: # true\n",
    "        print(\"x is greater than 90\")\n",
    "\n",
    "        if x>95:  # false\n",
    "            print(\"x is greater than 95\")\n",
    "            \n",
    "        else: \n",
    "            print(\"x is less than 95\")\n",
    "    else:\n",
    "        print(\"x is less than 90\")\n",
    "else:\n",
    "    print(\"x is less than 80\")"
   ]
  },
  {
   "cell_type": "code",
   "execution_count": null,
   "id": "60d344a5-ebd0-49d6-b64c-8b5b71260a95",
   "metadata": {},
   "outputs": [],
   "source": [
    "# age,salary,cibil_score\n",
    "# 25 ,50000,.750`"
   ]
  },
  {
   "cell_type": "code",
   "execution_count": 177,
   "id": "4c0ba14f-da93-40b8-9d4b-aa1112658ed2",
   "metadata": {},
   "outputs": [
    {
     "name": "stdout",
     "output_type": "stream",
     "text": [
      "Yes age is above required Criteria\n",
      "yes salary is above predifined Criteria\n",
      "Congrats,loan is approved\n"
     ]
    }
   ],
   "source": [
    "age=26\n",
    "salary=53000\n",
    "cibil=780\n",
    "\n",
    "if age >25:\n",
    "    print(\"Yes age is above required Criteria\")\n",
    "    if salary >50000:\n",
    "        print(\"yes salary is above predifined Criteria\")\n",
    "        if cibil >750:\n",
    "            print(\"Congrats,loan is approved\")\n",
    "        else:\n",
    "            print(\"Sorry, go improve your cibil\")\n",
    "    else:\n",
    "        print(\"Sorry folks work hard to earn more money\")\n",
    "else:\n",
    "    print(\"Drink Bournvita\")"
   ]
  },
  {
   "cell_type": "code",
   "execution_count": 20,
   "id": "386cc339-9004-4466-a666-5f8b5e77a0d9",
   "metadata": {},
   "outputs": [
    {
     "name": "stdout",
     "output_type": "stream",
     "text": [
      "wierd\n"
     ]
    }
   ],
   "source": [
    "n=5\n",
    "if n%2!=0:\n",
    "        print (\"wierd\")"
   ]
  },
  {
   "cell_type": "code",
   "execution_count": 25,
   "id": "cd9d8006-d712-4e7d-bbcb-61247fbb4832",
   "metadata": {},
   "outputs": [
    {
     "name": "stdout",
     "output_type": "stream",
     "text": [
      "Not weird\n"
     ]
    }
   ],
   "source": [
    "n=2\n",
    "if n % 2==0 and 2<=n<=5:\n",
    "    print(\"Not weird\")"
   ]
  },
  {
   "cell_type": "code",
   "execution_count": 37,
   "id": "861ea25c-be1b-4fd8-be68-0a7e3c72ae3c",
   "metadata": {},
   "outputs": [
    {
     "name": "stdout",
     "output_type": "stream",
     "text": [
      "weird\n"
     ]
    }
   ],
   "source": [
    "n=21\n",
    "if n%2!=0:\n",
    "     print(\"weird\") \n",
    "elif n%2==0 and 2<=n<=5:\n",
    "     print(\"Not weird\")\n",
    "elif n%2==0 and 6<=n<=20:\n",
    "     print(\"weird\")\n",
    "elif n%2==0 and n>20:\n",
    "     print(\"Not Weird\")"
   ]
  },
  {
   "cell_type": "code",
   "execution_count": null,
   "id": "60ad8ec8-4a16-4c5c-a86d-c214fc783c03",
   "metadata": {},
   "outputs": [],
   "source": []
  }
 ],
 "metadata": {
  "kernelspec": {
   "display_name": "Python 3 (ipykernel)",
   "language": "python",
   "name": "python3"
  },
  "language_info": {
   "codemirror_mode": {
    "name": "ipython",
    "version": 3
   },
   "file_extension": ".py",
   "mimetype": "text/x-python",
   "name": "python",
   "nbconvert_exporter": "python",
   "pygments_lexer": "ipython3",
   "version": "3.12.7"
  }
 },
 "nbformat": 4,
 "nbformat_minor": 5
}
