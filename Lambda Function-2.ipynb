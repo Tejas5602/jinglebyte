{
 "cells": [
  {
   "cell_type": "markdown",
   "id": "031cc10e",
   "metadata": {},
   "source": [
    "# Lambda Function"
   ]
  },
  {
   "cell_type": "code",
   "execution_count": null,
   "id": "28553227",
   "metadata": {},
   "outputs": [],
   "source": [
    "Function without name\n",
    "called as \"Anonymous Function\"\n",
    "Defined by using lambda keyword\n",
    "lambda --> reserved keyword in python\n",
    "\n",
    "NO need to use def keyword\n",
    "No need to use return statement\n",
    "\n",
    "When short period of time activity or perform small operations...\n",
    "i.e. Expressions is in single line"
   ]
  },
  {
   "cell_type": "markdown",
   "id": "2ee37475",
   "metadata": {},
   "source": [
    "# Syntax of lambda function"
   ]
  },
  {
   "cell_type": "code",
   "execution_count": null,
   "id": "10316bfc",
   "metadata": {},
   "outputs": [],
   "source": [
    "Syntax:\n",
    "    lambda arguments : expression\n",
    "    \n",
    "Arguments >> 1 or more\n",
    "Expression >> should be only one\n",
    "\n",
    "It will always return an python object."
   ]
  },
  {
   "cell_type": "code",
   "execution_count": 2,
   "id": "7ad31579",
   "metadata": {},
   "outputs": [
    {
     "data": {
      "text/plain": [
       "25"
      ]
     },
     "execution_count": 2,
     "metadata": {},
     "output_type": "execute_result"
    }
   ],
   "source": [
    "def square(a):\n",
    "    return a ** 2\n",
    "\n",
    "square(5)"
   ]
  },
  {
   "cell_type": "code",
   "execution_count": 3,
   "id": "931773a9",
   "metadata": {},
   "outputs": [
    {
     "data": {
      "text/plain": [
       "11"
      ]
     },
     "execution_count": 3,
     "metadata": {},
     "output_type": "execute_result"
    }
   ],
   "source": [
    "def my_fun(x,y):\n",
    "    return x + y\n",
    "\n",
    "my_fun(5,6)"
   ]
  },
  {
   "cell_type": "code",
   "execution_count": null,
   "id": "a6362e29",
   "metadata": {},
   "outputs": [],
   "source": [
    "lambda a : a ** 2\n",
    "lambda a,b : a + b"
   ]
  },
  {
   "cell_type": "code",
   "execution_count": 4,
   "id": "0acbc884",
   "metadata": {},
   "outputs": [
    {
     "data": {
      "text/plain": [
       "<function __main__.<lambda>(a)>"
      ]
     },
     "execution_count": 4,
     "metadata": {},
     "output_type": "execute_result"
    }
   ],
   "source": [
    "lambda a : a ** 2"
   ]
  },
  {
   "cell_type": "code",
   "execution_count": 5,
   "id": "a9de815f",
   "metadata": {},
   "outputs": [
    {
     "data": {
      "text/plain": [
       "25"
      ]
     },
     "execution_count": 5,
     "metadata": {},
     "output_type": "execute_result"
    }
   ],
   "source": [
    "# 1st Way\n",
    "sqr = lambda a : a ** 2\n",
    "        # Argument : Expression\n",
    "sqr(5)"
   ]
  },
  {
   "cell_type": "code",
   "execution_count": 6,
   "id": "168099b5",
   "metadata": {},
   "outputs": [
    {
     "data": {
      "text/plain": [
       "100"
      ]
     },
     "execution_count": 6,
     "metadata": {},
     "output_type": "execute_result"
    }
   ],
   "source": [
    "# 2nd Way\n",
    "(lambda a : a ** 2)(10)"
   ]
  },
  {
   "cell_type": "code",
   "execution_count": 7,
   "id": "239dc5f6",
   "metadata": {},
   "outputs": [
    {
     "data": {
      "text/plain": [
       "30"
      ]
     },
     "execution_count": 7,
     "metadata": {},
     "output_type": "execute_result"
    }
   ],
   "source": [
    "# Addition\n",
    "\n",
    "add = lambda x,y : x+y\n",
    "add(10,20)"
   ]
  },
  {
   "cell_type": "code",
   "execution_count": 8,
   "id": "12a84155",
   "metadata": {},
   "outputs": [
    {
     "data": {
      "text/plain": [
       "200"
      ]
     },
     "execution_count": 8,
     "metadata": {},
     "output_type": "execute_result"
    }
   ],
   "source": [
    "# Multiplication\n",
    "\n",
    "mul = lambda x,y : x*y\n",
    "mul(10,20)"
   ]
  },
  {
   "cell_type": "code",
   "execution_count": 9,
   "id": "ed7e41f6",
   "metadata": {},
   "outputs": [
    {
     "data": {
      "text/plain": [
       "400"
      ]
     },
     "execution_count": 9,
     "metadata": {},
     "output_type": "execute_result"
    }
   ],
   "source": [
    "# Multiplication\n",
    "\n",
    "mul = lambda x,y,z : x*y*z\n",
    "mul(10,20,2)"
   ]
  },
  {
   "cell_type": "code",
   "execution_count": 10,
   "id": "4646c3f4",
   "metadata": {},
   "outputs": [
    {
     "ename": "TypeError",
     "evalue": "<lambda>() missing 1 required positional argument: 'z'",
     "output_type": "error",
     "traceback": [
      "\u001b[1;31m---------------------------------------------------------------------------\u001b[0m",
      "\u001b[1;31mTypeError\u001b[0m                                 Traceback (most recent call last)",
      "Cell \u001b[1;32mIn [10], line 4\u001b[0m\n\u001b[0;32m      1\u001b[0m \u001b[38;5;66;03m# Multiplication\u001b[39;00m\n\u001b[0;32m      3\u001b[0m mul \u001b[38;5;241m=\u001b[39m \u001b[38;5;28;01mlambda\u001b[39;00m x,y,z : x\u001b[38;5;241m*\u001b[39my\u001b[38;5;241m*\u001b[39mz\n\u001b[1;32m----> 4\u001b[0m \u001b[43mmul\u001b[49m\u001b[43m(\u001b[49m\u001b[38;5;241;43m10\u001b[39;49m\u001b[43m,\u001b[49m\u001b[38;5;241;43m20\u001b[39;49m\u001b[43m)\u001b[49m\n",
      "\u001b[1;31mTypeError\u001b[0m: <lambda>() missing 1 required positional argument: 'z'"
     ]
    }
   ],
   "source": [
    "# Multiplication\n",
    "\n",
    "mul = lambda x,y,z : x*y*z\n",
    "mul(10,20)"
   ]
  },
  {
   "cell_type": "code",
   "execution_count": 11,
   "id": "391f98a1",
   "metadata": {},
   "outputs": [
    {
     "data": {
      "text/plain": [
       "20.0"
      ]
     },
     "execution_count": 11,
     "metadata": {},
     "output_type": "execute_result"
    }
   ],
   "source": [
    "# Average\n",
    "\n",
    "mul = lambda x,y,z : (x+y+z)/3\n",
    "mul(10,20,30)"
   ]
  },
  {
   "cell_type": "code",
   "execution_count": null,
   "id": "76c89b2c",
   "metadata": {},
   "outputs": [],
   "source": [
    "Iterables : List, Tuple, set"
   ]
  },
  {
   "cell_type": "code",
   "execution_count": 12,
   "id": "bb9aa89a",
   "metadata": {},
   "outputs": [
    {
     "data": {
      "text/plain": [
       "9"
      ]
     },
     "execution_count": 12,
     "metadata": {},
     "output_type": "execute_result"
    }
   ],
   "source": [
    "add = lambda lst : sum(lst)\n",
    "add([2,3,4])"
   ]
  },
  {
   "cell_type": "code",
   "execution_count": 15,
   "id": "e119373e",
   "metadata": {},
   "outputs": [
    {
     "data": {
      "text/plain": [
       "9"
      ]
     },
     "execution_count": 15,
     "metadata": {},
     "output_type": "execute_result"
    }
   ],
   "source": [
    "add = lambda lst : sum(lst)\n",
    "\n",
    "a = 2,3,4\n",
    "add(a)"
   ]
  },
  {
   "cell_type": "code",
   "execution_count": 17,
   "id": "6d809edd",
   "metadata": {},
   "outputs": [
    {
     "data": {
      "text/plain": [
       "9"
      ]
     },
     "execution_count": 17,
     "metadata": {},
     "output_type": "execute_result"
    }
   ],
   "source": [
    "add = lambda lst : sum(lst)\n",
    "add(2,3,4)"
   ]
  },
  {
   "cell_type": "code",
   "execution_count": 18,
   "id": "74b0bddd",
   "metadata": {},
   "outputs": [
    {
     "data": {
      "text/plain": [
       "30.0"
      ]
     },
     "execution_count": 18,
     "metadata": {},
     "output_type": "execute_result"
    }
   ],
   "source": [
    "# Average\n",
    "\n",
    "mul = lambda x,y,z=60 : (x+y+z)/3\n",
    "mul(10,20)"
   ]
  },
  {
   "cell_type": "code",
   "execution_count": 19,
   "id": "471c1c4e",
   "metadata": {},
   "outputs": [
    {
     "data": {
      "text/plain": [
       "20.0"
      ]
     },
     "execution_count": 19,
     "metadata": {},
     "output_type": "execute_result"
    }
   ],
   "source": [
    "# Average\n",
    "\n",
    "mul = lambda x,y,z=60 : (x+y+z)/3\n",
    "mul(10,20,30)"
   ]
  },
  {
   "cell_type": "code",
   "execution_count": 20,
   "id": "f0b4007e",
   "metadata": {},
   "outputs": [
    {
     "data": {
      "text/plain": [
       "35"
      ]
     },
     "execution_count": 20,
     "metadata": {},
     "output_type": "execute_result"
    }
   ],
   "source": [
    "add = lambda *args : sum(args)\n",
    "add(2,3,4,5,6,7,8)"
   ]
  },
  {
   "cell_type": "code",
   "execution_count": 21,
   "id": "886babcb",
   "metadata": {},
   "outputs": [
    {
     "data": {
      "text/plain": [
       "60"
      ]
     },
     "execution_count": 21,
     "metadata": {},
     "output_type": "execute_result"
    }
   ],
   "source": [
    "add = lambda **kwargs : sum(kwargs.values())\n",
    "add(a = 10, b= 20, c= 30)"
   ]
  },
  {
   "cell_type": "code",
   "execution_count": 27,
   "id": "e8b3b4fb",
   "metadata": {},
   "outputs": [
    {
     "data": {
      "text/plain": [
       "[27, 64, 125, 216]"
      ]
     },
     "execution_count": 27,
     "metadata": {},
     "output_type": "execute_result"
    }
   ],
   "source": [
    "def cube(lst):    \n",
    "    cube_list = [i**3 for i in lst]\n",
    "    return cube_list\n",
    "\n",
    "\n",
    "l1 = [3,4,5,6]\n",
    "\n",
    "cube(l1)"
   ]
  },
  {
   "cell_type": "code",
   "execution_count": 28,
   "id": "ceb58d77",
   "metadata": {},
   "outputs": [
    {
     "data": {
      "text/plain": [
       "[8, 27]"
      ]
     },
     "execution_count": 28,
     "metadata": {},
     "output_type": "execute_result"
    }
   ],
   "source": [
    "cube([2,3])"
   ]
  },
  {
   "cell_type": "code",
   "execution_count": 30,
   "id": "87dd309a",
   "metadata": {},
   "outputs": [
    {
     "name": "stdout",
     "output_type": "stream",
     "text": [
      "[8, 27]\n"
     ]
    }
   ],
   "source": [
    "cube_list = lambda list1 : [i**3 for i in list1]\n",
    "print(cube_list([2,3]))"
   ]
  },
  {
   "cell_type": "code",
   "execution_count": 33,
   "id": "05be5679",
   "metadata": {},
   "outputs": [
    {
     "name": "stdout",
     "output_type": "stream",
     "text": [
      "[4, 9, 100, 144]\n"
     ]
    }
   ],
   "source": [
    "square_list = lambda list1 : [i**2 for i in list1]\n",
    "print(square_list([2,3,10,12]))"
   ]
  },
  {
   "cell_type": "code",
   "execution_count": 34,
   "id": "cbef7bf1",
   "metadata": {},
   "outputs": [
    {
     "data": {
      "text/plain": [
       "[144, 169, 196, 225]"
      ]
     },
     "execution_count": 34,
     "metadata": {},
     "output_type": "execute_result"
    }
   ],
   "source": [
    "square_list([12,13,14,15])"
   ]
  },
  {
   "cell_type": "code",
   "execution_count": null,
   "id": "e42bc9b9",
   "metadata": {},
   "outputs": [],
   "source": [
    "x = 10\n",
    "y = 12\n",
    "\n",
    "x if x > y else y"
   ]
  },
  {
   "cell_type": "code",
   "execution_count": 35,
   "id": "cb0c7572",
   "metadata": {},
   "outputs": [
    {
     "data": {
      "text/plain": [
       "12"
      ]
     },
     "execution_count": 35,
     "metadata": {},
     "output_type": "execute_result"
    }
   ],
   "source": [
    "maximum = lambda x,y : x if x > y else y\n",
    "maximum(10,12)"
   ]
  },
  {
   "cell_type": "code",
   "execution_count": 36,
   "id": "cc67e07b",
   "metadata": {},
   "outputs": [
    {
     "data": {
      "text/plain": [
       "100"
      ]
     },
     "execution_count": 36,
     "metadata": {},
     "output_type": "execute_result"
    }
   ],
   "source": [
    "maximum(100,12)"
   ]
  },
  {
   "cell_type": "code",
   "execution_count": 37,
   "id": "582b039b",
   "metadata": {},
   "outputs": [
    {
     "name": "stdout",
     "output_type": "stream",
     "text": [
      "12 is greater\n"
     ]
    }
   ],
   "source": [
    "maximum = lambda x,y : print(f'{x} is greater') if x > y else print(f'{y} is greater')\n",
    "maximum(10,12)"
   ]
  },
  {
   "cell_type": "code",
   "execution_count": 38,
   "id": "87715fec",
   "metadata": {},
   "outputs": [
    {
     "name": "stdout",
     "output_type": "stream",
     "text": [
      "100 is greater\n"
     ]
    }
   ],
   "source": [
    "maximum(100,12)"
   ]
  },
  {
   "cell_type": "markdown",
   "id": "70061497",
   "metadata": {},
   "source": [
    "# Higher Order Functions"
   ]
  },
  {
   "cell_type": "code",
   "execution_count": null,
   "id": "560672c3",
   "metadata": {},
   "outputs": [],
   "source": [
    "When we are using function as a parameter to the other function"
   ]
  },
  {
   "cell_type": "code",
   "execution_count": null,
   "id": "440d60c0",
   "metadata": {},
   "outputs": [],
   "source": [
    "map(function, iterables)\n",
    "filter(function, iterable)"
   ]
  }
 ],
 "metadata": {
  "kernelspec": {
   "display_name": "Python 3 (ipykernel)",
   "language": "python",
   "name": "python3"
  },
  "language_info": {
   "codemirror_mode": {
    "name": "ipython",
    "version": 3
   },
   "file_extension": ".py",
   "mimetype": "text/x-python",
   "name": "python",
   "nbconvert_exporter": "python",
   "pygments_lexer": "ipython3",
   "version": "3.11.0"
  }
 },
 "nbformat": 4,
 "nbformat_minor": 5
}
