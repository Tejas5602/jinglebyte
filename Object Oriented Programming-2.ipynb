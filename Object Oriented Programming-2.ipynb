{
 "cells": [
  {
   "cell_type": "markdown",
   "id": "774fbe9d",
   "metadata": {},
   "source": [
    "# Object Oriented Programming"
   ]
  },
  {
   "cell_type": "code",
   "execution_count": 1,
   "id": "618022b1",
   "metadata": {},
   "outputs": [
    {
     "name": "stdout",
     "output_type": "stream",
     "text": [
      "Hello\n"
     ]
    }
   ],
   "source": [
    "class ClassName():\n",
    "    def method(self):  # without argument\n",
    "        print(f'Hello')\n",
    "        \n",
    "        \n",
    "Obj = ClassName()\n",
    "Obj.method()"
   ]
  },
  {
   "cell_type": "code",
   "execution_count": 3,
   "id": "a83f4c14",
   "metadata": {},
   "outputs": [
    {
     "name": "stdout",
     "output_type": "stream",
     "text": [
      "Hello Python\n"
     ]
    }
   ],
   "source": [
    "class ClassName():\n",
    "    def method(self, name):  # with argument\n",
    "        print(f'Hello {name}')\n",
    "        \n",
    "        \n",
    "Obj = ClassName()\n",
    "Obj.method(\"Python\")"
   ]
  },
  {
   "cell_type": "code",
   "execution_count": 8,
   "id": "3a4fe0c7",
   "metadata": {},
   "outputs": [
    {
     "name": "stdout",
     "output_type": "stream",
     "text": [
      "In __init__ method\n",
      "Student Roll No. is 34\n"
     ]
    }
   ],
   "source": [
    "class Students():\n",
    "    def __init__(self, rollno):   # Automatically executed\n",
    "        print(\"In __init__ method\")\n",
    "        self.rollno = rollno    # instace variable\n",
    "        \n",
    "    def student_roll_num(self):\n",
    "        print(\"Student Roll No. is\", self.rollno)\n",
    "        \n",
    "        \n",
    "StudObj = Students(34)\n",
    "\n",
    "StudObj.student_roll_num()"
   ]
  },
  {
   "cell_type": "code",
   "execution_count": 10,
   "id": "3c8dafce",
   "metadata": {},
   "outputs": [
    {
     "name": "stdout",
     "output_type": "stream",
     "text": [
      "In a class A\n",
      "In a class B\n"
     ]
    }
   ],
   "source": [
    "class A():\n",
    "    print(\"In a class A\")\n",
    "    \n",
    "class B():\n",
    "    print(\"In a class B\")"
   ]
  },
  {
   "cell_type": "code",
   "execution_count": 12,
   "id": "8cf610e7",
   "metadata": {},
   "outputs": [
    {
     "name": "stdout",
     "output_type": "stream",
     "text": [
      "Addition of 4 and 5 is 9\n"
     ]
    }
   ],
   "source": [
    "def addition(a,b):\n",
    "    add = a + b\n",
    "    print(f\"Addition of {a} and {b} is {add}\")\n",
    "    \n",
    "    \n",
    "addition(4,5)"
   ]
  },
  {
   "cell_type": "code",
   "execution_count": 16,
   "id": "83c20424",
   "metadata": {},
   "outputs": [
    {
     "name": "stdout",
     "output_type": "stream",
     "text": [
      "Addition of 10 and 4 is 14\n",
      "substraction of 10 and 4 is 6\n",
      "multiplication of 10 and 4 is 40\n",
      "substraction of 10 and 4 is 2.5\n"
     ]
    }
   ],
   "source": [
    "def addition(a,b):\n",
    "    add = a + b\n",
    "    print(f\"Addition of {a} and {b} is {add}\")\n",
    "    \n",
    "    \n",
    "def multiplication(a,b):\n",
    "    mult = a * b\n",
    "    print(f\"multiplication of {a} and {b} is {mult}\")\n",
    "    \n",
    "    \n",
    "def substraction(a,b):\n",
    "    sub = a - b\n",
    "    print(f\"substraction of {a} and {b} is {sub}\")\n",
    "    \n",
    "    \n",
    "def division(a,b):\n",
    "    div = a / b\n",
    "    print(f\"substraction of {a} and {b} is {div}\")\n",
    "    \n",
    "addition(10,4)\n",
    "substraction(10,4)\n",
    "multiplication(10,4)\n",
    "division(10,4)"
   ]
  },
  {
   "cell_type": "code",
   "execution_count": 17,
   "id": "6be76772",
   "metadata": {},
   "outputs": [
    {
     "name": "stdout",
     "output_type": "stream",
     "text": [
      "Addition of 10 and 4 is 14\n",
      "substraction of 10 and 4 is 6\n",
      "multiplication of 10 and 4 is 40\n",
      "substraction of 10 and 4 is 2.5\n"
     ]
    }
   ],
   "source": [
    "def addition(a,b):\n",
    "    add = a + b\n",
    "    print(f\"Addition of {a} and {b} is {add}\")\n",
    "    \n",
    "    \n",
    "def multiplication(a,b):\n",
    "    mult = a * b\n",
    "    print(f\"multiplication of {a} and {b} is {mult}\")\n",
    "    \n",
    "    \n",
    "def substraction(a,b):\n",
    "    sub = a - b\n",
    "    print(f\"substraction of {a} and {b} is {sub}\")\n",
    "    \n",
    "    \n",
    "def division(a,b):\n",
    "    div = a / b\n",
    "    print(f\"substraction of {a} and {b} is {div}\")\n",
    "\n",
    "def calculator():\n",
    "    addition(10,4)\n",
    "    substraction(10,4)\n",
    "    multiplication(10,4)\n",
    "    division(10,4)\n",
    "    \n",
    "    \n",
    "calculator()"
   ]
  },
  {
   "cell_type": "code",
   "execution_count": 20,
   "id": "beac984c",
   "metadata": {},
   "outputs": [
    {
     "name": "stdout",
     "output_type": "stream",
     "text": [
      "Addition of 10 and 4 is 14\n",
      "substraction of 10 and 4 is 6\n",
      "multiplication of 10 and 4 is 40\n",
      "substraction of 10 and 4 is 2.5\n"
     ]
    }
   ],
   "source": [
    "def addition(a,b):\n",
    "    add = a + b\n",
    "    print(f\"Addition of {a} and {b} is {add}\")\n",
    "    \n",
    "    \n",
    "def multiplication(a,b):\n",
    "    mult = a * b\n",
    "    print(f\"multiplication of {a} and {b} is {mult}\")\n",
    "    \n",
    "    \n",
    "def substraction(a,b):\n",
    "    sub = a - b\n",
    "    print(f\"substraction of {a} and {b} is {sub}\")\n",
    "    \n",
    "    \n",
    "def division(a,b):\n",
    "    div = a / b\n",
    "    print(f\"substraction of {a} and {b} is {div}\")\n",
    "\n",
    "def calculator(a,b):\n",
    "    addition(a,b)\n",
    "    substraction(a,b)\n",
    "    multiplication(a,b)\n",
    "    division(a,b)\n",
    "    \n",
    "calculator(10,4)"
   ]
  },
  {
   "cell_type": "code",
   "execution_count": 13,
   "id": "96c8648d",
   "metadata": {},
   "outputs": [
    {
     "name": "stdout",
     "output_type": "stream",
     "text": [
      "We are in Calculator Class\n",
      "Addition of 10 and 5 is 15\n",
      "multiplication of 10 and 5 is 50\n",
      "substraction of 10 and 5 is 2.0\n"
     ]
    }
   ],
   "source": [
    "class Calculator():\n",
    "    \n",
    "    print(\"We are in Calculator Class\")\n",
    "    \n",
    "    def addition(self,a,b):\n",
    "        self.a = a   # instance variable\n",
    "        self.b = b\n",
    "        \n",
    "        add = a + b\n",
    "        print(f\"Addition of {a} and {b} is {add}\")\n",
    "    \n",
    "    def multiplication(self):\n",
    "        mult = self.a * self.b\n",
    "        print(f\"multiplication of {self.a} and {self.b} is {mult}\")\n",
    "\n",
    "    def substraction(self):\n",
    "        sub = self.a - self.b\n",
    "        print(f\"substraction of {self.a} and {self.b} is {sub}\")\n",
    "\n",
    "    def division(self):\n",
    "        div = self.a / self.b\n",
    "        print(f\"substraction of {self.a} and {self.b} is {div}\")\n",
    "        \n",
    "        \n",
    "Obj = Calculator()\n",
    "\n",
    "Obj.addition(10,5)\n",
    "Obj.multiplication()\n",
    "Obj.division()"
   ]
  },
  {
   "cell_type": "code",
   "execution_count": 19,
   "id": "93f6196b",
   "metadata": {},
   "outputs": [
    {
     "name": "stdout",
     "output_type": "stream",
     "text": [
      "We are in Calculator Class\n",
      "Addition of 10 and 5 is 15\n",
      "multiplication of 10 and 5 is 50\n",
      "substraction of 10 and 5 is 2.0\n"
     ]
    }
   ],
   "source": [
    "class Calculator():\n",
    "    \n",
    "    print(\"We are in Calculator Class\")\n",
    "    \n",
    "    def __init__(self, a, b):\n",
    "        self.a = a   # instance variable\n",
    "        self.b = b\n",
    "    \n",
    "    def addition(self):\n",
    "        add = self.a + self.b\n",
    "        print(f\"Addition of {self.a} and {self.b} is {add}\")\n",
    "    \n",
    "    def multiplication(self):\n",
    "        mult = self.a * self.b\n",
    "        print(f\"multiplication of {self.a} and {self.b} is {mult}\")\n",
    "\n",
    "    def substraction(self):\n",
    "        sub = self.a - self.b\n",
    "        print(f\"substraction of {self.a} and {self.b} is {sub}\")\n",
    "\n",
    "    def division(self):\n",
    "        div = self.a / self.b\n",
    "        print(f\"substraction of {self.a} and {self.b} is {div}\")\n",
    "        \n",
    "        \n",
    "Obj = Calculator(10,5)\n",
    "\n",
    "Obj.addition()\n",
    "Obj.multiplication()\n",
    "Obj.division()"
   ]
  },
  {
   "cell_type": "code",
   "execution_count": 23,
   "id": "25b36995",
   "metadata": {},
   "outputs": [
    {
     "name": "stdout",
     "output_type": "stream",
     "text": [
      "We are in Calculator Class\n",
      "Addition of 10 and 5 is 15\n",
      "substraction of 10 and 5 is 5\n",
      "multiplication of 10 and 5 is 50\n",
      "substraction of 10 and 5 is 2.0\n"
     ]
    }
   ],
   "source": [
    "class Calculator():\n",
    "    \n",
    "    print(\"We are in Calculator Class\")\n",
    "    \n",
    "    def __init__(self, a, b):\n",
    "        self.a = a   # instance variable\n",
    "        self.b = b\n",
    "    \n",
    "    def addition(self):\n",
    "        add = self.a + self.b\n",
    "        print(f\"Addition of {self.a} and {self.b} is {add}\")\n",
    "    \n",
    "    def multiplication(self):\n",
    "        mult = self.a * self.b\n",
    "        print(f\"multiplication of {self.a} and {self.b} is {mult}\")\n",
    "\n",
    "    def substraction(self):\n",
    "        sub = self.a - self.b\n",
    "        print(f\"substraction of {self.a} and {self.b} is {sub}\")\n",
    "\n",
    "    def division(self):\n",
    "        div = self.a / self.b\n",
    "        print(f\"substraction of {self.a} and {self.b} is {div}\")\n",
    "        \n",
    "    def Calculation(self):\n",
    "        self.addition()\n",
    "        self.substraction()\n",
    "        self.multiplication()\n",
    "        self.division()\n",
    "        \n",
    "Obj = Calculator(10,5)\n",
    "Obj.Calculation()"
   ]
  },
  {
   "cell_type": "code",
   "execution_count": null,
   "id": "372baf4b",
   "metadata": {},
   "outputs": [],
   "source": [
    "Why we are using class...?\n",
    "define multiple methods and variables in a class\n",
    "\n",
    "function >> avoid repetition of code\n",
    "\n",
    "# Data science life cycle:\n",
    "Data Gathering  >> 3 functions\n",
    "Data Preprocessing  >> 10 functions\n",
    "Feature Engineering  >> 8 function\n",
    "Feature Selection  >> 13 functions\n",
    "Model Training >> 5 function\n",
    "Model Evaluation >> 5 function\n",
    "\n",
    "\n",
    "class DataPreprocessing():\n",
    "    \n",
    "    def encoding():\n",
    "        pass\n",
    "    \n",
    "    def feature_scaling(self):\n",
    "        pass\n",
    "    \n",
    "    def missing_value(self):\n",
    "        pass\n",
    "    \n",
    "    def remove_outliers(self):\n",
    "        pass\n",
    "    \n",
    "\n",
    "class ModelBuilding():\n",
    "    \n",
    "    def logistic_regression(self):\n",
    "        pass\n",
    "    \n",
    "    def knn_classifire(self):\n",
    "        pass\n",
    "\n",
    "    def decision_tree(self):\n",
    "        pass\n",
    "    \n",
    "    def random_forest(self):\n",
    "        pass\n",
    "    \n",
    "class ModelEvaluation():\n",
    "    \n",
    "    def classfication_report(self):\n",
    "        pass\n",
    "    \n",
    "    def confusion_matrix(self):\n",
    "        pass\n",
    "    \n",
    "    def accuracy_score(self):\n",
    "        pass"
   ]
  }
 ],
 "metadata": {
  "kernelspec": {
   "display_name": "Python 3 (ipykernel)",
   "language": "python",
   "name": "python3"
  },
  "language_info": {
   "codemirror_mode": {
    "name": "ipython",
    "version": 3
   },
   "file_extension": ".py",
   "mimetype": "text/x-python",
   "name": "python",
   "nbconvert_exporter": "python",
   "pygments_lexer": "ipython3",
   "version": "3.12.4"
  }
 },
 "nbformat": 4,
 "nbformat_minor": 5
}
