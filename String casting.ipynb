{
 "cells": [
  {
   "cell_type": "markdown",
   "id": "41b9485a-6293-46cd-ac74-4300474536dc",
   "metadata": {},
   "source": [
    "# table of 15"
   ]
  },
  {
   "cell_type": "code",
   "execution_count": 17,
   "id": "a5d4e195-d400-4d99-887e-decc3baf7590",
   "metadata": {},
   "outputs": [
    {
     "name": "stdout",
     "output_type": "stream",
     "text": [
      "15*1=15\n",
      "15*2=30\n",
      "15*3=45\n",
      "15*4=60\n",
      "15*5=75\n",
      "15*6=90\n",
      "15*7=105\n",
      "15*8=120\n",
      "15*9=135\n",
      "15*10=150\n"
     ]
    }
   ],
   "source": [
    "n=15\n",
    "i=1\n",
    "while i<=10:\n",
    "    result=n*i\n",
    "    print(f\"{n}*{i}={result}\")\n",
    "    i=i+1\n"
   ]
  },
  {
   "cell_type": "code",
   "execution_count": 2,
   "id": "54dba1c9-ca92-47f1-9851-ec9539b326db",
   "metadata": {},
   "outputs": [
    {
     "name": "stdout",
     "output_type": "stream",
     "text": [
      "5\n",
      "20\n",
      "60\n",
      "120\n",
      "120\n"
     ]
    }
   ],
   "source": [
    "n=5\n",
    "i=n\n",
    "fact=1\n",
    "while i>=1:\n",
    "    fact=fact*i\n",
    "    i=i-1    #decrement\n",
    "    print(fact)\n",
    "    "
   ]
  },
  {
   "cell_type": "code",
   "execution_count": 4,
   "id": "e934d75f-1fb4-4aae-9a82-d3b9088e96f5",
   "metadata": {},
   "outputs": [
    {
     "name": "stdout",
     "output_type": "stream",
     "text": [
      "1\n",
      "2\n",
      "3\n",
      "4\n",
      "5\n",
      "6\n",
      "7\n",
      "8\n",
      "9\n",
      "loop is completed\n"
     ]
    }
   ],
   "source": [
    "#while else\n",
    "\n",
    "i=1\n",
    "while i<10:\n",
    "    print (i)\n",
    "    i=i+1\n",
    "else:\n",
    "    print (\"loop is completed\")"
   ]
  },
  {
   "cell_type": "code",
   "execution_count": null,
   "id": "6541cbca-a667-4777-bda2-4e20e5f54c16",
   "metadata": {},
   "outputs": [],
   "source": [
    "i=10\n",
    "while i< 10:\n",
    "    print (i)\n",
    "    i=i+2\n",
    "else:\n",
    "    print (\"loop is completed\")"
   ]
  },
  {
   "cell_type": "markdown",
   "id": "5f1835c0-161f-4d99-bb2b-9aa8769f39d8",
   "metadata": {},
   "source": [
    "# String"
   ]
  },
  {
   "cell_type": "code",
   "execution_count": 3,
   "id": "6fbe4d0c-f361-4c4b-83f7-f2eb6191735e",
   "metadata": {},
   "outputs": [
    {
     "name": "stdout",
     "output_type": "stream",
     "text": [
      "D:onkar\\neeta\tina\n"
     ]
    }
   ],
   "source": [
    "str1=\"D:onkar\\\\neeta\\tina\"   #escape character \n",
    "print(str1)"
   ]
  },
  {
   "cell_type": "code",
   "execution_count": 7,
   "id": "7d379a18-24f2-4496-b509-57a6ca35cebf",
   "metadata": {},
   "outputs": [
    {
     "name": "stdout",
     "output_type": "stream",
     "text": [
      "D:onkar\\neeta\\tina\n"
     ]
    }
   ],
   "source": [
    "str1=r\"D:onkar\\neeta\\tina\"\n",
    "print(str1)"
   ]
  },
  {
   "cell_type": "code",
   "execution_count": null,
   "id": "addbae87-d869-4c1f-bb19-d24a14795ea3",
   "metadata": {},
   "outputs": [],
   "source": [
    "str1=\"D:onkar/neeta/tina\"    #ubuntu or lunix file path.\n",
    "print(str1)"
   ]
  },
  {
   "cell_type": "markdown",
   "id": "1161a82d-d47e-4eba-90af-222234f94320",
   "metadata": {},
   "source": [
    "# string casting"
   ]
  },
  {
   "cell_type": "code",
   "execution_count": 17,
   "id": "37b7c433-7d8d-42d7-b2bf-42bd37efc170",
   "metadata": {},
   "outputs": [
    {
     "name": "stdin",
     "output_type": "stream",
     "text": [
      "enter a no \"jHcZX\"\n"
     ]
    },
    {
     "data": {
      "text/plain": [
       "str"
      ]
     },
     "execution_count": 17,
     "metadata": {},
     "output_type": "execute_result"
    }
   ],
   "source": [
    "n=eval(input(\"enter a no\"))\n",
    "type(n)"
   ]
  },
  {
   "cell_type": "code",
   "execution_count": 29,
   "id": "49272a7f-bcfe-443f-923e-2b99a46e4d81",
   "metadata": {},
   "outputs": [
    {
     "name": "stdin",
     "output_type": "stream",
     "text": [
      "enter a no \"tejas\"\n"
     ]
    },
    {
     "data": {
      "text/plain": [
       "str"
      ]
     },
     "execution_count": 29,
     "metadata": {},
     "output_type": "execute_result"
    }
   ],
   "source": [
    "n=eval(input(\"enter a no\"))\n",
    "type(n)"
   ]
  },
  {
   "cell_type": "code",
   "execution_count": 35,
   "id": "35f0b087-0f10-4051-af55-5da869fbdf11",
   "metadata": {},
   "outputs": [
    {
     "name": "stdin",
     "output_type": "stream",
     "text": [
      "Enter a number 2\n",
      "Enter a number 52\n"
     ]
    },
    {
     "name": "stdout",
     "output_type": "stream",
     "text": [
      "54\n"
     ]
    }
   ],
   "source": [
    "x=eval(input(\"Enter a number\"))\n",
    "y=eval(input(\"Enter a number\"))\n",
    "z=x+y\n",
    "print(z)"
   ]
  },
  {
   "cell_type": "markdown",
   "id": "8a0bff3b-0061-41d4-b5bd-e923391b696b",
   "metadata": {},
   "source": [
    "# positive indexing"
   ]
  },
  {
   "cell_type": "code",
   "execution_count": 47,
   "id": "49241ddb-3b2e-467b-b5a6-da98c560f603",
   "metadata": {},
   "outputs": [
    {
     "data": {
      "text/plain": [
       "'o'"
      ]
     },
     "execution_count": 47,
     "metadata": {},
     "output_type": "execute_result"
    }
   ],
   "source": [
    "a=\"python\"\n",
    "a[4]"
   ]
  },
  {
   "cell_type": "code",
   "execution_count": 45,
   "id": "94bf53e8-8822-45ee-be9d-c58969d03d69",
   "metadata": {},
   "outputs": [
    {
     "data": {
      "text/plain": [
       "'n'"
      ]
     },
     "execution_count": 45,
     "metadata": {},
     "output_type": "execute_result"
    }
   ],
   "source": [
    "a=\"python\"\n",
    "a[len(a)-1]"
   ]
  },
  {
   "cell_type": "code",
   "execution_count": 51,
   "id": "ec6aaaf5-71e3-4195-94c2-7f7750dfe7c2",
   "metadata": {},
   "outputs": [
    {
     "data": {
      "text/plain": [
       "'n'"
      ]
     },
     "execution_count": 51,
     "metadata": {},
     "output_type": "execute_result"
    }
   ],
   "source": [
    "a=\"python\"\n",
    "a[len(a)-\n",
    "1]"
   ]
  },
  {
   "cell_type": "markdown",
   "id": "b56027ca-3ac7-4a29-a1e4-ff790980748a",
   "metadata": {},
   "source": [
    "# Negative indexing"
   ]
  },
  {
   "cell_type": "code",
   "execution_count": null,
   "id": "af4f135c-55f3-414d-ae24-39475cd8f08c",
   "metadata": {},
   "outputs": [],
   "source": [
    " p  y  t  h  o  n \n",
    "-6 -5 -4 -3 -2 -1"
   ]
  },
  {
   "cell_type": "code",
   "execution_count": 53,
   "id": "ba9bc084-6c49-4c43-a9e3-2de05c8fe782",
   "metadata": {},
   "outputs": [
    {
     "data": {
      "text/plain": [
       "'o'"
      ]
     },
     "execution_count": 53,
     "metadata": {},
     "output_type": "execute_result"
    }
   ],
   "source": [
    "a=\"Python\"\n",
    "a[-2]"
   ]
  },
  {
   "cell_type": "code",
   "execution_count": 55,
   "id": "6e0d1cd1-cfb5-4201-a743-7f3bb50e29d0",
   "metadata": {},
   "outputs": [
    {
     "data": {
      "text/plain": [
       "'y'"
      ]
     },
     "execution_count": 55,
     "metadata": {},
     "output_type": "execute_result"
    }
   ],
   "source": [
    "a=\"python\"\n",
    "a[1]"
   ]
  },
  {
   "cell_type": "code",
   "execution_count": null,
   "id": "bcc33ffc-203a-4ca1-9437-6402f0b88ca1",
   "metadata": {},
   "outputs": [],
   "source": []
  }
 ],
 "metadata": {
  "kernelspec": {
   "display_name": "Python 3 (ipykernel)",
   "language": "python",
   "name": "python3"
  },
  "language_info": {
   "codemirror_mode": {
    "name": "ipython",
    "version": 3
   },
   "file_extension": ".py",
   "mimetype": "text/x-python",
   "name": "python",
   "nbconvert_exporter": "python",
   "pygments_lexer": "ipython3",
   "version": "3.12.7"
  }
 },
 "nbformat": 4,
 "nbformat_minor": 5
}
